{
 "cells": [
  {
   "cell_type": "markdown",
   "metadata": {},
   "source": [
    "# Защита персональных данных клиентов"
   ]
  },
  {
   "cell_type": "markdown",
   "metadata": {},
   "source": [
    "## 1 Обзор и подготовка данных"
   ]
  },
  {
   "cell_type": "code",
   "execution_count": 57,
   "metadata": {},
   "outputs": [],
   "source": [
    "import pandas as pd\n",
    "import numpy as np\n",
    "import seaborn as sns\n",
    "import matplotlib.pyplot as plt\n",
    "import copy\n",
    "import random\n",
    "from sklearn.metrics import r2_score"
   ]
  },
  {
   "cell_type": "code",
   "execution_count": 58,
   "metadata": {
    "scrolled": false
   },
   "outputs": [
    {
     "data": {
      "text/html": [
       "<div>\n",
       "<style scoped>\n",
       "    .dataframe tbody tr th:only-of-type {\n",
       "        vertical-align: middle;\n",
       "    }\n",
       "\n",
       "    .dataframe tbody tr th {\n",
       "        vertical-align: top;\n",
       "    }\n",
       "\n",
       "    .dataframe thead th {\n",
       "        text-align: right;\n",
       "    }\n",
       "</style>\n",
       "<table border=\"1\" class=\"dataframe\">\n",
       "  <thead>\n",
       "    <tr style=\"text-align: right;\">\n",
       "      <th></th>\n",
       "      <th>Пол</th>\n",
       "      <th>Возраст</th>\n",
       "      <th>Зарплата</th>\n",
       "      <th>Члены семьи</th>\n",
       "      <th>Страховые выплаты</th>\n",
       "    </tr>\n",
       "  </thead>\n",
       "  <tbody>\n",
       "    <tr>\n",
       "      <td>0</td>\n",
       "      <td>1</td>\n",
       "      <td>41.0</td>\n",
       "      <td>49600.0</td>\n",
       "      <td>1</td>\n",
       "      <td>0</td>\n",
       "    </tr>\n",
       "    <tr>\n",
       "      <td>1</td>\n",
       "      <td>0</td>\n",
       "      <td>46.0</td>\n",
       "      <td>38000.0</td>\n",
       "      <td>1</td>\n",
       "      <td>1</td>\n",
       "    </tr>\n",
       "    <tr>\n",
       "      <td>2</td>\n",
       "      <td>0</td>\n",
       "      <td>29.0</td>\n",
       "      <td>21000.0</td>\n",
       "      <td>0</td>\n",
       "      <td>0</td>\n",
       "    </tr>\n",
       "    <tr>\n",
       "      <td>3</td>\n",
       "      <td>0</td>\n",
       "      <td>21.0</td>\n",
       "      <td>41700.0</td>\n",
       "      <td>2</td>\n",
       "      <td>0</td>\n",
       "    </tr>\n",
       "    <tr>\n",
       "      <td>4</td>\n",
       "      <td>1</td>\n",
       "      <td>28.0</td>\n",
       "      <td>26100.0</td>\n",
       "      <td>0</td>\n",
       "      <td>0</td>\n",
       "    </tr>\n",
       "    <tr>\n",
       "      <td>...</td>\n",
       "      <td>...</td>\n",
       "      <td>...</td>\n",
       "      <td>...</td>\n",
       "      <td>...</td>\n",
       "      <td>...</td>\n",
       "    </tr>\n",
       "    <tr>\n",
       "      <td>4995</td>\n",
       "      <td>0</td>\n",
       "      <td>28.0</td>\n",
       "      <td>35700.0</td>\n",
       "      <td>2</td>\n",
       "      <td>0</td>\n",
       "    </tr>\n",
       "    <tr>\n",
       "      <td>4996</td>\n",
       "      <td>0</td>\n",
       "      <td>34.0</td>\n",
       "      <td>52400.0</td>\n",
       "      <td>1</td>\n",
       "      <td>0</td>\n",
       "    </tr>\n",
       "    <tr>\n",
       "      <td>4997</td>\n",
       "      <td>0</td>\n",
       "      <td>20.0</td>\n",
       "      <td>33900.0</td>\n",
       "      <td>2</td>\n",
       "      <td>0</td>\n",
       "    </tr>\n",
       "    <tr>\n",
       "      <td>4998</td>\n",
       "      <td>1</td>\n",
       "      <td>22.0</td>\n",
       "      <td>32700.0</td>\n",
       "      <td>3</td>\n",
       "      <td>0</td>\n",
       "    </tr>\n",
       "    <tr>\n",
       "      <td>4999</td>\n",
       "      <td>1</td>\n",
       "      <td>28.0</td>\n",
       "      <td>40600.0</td>\n",
       "      <td>1</td>\n",
       "      <td>0</td>\n",
       "    </tr>\n",
       "  </tbody>\n",
       "</table>\n",
       "<p>5000 rows × 5 columns</p>\n",
       "</div>"
      ],
      "text/plain": [
       "      Пол  Возраст  Зарплата  Члены семьи  Страховые выплаты\n",
       "0       1     41.0   49600.0            1                  0\n",
       "1       0     46.0   38000.0            1                  1\n",
       "2       0     29.0   21000.0            0                  0\n",
       "3       0     21.0   41700.0            2                  0\n",
       "4       1     28.0   26100.0            0                  0\n",
       "...   ...      ...       ...          ...                ...\n",
       "4995    0     28.0   35700.0            2                  0\n",
       "4996    0     34.0   52400.0            1                  0\n",
       "4997    0     20.0   33900.0            2                  0\n",
       "4998    1     22.0   32700.0            3                  0\n",
       "4999    1     28.0   40600.0            1                  0\n",
       "\n",
       "[5000 rows x 5 columns]"
      ]
     },
     "metadata": {},
     "output_type": "display_data"
    }
   ],
   "source": [
    "df = pd.read_csv('insurance.csv')\n",
    "display(df)"
   ]
  },
  {
   "cell_type": "code",
   "execution_count": 59,
   "metadata": {
    "scrolled": true
   },
   "outputs": [
    {
     "name": "stdout",
     "output_type": "stream",
     "text": [
      "<class 'pandas.core.frame.DataFrame'>\n",
      "RangeIndex: 5000 entries, 0 to 4999\n",
      "Data columns (total 5 columns):\n",
      "Пол                  5000 non-null int64\n",
      "Возраст              5000 non-null float64\n",
      "Зарплата             5000 non-null float64\n",
      "Члены семьи          5000 non-null int64\n",
      "Страховые выплаты    5000 non-null int64\n",
      "dtypes: float64(2), int64(3)\n",
      "memory usage: 195.4 KB\n",
      "None\n"
     ]
    }
   ],
   "source": [
    "print(df.info())"
   ]
  },
  {
   "cell_type": "markdown",
   "metadata": {},
   "source": [
    "### Поиск дубликатов"
   ]
  },
  {
   "cell_type": "code",
   "execution_count": 60,
   "metadata": {
    "scrolled": true
   },
   "outputs": [
    {
     "name": "stdout",
     "output_type": "stream",
     "text": [
      "153\n"
     ]
    }
   ],
   "source": [
    "print(df.duplicated().sum())"
   ]
  },
  {
   "cell_type": "code",
   "execution_count": 61,
   "metadata": {},
   "outputs": [
    {
     "data": {
      "text/html": [
       "<div>\n",
       "<style scoped>\n",
       "    .dataframe tbody tr th:only-of-type {\n",
       "        vertical-align: middle;\n",
       "    }\n",
       "\n",
       "    .dataframe tbody tr th {\n",
       "        vertical-align: top;\n",
       "    }\n",
       "\n",
       "    .dataframe thead th {\n",
       "        text-align: right;\n",
       "    }\n",
       "</style>\n",
       "<table border=\"1\" class=\"dataframe\">\n",
       "  <thead>\n",
       "    <tr style=\"text-align: right;\">\n",
       "      <th></th>\n",
       "      <th>Пол</th>\n",
       "      <th>Возраст</th>\n",
       "      <th>Зарплата</th>\n",
       "      <th>Члены семьи</th>\n",
       "      <th>Страховые выплаты</th>\n",
       "    </tr>\n",
       "  </thead>\n",
       "  <tbody>\n",
       "    <tr>\n",
       "      <td>281</td>\n",
       "      <td>1</td>\n",
       "      <td>39.0</td>\n",
       "      <td>48100.0</td>\n",
       "      <td>1</td>\n",
       "      <td>0</td>\n",
       "    </tr>\n",
       "    <tr>\n",
       "      <td>488</td>\n",
       "      <td>1</td>\n",
       "      <td>24.0</td>\n",
       "      <td>32900.0</td>\n",
       "      <td>1</td>\n",
       "      <td>0</td>\n",
       "    </tr>\n",
       "    <tr>\n",
       "      <td>513</td>\n",
       "      <td>0</td>\n",
       "      <td>31.0</td>\n",
       "      <td>37400.0</td>\n",
       "      <td>2</td>\n",
       "      <td>0</td>\n",
       "    </tr>\n",
       "    <tr>\n",
       "      <td>718</td>\n",
       "      <td>1</td>\n",
       "      <td>22.0</td>\n",
       "      <td>32600.0</td>\n",
       "      <td>1</td>\n",
       "      <td>0</td>\n",
       "    </tr>\n",
       "    <tr>\n",
       "      <td>785</td>\n",
       "      <td>0</td>\n",
       "      <td>20.0</td>\n",
       "      <td>35800.0</td>\n",
       "      <td>0</td>\n",
       "      <td>0</td>\n",
       "    </tr>\n",
       "    <tr>\n",
       "      <td>...</td>\n",
       "      <td>...</td>\n",
       "      <td>...</td>\n",
       "      <td>...</td>\n",
       "      <td>...</td>\n",
       "      <td>...</td>\n",
       "    </tr>\n",
       "    <tr>\n",
       "      <td>4793</td>\n",
       "      <td>1</td>\n",
       "      <td>24.0</td>\n",
       "      <td>37800.0</td>\n",
       "      <td>0</td>\n",
       "      <td>0</td>\n",
       "    </tr>\n",
       "    <tr>\n",
       "      <td>4902</td>\n",
       "      <td>1</td>\n",
       "      <td>35.0</td>\n",
       "      <td>38700.0</td>\n",
       "      <td>1</td>\n",
       "      <td>0</td>\n",
       "    </tr>\n",
       "    <tr>\n",
       "      <td>4935</td>\n",
       "      <td>1</td>\n",
       "      <td>19.0</td>\n",
       "      <td>32700.0</td>\n",
       "      <td>0</td>\n",
       "      <td>0</td>\n",
       "    </tr>\n",
       "    <tr>\n",
       "      <td>4945</td>\n",
       "      <td>1</td>\n",
       "      <td>21.0</td>\n",
       "      <td>45800.0</td>\n",
       "      <td>0</td>\n",
       "      <td>0</td>\n",
       "    </tr>\n",
       "    <tr>\n",
       "      <td>4965</td>\n",
       "      <td>0</td>\n",
       "      <td>22.0</td>\n",
       "      <td>40100.0</td>\n",
       "      <td>1</td>\n",
       "      <td>0</td>\n",
       "    </tr>\n",
       "  </tbody>\n",
       "</table>\n",
       "<p>153 rows × 5 columns</p>\n",
       "</div>"
      ],
      "text/plain": [
       "      Пол  Возраст  Зарплата  Члены семьи  Страховые выплаты\n",
       "281     1     39.0   48100.0            1                  0\n",
       "488     1     24.0   32900.0            1                  0\n",
       "513     0     31.0   37400.0            2                  0\n",
       "718     1     22.0   32600.0            1                  0\n",
       "785     0     20.0   35800.0            0                  0\n",
       "...   ...      ...       ...          ...                ...\n",
       "4793    1     24.0   37800.0            0                  0\n",
       "4902    1     35.0   38700.0            1                  0\n",
       "4935    1     19.0   32700.0            0                  0\n",
       "4945    1     21.0   45800.0            0                  0\n",
       "4965    0     22.0   40100.0            1                  0\n",
       "\n",
       "[153 rows x 5 columns]"
      ]
     },
     "metadata": {},
     "output_type": "display_data"
    }
   ],
   "source": [
    "df_dubl = df.loc[df.duplicated()]\n",
    "display(df_dubl)"
   ]
  },
  {
   "cell_type": "code",
   "execution_count": 62,
   "metadata": {},
   "outputs": [
    {
     "data": {
      "text/html": [
       "<div>\n",
       "<style scoped>\n",
       "    .dataframe tbody tr th:only-of-type {\n",
       "        vertical-align: middle;\n",
       "    }\n",
       "\n",
       "    .dataframe tbody tr th {\n",
       "        vertical-align: top;\n",
       "    }\n",
       "\n",
       "    .dataframe thead th {\n",
       "        text-align: right;\n",
       "    }\n",
       "</style>\n",
       "<table border=\"1\" class=\"dataframe\">\n",
       "  <thead>\n",
       "    <tr style=\"text-align: right;\">\n",
       "      <th></th>\n",
       "      <th>Пол</th>\n",
       "      <th>Возраст</th>\n",
       "      <th>Зарплата</th>\n",
       "      <th>Члены семьи</th>\n",
       "      <th>Страховые выплаты</th>\n",
       "    </tr>\n",
       "  </thead>\n",
       "  <tbody>\n",
       "    <tr>\n",
       "      <td>69</td>\n",
       "      <td>1</td>\n",
       "      <td>39.0</td>\n",
       "      <td>48100.0</td>\n",
       "      <td>1</td>\n",
       "      <td>0</td>\n",
       "    </tr>\n",
       "    <tr>\n",
       "      <td>281</td>\n",
       "      <td>1</td>\n",
       "      <td>39.0</td>\n",
       "      <td>48100.0</td>\n",
       "      <td>1</td>\n",
       "      <td>0</td>\n",
       "    </tr>\n",
       "  </tbody>\n",
       "</table>\n",
       "</div>"
      ],
      "text/plain": [
       "     Пол  Возраст  Зарплата  Члены семьи  Страховые выплаты\n",
       "69     1     39.0   48100.0            1                  0\n",
       "281    1     39.0   48100.0            1                  0"
      ]
     },
     "metadata": {},
     "output_type": "display_data"
    }
   ],
   "source": [
    "# для проверки и примера взят один явный дубликат\n",
    "display(df.loc[(df['Возраст'] == 39.0) & (df['Зарплата'] == 48100.0)])"
   ]
  },
  {
   "cell_type": "markdown",
   "metadata": {},
   "source": [
    "<b>Действительно в таблице есть явные дубликаты: 153 строки повторяются каждая по 2 раза.</b>\n",
    "\n",
    "Но при этом, нет однозначного идентификатора клиента типа id, ФИО или чего-то подобного, и мы не можем со 100% уверенностью говорить, являются совпадения дубликатами или нет. Все таки удалим их."
   ]
  },
  {
   "cell_type": "code",
   "execution_count": 63,
   "metadata": {},
   "outputs": [
    {
     "name": "stdout",
     "output_type": "stream",
     "text": [
      "<class 'pandas.core.frame.DataFrame'>\n",
      "RangeIndex: 4847 entries, 0 to 4846\n",
      "Data columns (total 5 columns):\n",
      "Пол                  4847 non-null int64\n",
      "Возраст              4847 non-null float64\n",
      "Зарплата             4847 non-null float64\n",
      "Члены семьи          4847 non-null int64\n",
      "Страховые выплаты    4847 non-null int64\n",
      "dtypes: float64(2), int64(3)\n",
      "memory usage: 189.5 KB\n",
      "None\n"
     ]
    }
   ],
   "source": [
    "df_new = df.drop_duplicates().reset_index(drop=True)\n",
    "print(df_new.info())"
   ]
  },
  {
   "cell_type": "code",
   "execution_count": 64,
   "metadata": {
    "scrolled": false
   },
   "outputs": [
    {
     "data": {
      "text/html": [
       "<div>\n",
       "<style scoped>\n",
       "    .dataframe tbody tr th:only-of-type {\n",
       "        vertical-align: middle;\n",
       "    }\n",
       "\n",
       "    .dataframe tbody tr th {\n",
       "        vertical-align: top;\n",
       "    }\n",
       "\n",
       "    .dataframe thead th {\n",
       "        text-align: right;\n",
       "    }\n",
       "</style>\n",
       "<table border=\"1\" class=\"dataframe\">\n",
       "  <thead>\n",
       "    <tr style=\"text-align: right;\">\n",
       "      <th></th>\n",
       "      <th>Пол</th>\n",
       "      <th>Возраст</th>\n",
       "      <th>Зарплата</th>\n",
       "      <th>Члены семьи</th>\n",
       "      <th>Страховые выплаты</th>\n",
       "    </tr>\n",
       "  </thead>\n",
       "  <tbody>\n",
       "    <tr>\n",
       "      <td>0</td>\n",
       "      <td>1</td>\n",
       "      <td>41.0</td>\n",
       "      <td>49600.0</td>\n",
       "      <td>1</td>\n",
       "      <td>0</td>\n",
       "    </tr>\n",
       "    <tr>\n",
       "      <td>1</td>\n",
       "      <td>0</td>\n",
       "      <td>46.0</td>\n",
       "      <td>38000.0</td>\n",
       "      <td>1</td>\n",
       "      <td>1</td>\n",
       "    </tr>\n",
       "    <tr>\n",
       "      <td>2</td>\n",
       "      <td>0</td>\n",
       "      <td>29.0</td>\n",
       "      <td>21000.0</td>\n",
       "      <td>0</td>\n",
       "      <td>0</td>\n",
       "    </tr>\n",
       "    <tr>\n",
       "      <td>3</td>\n",
       "      <td>0</td>\n",
       "      <td>21.0</td>\n",
       "      <td>41700.0</td>\n",
       "      <td>2</td>\n",
       "      <td>0</td>\n",
       "    </tr>\n",
       "    <tr>\n",
       "      <td>4</td>\n",
       "      <td>1</td>\n",
       "      <td>28.0</td>\n",
       "      <td>26100.0</td>\n",
       "      <td>0</td>\n",
       "      <td>0</td>\n",
       "    </tr>\n",
       "  </tbody>\n",
       "</table>\n",
       "</div>"
      ],
      "text/plain": [
       "   Пол  Возраст  Зарплата  Члены семьи  Страховые выплаты\n",
       "0    1     41.0   49600.0            1                  0\n",
       "1    0     46.0   38000.0            1                  1\n",
       "2    0     29.0   21000.0            0                  0\n",
       "3    0     21.0   41700.0            2                  0\n",
       "4    1     28.0   26100.0            0                  0"
      ]
     },
     "metadata": {},
     "output_type": "display_data"
    }
   ],
   "source": [
    "display(df_new.head())"
   ]
  },
  {
   "cell_type": "markdown",
   "metadata": {},
   "source": [
    "### Изменение типов данных"
   ]
  },
  {
   "cell_type": "markdown",
   "metadata": {},
   "source": [
    "<b>Тип данных в столбцах 'Возраст' и 'Зарплата' - float. Изменим данных тип данных на int.</b>"
   ]
  },
  {
   "cell_type": "markdown",
   "metadata": {},
   "source": [
    "Проведем проверку:\n",
    "\n",
    "1. Изучим дробную часть для указанных признаков, получив ее как остаток от деления на 1.\n",
    "2. Сделаем срез данных."
   ]
  },
  {
   "cell_type": "code",
   "execution_count": 65,
   "metadata": {
    "scrolled": false
   },
   "outputs": [
    {
     "data": {
      "text/html": [
       "<div>\n",
       "<style scoped>\n",
       "    .dataframe tbody tr th:only-of-type {\n",
       "        vertical-align: middle;\n",
       "    }\n",
       "\n",
       "    .dataframe tbody tr th {\n",
       "        vertical-align: top;\n",
       "    }\n",
       "\n",
       "    .dataframe thead th {\n",
       "        text-align: right;\n",
       "    }\n",
       "</style>\n",
       "<table border=\"1\" class=\"dataframe\">\n",
       "  <thead>\n",
       "    <tr style=\"text-align: right;\">\n",
       "      <th></th>\n",
       "      <th>Пол</th>\n",
       "      <th>Возраст</th>\n",
       "      <th>Зарплата</th>\n",
       "      <th>Члены семьи</th>\n",
       "      <th>Страховые выплаты</th>\n",
       "      <th>Возраст_1</th>\n",
       "      <th>Зарплата_1</th>\n",
       "    </tr>\n",
       "  </thead>\n",
       "  <tbody>\n",
       "  </tbody>\n",
       "</table>\n",
       "</div>"
      ],
      "text/plain": [
       "Empty DataFrame\n",
       "Columns: [Пол, Возраст, Зарплата, Члены семьи, Страховые выплаты, Возраст_1, Зарплата_1]\n",
       "Index: []"
      ]
     },
     "metadata": {},
     "output_type": "display_data"
    },
    {
     "data": {
      "text/html": [
       "<div>\n",
       "<style scoped>\n",
       "    .dataframe tbody tr th:only-of-type {\n",
       "        vertical-align: middle;\n",
       "    }\n",
       "\n",
       "    .dataframe tbody tr th {\n",
       "        vertical-align: top;\n",
       "    }\n",
       "\n",
       "    .dataframe thead th {\n",
       "        text-align: right;\n",
       "    }\n",
       "</style>\n",
       "<table border=\"1\" class=\"dataframe\">\n",
       "  <thead>\n",
       "    <tr style=\"text-align: right;\">\n",
       "      <th></th>\n",
       "      <th>Пол</th>\n",
       "      <th>Возраст</th>\n",
       "      <th>Зарплата</th>\n",
       "      <th>Члены семьи</th>\n",
       "      <th>Страховые выплаты</th>\n",
       "      <th>Возраст_1</th>\n",
       "      <th>Зарплата_1</th>\n",
       "    </tr>\n",
       "  </thead>\n",
       "  <tbody>\n",
       "    <tr>\n",
       "      <td>80</td>\n",
       "      <td>1</td>\n",
       "      <td>41.0</td>\n",
       "      <td>32700.0</td>\n",
       "      <td>0</td>\n",
       "      <td>0</td>\n",
       "      <td>0.0</td>\n",
       "      <td>3.637979e-12</td>\n",
       "    </tr>\n",
       "    <tr>\n",
       "      <td>159</td>\n",
       "      <td>1</td>\n",
       "      <td>19.0</td>\n",
       "      <td>64900.0</td>\n",
       "      <td>2</td>\n",
       "      <td>0</td>\n",
       "      <td>0.0</td>\n",
       "      <td>7.275958e-12</td>\n",
       "    </tr>\n",
       "    <tr>\n",
       "      <td>312</td>\n",
       "      <td>0</td>\n",
       "      <td>25.0</td>\n",
       "      <td>32700.0</td>\n",
       "      <td>1</td>\n",
       "      <td>0</td>\n",
       "      <td>0.0</td>\n",
       "      <td>3.637979e-12</td>\n",
       "    </tr>\n",
       "    <tr>\n",
       "      <td>391</td>\n",
       "      <td>1</td>\n",
       "      <td>43.0</td>\n",
       "      <td>32700.0</td>\n",
       "      <td>1</td>\n",
       "      <td>1</td>\n",
       "      <td>0.0</td>\n",
       "      <td>3.637979e-12</td>\n",
       "    </tr>\n",
       "    <tr>\n",
       "      <td>447</td>\n",
       "      <td>1</td>\n",
       "      <td>32.0</td>\n",
       "      <td>32700.0</td>\n",
       "      <td>2</td>\n",
       "      <td>0</td>\n",
       "      <td>0.0</td>\n",
       "      <td>3.637979e-12</td>\n",
       "    </tr>\n",
       "    <tr>\n",
       "      <td>768</td>\n",
       "      <td>1</td>\n",
       "      <td>20.0</td>\n",
       "      <td>65100.0</td>\n",
       "      <td>1</td>\n",
       "      <td>0</td>\n",
       "      <td>0.0</td>\n",
       "      <td>1.000000e+00</td>\n",
       "    </tr>\n",
       "    <tr>\n",
       "      <td>815</td>\n",
       "      <td>0</td>\n",
       "      <td>29.0</td>\n",
       "      <td>32200.0</td>\n",
       "      <td>2</td>\n",
       "      <td>0</td>\n",
       "      <td>0.0</td>\n",
       "      <td>3.637979e-12</td>\n",
       "    </tr>\n",
       "    <tr>\n",
       "      <td>866</td>\n",
       "      <td>0</td>\n",
       "      <td>23.0</td>\n",
       "      <td>32200.0</td>\n",
       "      <td>3</td>\n",
       "      <td>0</td>\n",
       "      <td>0.0</td>\n",
       "      <td>3.637979e-12</td>\n",
       "    </tr>\n",
       "    <tr>\n",
       "      <td>904</td>\n",
       "      <td>0</td>\n",
       "      <td>30.0</td>\n",
       "      <td>32200.0</td>\n",
       "      <td>0</td>\n",
       "      <td>0</td>\n",
       "      <td>0.0</td>\n",
       "      <td>3.637979e-12</td>\n",
       "    </tr>\n",
       "    <tr>\n",
       "      <td>956</td>\n",
       "      <td>1</td>\n",
       "      <td>20.0</td>\n",
       "      <td>64100.0</td>\n",
       "      <td>0</td>\n",
       "      <td>0</td>\n",
       "      <td>0.0</td>\n",
       "      <td>1.000000e+00</td>\n",
       "    </tr>\n",
       "    <tr>\n",
       "      <td>1012</td>\n",
       "      <td>1</td>\n",
       "      <td>36.0</td>\n",
       "      <td>32700.0</td>\n",
       "      <td>2</td>\n",
       "      <td>0</td>\n",
       "      <td>0.0</td>\n",
       "      <td>3.637979e-12</td>\n",
       "    </tr>\n",
       "    <tr>\n",
       "      <td>1070</td>\n",
       "      <td>0</td>\n",
       "      <td>34.0</td>\n",
       "      <td>32200.0</td>\n",
       "      <td>3</td>\n",
       "      <td>0</td>\n",
       "      <td>0.0</td>\n",
       "      <td>3.637979e-12</td>\n",
       "    </tr>\n",
       "    <tr>\n",
       "      <td>1322</td>\n",
       "      <td>1</td>\n",
       "      <td>19.0</td>\n",
       "      <td>32700.0</td>\n",
       "      <td>0</td>\n",
       "      <td>0</td>\n",
       "      <td>0.0</td>\n",
       "      <td>3.637979e-12</td>\n",
       "    </tr>\n",
       "    <tr>\n",
       "      <td>1470</td>\n",
       "      <td>1</td>\n",
       "      <td>50.0</td>\n",
       "      <td>32200.0</td>\n",
       "      <td>2</td>\n",
       "      <td>2</td>\n",
       "      <td>0.0</td>\n",
       "      <td>3.637979e-12</td>\n",
       "    </tr>\n",
       "    <tr>\n",
       "      <td>1819</td>\n",
       "      <td>1</td>\n",
       "      <td>31.0</td>\n",
       "      <td>32700.0</td>\n",
       "      <td>0</td>\n",
       "      <td>0</td>\n",
       "      <td>0.0</td>\n",
       "      <td>3.637979e-12</td>\n",
       "    </tr>\n",
       "    <tr>\n",
       "      <td>1951</td>\n",
       "      <td>0</td>\n",
       "      <td>21.0</td>\n",
       "      <td>32200.0</td>\n",
       "      <td>1</td>\n",
       "      <td>0</td>\n",
       "      <td>0.0</td>\n",
       "      <td>3.637979e-12</td>\n",
       "    </tr>\n",
       "    <tr>\n",
       "      <td>2158</td>\n",
       "      <td>1</td>\n",
       "      <td>22.0</td>\n",
       "      <td>32200.0</td>\n",
       "      <td>1</td>\n",
       "      <td>0</td>\n",
       "      <td>0.0</td>\n",
       "      <td>3.637979e-12</td>\n",
       "    </tr>\n",
       "    <tr>\n",
       "      <td>2250</td>\n",
       "      <td>1</td>\n",
       "      <td>40.0</td>\n",
       "      <td>32200.0</td>\n",
       "      <td>3</td>\n",
       "      <td>0</td>\n",
       "      <td>0.0</td>\n",
       "      <td>3.637979e-12</td>\n",
       "    </tr>\n",
       "    <tr>\n",
       "      <td>2304</td>\n",
       "      <td>1</td>\n",
       "      <td>25.0</td>\n",
       "      <td>32700.0</td>\n",
       "      <td>2</td>\n",
       "      <td>0</td>\n",
       "      <td>0.0</td>\n",
       "      <td>3.637979e-12</td>\n",
       "    </tr>\n",
       "    <tr>\n",
       "      <td>2347</td>\n",
       "      <td>1</td>\n",
       "      <td>36.0</td>\n",
       "      <td>32700.0</td>\n",
       "      <td>1</td>\n",
       "      <td>0</td>\n",
       "      <td>0.0</td>\n",
       "      <td>3.637979e-12</td>\n",
       "    </tr>\n",
       "    <tr>\n",
       "      <td>2399</td>\n",
       "      <td>1</td>\n",
       "      <td>44.0</td>\n",
       "      <td>32200.0</td>\n",
       "      <td>1</td>\n",
       "      <td>1</td>\n",
       "      <td>0.0</td>\n",
       "      <td>3.637979e-12</td>\n",
       "    </tr>\n",
       "    <tr>\n",
       "      <td>2403</td>\n",
       "      <td>1</td>\n",
       "      <td>25.0</td>\n",
       "      <td>32700.0</td>\n",
       "      <td>0</td>\n",
       "      <td>0</td>\n",
       "      <td>0.0</td>\n",
       "      <td>3.637979e-12</td>\n",
       "    </tr>\n",
       "    <tr>\n",
       "      <td>2746</td>\n",
       "      <td>0</td>\n",
       "      <td>47.0</td>\n",
       "      <td>32700.0</td>\n",
       "      <td>1</td>\n",
       "      <td>1</td>\n",
       "      <td>0.0</td>\n",
       "      <td>3.637979e-12</td>\n",
       "    </tr>\n",
       "    <tr>\n",
       "      <td>2927</td>\n",
       "      <td>1</td>\n",
       "      <td>29.0</td>\n",
       "      <td>32200.0</td>\n",
       "      <td>1</td>\n",
       "      <td>0</td>\n",
       "      <td>0.0</td>\n",
       "      <td>3.637979e-12</td>\n",
       "    </tr>\n",
       "    <tr>\n",
       "      <td>2994</td>\n",
       "      <td>0</td>\n",
       "      <td>24.0</td>\n",
       "      <td>64400.0</td>\n",
       "      <td>0</td>\n",
       "      <td>0</td>\n",
       "      <td>0.0</td>\n",
       "      <td>7.275958e-12</td>\n",
       "    </tr>\n",
       "    <tr>\n",
       "      <td>3068</td>\n",
       "      <td>1</td>\n",
       "      <td>43.0</td>\n",
       "      <td>32200.0</td>\n",
       "      <td>2</td>\n",
       "      <td>1</td>\n",
       "      <td>0.0</td>\n",
       "      <td>3.637979e-12</td>\n",
       "    </tr>\n",
       "    <tr>\n",
       "      <td>3265</td>\n",
       "      <td>1</td>\n",
       "      <td>23.0</td>\n",
       "      <td>32200.0</td>\n",
       "      <td>5</td>\n",
       "      <td>0</td>\n",
       "      <td>0.0</td>\n",
       "      <td>3.637979e-12</td>\n",
       "    </tr>\n",
       "    <tr>\n",
       "      <td>3375</td>\n",
       "      <td>0</td>\n",
       "      <td>22.0</td>\n",
       "      <td>32700.0</td>\n",
       "      <td>4</td>\n",
       "      <td>0</td>\n",
       "      <td>0.0</td>\n",
       "      <td>3.637979e-12</td>\n",
       "    </tr>\n",
       "    <tr>\n",
       "      <td>3407</td>\n",
       "      <td>1</td>\n",
       "      <td>22.0</td>\n",
       "      <td>65100.0</td>\n",
       "      <td>4</td>\n",
       "      <td>0</td>\n",
       "      <td>0.0</td>\n",
       "      <td>1.000000e+00</td>\n",
       "    </tr>\n",
       "    <tr>\n",
       "      <td>3519</td>\n",
       "      <td>1</td>\n",
       "      <td>24.0</td>\n",
       "      <td>32700.0</td>\n",
       "      <td>1</td>\n",
       "      <td>0</td>\n",
       "      <td>0.0</td>\n",
       "      <td>3.637979e-12</td>\n",
       "    </tr>\n",
       "    <tr>\n",
       "      <td>3619</td>\n",
       "      <td>0</td>\n",
       "      <td>34.0</td>\n",
       "      <td>32700.0</td>\n",
       "      <td>0</td>\n",
       "      <td>0</td>\n",
       "      <td>0.0</td>\n",
       "      <td>3.637979e-12</td>\n",
       "    </tr>\n",
       "    <tr>\n",
       "      <td>3684</td>\n",
       "      <td>0</td>\n",
       "      <td>46.0</td>\n",
       "      <td>32700.0</td>\n",
       "      <td>2</td>\n",
       "      <td>1</td>\n",
       "      <td>0.0</td>\n",
       "      <td>3.637979e-12</td>\n",
       "    </tr>\n",
       "    <tr>\n",
       "      <td>3716</td>\n",
       "      <td>1</td>\n",
       "      <td>37.0</td>\n",
       "      <td>32700.0</td>\n",
       "      <td>2</td>\n",
       "      <td>0</td>\n",
       "      <td>0.0</td>\n",
       "      <td>3.637979e-12</td>\n",
       "    </tr>\n",
       "    <tr>\n",
       "      <td>3827</td>\n",
       "      <td>1</td>\n",
       "      <td>23.0</td>\n",
       "      <td>32200.0</td>\n",
       "      <td>1</td>\n",
       "      <td>0</td>\n",
       "      <td>0.0</td>\n",
       "      <td>3.637979e-12</td>\n",
       "    </tr>\n",
       "    <tr>\n",
       "      <td>4060</td>\n",
       "      <td>0</td>\n",
       "      <td>27.0</td>\n",
       "      <td>32200.0</td>\n",
       "      <td>2</td>\n",
       "      <td>0</td>\n",
       "      <td>0.0</td>\n",
       "      <td>3.637979e-12</td>\n",
       "    </tr>\n",
       "    <tr>\n",
       "      <td>4383</td>\n",
       "      <td>0</td>\n",
       "      <td>18.0</td>\n",
       "      <td>32700.0</td>\n",
       "      <td>3</td>\n",
       "      <td>0</td>\n",
       "      <td>0.0</td>\n",
       "      <td>3.637979e-12</td>\n",
       "    </tr>\n",
       "    <tr>\n",
       "      <td>4684</td>\n",
       "      <td>0</td>\n",
       "      <td>24.0</td>\n",
       "      <td>32200.0</td>\n",
       "      <td>1</td>\n",
       "      <td>0</td>\n",
       "      <td>0.0</td>\n",
       "      <td>3.637979e-12</td>\n",
       "    </tr>\n",
       "    <tr>\n",
       "      <td>4845</td>\n",
       "      <td>1</td>\n",
       "      <td>22.0</td>\n",
       "      <td>32700.0</td>\n",
       "      <td>3</td>\n",
       "      <td>0</td>\n",
       "      <td>0.0</td>\n",
       "      <td>3.637979e-12</td>\n",
       "    </tr>\n",
       "  </tbody>\n",
       "</table>\n",
       "</div>"
      ],
      "text/plain": [
       "      Пол  Возраст  Зарплата  Члены семьи  Страховые выплаты  Возраст_1  \\\n",
       "80      1     41.0   32700.0            0                  0        0.0   \n",
       "159     1     19.0   64900.0            2                  0        0.0   \n",
       "312     0     25.0   32700.0            1                  0        0.0   \n",
       "391     1     43.0   32700.0            1                  1        0.0   \n",
       "447     1     32.0   32700.0            2                  0        0.0   \n",
       "768     1     20.0   65100.0            1                  0        0.0   \n",
       "815     0     29.0   32200.0            2                  0        0.0   \n",
       "866     0     23.0   32200.0            3                  0        0.0   \n",
       "904     0     30.0   32200.0            0                  0        0.0   \n",
       "956     1     20.0   64100.0            0                  0        0.0   \n",
       "1012    1     36.0   32700.0            2                  0        0.0   \n",
       "1070    0     34.0   32200.0            3                  0        0.0   \n",
       "1322    1     19.0   32700.0            0                  0        0.0   \n",
       "1470    1     50.0   32200.0            2                  2        0.0   \n",
       "1819    1     31.0   32700.0            0                  0        0.0   \n",
       "1951    0     21.0   32200.0            1                  0        0.0   \n",
       "2158    1     22.0   32200.0            1                  0        0.0   \n",
       "2250    1     40.0   32200.0            3                  0        0.0   \n",
       "2304    1     25.0   32700.0            2                  0        0.0   \n",
       "2347    1     36.0   32700.0            1                  0        0.0   \n",
       "2399    1     44.0   32200.0            1                  1        0.0   \n",
       "2403    1     25.0   32700.0            0                  0        0.0   \n",
       "2746    0     47.0   32700.0            1                  1        0.0   \n",
       "2927    1     29.0   32200.0            1                  0        0.0   \n",
       "2994    0     24.0   64400.0            0                  0        0.0   \n",
       "3068    1     43.0   32200.0            2                  1        0.0   \n",
       "3265    1     23.0   32200.0            5                  0        0.0   \n",
       "3375    0     22.0   32700.0            4                  0        0.0   \n",
       "3407    1     22.0   65100.0            4                  0        0.0   \n",
       "3519    1     24.0   32700.0            1                  0        0.0   \n",
       "3619    0     34.0   32700.0            0                  0        0.0   \n",
       "3684    0     46.0   32700.0            2                  1        0.0   \n",
       "3716    1     37.0   32700.0            2                  0        0.0   \n",
       "3827    1     23.0   32200.0            1                  0        0.0   \n",
       "4060    0     27.0   32200.0            2                  0        0.0   \n",
       "4383    0     18.0   32700.0            3                  0        0.0   \n",
       "4684    0     24.0   32200.0            1                  0        0.0   \n",
       "4845    1     22.0   32700.0            3                  0        0.0   \n",
       "\n",
       "        Зарплата_1  \n",
       "80    3.637979e-12  \n",
       "159   7.275958e-12  \n",
       "312   3.637979e-12  \n",
       "391   3.637979e-12  \n",
       "447   3.637979e-12  \n",
       "768   1.000000e+00  \n",
       "815   3.637979e-12  \n",
       "866   3.637979e-12  \n",
       "904   3.637979e-12  \n",
       "956   1.000000e+00  \n",
       "1012  3.637979e-12  \n",
       "1070  3.637979e-12  \n",
       "1322  3.637979e-12  \n",
       "1470  3.637979e-12  \n",
       "1819  3.637979e-12  \n",
       "1951  3.637979e-12  \n",
       "2158  3.637979e-12  \n",
       "2250  3.637979e-12  \n",
       "2304  3.637979e-12  \n",
       "2347  3.637979e-12  \n",
       "2399  3.637979e-12  \n",
       "2403  3.637979e-12  \n",
       "2746  3.637979e-12  \n",
       "2927  3.637979e-12  \n",
       "2994  7.275958e-12  \n",
       "3068  3.637979e-12  \n",
       "3265  3.637979e-12  \n",
       "3375  3.637979e-12  \n",
       "3407  1.000000e+00  \n",
       "3519  3.637979e-12  \n",
       "3619  3.637979e-12  \n",
       "3684  3.637979e-12  \n",
       "3716  3.637979e-12  \n",
       "3827  3.637979e-12  \n",
       "4060  3.637979e-12  \n",
       "4383  3.637979e-12  \n",
       "4684  3.637979e-12  \n",
       "4845  3.637979e-12  "
      ]
     },
     "metadata": {},
     "output_type": "display_data"
    }
   ],
   "source": [
    "df_new_test = copy.deepcopy(df_new)\n",
    "df_new_test['Возраст_1'] = df_new_test['Возраст'] % 1\n",
    "df_new_test['Зарплата_1'] = df_new_test['Зарплата'] % 1\n",
    "display(df_new_test.query('Возраст_1 > 0.0'))\n",
    "display(df_new_test.query('Зарплата_1 > 0.0'))"
   ]
  },
  {
   "cell_type": "markdown",
   "metadata": {},
   "source": [
    "В столбце 'Возраст' не оказалось данных с действительно дробной частью - можно менять тип данных на int.\n",
    "Для столбца 'Зарплата' тоже можно поменять тип данных на int, не смотря на наличие очень небольшого остатка от деления на 1 в вышеуказанных строках, в столбце 'Зарплата' в данных строках дробная часть равна 0."
   ]
  },
  {
   "cell_type": "code",
   "execution_count": 66,
   "metadata": {},
   "outputs": [
    {
     "name": "stdout",
     "output_type": "stream",
     "text": [
      "<class 'pandas.core.frame.DataFrame'>\n",
      "RangeIndex: 4847 entries, 0 to 4846\n",
      "Data columns (total 5 columns):\n",
      "Пол                  4847 non-null int32\n",
      "Возраст              4847 non-null int32\n",
      "Зарплата             4847 non-null int32\n",
      "Члены семьи          4847 non-null int32\n",
      "Страховые выплаты    4847 non-null int32\n",
      "dtypes: int32(5)\n",
      "memory usage: 94.8 KB\n",
      "None\n"
     ]
    }
   ],
   "source": [
    "df_new = df_new.astype(int)\n",
    "print(df_new.info())"
   ]
  },
  {
   "cell_type": "markdown",
   "metadata": {},
   "source": [
    "### Корреляционный анализ"
   ]
  },
  {
   "cell_type": "markdown",
   "metadata": {},
   "source": [
    "<b>Проанализуем наши признаки и найдем взаимосвязи между ними</b>"
   ]
  },
  {
   "cell_type": "code",
   "execution_count": 67,
   "metadata": {},
   "outputs": [
    {
     "data": {
      "text/html": [
       "<div>\n",
       "<style scoped>\n",
       "    .dataframe tbody tr th:only-of-type {\n",
       "        vertical-align: middle;\n",
       "    }\n",
       "\n",
       "    .dataframe tbody tr th {\n",
       "        vertical-align: top;\n",
       "    }\n",
       "\n",
       "    .dataframe thead th {\n",
       "        text-align: right;\n",
       "    }\n",
       "</style>\n",
       "<table border=\"1\" class=\"dataframe\">\n",
       "  <thead>\n",
       "    <tr style=\"text-align: right;\">\n",
       "      <th></th>\n",
       "      <th>Пол</th>\n",
       "      <th>Возраст</th>\n",
       "      <th>Зарплата</th>\n",
       "      <th>Члены семьи</th>\n",
       "      <th>Страховые выплаты</th>\n",
       "    </tr>\n",
       "  </thead>\n",
       "  <tbody>\n",
       "    <tr>\n",
       "      <td>Пол</td>\n",
       "      <td>1.000000</td>\n",
       "      <td>0.002074</td>\n",
       "      <td>0.014910</td>\n",
       "      <td>-0.008991</td>\n",
       "      <td>0.010140</td>\n",
       "    </tr>\n",
       "    <tr>\n",
       "      <td>Возраст</td>\n",
       "      <td>0.002074</td>\n",
       "      <td>1.000000</td>\n",
       "      <td>-0.019093</td>\n",
       "      <td>-0.006692</td>\n",
       "      <td>0.651030</td>\n",
       "    </tr>\n",
       "    <tr>\n",
       "      <td>Зарплата</td>\n",
       "      <td>0.014910</td>\n",
       "      <td>-0.019093</td>\n",
       "      <td>1.000000</td>\n",
       "      <td>-0.030296</td>\n",
       "      <td>-0.014963</td>\n",
       "    </tr>\n",
       "    <tr>\n",
       "      <td>Члены семьи</td>\n",
       "      <td>-0.008991</td>\n",
       "      <td>-0.006692</td>\n",
       "      <td>-0.030296</td>\n",
       "      <td>1.000000</td>\n",
       "      <td>-0.036290</td>\n",
       "    </tr>\n",
       "    <tr>\n",
       "      <td>Страховые выплаты</td>\n",
       "      <td>0.010140</td>\n",
       "      <td>0.651030</td>\n",
       "      <td>-0.014963</td>\n",
       "      <td>-0.036290</td>\n",
       "      <td>1.000000</td>\n",
       "    </tr>\n",
       "  </tbody>\n",
       "</table>\n",
       "</div>"
      ],
      "text/plain": [
       "                        Пол   Возраст  Зарплата  Члены семьи  \\\n",
       "Пол                1.000000  0.002074  0.014910    -0.008991   \n",
       "Возраст            0.002074  1.000000 -0.019093    -0.006692   \n",
       "Зарплата           0.014910 -0.019093  1.000000    -0.030296   \n",
       "Члены семьи       -0.008991 -0.006692 -0.030296     1.000000   \n",
       "Страховые выплаты  0.010140  0.651030 -0.014963    -0.036290   \n",
       "\n",
       "                   Страховые выплаты  \n",
       "Пол                         0.010140  \n",
       "Возраст                     0.651030  \n",
       "Зарплата                   -0.014963  \n",
       "Члены семьи                -0.036290  \n",
       "Страховые выплаты           1.000000  "
      ]
     },
     "execution_count": 67,
     "metadata": {},
     "output_type": "execute_result"
    }
   ],
   "source": [
    "df_cor = df.corr()\n",
    "df_cor"
   ]
  },
  {
   "cell_type": "code",
   "execution_count": 72,
   "metadata": {},
   "outputs": [
    {
     "data": {
      "image/png": "[encoded data removed]",
      "text/plain": [
       "<Figure size 864x576 with 2 Axes>"
      ]
     },
     "metadata": {
      "needs_background": "light"
     },
     "output_type": "display_data"
    }
   ],
   "source": [
    "heatmap = plt.figure(figsize=(12, 8))\n",
    "heatmap = sns.heatmap(df_cor, annot=True, cmap= 'BrBG_r')\n",
    "heatmap.set_title('Карта корреляции между признаками', fontdict={'fontsize':12}, pad=12)\n",
    "plt.show()"
   ]
  },
  {
   "cell_type": "markdown",
   "metadata": {},
   "source": [
    "<b>Проведя корреляционный анализ попарно для признаков и целевого признака можно сказать, что существенная взаимосвязь имеется только между возрастом и количеством страховых выплат (коэффициент корреляции = 65%). Связь положительная, т.е. чем больше возраст, тем больше страховых выплат - все логично.\n",
    "\n",
    "В связи с этим считаю, что наибольший вес среди всех признаков (и с большим отрывом) при получении Линейной регрессии и соответственно наибольшее влияние будет у признака - Возраст клиентов.</b>"
   ]
  },
  {
   "cell_type": "markdown",
   "metadata": {},
   "source": [
    "### Частота страховых выплат"
   ]
  },
  {
   "cell_type": "code",
   "execution_count": 59,
   "metadata": {},
   "outputs": [
    {
     "data": {
      "text/plain": [
       "<AxesSubplot:title={'center':'Частота страховых выплат'}, ylabel='Frequency'>"
      ]
     },
     "execution_count": 59,
     "metadata": {},
     "output_type": "execute_result"
    },
    {
     "data": {
      "image/png": "[encoded data removed]",
      "text/plain": [
       "<Figure size 432x288 with 1 Axes>"
      ]
     },
     "metadata": {
      "needs_background": "light"
     },
     "output_type": "display_data"
    }
   ],
   "source": [
    "df_new.plot(y='Страховые выплаты', kind='hist', title='Частота страховых выплат')"
   ]
  },
  {
   "cell_type": "markdown",
   "metadata": {},
   "source": [
    "<b>Частота выплат крайне не высока, что характерно для страховых компаний.</b>"
   ]
  },
  {
   "cell_type": "markdown",
   "metadata": {},
   "source": [
    "<b>Вывод</b>\n",
    "\n",
    "1. Представленная таблица данных содержит информацию о застрахованных лицах. Поля: Пол, Возраст, Зарплата, Члены семьи (количество)  являются признаками , а поле Страховые выплаты (за 5 лет) - целевым признаком.\n",
    "\n",
    "2. Таблица содержит информацию о 5000 клиентах (5000 строк).\n",
    "\n",
    "3. Пропусков в таблице нет.\n",
    "\n",
    "4. Типами данных являются int и float.\n",
    "\n",
    "5. В таблице найдены и удалены 153 явных дубликата.\n",
    "\n",
    "6. Для столбцов 'Возраст' и 'Зарплата' тип данных заменен на int.\n",
    "\n",
    "7. Наибольшее и существенное влияние на количество страховых выплат оказывает возраст.\n",
    "\n",
    "8. Частота выплат крайне не высока."
   ]
  },
  {
   "cell_type": "markdown",
   "metadata": {},
   "source": [
    "## 2 Умножение матриц"
   ]
  },
  {
   "cell_type": "markdown",
   "metadata": {},
   "source": [
    "<b>Задача:</b>\n",
    "\n",
    "<b>Доказать, что качество линейной регрессии (метрика R2) не изменится, если матрицу признаков умножить случайную квадратную обратимую матрицу с размерностью равной ширине матрицы признаков.</b>"
   ]
  },
  {
   "cell_type": "markdown",
   "metadata": {},
   "source": [
    "Обозначения:\n",
    "\n",
    "- $X$ — матрица признаков (нулевой столбец состоит из единиц)\n",
    "\n",
    "- $y$ — вектор целевого признака\n",
    "\n",
    "- $P$ — матрица, на которую умножаются признаки\n",
    "\n",
    "- $w$ — вектор весов линейной регрессии (нулевой элемент равен сдвигу)"
   ]
  },
  {
   "cell_type": "markdown",
   "metadata": {},
   "source": [
    "Предсказания:\n",
    "\n",
    "$$\n",
    "a = Xw\n",
    "$$\n",
    "\n",
    "Задача обучения:\n",
    "\n",
    "$$\n",
    "w = \\arg\\min_w MSE(Xw, y)\n",
    "$$\n",
    "\n",
    "Формула обучения:\n",
    "\n",
    "$$\n",
    "w = (X^T X)^{-1} X^T y\n",
    "$$"
   ]
  },
  {
   "cell_type": "markdown",
   "metadata": {},
   "source": [
    "**Обоснование:** \n",
    "\n",
    "        Введем обозначения:\n",
    "- $X$ - матрица признаков;\n",
    "- $w$ - вектор параметров;\n",
    "- $a$ - вектор предсказаний для матрицы признаков $X$;\n",
    "- $P$ - случайная квадратная обратимая матрица, на которую будем умножать матрицу признаков;\n",
    "- $b$ - вектор предсказаний для матрицы признаков $X$ при её умножении на случайную квадратную обратимую матрицу $P$;\n",
    "- $E$ - единичная матрица;\n",
    "- $X^T$ - транспонированная матрица признаков $X$;\n",
    "- $P^{-1}$ - обратная матрица для матрицы $P$;\n",
    "\n",
    "      Также мы знаем, что:    \n",
    "- $a = Xw$ - формула вычисления вектора предсказаний для матрицы признаков $X$;\n",
    "- $w = (X^T X)^{-1} X^T y$ - формула нахождения вектора параметров $w$;\n",
    "- $E = P^{-1}P = PP^{-1}$ - скалярное произведение матрицы $P$ и обратной ей матрицы $P^{-1}$ равно единичной матрице $E$ (порядок умножения не важен);\n",
    "- $P = PE = EP$ - скалярное произведение матрицы $P$ и единичной матрицы $E$ равно матрице $P$ (порядок умножения не важен);\n",
    "\n",
    "       Свойства транспонируемых и обратных матриц:\n",
    "- $(AB)^T = B^T A^T$ - свойство транспонированных матриц\n",
    "- $(AB)^{-1} = B^{-1} A^{-1}$ - свойство обратных матриц\n",
    "- $(A^T)^{-1} = (A^{-1})^T$ - свойство транспонированных и обратных матриц\n",
    "\n",
    "<b>Для того, чтобы доказать что качество линейной регрессии не изменится, необходимо доказать, что вектора предсказаний $a$ и $b$ будут равны, т.е. $a = b$.</b>"
   ]
  },
  {
   "cell_type": "markdown",
   "metadata": {},
   "source": [
    "Напишем формулы вычисления векторов предсказаний $a$ и $b$:\n",
    "\n",
    "$a = Xw = X(X^T X)^{-1} X^T y$\n",
    "\n",
    "Кстати обратная матрица $(X^T X)^{-1}$ всегда будет квадратной, т.к. только квадратная матрица может быть обратимой, если бы в нашей формуле матрица $(X^T X)^{-1}$ была бы необратимой, мы не смогли бы найти вектор предсказаний $a$.\n",
    "\n",
    "$b = XPw^p$:\n",
    "\n",
    "где = $w^p = ((XP)^T XP)^{-1} (XP)^T y$\n",
    "\n",
    "$b = XP ((XP)^T XP)^{-1} (XP)^T y$ \n",
    "\n",
    "используя свойство $(AB)^T = B^T A^T$, получаем:\n",
    "\n",
    "$XP ((XP)^T XP)^{-1} (XP)^T y = XP (P^T (X^TX) P)^{-1} P^T X^T y$\n",
    "\n",
    "используя свойство $(AB)^{-1} = B^{-1} A^{-1}$, получаем:\n",
    "\n",
    "$XP (P^T (X^TX) P)^{-1} P^T X^T y = XP P^{-1} (P^T (X^TX))^{-1} P^T X^T y = X (P P^{-1}) (X^TX)^{-1} ((P^T)^{-1} P^T) X^T y$\n",
    "\n",
    "используя свойство $E = P^{-1}P = PP^{-1}$, получаем:\n",
    "\n",
    "$X (P P^{-1}) (X^TX)^{-1} ((P^T)^{-1} P^T) X^T y = X E (X^TX)^{-1} E X^T y = X (X^TX)^{-1} X^T y$\n",
    "\n",
    "Получилось $b = X (X^TX)^{-1} X^T y$, $a = X (X^TX)^{-1} X^T y$.\n",
    "\n",
    "$a = b$, что и требовалось доказать."
   ]
  },
  {
   "cell_type": "markdown",
   "metadata": {},
   "source": [
    "## 3 Алгоритм преобразования"
   ]
  },
  {
   "cell_type": "markdown",
   "metadata": {},
   "source": [
    "**Алгоритм**\n",
    "\n",
    "1) Имеющиеся табличные данные разделим на матрицу признаков и целевой вектор (features и target).\n",
    "\n",
    "2) Создадим класс модели LinearRegression() с методами fit() и predict().\n",
    "\n",
    "3) Проведем обучение модели без умножения на случайую матрицу и получим предсказания. Расчитаем метрику R2 на данной модели.\n",
    "\n",
    "4) С помощью np.random.normal создадим случайную квадратную обратимую матрицу с размерностью равной ширине матрицы признаков.\n",
    "\n",
    "5) Проведем преобразование - умножим матрицу признаков на квадратную обратимую матрицу, полученную в предыдущем пункте.\n",
    "\n",
    "6) Проведем обучение модели с умножения на случайую матрицу и получим предсказания. Расчитаем метрику R2 на данной модели.\n",
    "\n",
    "7) Напишем вывод."
   ]
  },
  {
   "cell_type": "markdown",
   "metadata": {},
   "source": [
    "**Обоснование**\n",
    "\n",
    "Проверим на практике наше утверждение о том, что качество линейной регрессии (метрика R2) не изменится, если матрицу признаков умножить случайную квадратную обратимую матрицу с размерностью равной ширине матрицы признаков."
   ]
  },
  {
   "cell_type": "markdown",
   "metadata": {},
   "source": [
    "## 4 Проверка алгоритма"
   ]
  },
  {
   "cell_type": "markdown",
   "metadata": {},
   "source": [
    "### Имеющиеся табличные данные разделим на матрицу признаков и целевой вектор (features и target)."
   ]
  },
  {
   "cell_type": "code",
   "execution_count": 75,
   "metadata": {},
   "outputs": [
    {
     "data": {
      "text/html": [
       "<div>\n",
       "<style scoped>\n",
       "    .dataframe tbody tr th:only-of-type {\n",
       "        vertical-align: middle;\n",
       "    }\n",
       "\n",
       "    .dataframe tbody tr th {\n",
       "        vertical-align: top;\n",
       "    }\n",
       "\n",
       "    .dataframe thead th {\n",
       "        text-align: right;\n",
       "    }\n",
       "</style>\n",
       "<table border=\"1\" class=\"dataframe\">\n",
       "  <thead>\n",
       "    <tr style=\"text-align: right;\">\n",
       "      <th></th>\n",
       "      <th>Пол</th>\n",
       "      <th>Возраст</th>\n",
       "      <th>Зарплата</th>\n",
       "      <th>Члены семьи</th>\n",
       "      <th>Страховые выплаты</th>\n",
       "    </tr>\n",
       "  </thead>\n",
       "  <tbody>\n",
       "    <tr>\n",
       "      <td>0</td>\n",
       "      <td>1</td>\n",
       "      <td>41</td>\n",
       "      <td>49600</td>\n",
       "      <td>1</td>\n",
       "      <td>0</td>\n",
       "    </tr>\n",
       "    <tr>\n",
       "      <td>1</td>\n",
       "      <td>0</td>\n",
       "      <td>46</td>\n",
       "      <td>38000</td>\n",
       "      <td>1</td>\n",
       "      <td>1</td>\n",
       "    </tr>\n",
       "    <tr>\n",
       "      <td>2</td>\n",
       "      <td>0</td>\n",
       "      <td>29</td>\n",
       "      <td>21000</td>\n",
       "      <td>0</td>\n",
       "      <td>0</td>\n",
       "    </tr>\n",
       "    <tr>\n",
       "      <td>3</td>\n",
       "      <td>0</td>\n",
       "      <td>21</td>\n",
       "      <td>41700</td>\n",
       "      <td>2</td>\n",
       "      <td>0</td>\n",
       "    </tr>\n",
       "    <tr>\n",
       "      <td>4</td>\n",
       "      <td>1</td>\n",
       "      <td>28</td>\n",
       "      <td>26100</td>\n",
       "      <td>0</td>\n",
       "      <td>0</td>\n",
       "    </tr>\n",
       "  </tbody>\n",
       "</table>\n",
       "</div>"
      ],
      "text/plain": [
       "   Пол  Возраст  Зарплата  Члены семьи  Страховые выплаты\n",
       "0    1       41     49600            1                  0\n",
       "1    0       46     38000            1                  1\n",
       "2    0       29     21000            0                  0\n",
       "3    0       21     41700            2                  0\n",
       "4    1       28     26100            0                  0"
      ]
     },
     "metadata": {},
     "output_type": "display_data"
    }
   ],
   "source": [
    "display(df_new.head())"
   ]
  },
  {
   "cell_type": "code",
   "execution_count": 76,
   "metadata": {},
   "outputs": [],
   "source": [
    "features = df_new.drop('Страховые выплаты', axis=1).values\n",
    "target = df_new['Страховые выплаты'].values"
   ]
  },
  {
   "cell_type": "markdown",
   "metadata": {},
   "source": [
    "### Создадим класс модели LinearRegression() с методами fit() и predict()."
   ]
  },
  {
   "cell_type": "code",
   "execution_count": 77,
   "metadata": {},
   "outputs": [],
   "source": [
    "class LinearRegression:\n",
    "    def fit(self, features_train, target_train):\n",
    "        X = np.concatenate([np.ones((4847, 1)), features_train], axis=1)\n",
    "        y = target_train\n",
    "        w = np.dot(np.dot(np.linalg.inv(np.dot(X.T, X)), X.T), y)\n",
    "        self.w = w[1:]\n",
    "        self.w0 = w[0]\n",
    "    def predict(self, features_test):\n",
    "        return np.dot(features_test, self.w) + self.w0"
   ]
  },
  {
   "cell_type": "markdown",
   "metadata": {},
   "source": [
    "### Проведем обучение модели без умножения на случайую матрицу и получим предсказания. Расчитаем метрику R2 на данной модели."
   ]
  },
  {
   "cell_type": "code",
   "execution_count": 78,
   "metadata": {},
   "outputs": [
    {
     "name": "stdout",
     "output_type": "stream",
     "text": [
      "Значение метрики R2: 0.4302010046633359\n"
     ]
    }
   ],
   "source": [
    "model = LinearRegression()\n",
    "model.fit(features, target)\n",
    "predictions = model.predict(features)\n",
    "print('Значение метрики R2:', r2_score(target, predictions))"
   ]
  },
  {
   "cell_type": "markdown",
   "metadata": {},
   "source": [
    "<b>Значение метрики R2 модели на непреобразованной матрице признаков: 0.4302010044852068</b>"
   ]
  },
  {
   "cell_type": "markdown",
   "metadata": {},
   "source": [
    "### С помощью np.random.normal создадим случайную квадратную обратимую матрицу с размерностью равной ширине матрицы признаков."
   ]
  },
  {
   "cell_type": "code",
   "execution_count": 79,
   "metadata": {},
   "outputs": [
    {
     "name": "stdout",
     "output_type": "stream",
     "text": [
      "[[ 0.49671415 -0.1382643   0.64768854  1.52302986]\n",
      " [-0.23415337 -0.23413696  1.57921282  0.76743473]\n",
      " [-0.46947439  0.54256004 -0.46341769 -0.46572975]\n",
      " [ 0.24196227 -1.91328024 -1.72491783 -0.56228753]]\n"
     ]
    }
   ],
   "source": [
    "# созадим случайную квадратную матрицу с размерностью равной ширине матрицы признаков\n",
    "# использование фиксированного псевдо случайного значения\n",
    "np.random.seed(42) # каждый раз выдает одни и теже псевдо случайные значения для нашей матрицы P\n",
    "P = np.random.normal(size = (features.shape[1], features.shape[1])) \n",
    "print(P)"
   ]
  },
  {
   "cell_type": "code",
   "execution_count": 80,
   "metadata": {},
   "outputs": [
    {
     "name": "stdout",
     "output_type": "stream",
     "text": [
      "[[-0.33124857 -1.0333483  -2.21070923 -0.47651024]\n",
      " [ 0.12864778 -0.47781825  0.15271687 -0.43017975]\n",
      " [-0.51338817  0.33588835 -0.8347692  -0.24072429]\n",
      " [ 0.99462192  0.15079316  1.08985145  0.21872535]]\n"
     ]
    }
   ],
   "source": [
    "# проверим, что наша квадратная матрица 'P' является обратимой\n",
    "print(np.linalg.inv(P))"
   ]
  },
  {
   "cell_type": "markdown",
   "metadata": {},
   "source": [
    "<b>Матрица 'P' является обратимой.</b>"
   ]
  },
  {
   "cell_type": "markdown",
   "metadata": {},
   "source": [
    "### Проведем преобразование - умножим матрицу признаков на квадратную обратимую матрицу, полученную в предыдущем пункте."
   ]
  },
  {
   "cell_type": "code",
   "execution_count": 81,
   "metadata": {},
   "outputs": [],
   "source": [
    "features = df_new.drop('Страховые выплаты', axis=1).values\n",
    "#P = np.random.normal(size = (features.shape[1], features.shape[1])) \n",
    "features_new = np.dot(features, P)\n",
    "target = df_new['Страховые выплаты'].values"
   ]
  },
  {
   "cell_type": "markdown",
   "metadata": {},
   "source": [
    "### Проведем обучение модели с умножения на случайую матрицу и получим предсказания. Расчитаем метрику R2 на данной модели."
   ]
  },
  {
   "cell_type": "code",
   "execution_count": 160,
   "metadata": {},
   "outputs": [
    {
     "name": "stdout",
     "output_type": "stream",
     "text": [
      "Значение метрики R2: 0.43020100448520027\n"
     ]
    }
   ],
   "source": [
    "model = LinearRegression()\n",
    "model.fit(features_new, target)\n",
    "predictions = model.predict(features_new)\n",
    "print('Значение метрики R2:', r2_score(target, predictions))"
   ]
  },
  {
   "cell_type": "markdown",
   "metadata": {},
   "source": [
    "<b>Значение метрики R2 модели на преобразованной матрице признаков (умноженной на матрицу 'P'): 0.43020100448520027</b>"
   ]
  },
  {
   "cell_type": "markdown",
   "metadata": {},
   "source": [
    "## 5 Общий вывод"
   ]
  },
  {
   "cell_type": "markdown",
   "metadata": {},
   "source": [
    "В ходе работы в данном проекте разработан метод преобразования данных, чтобы данные были защищены и по ним было бы сложно восстановить персональную информацию. Таким методом сможет выступать умножение матрицы признаков в нашей таблице данных на случайную квадратную обратимую матрицу с размерностью равной ширине матрицы признаков.\n",
    "\n",
    "При этом, при использовании указанного преобразования данных качество моделей машинного обучения не ухудшается.\n",
    "\n",
    "Данный факт сначало был доказан теоретически с помощью векторизованных формул (пункт 2), а затем подтвержден практически (пункт 4) на модели LinearRegression() при вычислении и сравнении метрики качества R2 до и после преобразования матрицы признаков.\n",
    "\n",
    "В итоге значение метрики R2 до преобразования матрицы признаков равно 0.4302010044852068, после преобразования - 0.43020100448520027. Как видим значения качества модели равны до и после преобразования."
   ]
  }
 ],
 "metadata": {
  "ExecuteTimeLog": [
   {
    "duration": 48,
    "start_time": "2022-08-05T13:04:33.023Z"
   },
   {
    "duration": 369,
    "start_time": "2022-08-05T13:05:23.865Z"
   },
   {
    "duration": 110,
    "start_time": "2022-08-05T13:05:24.871Z"
   },
   {
    "duration": 12,
    "start_time": "2022-08-05T13:06:47.506Z"
   },
   {
    "duration": 30,
    "start_time": "2022-08-05T13:14:54.723Z"
   },
   {
    "duration": 7,
    "start_time": "2022-08-05T13:15:18.086Z"
   },
   {
    "duration": 5,
    "start_time": "2022-08-05T13:15:32.933Z"
   },
   {
    "duration": 5,
    "start_time": "2022-08-05T13:17:32.739Z"
   },
   {
    "duration": 6,
    "start_time": "2022-08-05T13:22:59.370Z"
   },
   {
    "duration": 12,
    "start_time": "2022-08-05T13:23:21.908Z"
   },
   {
    "duration": 9,
    "start_time": "2022-08-05T13:24:03.820Z"
   },
   {
    "duration": 4,
    "start_time": "2022-08-05T13:24:17.858Z"
   },
   {
    "duration": 8,
    "start_time": "2022-08-05T13:24:31.856Z"
   },
   {
    "duration": 8,
    "start_time": "2022-08-05T13:25:04.267Z"
   },
   {
    "duration": 5,
    "start_time": "2022-08-05T13:26:02.095Z"
   },
   {
    "duration": 6,
    "start_time": "2022-08-05T13:26:13.127Z"
   },
   {
    "duration": 6,
    "start_time": "2022-08-05T13:26:23.166Z"
   },
   {
    "duration": 6,
    "start_time": "2022-08-05T13:26:31.723Z"
   },
   {
    "duration": 6,
    "start_time": "2022-08-05T13:26:38.956Z"
   },
   {
    "duration": 15,
    "start_time": "2022-08-05T13:27:39.675Z"
   },
   {
    "duration": 12,
    "start_time": "2022-08-05T13:36:22.921Z"
   },
   {
    "duration": 15,
    "start_time": "2022-08-05T13:37:35.095Z"
   },
   {
    "duration": 263,
    "start_time": "2022-08-05T13:39:27.693Z"
   },
   {
    "duration": 292,
    "start_time": "2022-08-05T13:40:08.983Z"
   },
   {
    "duration": 13,
    "start_time": "2022-08-05T13:42:55.663Z"
   },
   {
    "duration": 10,
    "start_time": "2022-08-05T13:44:44.814Z"
   },
   {
    "duration": 12,
    "start_time": "2022-08-05T13:50:55.785Z"
   },
   {
    "duration": 17,
    "start_time": "2022-08-05T13:51:35.930Z"
   },
   {
    "duration": 4,
    "start_time": "2022-08-05T14:07:14.894Z"
   },
   {
    "duration": 5,
    "start_time": "2022-08-05T14:07:30.253Z"
   },
   {
    "duration": 5,
    "start_time": "2022-08-05T16:34:12.579Z"
   },
   {
    "duration": 11,
    "start_time": "2022-08-05T16:34:31.139Z"
   },
   {
    "duration": 5,
    "start_time": "2022-08-05T16:35:17.040Z"
   },
   {
    "duration": 6,
    "start_time": "2022-08-05T16:35:29.724Z"
   },
   {
    "duration": 6,
    "start_time": "2022-08-05T16:35:54.290Z"
   },
   {
    "duration": 50,
    "start_time": "2022-08-05T16:37:00.927Z"
   },
   {
    "duration": 7,
    "start_time": "2022-08-05T16:37:07.763Z"
   },
   {
    "duration": 7,
    "start_time": "2022-08-05T16:38:30.050Z"
   },
   {
    "duration": 6,
    "start_time": "2022-08-05T16:38:41.192Z"
   },
   {
    "duration": 57,
    "start_time": "2022-08-05T16:40:22.453Z"
   },
   {
    "duration": 7,
    "start_time": "2022-08-05T16:40:37.961Z"
   },
   {
    "duration": 57,
    "start_time": "2022-08-05T16:42:44.600Z"
   },
   {
    "duration": 71,
    "start_time": "2022-08-05T16:43:35.473Z"
   },
   {
    "duration": 46,
    "start_time": "2022-08-05T16:44:19.025Z"
   },
   {
    "duration": 451,
    "start_time": "2022-08-05T16:45:50.799Z"
   },
   {
    "duration": 42,
    "start_time": "2022-08-05T16:45:51.252Z"
   },
   {
    "duration": 10,
    "start_time": "2022-08-05T16:45:51.296Z"
   },
   {
    "duration": 26,
    "start_time": "2022-08-05T16:45:51.308Z"
   },
   {
    "duration": 14,
    "start_time": "2022-08-05T16:45:51.336Z"
   },
   {
    "duration": 8,
    "start_time": "2022-08-05T16:45:51.352Z"
   },
   {
    "duration": 12,
    "start_time": "2022-08-05T16:45:51.362Z"
   },
   {
    "duration": 12,
    "start_time": "2022-08-05T16:45:51.375Z"
   },
   {
    "duration": 58,
    "start_time": "2022-08-05T16:45:54.035Z"
   },
   {
    "duration": 55,
    "start_time": "2022-08-05T16:46:06.621Z"
   },
   {
    "duration": 7,
    "start_time": "2022-08-05T16:46:14.785Z"
   },
   {
    "duration": 9,
    "start_time": "2022-08-05T16:46:37.025Z"
   },
   {
    "duration": 9,
    "start_time": "2022-08-05T16:46:48.523Z"
   },
   {
    "duration": 50,
    "start_time": "2022-08-05T16:47:11.927Z"
   },
   {
    "duration": 9,
    "start_time": "2022-08-05T16:47:22.166Z"
   },
   {
    "duration": 10,
    "start_time": "2022-08-05T16:47:31.823Z"
   },
   {
    "duration": 13,
    "start_time": "2022-08-05T16:55:00.553Z"
   },
   {
    "duration": 14,
    "start_time": "2022-08-05T16:55:23.714Z"
   },
   {
    "duration": 12,
    "start_time": "2022-08-05T16:57:02.746Z"
   },
   {
    "duration": 145,
    "start_time": "2022-08-05T17:01:44.939Z"
   },
   {
    "duration": 70,
    "start_time": "2022-08-05T17:03:03.315Z"
   },
   {
    "duration": 65,
    "start_time": "2022-08-05T17:03:54.993Z"
   },
   {
    "duration": 75,
    "start_time": "2022-08-05T17:04:44.191Z"
   },
   {
    "duration": 71,
    "start_time": "2022-08-05T17:04:57.785Z"
   },
   {
    "duration": 63,
    "start_time": "2022-08-05T17:05:45.151Z"
   },
   {
    "duration": 141,
    "start_time": "2022-08-05T17:09:44.710Z"
   },
   {
    "duration": 1059,
    "start_time": "2022-08-07T08:23:49.485Z"
   },
   {
    "duration": 94,
    "start_time": "2022-08-07T08:23:50.546Z"
   },
   {
    "duration": 10,
    "start_time": "2022-08-07T08:23:50.642Z"
   },
   {
    "duration": 13,
    "start_time": "2022-08-07T08:23:50.654Z"
   },
   {
    "duration": 17,
    "start_time": "2022-08-07T08:23:50.668Z"
   },
   {
    "duration": 9,
    "start_time": "2022-08-07T08:23:50.686Z"
   },
   {
    "duration": 10,
    "start_time": "2022-08-07T08:23:50.696Z"
   },
   {
    "duration": 11,
    "start_time": "2022-08-07T08:23:50.708Z"
   },
   {
    "duration": 12,
    "start_time": "2022-08-07T08:23:54.694Z"
   },
   {
    "duration": 3,
    "start_time": "2022-08-07T08:26:10.695Z"
   },
   {
    "duration": 74,
    "start_time": "2022-08-07T08:34:31.569Z"
   },
   {
    "duration": 3,
    "start_time": "2022-08-07T08:34:44.236Z"
   },
   {
    "duration": 3,
    "start_time": "2022-08-07T08:39:43.430Z"
   },
   {
    "duration": 93,
    "start_time": "2022-08-07T08:54:47.869Z"
   },
   {
    "duration": 4,
    "start_time": "2022-08-07T08:55:49.207Z"
   },
   {
    "duration": 15,
    "start_time": "2022-08-07T08:55:53.577Z"
   },
   {
    "duration": 4,
    "start_time": "2022-08-07T08:56:24.882Z"
   },
   {
    "duration": 15,
    "start_time": "2022-08-07T08:56:26.927Z"
   },
   {
    "duration": 3,
    "start_time": "2022-08-07T08:59:27.705Z"
   },
   {
    "duration": 15,
    "start_time": "2022-08-07T08:59:28.739Z"
   },
   {
    "duration": 16,
    "start_time": "2022-08-07T09:00:54.285Z"
   },
   {
    "duration": 9,
    "start_time": "2022-08-07T09:03:16.030Z"
   },
   {
    "duration": 4,
    "start_time": "2022-08-07T09:03:37.067Z"
   },
   {
    "duration": 4,
    "start_time": "2022-08-07T09:04:03.511Z"
   },
   {
    "duration": 15,
    "start_time": "2022-08-07T09:04:04.464Z"
   },
   {
    "duration": 4,
    "start_time": "2022-08-07T09:04:20.339Z"
   },
   {
    "duration": 16,
    "start_time": "2022-08-07T09:04:21.167Z"
   },
   {
    "duration": 5,
    "start_time": "2022-08-07T09:06:09.807Z"
   },
   {
    "duration": 17,
    "start_time": "2022-08-07T09:06:11.034Z"
   },
   {
    "duration": 4,
    "start_time": "2022-08-07T09:08:38.302Z"
   },
   {
    "duration": 2,
    "start_time": "2022-08-07T09:08:39.150Z"
   },
   {
    "duration": 15,
    "start_time": "2022-08-07T09:08:44.763Z"
   },
   {
    "duration": 12,
    "start_time": "2022-08-07T09:10:46.404Z"
   },
   {
    "duration": 4,
    "start_time": "2022-08-07T09:11:24.053Z"
   },
   {
    "duration": 5,
    "start_time": "2022-08-07T09:11:30.743Z"
   },
   {
    "duration": 15,
    "start_time": "2022-08-07T09:11:31.293Z"
   },
   {
    "duration": 9,
    "start_time": "2022-08-07T09:19:47.583Z"
   },
   {
    "duration": 10,
    "start_time": "2022-08-07T09:20:06.617Z"
   },
   {
    "duration": 4,
    "start_time": "2022-08-07T09:20:44.624Z"
   },
   {
    "duration": 11,
    "start_time": "2022-08-07T09:20:45.782Z"
   },
   {
    "duration": 11,
    "start_time": "2022-08-07T09:26:23.759Z"
   },
   {
    "duration": 4,
    "start_time": "2022-08-07T09:26:26.312Z"
   },
   {
    "duration": 14,
    "start_time": "2022-08-07T09:26:27.189Z"
   },
   {
    "duration": 4,
    "start_time": "2022-08-07T09:27:18.049Z"
   },
   {
    "duration": 4,
    "start_time": "2022-08-07T09:27:20.249Z"
   },
   {
    "duration": 12,
    "start_time": "2022-08-07T09:27:21.049Z"
   },
   {
    "duration": 9,
    "start_time": "2022-08-07T09:28:54.180Z"
   },
   {
    "duration": 10,
    "start_time": "2022-08-07T09:29:12.463Z"
   },
   {
    "duration": 14,
    "start_time": "2022-08-07T09:29:31.953Z"
   },
   {
    "duration": 14,
    "start_time": "2022-08-07T09:32:16.000Z"
   },
   {
    "duration": 11,
    "start_time": "2022-08-07T09:36:08.991Z"
   },
   {
    "duration": 14,
    "start_time": "2022-08-07T09:36:33.518Z"
   },
   {
    "duration": 11,
    "start_time": "2022-08-07T09:46:17.085Z"
   },
   {
    "duration": 12,
    "start_time": "2022-08-07T11:23:38.324Z"
   },
   {
    "duration": 3,
    "start_time": "2022-08-07T11:23:41.532Z"
   },
   {
    "duration": 38,
    "start_time": "2022-08-07T11:23:41.536Z"
   },
   {
    "duration": 9,
    "start_time": "2022-08-07T11:23:41.575Z"
   },
   {
    "duration": 4,
    "start_time": "2022-08-07T11:23:41.585Z"
   },
   {
    "duration": 15,
    "start_time": "2022-08-07T11:23:41.591Z"
   },
   {
    "duration": 9,
    "start_time": "2022-08-07T11:23:41.607Z"
   },
   {
    "duration": 12,
    "start_time": "2022-08-07T11:23:41.617Z"
   },
   {
    "duration": 32,
    "start_time": "2022-08-07T11:23:41.630Z"
   },
   {
    "duration": 13,
    "start_time": "2022-08-07T11:23:41.663Z"
   },
   {
    "duration": 12,
    "start_time": "2022-08-07T11:23:45.972Z"
   },
   {
    "duration": 10,
    "start_time": "2022-08-07T11:23:46.699Z"
   },
   {
    "duration": 10,
    "start_time": "2022-08-07T11:28:01.062Z"
   },
   {
    "duration": 11,
    "start_time": "2022-08-07T11:28:58.978Z"
   },
   {
    "duration": 10,
    "start_time": "2022-08-07T11:29:51.396Z"
   },
   {
    "duration": 13,
    "start_time": "2022-08-07T11:29:59.601Z"
   },
   {
    "duration": 71,
    "start_time": "2022-08-07T11:30:14.389Z"
   },
   {
    "duration": 74,
    "start_time": "2022-08-07T11:30:34.283Z"
   },
   {
    "duration": 10,
    "start_time": "2022-08-07T11:31:08.883Z"
   },
   {
    "duration": 10,
    "start_time": "2022-08-07T11:36:24.326Z"
   },
   {
    "duration": 11,
    "start_time": "2022-08-07T11:39:04.869Z"
   },
   {
    "duration": 9,
    "start_time": "2022-08-07T11:40:13.684Z"
   },
   {
    "duration": 9,
    "start_time": "2022-08-07T11:40:21.949Z"
   },
   {
    "duration": 11,
    "start_time": "2022-08-07T11:41:24.805Z"
   },
   {
    "duration": 4,
    "start_time": "2022-08-07T11:42:34.427Z"
   },
   {
    "duration": 5,
    "start_time": "2022-08-07T11:43:19.454Z"
   },
   {
    "duration": 11,
    "start_time": "2022-08-07T11:43:49.672Z"
   },
   {
    "duration": 11,
    "start_time": "2022-08-07T11:44:47.191Z"
   },
   {
    "duration": 5,
    "start_time": "2022-08-07T11:45:28.573Z"
   },
   {
    "duration": 72,
    "start_time": "2022-08-07T11:46:19.641Z"
   },
   {
    "duration": 11,
    "start_time": "2022-08-07T11:46:31.386Z"
   },
   {
    "duration": 6,
    "start_time": "2022-08-07T11:47:58.223Z"
   },
   {
    "duration": 5,
    "start_time": "2022-08-07T11:48:19.990Z"
   },
   {
    "duration": 12,
    "start_time": "2022-08-07T11:48:31.715Z"
   },
   {
    "duration": 12,
    "start_time": "2022-08-07T11:48:43.050Z"
   },
   {
    "duration": 6,
    "start_time": "2022-08-07T11:49:22.891Z"
   },
   {
    "duration": 11,
    "start_time": "2022-08-07T11:49:32.525Z"
   },
   {
    "duration": 2,
    "start_time": "2022-08-07T11:50:56.954Z"
   },
   {
    "duration": 4,
    "start_time": "2022-08-07T11:51:02.387Z"
   },
   {
    "duration": 13,
    "start_time": "2022-08-07T11:51:26.836Z"
   },
   {
    "duration": 4,
    "start_time": "2022-08-07T11:52:18.726Z"
   },
   {
    "duration": 6,
    "start_time": "2022-08-07T11:52:27.266Z"
   },
   {
    "duration": 3,
    "start_time": "2022-08-07T11:52:48.371Z"
   },
   {
    "duration": 5,
    "start_time": "2022-08-07T11:53:25.941Z"
   },
   {
    "duration": 12,
    "start_time": "2022-08-07T11:54:09.820Z"
   },
   {
    "duration": 4,
    "start_time": "2022-08-07T11:56:09.145Z"
   },
   {
    "duration": 5,
    "start_time": "2022-08-07T11:57:27.566Z"
   },
   {
    "duration": 6,
    "start_time": "2022-08-07T11:57:35.717Z"
   },
   {
    "duration": 3,
    "start_time": "2022-08-07T11:58:04.724Z"
   },
   {
    "duration": 6,
    "start_time": "2022-08-07T11:58:33.554Z"
   },
   {
    "duration": 3,
    "start_time": "2022-08-07T11:59:19.972Z"
   },
   {
    "duration": 3,
    "start_time": "2022-08-07T11:59:23.479Z"
   },
   {
    "duration": 4,
    "start_time": "2022-08-07T11:59:28.276Z"
   },
   {
    "duration": 5,
    "start_time": "2022-08-07T11:59:31.991Z"
   },
   {
    "duration": 12,
    "start_time": "2022-08-07T12:12:09.164Z"
   },
   {
    "duration": 4,
    "start_time": "2022-08-07T12:12:12.547Z"
   },
   {
    "duration": 4,
    "start_time": "2022-08-07T12:12:17.325Z"
   },
   {
    "duration": 7,
    "start_time": "2022-08-07T12:12:27.909Z"
   },
   {
    "duration": 608,
    "start_time": "2022-08-07T12:20:51.543Z"
   },
   {
    "duration": 4,
    "start_time": "2022-08-07T12:21:11.986Z"
   },
   {
    "duration": 4,
    "start_time": "2022-08-07T12:47:43.627Z"
   },
   {
    "duration": 4,
    "start_time": "2022-08-07T12:56:34.351Z"
   },
   {
    "duration": 84,
    "start_time": "2022-08-07T12:57:05.569Z"
   },
   {
    "duration": 3,
    "start_time": "2022-08-07T12:59:43.677Z"
   },
   {
    "duration": 4,
    "start_time": "2022-08-07T13:01:11.519Z"
   },
   {
    "duration": 91,
    "start_time": "2022-08-07T13:01:13.752Z"
   },
   {
    "duration": 4,
    "start_time": "2022-08-07T13:05:20.124Z"
   },
   {
    "duration": 4,
    "start_time": "2022-08-07T13:05:21.091Z"
   },
   {
    "duration": 85,
    "start_time": "2022-08-07T13:05:24.627Z"
   },
   {
    "duration": 4,
    "start_time": "2022-08-07T13:08:55.030Z"
   },
   {
    "duration": 4,
    "start_time": "2022-08-07T13:08:56.291Z"
   },
   {
    "duration": 5,
    "start_time": "2022-08-07T13:09:23.457Z"
   },
   {
    "duration": 10,
    "start_time": "2022-08-07T13:09:26.096Z"
   },
   {
    "duration": 3,
    "start_time": "2022-08-07T13:14:34.180Z"
   },
   {
    "duration": 42,
    "start_time": "2022-08-07T13:14:34.185Z"
   },
   {
    "duration": 9,
    "start_time": "2022-08-07T13:14:34.228Z"
   },
   {
    "duration": 8,
    "start_time": "2022-08-07T13:14:34.238Z"
   },
   {
    "duration": 15,
    "start_time": "2022-08-07T13:14:34.247Z"
   },
   {
    "duration": 11,
    "start_time": "2022-08-07T13:14:34.263Z"
   },
   {
    "duration": 10,
    "start_time": "2022-08-07T13:14:34.276Z"
   },
   {
    "duration": 11,
    "start_time": "2022-08-07T13:14:34.288Z"
   },
   {
    "duration": 10,
    "start_time": "2022-08-07T13:14:34.301Z"
   },
   {
    "duration": 4,
    "start_time": "2022-08-07T13:14:34.313Z"
   },
   {
    "duration": 4,
    "start_time": "2022-08-07T13:14:34.320Z"
   },
   {
    "duration": 41,
    "start_time": "2022-08-07T13:14:34.325Z"
   },
   {
    "duration": 90,
    "start_time": "2022-08-07T13:14:34.367Z"
   },
   {
    "duration": 102,
    "start_time": "2022-08-07T13:14:34.459Z"
   },
   {
    "duration": 13,
    "start_time": "2022-08-07T13:14:42.355Z"
   },
   {
    "duration": 4,
    "start_time": "2022-08-07T13:14:44.754Z"
   },
   {
    "duration": 3,
    "start_time": "2022-08-07T13:14:47.195Z"
   },
   {
    "duration": 7,
    "start_time": "2022-08-07T13:14:50.432Z"
   },
   {
    "duration": 5,
    "start_time": "2022-08-07T13:14:54.497Z"
   },
   {
    "duration": 3,
    "start_time": "2022-08-07T13:14:58.886Z"
   },
   {
    "duration": 13,
    "start_time": "2022-08-07T13:15:01.050Z"
   },
   {
    "duration": 5,
    "start_time": "2022-08-07T13:15:19.728Z"
   },
   {
    "duration": 4,
    "start_time": "2022-08-07T13:15:20.200Z"
   },
   {
    "duration": 13,
    "start_time": "2022-08-07T13:15:22.366Z"
   },
   {
    "duration": 4,
    "start_time": "2022-08-07T13:16:55.395Z"
   },
   {
    "duration": 3,
    "start_time": "2022-08-07T13:16:56.509Z"
   },
   {
    "duration": 4,
    "start_time": "2022-08-07T13:17:21.416Z"
   },
   {
    "duration": 4,
    "start_time": "2022-08-07T13:17:22.696Z"
   },
   {
    "duration": 6,
    "start_time": "2022-08-07T13:17:25.396Z"
   },
   {
    "duration": 5,
    "start_time": "2022-08-07T13:18:37.415Z"
   },
   {
    "duration": 4,
    "start_time": "2022-08-07T13:18:37.937Z"
   },
   {
    "duration": 5,
    "start_time": "2022-08-07T13:18:40.209Z"
   },
   {
    "duration": 5,
    "start_time": "2022-08-07T13:18:40.921Z"
   },
   {
    "duration": 56,
    "start_time": "2022-08-07T13:18:43.099Z"
   },
   {
    "duration": 1105,
    "start_time": "2022-08-08T14:01:09.614Z"
   },
   {
    "duration": 90,
    "start_time": "2022-08-08T14:01:10.721Z"
   },
   {
    "duration": 12,
    "start_time": "2022-08-08T14:01:10.813Z"
   },
   {
    "duration": 15,
    "start_time": "2022-08-08T14:01:10.827Z"
   },
   {
    "duration": 26,
    "start_time": "2022-08-08T14:01:10.844Z"
   },
   {
    "duration": 15,
    "start_time": "2022-08-08T14:01:10.873Z"
   },
   {
    "duration": 15,
    "start_time": "2022-08-08T14:01:10.890Z"
   },
   {
    "duration": 15,
    "start_time": "2022-08-08T14:01:10.907Z"
   },
   {
    "duration": 17,
    "start_time": "2022-08-08T14:01:15.360Z"
   },
   {
    "duration": 16,
    "start_time": "2022-08-08T14:02:06.535Z"
   },
   {
    "duration": 84,
    "start_time": "2022-08-08T14:04:29.496Z"
   },
   {
    "duration": 10,
    "start_time": "2022-08-08T14:04:40.741Z"
   },
   {
    "duration": 10,
    "start_time": "2022-08-08T14:05:13.716Z"
   },
   {
    "duration": 28,
    "start_time": "2022-08-08T14:05:39.814Z"
   },
   {
    "duration": 3,
    "start_time": "2022-08-08T14:20:38.356Z"
   },
   {
    "duration": 57,
    "start_time": "2022-08-08T14:20:38.362Z"
   },
   {
    "duration": 15,
    "start_time": "2022-08-08T14:20:38.421Z"
   },
   {
    "duration": 17,
    "start_time": "2022-08-08T14:20:38.438Z"
   },
   {
    "duration": 22,
    "start_time": "2022-08-08T14:20:38.457Z"
   },
   {
    "duration": 22,
    "start_time": "2022-08-08T14:20:38.480Z"
   },
   {
    "duration": 16,
    "start_time": "2022-08-08T14:20:38.503Z"
   },
   {
    "duration": 12,
    "start_time": "2022-08-08T14:20:38.520Z"
   },
   {
    "duration": 39,
    "start_time": "2022-08-08T14:21:13.468Z"
   },
   {
    "duration": 11,
    "start_time": "2022-08-08T14:22:36.187Z"
   },
   {
    "duration": 20,
    "start_time": "2022-08-08T14:23:04.214Z"
   },
   {
    "duration": 10,
    "start_time": "2022-08-08T14:23:13.512Z"
   },
   {
    "duration": 10,
    "start_time": "2022-08-08T14:25:48.167Z"
   },
   {
    "duration": 15,
    "start_time": "2022-08-08T14:25:55.820Z"
   },
   {
    "duration": 11,
    "start_time": "2022-08-08T14:27:00.449Z"
   },
   {
    "duration": 1404,
    "start_time": "2022-08-09T10:14:56.564Z"
   },
   {
    "duration": 95,
    "start_time": "2022-08-09T10:14:57.969Z"
   },
   {
    "duration": 11,
    "start_time": "2022-08-09T10:14:58.066Z"
   },
   {
    "duration": 12,
    "start_time": "2022-08-09T10:14:58.079Z"
   },
   {
    "duration": 16,
    "start_time": "2022-08-09T10:14:58.093Z"
   },
   {
    "duration": 13,
    "start_time": "2022-08-09T10:14:58.110Z"
   },
   {
    "duration": 12,
    "start_time": "2022-08-09T10:14:58.124Z"
   },
   {
    "duration": 11,
    "start_time": "2022-08-09T10:14:58.138Z"
   },
   {
    "duration": 35,
    "start_time": "2022-08-09T10:14:58.151Z"
   },
   {
    "duration": 29,
    "start_time": "2022-08-09T10:14:58.188Z"
   },
   {
    "duration": 9,
    "start_time": "2022-08-09T10:14:58.218Z"
   },
   {
    "duration": 11,
    "start_time": "2022-08-09T10:14:58.228Z"
   },
   {
    "duration": 8,
    "start_time": "2022-08-09T10:14:58.240Z"
   },
   {
    "duration": 12,
    "start_time": "2022-08-09T10:14:58.250Z"
   },
   {
    "duration": 2,
    "start_time": "2022-08-09T10:18:08.420Z"
   },
   {
    "duration": 55,
    "start_time": "2022-08-09T10:18:08.425Z"
   },
   {
    "duration": 10,
    "start_time": "2022-08-09T10:18:08.481Z"
   },
   {
    "duration": 17,
    "start_time": "2022-08-09T10:18:08.492Z"
   },
   {
    "duration": 32,
    "start_time": "2022-08-09T10:18:08.510Z"
   },
   {
    "duration": 7,
    "start_time": "2022-08-09T10:18:08.543Z"
   },
   {
    "duration": 14,
    "start_time": "2022-08-09T10:18:08.552Z"
   },
   {
    "duration": 10,
    "start_time": "2022-08-09T10:18:08.568Z"
   },
   {
    "duration": 34,
    "start_time": "2022-08-09T10:18:08.579Z"
   },
   {
    "duration": 9,
    "start_time": "2022-08-09T10:18:08.614Z"
   },
   {
    "duration": 17,
    "start_time": "2022-08-09T10:18:08.626Z"
   },
   {
    "duration": 6,
    "start_time": "2022-08-09T10:18:08.644Z"
   },
   {
    "duration": 5,
    "start_time": "2022-08-09T10:18:08.652Z"
   },
   {
    "duration": 55,
    "start_time": "2022-08-09T10:18:08.658Z"
   },
   {
    "duration": 7,
    "start_time": "2022-08-09T10:21:07.359Z"
   },
   {
    "duration": 4,
    "start_time": "2022-08-09T10:21:12.131Z"
   },
   {
    "duration": 4,
    "start_time": "2022-08-09T10:21:18.121Z"
   },
   {
    "duration": 3,
    "start_time": "2022-08-09T10:21:20.232Z"
   },
   {
    "duration": 3,
    "start_time": "2022-08-09T10:21:22.168Z"
   },
   {
    "duration": 4,
    "start_time": "2022-08-09T10:21:28.290Z"
   },
   {
    "duration": 4,
    "start_time": "2022-08-09T10:21:31.876Z"
   },
   {
    "duration": 4,
    "start_time": "2022-08-09T10:21:34.025Z"
   },
   {
    "duration": 3,
    "start_time": "2022-08-09T10:21:36.466Z"
   },
   {
    "duration": 4,
    "start_time": "2022-08-09T10:24:52.506Z"
   },
   {
    "duration": 4,
    "start_time": "2022-08-09T10:25:01.357Z"
   },
   {
    "duration": 4,
    "start_time": "2022-08-09T10:28:17.510Z"
   },
   {
    "duration": 3,
    "start_time": "2022-08-09T11:05:51.499Z"
   },
   {
    "duration": 4,
    "start_time": "2022-08-09T11:06:07.720Z"
   },
   {
    "duration": 4,
    "start_time": "2022-08-09T11:06:15.148Z"
   },
   {
    "duration": 3,
    "start_time": "2022-08-09T11:06:17.342Z"
   },
   {
    "duration": 4,
    "start_time": "2022-08-09T11:07:21.349Z"
   },
   {
    "duration": 7,
    "start_time": "2022-08-09T11:33:03.183Z"
   },
   {
    "duration": 4,
    "start_time": "2022-08-09T11:33:37.882Z"
   },
   {
    "duration": 4,
    "start_time": "2022-08-09T11:34:22.781Z"
   },
   {
    "duration": 4,
    "start_time": "2022-08-09T11:35:15.194Z"
   },
   {
    "duration": 5,
    "start_time": "2022-08-09T11:37:26.511Z"
   },
   {
    "duration": 780,
    "start_time": "2022-08-09T11:41:13.834Z"
   },
   {
    "duration": 35147,
    "start_time": "2022-08-09T11:44:18.787Z"
   },
   {
    "duration": 9,
    "start_time": "2022-08-09T11:45:18.565Z"
   },
   {
    "duration": 50298,
    "start_time": "2022-08-09T11:45:34.982Z"
   },
   {
    "duration": 148,
    "start_time": "2022-08-09T11:46:53.620Z"
   },
   {
    "duration": 144,
    "start_time": "2022-08-09T12:01:24.068Z"
   },
   {
    "duration": 157,
    "start_time": "2022-08-09T12:01:58.850Z"
   },
   {
    "duration": 151,
    "start_time": "2022-08-09T12:02:19.361Z"
   },
   {
    "duration": 141,
    "start_time": "2022-08-09T12:02:43.753Z"
   },
   {
    "duration": 4,
    "start_time": "2022-08-09T12:05:25.610Z"
   }
  ],
  "kernelspec": {
   "display_name": "Python 3 (ipykernel)",
   "language": "python",
   "name": "python3"
  },
  "language_info": {
   "codemirror_mode": {
    "name": "ipython",
    "version": 3
   },
   "file_extension": ".py",
   "mimetype": "text/x-python",
   "name": "python",
   "nbconvert_exporter": "python",
   "pygments_lexer": "ipython3",
   "version": "3.7.8"
  },
  "toc": {
   "base_numbering": 1,
   "nav_menu": {},
   "number_sections": true,
   "sideBar": true,
   "skip_h1_title": true,
   "title_cell": "Содержание",
   "title_sidebar": "Contents",
   "toc_cell": true,
   "toc_position": {
    "height": "calc(100% - 180px)",
    "left": "10px",
    "top": "150px",
    "width": "289.6px"
   },
   "toc_section_display": true,
   "toc_window_display": true
  }
 },
 "nbformat": 4,
 "nbformat_minor": 2
}
