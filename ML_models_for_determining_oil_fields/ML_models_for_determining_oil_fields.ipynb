{
 "cells": [
  {
   "cell_type": "markdown",
   "metadata": {},
   "source": [
    "# Построение модели машинного обучения для определения месторождений нефти, разработка которых принесет наибольшую прибыль"
   ]
  },
  {
   "cell_type": "markdown",
   "metadata": {},
   "source": [
    "## 1 Загрузка и подготовка данных"
   ]
  },
  {
   "cell_type": "code",
   "execution_count": 1,
   "metadata": {},
   "outputs": [],
   "source": [
    "import pandas as pd\n",
    "import numpy as np\n",
    "from numpy.random import RandomState\n",
    "import scipy.stats as st\n",
    "import matplotlib.pyplot as plt\n",
    "from sklearn.model_selection import train_test_split\n",
    "from sklearn.linear_model import LinearRegression\n",
    "from sklearn.preprocessing import OrdinalEncoder\n",
    "from sklearn.metrics import mean_squared_error\n",
    "from sklearn.metrics import mean_absolute_error\n",
    "from sklearn.metrics import accuracy_score\n",
    "from sklearn.metrics import confusion_matrix\n",
    "from sklearn.metrics import recall_score\n",
    "from sklearn.metrics import precision_score\n",
    "from sklearn.metrics import f1_score\n",
    "from sklearn.metrics import roc_auc_score\n",
    "from sklearn.metrics import roc_curve\n",
    "from sklearn.metrics import r2_score\n",
    "\n",
    "pd.set_option('display.max_columns', None)"
   ]
  },
  {
   "cell_type": "markdown",
   "metadata": {},
   "source": [
    "    Загрузим таблицы с данными по трем регионам"
   ]
  },
  {
   "cell_type": "markdown",
   "metadata": {},
   "source": [
    "### Первый регион"
   ]
  },
  {
   "cell_type": "code",
   "execution_count": 2,
   "metadata": {},
   "outputs": [
    {
     "data": {
      "text/html": [
       "<div>\n",
       "<style scoped>\n",
       "    .dataframe tbody tr th:only-of-type {\n",
       "        vertical-align: middle;\n",
       "    }\n",
       "\n",
       "    .dataframe tbody tr th {\n",
       "        vertical-align: top;\n",
       "    }\n",
       "\n",
       "    .dataframe thead th {\n",
       "        text-align: right;\n",
       "    }\n",
       "</style>\n",
       "<table border=\"1\" class=\"dataframe\">\n",
       "  <thead>\n",
       "    <tr style=\"text-align: right;\">\n",
       "      <th></th>\n",
       "      <th>id</th>\n",
       "      <th>f0</th>\n",
       "      <th>f1</th>\n",
       "      <th>f2</th>\n",
       "      <th>product</th>\n",
       "    </tr>\n",
       "  </thead>\n",
       "  <tbody>\n",
       "    <tr>\n",
       "      <td>0</td>\n",
       "      <td>txEyH</td>\n",
       "      <td>0.705745</td>\n",
       "      <td>-0.497823</td>\n",
       "      <td>1.221170</td>\n",
       "      <td>105.280062</td>\n",
       "    </tr>\n",
       "    <tr>\n",
       "      <td>1</td>\n",
       "      <td>2acmU</td>\n",
       "      <td>1.334711</td>\n",
       "      <td>-0.340164</td>\n",
       "      <td>4.365080</td>\n",
       "      <td>73.037750</td>\n",
       "    </tr>\n",
       "    <tr>\n",
       "      <td>2</td>\n",
       "      <td>409Wp</td>\n",
       "      <td>1.022732</td>\n",
       "      <td>0.151990</td>\n",
       "      <td>1.419926</td>\n",
       "      <td>85.265647</td>\n",
       "    </tr>\n",
       "    <tr>\n",
       "      <td>3</td>\n",
       "      <td>iJLyR</td>\n",
       "      <td>-0.032172</td>\n",
       "      <td>0.139033</td>\n",
       "      <td>2.978566</td>\n",
       "      <td>168.620776</td>\n",
       "    </tr>\n",
       "    <tr>\n",
       "      <td>4</td>\n",
       "      <td>Xdl7t</td>\n",
       "      <td>1.988431</td>\n",
       "      <td>0.155413</td>\n",
       "      <td>4.751769</td>\n",
       "      <td>154.036647</td>\n",
       "    </tr>\n",
       "    <tr>\n",
       "      <td>...</td>\n",
       "      <td>...</td>\n",
       "      <td>...</td>\n",
       "      <td>...</td>\n",
       "      <td>...</td>\n",
       "      <td>...</td>\n",
       "    </tr>\n",
       "    <tr>\n",
       "      <td>99995</td>\n",
       "      <td>DLsed</td>\n",
       "      <td>0.971957</td>\n",
       "      <td>0.370953</td>\n",
       "      <td>6.075346</td>\n",
       "      <td>110.744026</td>\n",
       "    </tr>\n",
       "    <tr>\n",
       "      <td>99996</td>\n",
       "      <td>QKivN</td>\n",
       "      <td>1.392429</td>\n",
       "      <td>-0.382606</td>\n",
       "      <td>1.273912</td>\n",
       "      <td>122.346843</td>\n",
       "    </tr>\n",
       "    <tr>\n",
       "      <td>99997</td>\n",
       "      <td>3rnvd</td>\n",
       "      <td>1.029585</td>\n",
       "      <td>0.018787</td>\n",
       "      <td>-1.348308</td>\n",
       "      <td>64.375443</td>\n",
       "    </tr>\n",
       "    <tr>\n",
       "      <td>99998</td>\n",
       "      <td>7kl59</td>\n",
       "      <td>0.998163</td>\n",
       "      <td>-0.528582</td>\n",
       "      <td>1.583869</td>\n",
       "      <td>74.040764</td>\n",
       "    </tr>\n",
       "    <tr>\n",
       "      <td>99999</td>\n",
       "      <td>1CWhH</td>\n",
       "      <td>1.764754</td>\n",
       "      <td>-0.266417</td>\n",
       "      <td>5.722849</td>\n",
       "      <td>149.633246</td>\n",
       "    </tr>\n",
       "  </tbody>\n",
       "</table>\n",
       "<p>100000 rows × 5 columns</p>\n",
       "</div>"
      ],
      "text/plain": [
       "          id        f0        f1        f2     product\n",
       "0      txEyH  0.705745 -0.497823  1.221170  105.280062\n",
       "1      2acmU  1.334711 -0.340164  4.365080   73.037750\n",
       "2      409Wp  1.022732  0.151990  1.419926   85.265647\n",
       "3      iJLyR -0.032172  0.139033  2.978566  168.620776\n",
       "4      Xdl7t  1.988431  0.155413  4.751769  154.036647\n",
       "...      ...       ...       ...       ...         ...\n",
       "99995  DLsed  0.971957  0.370953  6.075346  110.744026\n",
       "99996  QKivN  1.392429 -0.382606  1.273912  122.346843\n",
       "99997  3rnvd  1.029585  0.018787 -1.348308   64.375443\n",
       "99998  7kl59  0.998163 -0.528582  1.583869   74.040764\n",
       "99999  1CWhH  1.764754 -0.266417  5.722849  149.633246\n",
       "\n",
       "[100000 rows x 5 columns]"
      ]
     },
     "metadata": {},
     "output_type": "display_data"
    },
    {
     "name": "stdout",
     "output_type": "stream",
     "text": [
      "<class 'pandas.core.frame.DataFrame'>\n",
      "RangeIndex: 100000 entries, 0 to 99999\n",
      "Data columns (total 5 columns):\n",
      "id         100000 non-null object\n",
      "f0         100000 non-null float64\n",
      "f1         100000 non-null float64\n",
      "f2         100000 non-null float64\n",
      "product    100000 non-null float64\n",
      "dtypes: float64(4), object(1)\n",
      "memory usage: 3.8+ MB\n",
      "None\n"
     ]
    }
   ],
   "source": [
    "df_1 = pd.read_csv('geo_data_0.csv')\n",
    "display(df_1)\n",
    "\n",
    "print(df_1.info())"
   ]
  },
  {
   "cell_type": "markdown",
   "metadata": {},
   "source": [
    "### Второй регион"
   ]
  },
  {
   "cell_type": "code",
   "execution_count": 3,
   "metadata": {},
   "outputs": [
    {
     "data": {
      "text/html": [
       "<div>\n",
       "<style scoped>\n",
       "    .dataframe tbody tr th:only-of-type {\n",
       "        vertical-align: middle;\n",
       "    }\n",
       "\n",
       "    .dataframe tbody tr th {\n",
       "        vertical-align: top;\n",
       "    }\n",
       "\n",
       "    .dataframe thead th {\n",
       "        text-align: right;\n",
       "    }\n",
       "</style>\n",
       "<table border=\"1\" class=\"dataframe\">\n",
       "  <thead>\n",
       "    <tr style=\"text-align: right;\">\n",
       "      <th></th>\n",
       "      <th>id</th>\n",
       "      <th>f0</th>\n",
       "      <th>f1</th>\n",
       "      <th>f2</th>\n",
       "      <th>product</th>\n",
       "    </tr>\n",
       "  </thead>\n",
       "  <tbody>\n",
       "    <tr>\n",
       "      <td>0</td>\n",
       "      <td>kBEdx</td>\n",
       "      <td>-15.001348</td>\n",
       "      <td>-8.276000</td>\n",
       "      <td>-0.005876</td>\n",
       "      <td>3.179103</td>\n",
       "    </tr>\n",
       "    <tr>\n",
       "      <td>1</td>\n",
       "      <td>62mP7</td>\n",
       "      <td>14.272088</td>\n",
       "      <td>-3.475083</td>\n",
       "      <td>0.999183</td>\n",
       "      <td>26.953261</td>\n",
       "    </tr>\n",
       "    <tr>\n",
       "      <td>2</td>\n",
       "      <td>vyE1P</td>\n",
       "      <td>6.263187</td>\n",
       "      <td>-5.948386</td>\n",
       "      <td>5.001160</td>\n",
       "      <td>134.766305</td>\n",
       "    </tr>\n",
       "    <tr>\n",
       "      <td>3</td>\n",
       "      <td>KcrkZ</td>\n",
       "      <td>-13.081196</td>\n",
       "      <td>-11.506057</td>\n",
       "      <td>4.999415</td>\n",
       "      <td>137.945408</td>\n",
       "    </tr>\n",
       "    <tr>\n",
       "      <td>4</td>\n",
       "      <td>AHL4O</td>\n",
       "      <td>12.702195</td>\n",
       "      <td>-8.147433</td>\n",
       "      <td>5.004363</td>\n",
       "      <td>134.766305</td>\n",
       "    </tr>\n",
       "    <tr>\n",
       "      <td>...</td>\n",
       "      <td>...</td>\n",
       "      <td>...</td>\n",
       "      <td>...</td>\n",
       "      <td>...</td>\n",
       "      <td>...</td>\n",
       "    </tr>\n",
       "    <tr>\n",
       "      <td>99995</td>\n",
       "      <td>QywKC</td>\n",
       "      <td>9.535637</td>\n",
       "      <td>-6.878139</td>\n",
       "      <td>1.998296</td>\n",
       "      <td>53.906522</td>\n",
       "    </tr>\n",
       "    <tr>\n",
       "      <td>99996</td>\n",
       "      <td>ptvty</td>\n",
       "      <td>-10.160631</td>\n",
       "      <td>-12.558096</td>\n",
       "      <td>5.005581</td>\n",
       "      <td>137.945408</td>\n",
       "    </tr>\n",
       "    <tr>\n",
       "      <td>99997</td>\n",
       "      <td>09gWa</td>\n",
       "      <td>-7.378891</td>\n",
       "      <td>-3.084104</td>\n",
       "      <td>4.998651</td>\n",
       "      <td>137.945408</td>\n",
       "    </tr>\n",
       "    <tr>\n",
       "      <td>99998</td>\n",
       "      <td>rqwUm</td>\n",
       "      <td>0.665714</td>\n",
       "      <td>-6.152593</td>\n",
       "      <td>1.000146</td>\n",
       "      <td>30.132364</td>\n",
       "    </tr>\n",
       "    <tr>\n",
       "      <td>99999</td>\n",
       "      <td>relB0</td>\n",
       "      <td>-3.426139</td>\n",
       "      <td>-7.794274</td>\n",
       "      <td>-0.003299</td>\n",
       "      <td>3.179103</td>\n",
       "    </tr>\n",
       "  </tbody>\n",
       "</table>\n",
       "<p>100000 rows × 5 columns</p>\n",
       "</div>"
      ],
      "text/plain": [
       "          id         f0         f1        f2     product\n",
       "0      kBEdx -15.001348  -8.276000 -0.005876    3.179103\n",
       "1      62mP7  14.272088  -3.475083  0.999183   26.953261\n",
       "2      vyE1P   6.263187  -5.948386  5.001160  134.766305\n",
       "3      KcrkZ -13.081196 -11.506057  4.999415  137.945408\n",
       "4      AHL4O  12.702195  -8.147433  5.004363  134.766305\n",
       "...      ...        ...        ...       ...         ...\n",
       "99995  QywKC   9.535637  -6.878139  1.998296   53.906522\n",
       "99996  ptvty -10.160631 -12.558096  5.005581  137.945408\n",
       "99997  09gWa  -7.378891  -3.084104  4.998651  137.945408\n",
       "99998  rqwUm   0.665714  -6.152593  1.000146   30.132364\n",
       "99999  relB0  -3.426139  -7.794274 -0.003299    3.179103\n",
       "\n",
       "[100000 rows x 5 columns]"
      ]
     },
     "metadata": {},
     "output_type": "display_data"
    },
    {
     "name": "stdout",
     "output_type": "stream",
     "text": [
      "<class 'pandas.core.frame.DataFrame'>\n",
      "RangeIndex: 100000 entries, 0 to 99999\n",
      "Data columns (total 5 columns):\n",
      "id         100000 non-null object\n",
      "f0         100000 non-null float64\n",
      "f1         100000 non-null float64\n",
      "f2         100000 non-null float64\n",
      "product    100000 non-null float64\n",
      "dtypes: float64(4), object(1)\n",
      "memory usage: 3.8+ MB\n",
      "None\n"
     ]
    }
   ],
   "source": [
    "df_2 = pd.read_csv('geo_data_1.csv')\n",
    "display(df_2)\n",
    "\n",
    "print(df_2.info())"
   ]
  },
  {
   "cell_type": "markdown",
   "metadata": {},
   "source": [
    "### Третий регион"
   ]
  },
  {
   "cell_type": "code",
   "execution_count": 4,
   "metadata": {},
   "outputs": [
    {
     "data": {
      "text/html": [
       "<div>\n",
       "<style scoped>\n",
       "    .dataframe tbody tr th:only-of-type {\n",
       "        vertical-align: middle;\n",
       "    }\n",
       "\n",
       "    .dataframe tbody tr th {\n",
       "        vertical-align: top;\n",
       "    }\n",
       "\n",
       "    .dataframe thead th {\n",
       "        text-align: right;\n",
       "    }\n",
       "</style>\n",
       "<table border=\"1\" class=\"dataframe\">\n",
       "  <thead>\n",
       "    <tr style=\"text-align: right;\">\n",
       "      <th></th>\n",
       "      <th>id</th>\n",
       "      <th>f0</th>\n",
       "      <th>f1</th>\n",
       "      <th>f2</th>\n",
       "      <th>product</th>\n",
       "    </tr>\n",
       "  </thead>\n",
       "  <tbody>\n",
       "    <tr>\n",
       "      <td>0</td>\n",
       "      <td>fwXo0</td>\n",
       "      <td>-1.146987</td>\n",
       "      <td>0.963328</td>\n",
       "      <td>-0.828965</td>\n",
       "      <td>27.758673</td>\n",
       "    </tr>\n",
       "    <tr>\n",
       "      <td>1</td>\n",
       "      <td>WJtFt</td>\n",
       "      <td>0.262778</td>\n",
       "      <td>0.269839</td>\n",
       "      <td>-2.530187</td>\n",
       "      <td>56.069697</td>\n",
       "    </tr>\n",
       "    <tr>\n",
       "      <td>2</td>\n",
       "      <td>ovLUW</td>\n",
       "      <td>0.194587</td>\n",
       "      <td>0.289035</td>\n",
       "      <td>-5.586433</td>\n",
       "      <td>62.871910</td>\n",
       "    </tr>\n",
       "    <tr>\n",
       "      <td>3</td>\n",
       "      <td>q6cA6</td>\n",
       "      <td>2.236060</td>\n",
       "      <td>-0.553760</td>\n",
       "      <td>0.930038</td>\n",
       "      <td>114.572842</td>\n",
       "    </tr>\n",
       "    <tr>\n",
       "      <td>4</td>\n",
       "      <td>WPMUX</td>\n",
       "      <td>-0.515993</td>\n",
       "      <td>1.716266</td>\n",
       "      <td>5.899011</td>\n",
       "      <td>149.600746</td>\n",
       "    </tr>\n",
       "    <tr>\n",
       "      <td>...</td>\n",
       "      <td>...</td>\n",
       "      <td>...</td>\n",
       "      <td>...</td>\n",
       "      <td>...</td>\n",
       "      <td>...</td>\n",
       "    </tr>\n",
       "    <tr>\n",
       "      <td>99995</td>\n",
       "      <td>4GxBu</td>\n",
       "      <td>-1.777037</td>\n",
       "      <td>1.125220</td>\n",
       "      <td>6.263374</td>\n",
       "      <td>172.327046</td>\n",
       "    </tr>\n",
       "    <tr>\n",
       "      <td>99996</td>\n",
       "      <td>YKFjq</td>\n",
       "      <td>-1.261523</td>\n",
       "      <td>-0.894828</td>\n",
       "      <td>2.524545</td>\n",
       "      <td>138.748846</td>\n",
       "    </tr>\n",
       "    <tr>\n",
       "      <td>99997</td>\n",
       "      <td>tKPY3</td>\n",
       "      <td>-1.199934</td>\n",
       "      <td>-2.957637</td>\n",
       "      <td>5.219411</td>\n",
       "      <td>157.080080</td>\n",
       "    </tr>\n",
       "    <tr>\n",
       "      <td>99998</td>\n",
       "      <td>nmxp2</td>\n",
       "      <td>-2.419896</td>\n",
       "      <td>2.417221</td>\n",
       "      <td>-5.548444</td>\n",
       "      <td>51.795253</td>\n",
       "    </tr>\n",
       "    <tr>\n",
       "      <td>99999</td>\n",
       "      <td>V9kWn</td>\n",
       "      <td>-2.551421</td>\n",
       "      <td>-2.025625</td>\n",
       "      <td>6.090891</td>\n",
       "      <td>102.775767</td>\n",
       "    </tr>\n",
       "  </tbody>\n",
       "</table>\n",
       "<p>100000 rows × 5 columns</p>\n",
       "</div>"
      ],
      "text/plain": [
       "          id        f0        f1        f2     product\n",
       "0      fwXo0 -1.146987  0.963328 -0.828965   27.758673\n",
       "1      WJtFt  0.262778  0.269839 -2.530187   56.069697\n",
       "2      ovLUW  0.194587  0.289035 -5.586433   62.871910\n",
       "3      q6cA6  2.236060 -0.553760  0.930038  114.572842\n",
       "4      WPMUX -0.515993  1.716266  5.899011  149.600746\n",
       "...      ...       ...       ...       ...         ...\n",
       "99995  4GxBu -1.777037  1.125220  6.263374  172.327046\n",
       "99996  YKFjq -1.261523 -0.894828  2.524545  138.748846\n",
       "99997  tKPY3 -1.199934 -2.957637  5.219411  157.080080\n",
       "99998  nmxp2 -2.419896  2.417221 -5.548444   51.795253\n",
       "99999  V9kWn -2.551421 -2.025625  6.090891  102.775767\n",
       "\n",
       "[100000 rows x 5 columns]"
      ]
     },
     "metadata": {},
     "output_type": "display_data"
    },
    {
     "name": "stdout",
     "output_type": "stream",
     "text": [
      "<class 'pandas.core.frame.DataFrame'>\n",
      "RangeIndex: 100000 entries, 0 to 99999\n",
      "Data columns (total 5 columns):\n",
      "id         100000 non-null object\n",
      "f0         100000 non-null float64\n",
      "f1         100000 non-null float64\n",
      "f2         100000 non-null float64\n",
      "product    100000 non-null float64\n",
      "dtypes: float64(4), object(1)\n",
      "memory usage: 3.8+ MB\n",
      "None\n"
     ]
    }
   ],
   "source": [
    "df_3 = pd.read_csv('geo_data_2.csv')\n",
    "display(df_3)\n",
    "\n",
    "print(df_3.info())"
   ]
  },
  {
   "cell_type": "markdown",
   "metadata": {},
   "source": [
    "<font size=\"4\"><b>Описание данных в таблицах</b></font>\n",
    "\n",
    "<b>Признаки:</b>\n",
    "\n",
    "•\tid — уникальный идентификатор скважины;\n",
    "\n",
    "•\tf0, f1, f2 — три признака точек (неважно, что они означают, но сами признаки значимы);\n",
    "\n",
    "•\tproduct — объём запасов в скважине (тыс. баррелей)."
   ]
  },
  {
   "cell_type": "markdown",
   "metadata": {},
   "source": [
    "<b>Вывод</b>\n",
    "\n",
    "После изучения и подготовки данных можно сказать:\n",
    "\n",
    "- 3 таблицы данных соответствуют данным о трех регионах. Каждая таблица включает 100 000 строк данных о скважинах, а также  включает 5 столбцов;\n",
    "\n",
    "- пропусков во всех трех таблицах нет;\n",
    "\n",
    "- данные приведены к нужным типам данных;\n",
    "\n",
    "- таблицы будут включать 2 набора данных: признаки - столбцы 'id', 'f0', 'f1' и 'f2', а также целевой признак столбец 'product';\n",
    "\n",
    "- в данном случае для обучения подойдет модель линейная регрессия."
   ]
  },
  {
   "cell_type": "markdown",
   "metadata": {},
   "source": [
    "## 2 Обучение и проверка модели для каждого региона"
   ]
  },
  {
   "cell_type": "markdown",
   "metadata": {},
   "source": [
    "### 2.1 Первый регион"
   ]
  },
  {
   "cell_type": "markdown",
   "metadata": {},
   "source": [
    "#### Разобьем данные на обучающую и валидационную выборки"
   ]
  },
  {
   "cell_type": "code",
   "execution_count": 5,
   "metadata": {},
   "outputs": [],
   "source": [
    "features_1 = df_1.drop(['id', 'product'], axis=1)\n",
    "target_1 = df_1['product']"
   ]
  },
  {
   "cell_type": "code",
   "execution_count": 6,
   "metadata": {},
   "outputs": [],
   "source": [
    "# разбиение на тренировочную и валидационную выборки\n",
    "features_train_1, features_valid_1, target_train_1, target_valid_1 = train_test_split(\n",
    "    features_1, target_1, test_size=.25, random_state=12345)"
   ]
  },
  {
   "cell_type": "markdown",
   "metadata": {},
   "source": [
    "#### Обучим модель и сделайте предсказания на валидационной выборке"
   ]
  },
  {
   "cell_type": "code",
   "execution_count": 7,
   "metadata": {},
   "outputs": [
    {
     "data": {
      "text/plain": [
       "array([ 95.89495185,  77.57258261,  77.89263965, ...,  61.50983303,\n",
       "       118.18039721, 118.16939229])"
      ]
     },
     "metadata": {},
     "output_type": "display_data"
    }
   ],
   "source": [
    "# обучение модели линейной регрессии и проведем предсказание на валидационной выборке\n",
    "model = LinearRegression()\n",
    "model.fit(features_train_1, target_train_1)\n",
    "predict_valid_1 = model.predict(features_valid_1)\n",
    "display(predict_valid_1)"
   ]
  },
  {
   "cell_type": "markdown",
   "metadata": {},
   "source": [
    "#### Подсчитаем средний запас предсказанного сырья и RMSE модели"
   ]
  },
  {
   "cell_type": "code",
   "execution_count": 8,
   "metadata": {},
   "outputs": [
    {
     "name": "stdout",
     "output_type": "stream",
     "text": [
      "Средний запас предсказанного сырья в первом регионе: 92.59256778438038\n",
      "Средний запас сырья в первом регионе по таблице: 92.50000000000001\n"
     ]
    }
   ],
   "source": [
    "# подсчитаем средний запас\n",
    "reserve_predict_1 = predict_valid_1.mean()\n",
    "print('Средний запас предсказанного сырья в первом регионе:', reserve_predict_1)\n",
    "print('Средний запас сырья в первом регионе по таблице:', df_1['product'].mean())"
   ]
  },
  {
   "cell_type": "code",
   "execution_count": 9,
   "metadata": {},
   "outputs": [
    {
     "name": "stdout",
     "output_type": "stream",
     "text": [
      "RMSE: 37.5794217150813\n",
      "MAE: 30.919600777151313\n"
     ]
    }
   ],
   "source": [
    "# посчитаем RMSE модели\n",
    "rmse_1 = mean_squared_error(target_valid_1, predict_valid_1) ** 0.5\n",
    "print('RMSE:', rmse_1)\n",
    "\n",
    "# посчитаем среднее абсолютное отклонение модели\n",
    "mae_1 = mean_absolute_error(target_valid_1, predict_valid_1)\n",
    "print('MAE:', mae_1)"
   ]
  },
  {
   "cell_type": "code",
   "execution_count": 10,
   "metadata": {},
   "outputs": [
    {
     "name": "stdout",
     "output_type": "stream",
     "text": [
      "R2: 0.27994321524487786\n"
     ]
    }
   ],
   "source": [
    "# посчитаем метрику R2\n",
    "r2_1 = r2_score(target_valid_1, predict_valid_1)\n",
    "print('R2:', r2_1)"
   ]
  },
  {
   "cell_type": "markdown",
   "metadata": {},
   "source": [
    "### 2.2 Второй регион"
   ]
  },
  {
   "cell_type": "markdown",
   "metadata": {},
   "source": [
    "#### Разобьем данные на обучающую и валидационную выборки"
   ]
  },
  {
   "cell_type": "code",
   "execution_count": 11,
   "metadata": {},
   "outputs": [],
   "source": [
    "# разбиение данных на признаки и целевой признак\n",
    "features_2 = df_2.drop(['id', 'product'], axis=1)\n",
    "target_2 = df_2['product']"
   ]
  },
  {
   "cell_type": "code",
   "execution_count": 12,
   "metadata": {},
   "outputs": [],
   "source": [
    "# разбиение на тренировочную и валидационную выборки\n",
    "features_train_2, features_valid_2, target_train_2, target_valid_2 = train_test_split(\n",
    "    features_2, target_2, test_size=.25, random_state=12345)"
   ]
  },
  {
   "cell_type": "markdown",
   "metadata": {},
   "source": [
    "#### Обучим модель и сделаем предсказания на валидационной выборке"
   ]
  },
  {
   "cell_type": "code",
   "execution_count": 13,
   "metadata": {},
   "outputs": [
    {
     "data": {
      "text/plain": [
       "array([ 82.66331365,  54.43178616,  29.74875995, ..., 137.87934053,\n",
       "        83.76196568,  53.95846638])"
      ]
     },
     "metadata": {},
     "output_type": "display_data"
    }
   ],
   "source": [
    "# обучение модели линейной регрессии и проведем предсказание на валидационной выборке\n",
    "model = LinearRegression()\n",
    "model.fit(features_train_2, target_train_2)\n",
    "predict_valid_2 = model.predict(features_valid_2)\n",
    "display(predict_valid_2)"
   ]
  },
  {
   "cell_type": "markdown",
   "metadata": {},
   "source": [
    "#### Подсчитаем средний запас предсказанного сырья и RMSE модели"
   ]
  },
  {
   "cell_type": "code",
   "execution_count": 14,
   "metadata": {},
   "outputs": [
    {
     "name": "stdout",
     "output_type": "stream",
     "text": [
      "Средний запас предсказанного сырья во втором регионе: 68.72854689544602\n",
      "Средний запас сырья во втором регионе по таблице: 68.82500000000002\n"
     ]
    }
   ],
   "source": [
    "# подсчитаем средний запас\n",
    "reserve_predict_2 = predict_valid_2.mean()\n",
    "print('Средний запас предсказанного сырья во втором регионе:', reserve_predict_2)\n",
    "print('Средний запас сырья во втором регионе по таблице:', df_2['product'].mean())"
   ]
  },
  {
   "cell_type": "code",
   "execution_count": 15,
   "metadata": {},
   "outputs": [
    {
     "name": "stdout",
     "output_type": "stream",
     "text": [
      "RMSE: 0.8930992867756155\n",
      "MAE: 0.718766244212475\n"
     ]
    }
   ],
   "source": [
    "# посчитаем RMSE модели\n",
    "rmse_2 = mean_squared_error(target_valid_2, predict_valid_2) ** 0.5\n",
    "print('RMSE:',rmse_2)\n",
    "\n",
    "# посчитаем среднее абсолютное отклонение модели\n",
    "mae_2 = mean_absolute_error(target_valid_2, predict_valid_2)\n",
    "print('MAE:', mae_2)"
   ]
  },
  {
   "cell_type": "code",
   "execution_count": 16,
   "metadata": {},
   "outputs": [
    {
     "name": "stdout",
     "output_type": "stream",
     "text": [
      "R2: 0.9996233978805127\n"
     ]
    }
   ],
   "source": [
    "# посчитаем метрику R2\n",
    "r2_2 = r2_score(target_valid_2, predict_valid_2)\n",
    "print('R2:', r2_2)"
   ]
  },
  {
   "cell_type": "markdown",
   "metadata": {},
   "source": [
    "### 2.3 Третий регион"
   ]
  },
  {
   "cell_type": "markdown",
   "metadata": {},
   "source": [
    "#### Разобьем данные на обучающую и валидационную выборки"
   ]
  },
  {
   "cell_type": "code",
   "execution_count": 17,
   "metadata": {},
   "outputs": [],
   "source": [
    "# разбиение данных на признаки и целевой признак\n",
    "features_3 = df_3.drop(['id', 'product'], axis=1)\n",
    "target_3 = df_3['product']"
   ]
  },
  {
   "cell_type": "code",
   "execution_count": 18,
   "metadata": {},
   "outputs": [],
   "source": [
    "# разбиение на тренировочную и валидационную выборки\n",
    "features_train_3, features_valid_3, target_train_3, target_valid_3 = train_test_split(\n",
    "    features_3, target_3, test_size=.25, random_state=12345)"
   ]
  },
  {
   "cell_type": "markdown",
   "metadata": {},
   "source": [
    "#### Обучим модель и сделайте предсказания на валидационной выборке"
   ]
  },
  {
   "cell_type": "code",
   "execution_count": 19,
   "metadata": {},
   "outputs": [],
   "source": [
    "# обучение модели линейной регрессии и проведем предсказание на валидационной выборке\n",
    "model = LinearRegression()\n",
    "model.fit(features_train_3, target_train_3)\n",
    "predict_valid_3 = model.predict(features_valid_3)"
   ]
  },
  {
   "cell_type": "markdown",
   "metadata": {},
   "source": [
    "#### Подсчитаем средний запас предсказанного сырья и RMSE модели"
   ]
  },
  {
   "cell_type": "code",
   "execution_count": 20,
   "metadata": {},
   "outputs": [
    {
     "name": "stdout",
     "output_type": "stream",
     "text": [
      "Средний запас предсказанного сырья в третьем регионе: 94.96504596800489\n",
      "Средний запас сырья в третьем регионе по таблице: 95.00000000000004\n"
     ]
    }
   ],
   "source": [
    "# подсчитаем средний запас\n",
    "reserve_predict_3 = predict_valid_3.mean()\n",
    "print('Средний запас предсказанного сырья в третьем регионе:', reserve_predict_3)\n",
    "print('Средний запас сырья в третьем регионе по таблице:', df_3['product'].mean())"
   ]
  },
  {
   "cell_type": "code",
   "execution_count": 21,
   "metadata": {},
   "outputs": [
    {
     "name": "stdout",
     "output_type": "stream",
     "text": [
      "RMSE: 40.02970873393434\n",
      "MAE: 32.792652105481814\n"
     ]
    }
   ],
   "source": [
    "# посчитаем RMSE модели\n",
    "rmse_3 = mean_squared_error(target_valid_3, predict_valid_3) ** 0.5\n",
    "print('RMSE:', rmse_3)\n",
    "\n",
    "# посчитаем среднее абсолютное отклонение модели\n",
    "mae_3 = mean_absolute_error(target_valid_3, predict_valid_3)\n",
    "print('MAE:', mae_3)"
   ]
  },
  {
   "cell_type": "code",
   "execution_count": 22,
   "metadata": {},
   "outputs": [
    {
     "name": "stdout",
     "output_type": "stream",
     "text": [
      "R2: 0.20524758386040443\n"
     ]
    }
   ],
   "source": [
    "# посчитаем метрику R2\n",
    "r2_3 = r2_score(target_valid_3, predict_valid_3)\n",
    "print('R2:', r2_3)"
   ]
  },
  {
   "cell_type": "markdown",
   "metadata": {},
   "source": [
    "<b>Вывод</b>\n",
    "\n",
    "Входе обучения и предсказаний модели Линейная регресия на данных 3-х регионов, получены результаты:\n",
    "\n",
    "- для каждого региона просчитаны метрики RMSE, MAE и R2;\n",
    "\n",
    "- для первого и третьего регионов метрики RMSE и MAE выдали довольно большие ошибки, при этом для второго региона RMSE и MAE выдали очень маленькую ошибку. Модель Линейная регрессия в расчетах для второго региона показала качество близкое к идеальной модели, это же подствердила метрика R2 практически равная 1 (точнее - 0.9996). R2 для моделей, использовавшихся для первого и третьего региона говорят о том, что модель далека от идеальной, но она значительно лучше средного;\n",
    "\n",
    "- несмотря на большие значения ошибок RMSE и MAE и достаточно большое отличие для первой и третьей моделей значений ответов и предсказаний, значения средних запасов предсказанного сырья очень близки к средним значения запасов сырья в целевом признаке данных;\n",
    "\n",
    "- расчеты RMSE и MAE показали, что нахождение средней абсолютной ошибки (MAE) точнее корня из средней квадратчной ошибки (RMSE)."
   ]
  },
  {
   "cell_type": "markdown",
   "metadata": {},
   "source": [
    "## 3 Подготовка к расчёту прибыли"
   ]
  },
  {
   "cell_type": "markdown",
   "metadata": {},
   "source": [
    "### 3.1 Сохраним ключевые значения для расчётов в отдельных переменных"
   ]
  },
  {
   "cell_type": "code",
   "execution_count": 23,
   "metadata": {},
   "outputs": [],
   "source": [
    "EXPENSES = 10**10 # бюджет на разработку скважин в регионе, он же порог безубыточности с 200 скважин\n",
    "SELECT_WELL = 200 # количество выбираемых скважин\n",
    "CRUDE_PRICE = 450_000 # стоимость 1 единицы сырья"
   ]
  },
  {
   "cell_type": "markdown",
   "metadata": {},
   "source": [
    "### 3.2 Рассчитаем достаточный объём сырья для безубыточной разработки новой скважины. "
   ]
  },
  {
   "cell_type": "markdown",
   "metadata": {},
   "source": [
    "Для расчета среднего объема сырья для безубыточной разработки новой скважины проведем вычисления:\n",
    "\n",
    "1. Доход от 200 выбранных скважин должен быть не меньше 10 млрд. руб.;\n",
    "2. Соответственно доход с одной скважины должен быть в среднем не менее 10**9 / 200 = 50 млн. руб.\n",
    "3. Средний объем сырья получаемый с одной скважины не менее 50 млн. руб. / 450 тыс. руб. = 111.1111 тыс. баррелей"
   ]
  },
  {
   "cell_type": "code",
   "execution_count": 24,
   "metadata": {
    "scrolled": true
   },
   "outputs": [
    {
     "name": "stdout",
     "output_type": "stream",
     "text": [
      "Достаточный объём сырья для безубыточной разработки новой скважины: 111.11111111111111 тыс. баррелей\n"
     ]
    }
   ],
   "source": [
    "mean_income_well = EXPENSES / SELECT_WELL / CRUDE_PRICE\n",
    "print(f'Достаточный объём сырья для безубыточной разработки новой скважины: {mean_income_well} тыс. баррелей')"
   ]
  },
  {
   "cell_type": "markdown",
   "metadata": {},
   "source": [
    "<b>Вывод</b>\n",
    "\n",
    "В данном пункте проведен расчет достаточный объем сырья для безубыточной разработки новой скважины и получено значение 111.1111 тыс. баррелей.\n",
    "Средний запас предсказанного сырья в первом регионе: 92 тыс. баррелей, во втором регионе: 68 тыс. баррелей, в третьем регионе: 94,9 тыс. баррелей. Ни в одном регионе уровень среднего значения объем сырья с одной скважины не дотягивает до безубыточного уровня."
   ]
  },
  {
   "cell_type": "markdown",
   "metadata": {},
   "source": [
    "### 3.3 Напишем функцию для расчёта прибыли по выбранным скважинам и предсказаниям модели"
   ]
  },
  {
   "cell_type": "markdown",
   "metadata": {},
   "source": [
    "<b>При написании данной функции будут браться предсказания, проведена их сортировка по убыванию, отобраны 200 лучших скважин по объему ресурса, а затем с помощью формулы подсчитана прибыль с данных 200 скважин.\n",
    "    \n",
    "Далее данная функция будет применена к каждому региону.</b>"
   ]
  },
  {
   "cell_type": "code",
   "execution_count": 26,
   "metadata": {},
   "outputs": [],
   "source": [
    "# функция для расчёта прибыли по выбранным скважинам \n",
    "# данная функция будет также использована при прогнозировании техникой Bootstrap\n",
    "def total_income_target(count_well, target, predictions):\n",
    "    predictions = pd.Series(predictions).sort_values(ascending=False)\n",
    "    well_list_target = target[predictions.index][:count_well]\n",
    "    return sum(well_list_target) * CRUDE_PRICE - EXPENSES"
   ]
  },
  {
   "cell_type": "markdown",
   "metadata": {},
   "source": [
    "### 3.4 Подсчет прибыли от разработки выбранных скважин в первом регионе"
   ]
  },
  {
   "cell_type": "code",
   "execution_count": 27,
   "metadata": {},
   "outputs": [],
   "source": [
    "target_valid_1 = target_valid_1.reset_index(drop=True)\n",
    "target_valid_2 = target_valid_2.reset_index(drop=True)\n",
    "target_valid_3 = target_valid_3.reset_index(drop=True)"
   ]
  },
  {
   "cell_type": "code",
   "execution_count": 28,
   "metadata": {},
   "outputs": [
    {
     "name": "stdout",
     "output_type": "stream",
     "text": [
      "Прибыль по выбранным скважинам в первом регионе: 3320826043.1398544\n"
     ]
    }
   ],
   "source": [
    "total_income_1 = total_income_target(SELECT_WELL, target_valid_1, predict_valid_1) # использована новая функция\n",
    "print(f'Прибыль по выбранным скважинам в первом регионе: { total_income_1}')"
   ]
  },
  {
   "cell_type": "markdown",
   "metadata": {},
   "source": [
    "### 3.5 Подсчет прибыли от разработки выбранных скважин во втором регионе"
   ]
  },
  {
   "cell_type": "code",
   "execution_count": 29,
   "metadata": {
    "scrolled": true
   },
   "outputs": [
    {
     "name": "stdout",
     "output_type": "stream",
     "text": [
      "Прибыль по выбранным скважинам во втором регионе: 2415086696.681551\n"
     ]
    }
   ],
   "source": [
    "#total_income_2 = total_income(select_well, predict_valid_2)\n",
    "\n",
    "total_income_2 = total_income_target(SELECT_WELL, target_valid_2, predict_valid_2) # использована новая функция\n",
    "print(f'Прибыль по выбранным скважинам во втором регионе: { total_income_2}')"
   ]
  },
  {
   "cell_type": "markdown",
   "metadata": {},
   "source": [
    "### 3.6 Подсчет прибыли от разработки выбранных скважин в третьем регионе"
   ]
  },
  {
   "cell_type": "code",
   "execution_count": 30,
   "metadata": {},
   "outputs": [
    {
     "name": "stdout",
     "output_type": "stream",
     "text": [
      "Прибыль по выбранным скважинам во втором регионе: 2710349963.5998363\n"
     ]
    }
   ],
   "source": [
    "#total_income_3 = total_income(select_well, predict_valid_3)\n",
    "\n",
    "total_income_3 = total_income_target(SELECT_WELL, target_valid_3, predict_valid_3) # использована новая функция\n",
    "print(f'Прибыль по выбранным скважинам во втором регионе: { total_income_3}')"
   ]
  },
  {
   "cell_type": "markdown",
   "metadata": {},
   "source": [
    "<b>Вывод</b>\n",
    "\n",
    "По результатам подсчета прибыли от разработки скважин <b>лидирует первый регион</b> с максимальной суммарной прибылью отобранных скважин - <b>3.320 млрд. руб</b>.\n",
    "Наименьшее значение суммарной прибыи отобранных скважин наблюдается во втором регионе со значением - 2.415 млрд. руб."
   ]
  },
  {
   "cell_type": "markdown",
   "metadata": {},
   "source": [
    "## 4 Проанализируем возможную прибыль и риски техникой Bootstrap для каждого региона"
   ]
  },
  {
   "cell_type": "markdown",
   "metadata": {},
   "source": [
    "### 4.1 Применим технику Bootstrap с 1000 выборок, чтобы найти распределение прибыли в каждом регионе"
   ]
  },
  {
   "cell_type": "markdown",
   "metadata": {},
   "source": [
    "#### Используем функция для расчета прибыли с 200 лучших скважин по значениям в целевом признаке валидационной выборки "
   ]
  },
  {
   "cell_type": "markdown",
   "metadata": {},
   "source": [
    "<b>На вход функции подаются целевой признак валидационной выборки (target_valid), предсказания и нужное количество лучших скважин. \n",
    "    \n",
    "В ходе выполнения данной функции будут браться предсказания, проведена их сортировка, отбор 200 скважин из целевого признака валидационной выборки соответствующих индексам 200 лучших скважин по предсказаниям. Затем с помощью формулы будет подсчитана прибыль с данных 200 скважин.\n",
    "    \n",
    "Далее данная функция будет применена к каждому региону.</b>"
   ]
  },
  {
   "cell_type": "code",
   "execution_count": 31,
   "metadata": {},
   "outputs": [],
   "source": [
    "def total_income_target(count_well, target, predictions):\n",
    "    predictions = pd.Series(predictions).sort_values(ascending=False)\n",
    "    well_list_target = target[predictions.index][:count_well]\n",
    "    return sum(well_list_target) * CRUDE_PRICE - EXPENSES"
   ]
  },
  {
   "cell_type": "markdown",
   "metadata": {},
   "source": [
    "#### Проанализируем прибыли от разработки выбранных скважин в первом регионе"
   ]
  },
  {
   "cell_type": "code",
   "execution_count": 32,
   "metadata": {
    "scrolled": true
   },
   "outputs": [
    {
     "data": {
      "text/plain": [
       "<function matplotlib.pyplot.show(close=None, block=None)>"
      ]
     },
     "execution_count": 32,
     "metadata": {},
     "output_type": "execute_result"
    },
    {
     "data": {
      "image/png": "[encoded data removed]",
      "text/plain": [
       "<Figure size 432x288 with 1 Axes>"
      ]
     },
     "metadata": {
      "needs_background": "light"
     },
     "output_type": "display_data"
    }
   ],
   "source": [
    "state = RandomState(12345)\n",
    "\n",
    "total_incomes_1 = [] # массив значений прибыли со всех сэмплов\n",
    "count_1 = 0 # подсчет количества 0 и отрицательных прибылей в сэмплах\n",
    "for i in range(1000):\n",
    "    sub_predict_1 = pd.Series(predict_valid_1).sample(n=500, replace=True, random_state=state)\n",
    "    sub_target_1 = target_valid_1[sub_predict_1.index]\n",
    "    total_income_targ_1 = total_income_target(200, sub_target_1, sub_predict_1)\n",
    "    total_incomes_1.append(total_income_targ_1)\n",
    "    if total_income_targ_1 <= 0:\n",
    "        count_1 += 1        \n",
    "\n",
    "# построим гистограмму распределения прибылей с 1000 сэмплов\n",
    "total_incomes_1 = pd.Series(total_incomes_1)\n",
    "total_incomes_1.plot(kind = 'hist', bins=12, grid=True, title='Гистограмма распределения прибыли в первом регионе')\n",
    "plt.show"
   ]
  },
  {
   "cell_type": "markdown",
   "metadata": {},
   "source": [
    "#### Проанализируем прибыли от разработки выбранных скважин во втором регионе"
   ]
  },
  {
   "cell_type": "code",
   "execution_count": 33,
   "metadata": {},
   "outputs": [
    {
     "data": {
      "text/plain": [
       "<function matplotlib.pyplot.show(close=None, block=None)>"
      ]
     },
     "execution_count": 33,
     "metadata": {},
     "output_type": "execute_result"
    },
    {
     "data": {
      "image/png": "[encoded data removed]",
      "text/plain": [
       "<Figure size 432x288 with 1 Axes>"
      ]
     },
     "metadata": {
      "needs_background": "light"
     },
     "output_type": "display_data"
    }
   ],
   "source": [
    "state = RandomState(12345)\n",
    "\n",
    "total_incomes_2 = [] # массив значений прибыли со всех сэмплов\n",
    "count_2 = 0 # подсчет количества 0 и отрицательных прибылей в сэмплах\n",
    "for i in range(1000):\n",
    "    sub_predict_2 = pd.Series(predict_valid_2).sample(n=500, replace=True, random_state=state)\n",
    "    sub_target_2 = target_valid_2[sub_predict_2.index]\n",
    "    total_income_targ_2 = total_income_target(200, sub_target_2, sub_predict_2)\n",
    "    total_incomes_2.append(total_income_targ_2)\n",
    "    if total_income_targ_2 <= 0:\n",
    "        count_2 += 1        \n",
    "\n",
    "# построим гистограмму распределения прибылей с 1000 сэмплов\n",
    "total_incomes_2 = pd.Series(total_incomes_2)\n",
    "total_incomes_2.plot(kind = 'hist', bins=12, grid=True, title='Гистограмма распределения прибыли во втором регионе')\n",
    "plt.show"
   ]
  },
  {
   "cell_type": "markdown",
   "metadata": {},
   "source": [
    "#### Проанализируем прибыли от разработки выбранных скважин в третьем регионе"
   ]
  },
  {
   "cell_type": "code",
   "execution_count": 34,
   "metadata": {},
   "outputs": [
    {
     "data": {
      "text/plain": [
       "<function matplotlib.pyplot.show(close=None, block=None)>"
      ]
     },
     "execution_count": 34,
     "metadata": {},
     "output_type": "execute_result"
    },
    {
     "data": {
      "image/png": "[encoded data removed]",
      "text/plain": [
       "<Figure size 432x288 with 1 Axes>"
      ]
     },
     "metadata": {
      "needs_background": "light"
     },
     "output_type": "display_data"
    }
   ],
   "source": [
    "state = RandomState(12345)\n",
    "\n",
    "total_incomes_3 = [] # массив значений прибыли со всех сэмплов\n",
    "count_3 = 0 # подсчет количества 0 и отрицательных прибылей в сэмплах\n",
    "for i in range(1000):\n",
    "    sub_predict_3 = pd.Series(predict_valid_3).sample(n=500, replace=True, random_state=state)\n",
    "    sub_target_3 = target_valid_3[sub_predict_3.index]\n",
    "    total_income_targ_3 = total_income_target(200, sub_target_3, sub_predict_3)\n",
    "    total_incomes_3.append(total_income_targ_3)\n",
    "    if total_income_targ_3 <= 0:\n",
    "        count_3 += 1        \n",
    "\n",
    "# построим гистограмму распределения прибылей с 1000 сэмплов\n",
    "total_incomes_3 = pd.Series(total_incomes_3)\n",
    "total_incomes_3.plot(kind = 'hist', bins=12, grid=True, title='Гистограмма распределения прибыли в третьем регионе')\n",
    "plt.show"
   ]
  },
  {
   "cell_type": "markdown",
   "metadata": {},
   "source": [
    "### 4.2 Найдем среднюю прибыль, 95%-й доверительный интервал и риск убытков для каждого региона"
   ]
  },
  {
   "cell_type": "markdown",
   "metadata": {},
   "source": [
    "#### Найдем среднюю прибыль, 95%-й доверительный интервал и риск убытков для первого региона"
   ]
  },
  {
   "cell_type": "code",
   "execution_count": 35,
   "metadata": {},
   "outputs": [
    {
     "name": "stdout",
     "output_type": "stream",
     "text": [
      "Средняя прибыль с выбранных 200 скважин в первом регионе: 425938526.9105928 руб.\n",
      "95%-й доверительный интервал составляет: -102090094.83793645 - 947976353.3583689 руб.\n",
      "Риск убытков при разработке скважин в первом регионе (1-й способ): 0.06 %\n",
      "Риск убытков при разработке скважин в первом регионе (2-й способ): 0.06 %\n"
     ]
    }
   ],
   "source": [
    "# Найдем среднюю прибыль\n",
    "total_incomes_mean_1 = total_incomes_1.mean()\n",
    "print(f'Средняя прибыль с выбранных 200 скважин в первом регионе: { total_incomes_mean_1} руб.')\n",
    "\n",
    "# Найдем 95%-й доверительный интервал\n",
    "lower = total_incomes_1.quantile(q=.025)\n",
    "upper = total_incomes_1.quantile(q=.975)\n",
    "print(f'95%-й доверительный интервал составляет: {lower} - { upper } руб.')\n",
    "\n",
    "# Найдем риск убытков (долю убыточных сэмплов)\n",
    "loss_1 = count_1 / 1000 * 100 # первый способ нахождения риска\n",
    "loss_1_v = (total_incomes_1 < 0).mean() # второй способ нахождения риска\n",
    "\n",
    "print(f'Риск убытков при разработке скважин в первом регионе (1-й способ): {loss_1_v} %')\n",
    "print(f'Риск убытков при разработке скважин в первом регионе (2-й способ): {loss_1_v} %')"
   ]
  },
  {
   "cell_type": "markdown",
   "metadata": {},
   "source": [
    "#### Найдем среднюю прибыль, 95%-й доверительный интервал и риск убытков для второго региона"
   ]
  },
  {
   "cell_type": "code",
   "execution_count": 41,
   "metadata": {},
   "outputs": [
    {
     "name": "stdout",
     "output_type": "stream",
     "text": [
      "Средняя прибыль с выбранных 200 скважин во втором регионе: 515222773.4433127 руб.\n",
      "95%-й доверительный интервал составляет: 68873225.37051702 - 931547591.2570724 руб.\n",
      "Риск убытков при разработке скважин во втором регионе: 1.0 %\n"
     ]
    }
   ],
   "source": [
    "# Найдем среднюю прибыль\n",
    "total_incomes_mean_2 = total_incomes_2.mean()\n",
    "print(f'Средняя прибыль с выбранных 200 скважин во втором регионе: { total_incomes_mean_2} руб.')\n",
    "\n",
    "# Найдем 95%-й доверительный интервал\n",
    "lower = total_incomes_2.quantile(q=.025)\n",
    "upper = total_incomes_2.quantile(q=.975)\n",
    "print(f'95%-й доверительный интервал составляет: {lower} - { upper } руб.')\n",
    "\n",
    "# Найдем риск убытков (долю убыточных сэмплов)\n",
    "loss_2 = count_2 / 1000 * 100\n",
    "\n",
    "print(f'Риск убытков при разработке скважин во втором регионе: {loss_2} %')"
   ]
  },
  {
   "cell_type": "markdown",
   "metadata": {},
   "source": [
    "#### Найдем среднюю прибыль, 95%-й доверительный интервал и риск убытков для третьего региона"
   ]
  },
  {
   "cell_type": "code",
   "execution_count": 42,
   "metadata": {},
   "outputs": [
    {
     "name": "stdout",
     "output_type": "stream",
     "text": [
      "Средняя прибыль с выбранных 200 скважин в третьем регионе: 435008362.7827563 руб.\n",
      "95%-й доверительный интервал составляет: -128880547.32978535 - 969706954.1802661 руб.\n",
      "Риск убытков при разработке скважин в третьем регионе: 6.4 %\n"
     ]
    }
   ],
   "source": [
    "# Найдем среднюю прибыль\n",
    "total_incomes_mean_3 = total_incomes_3.mean()\n",
    "print(f'Средняя прибыль с выбранных 200 скважин в третьем регионе: { total_incomes_mean_3} руб.')\n",
    "\n",
    "# Найдем 95%-й доверительный интервал\n",
    "lower = total_incomes_3.quantile(q=.025)\n",
    "upper = total_incomes_3.quantile(q=.975)\n",
    "print(f'95%-й доверительный интервал составляет: {lower} - { upper } руб.')\n",
    "\n",
    "# Найдем риск убытков (долю убыточных сэмплов)\n",
    "loss_3 = count_3 / 1000 * 100\n",
    "\n",
    "print(f'Риск убытков при разработке скважин в третьем регионе: {loss_3} %')"
   ]
  },
  {
   "cell_type": "markdown",
   "metadata": {},
   "source": [
    "### 5 Предложения по выбору региона для разработки скважин"
   ]
  },
  {
   "cell_type": "markdown",
   "metadata": {},
   "source": [
    "<font size=\"4\"><b>Предложения и Общий вывод</b></font>\n",
    "\n",
    "В результате проведенного анализа возможной прибыли и рисков разработки скважин в трех представленных регионах с помощью техники Bootstrap, <b>можно порекомендовать для освоения второй регион</b>.\n",
    "\n",
    "Данный регион характеризуется наибольшим значением среднего уровеня добычи ресурсов из трех регионов - 515 222 773 руб. (515.2 млн. руб.). Кроме того, риск убытков при разработке скважин в данном регионе имеет наименьшее значение из трех регионов - 1.0 %."
   ]
  }
 ],
 "metadata": {
  "ExecuteTimeLog": [
   {
    "duration": 3482,
    "start_time": "2022-07-03T11:55:18.134Z"
   },
   {
    "duration": 1574,
    "start_time": "2022-07-03T12:03:47.698Z"
   },
   {
    "duration": 278,
    "start_time": "2022-07-03T12:38:59.122Z"
   },
   {
    "duration": 451,
    "start_time": "2022-07-03T12:40:16.457Z"
   },
   {
    "duration": 294,
    "start_time": "2022-07-03T12:41:38.658Z"
   },
   {
    "duration": 313,
    "start_time": "2022-07-03T12:42:59.390Z"
   },
   {
    "duration": 707,
    "start_time": "2022-07-03T12:47:00.341Z"
   },
   {
    "duration": 416,
    "start_time": "2022-07-03T12:47:13.892Z"
   },
   {
    "duration": 1531,
    "start_time": "2022-07-03T14:03:17.964Z"
   },
   {
    "duration": 904,
    "start_time": "2022-07-03T14:03:19.497Z"
   },
   {
    "duration": 10,
    "start_time": "2022-07-03T14:03:24.640Z"
   },
   {
    "duration": 158,
    "start_time": "2022-07-03T14:04:31.205Z"
   },
   {
    "duration": 21,
    "start_time": "2022-07-03T14:24:42.839Z"
   },
   {
    "duration": 6,
    "start_time": "2022-07-03T14:25:22.956Z"
   },
   {
    "duration": 22,
    "start_time": "2022-07-03T14:25:37.507Z"
   },
   {
    "duration": 106,
    "start_time": "2022-07-03T14:36:27.486Z"
   },
   {
    "duration": 1532,
    "start_time": "2022-07-03T14:36:58.788Z"
   },
   {
    "duration": 161,
    "start_time": "2022-07-03T14:37:00.322Z"
   },
   {
    "duration": 656,
    "start_time": "2022-07-03T14:37:00.485Z"
   },
   {
    "duration": 596,
    "start_time": "2022-07-03T14:37:01.143Z"
   },
   {
    "duration": 6,
    "start_time": "2022-07-03T14:37:01.741Z"
   },
   {
    "duration": 38,
    "start_time": "2022-07-03T14:37:01.749Z"
   },
   {
    "duration": 185,
    "start_time": "2022-07-03T14:37:01.789Z"
   },
   {
    "duration": 51,
    "start_time": "2022-07-03T14:37:41.814Z"
   },
   {
    "duration": 6,
    "start_time": "2022-07-03T14:59:54.474Z"
   },
   {
    "duration": 12,
    "start_time": "2022-07-03T14:59:57.608Z"
   },
   {
    "duration": 14,
    "start_time": "2022-07-03T15:00:01.610Z"
   },
   {
    "duration": 3,
    "start_time": "2022-07-03T15:00:11.555Z"
   },
   {
    "duration": 17,
    "start_time": "2022-07-03T15:07:39.325Z"
   },
   {
    "duration": 21,
    "start_time": "2022-07-03T15:08:31.320Z"
   },
   {
    "duration": 1399,
    "start_time": "2022-07-03T15:08:54.557Z"
   },
   {
    "duration": 180,
    "start_time": "2022-07-03T15:08:55.959Z"
   },
   {
    "duration": 147,
    "start_time": "2022-07-03T15:08:56.142Z"
   },
   {
    "duration": 161,
    "start_time": "2022-07-03T15:08:56.292Z"
   },
   {
    "duration": 5,
    "start_time": "2022-07-03T15:08:56.455Z"
   },
   {
    "duration": 38,
    "start_time": "2022-07-03T15:08:56.462Z"
   },
   {
    "duration": 67,
    "start_time": "2022-07-03T15:08:56.502Z"
   },
   {
    "duration": 188,
    "start_time": "2022-07-03T15:08:56.571Z"
   },
   {
    "duration": 7,
    "start_time": "2022-07-03T15:09:00.830Z"
   },
   {
    "duration": 6,
    "start_time": "2022-07-03T15:21:11.490Z"
   },
   {
    "duration": 18,
    "start_time": "2022-07-03T15:21:53.200Z"
   },
   {
    "duration": 23,
    "start_time": "2022-07-03T15:22:31.660Z"
   },
   {
    "duration": 4,
    "start_time": "2022-07-03T15:23:03.595Z"
   },
   {
    "duration": 5,
    "start_time": "2022-07-03T15:31:36.007Z"
   },
   {
    "duration": 4,
    "start_time": "2022-07-03T15:31:49.971Z"
   },
   {
    "duration": 5,
    "start_time": "2022-07-03T15:33:28.566Z"
   },
   {
    "duration": 13,
    "start_time": "2022-07-03T15:34:05.616Z"
   },
   {
    "duration": 14,
    "start_time": "2022-07-03T15:34:25.993Z"
   },
   {
    "duration": 4,
    "start_time": "2022-07-03T15:34:57.868Z"
   },
   {
    "duration": 4,
    "start_time": "2022-07-03T15:35:32.803Z"
   },
   {
    "duration": 1407,
    "start_time": "2022-07-03T15:37:14.795Z"
   },
   {
    "duration": 156,
    "start_time": "2022-07-03T15:37:16.205Z"
   },
   {
    "duration": 170,
    "start_time": "2022-07-03T15:37:16.363Z"
   },
   {
    "duration": 181,
    "start_time": "2022-07-03T15:37:16.535Z"
   },
   {
    "duration": 106,
    "start_time": "2022-07-03T15:37:22.598Z"
   },
   {
    "duration": 7,
    "start_time": "2022-07-03T15:37:58.702Z"
   },
   {
    "duration": 22,
    "start_time": "2022-07-03T15:38:05.306Z"
   },
   {
    "duration": 131,
    "start_time": "2022-07-03T15:38:10.557Z"
   },
   {
    "duration": 34,
    "start_time": "2022-07-03T15:45:13.861Z"
   },
   {
    "duration": 12,
    "start_time": "2022-07-03T15:57:32.548Z"
   },
   {
    "duration": 1490,
    "start_time": "2022-07-03T15:57:44.400Z"
   },
   {
    "duration": 198,
    "start_time": "2022-07-03T15:57:45.892Z"
   },
   {
    "duration": 166,
    "start_time": "2022-07-03T15:57:46.093Z"
   },
   {
    "duration": 156,
    "start_time": "2022-07-03T15:57:46.261Z"
   },
   {
    "duration": 307,
    "start_time": "2022-07-03T15:57:51.753Z"
   },
   {
    "duration": 764,
    "start_time": "2022-07-03T15:58:16.044Z"
   },
   {
    "duration": 7,
    "start_time": "2022-07-03T15:58:30.817Z"
   },
   {
    "duration": 777,
    "start_time": "2022-07-03T15:59:08.544Z"
   },
   {
    "duration": 6,
    "start_time": "2022-07-03T15:59:55.570Z"
   },
   {
    "duration": 17,
    "start_time": "2022-07-03T15:59:57.318Z"
   },
   {
    "duration": 6,
    "start_time": "2022-07-03T16:01:35.698Z"
   },
   {
    "duration": 26,
    "start_time": "2022-07-03T16:01:38.003Z"
   },
   {
    "duration": 6,
    "start_time": "2022-07-03T16:01:59.154Z"
   },
   {
    "duration": 12,
    "start_time": "2022-07-03T16:02:00.986Z"
   },
   {
    "duration": 12,
    "start_time": "2022-07-03T16:02:05.687Z"
   },
   {
    "duration": 15,
    "start_time": "2022-07-03T16:02:16.388Z"
   },
   {
    "duration": 11,
    "start_time": "2022-07-03T16:02:23.025Z"
   },
   {
    "duration": 4,
    "start_time": "2022-07-03T16:02:25.683Z"
   },
   {
    "duration": 5,
    "start_time": "2022-07-03T16:05:47.163Z"
   },
   {
    "duration": 11,
    "start_time": "2022-07-03T16:05:50.607Z"
   },
   {
    "duration": 15,
    "start_time": "2022-07-03T16:05:53.596Z"
   },
   {
    "duration": 3,
    "start_time": "2022-07-03T16:06:15.351Z"
   },
   {
    "duration": 6,
    "start_time": "2022-07-03T16:06:46.615Z"
   },
   {
    "duration": 12,
    "start_time": "2022-07-03T16:07:06.286Z"
   },
   {
    "duration": 103,
    "start_time": "2022-07-03T16:09:15.010Z"
   },
   {
    "duration": 8,
    "start_time": "2022-07-03T16:09:21.268Z"
   },
   {
    "duration": 14,
    "start_time": "2022-07-03T16:13:05.526Z"
   },
   {
    "duration": 29,
    "start_time": "2022-07-03T16:13:06.758Z"
   },
   {
    "duration": 6,
    "start_time": "2022-07-03T16:13:16.571Z"
   },
   {
    "duration": 11,
    "start_time": "2022-07-03T16:13:40.439Z"
   },
   {
    "duration": 5,
    "start_time": "2022-07-03T16:13:46.239Z"
   },
   {
    "duration": 12,
    "start_time": "2022-07-03T16:13:48.176Z"
   },
   {
    "duration": 15,
    "start_time": "2022-07-03T16:13:49.802Z"
   },
   {
    "duration": 4,
    "start_time": "2022-07-03T16:13:52.943Z"
   },
   {
    "duration": 5,
    "start_time": "2022-07-03T16:14:02.660Z"
   },
   {
    "duration": 7,
    "start_time": "2022-07-03T16:19:29.320Z"
   },
   {
    "duration": 5,
    "start_time": "2022-07-03T16:19:57.807Z"
   },
   {
    "duration": 4,
    "start_time": "2022-07-03T16:20:26.070Z"
   },
   {
    "duration": 4,
    "start_time": "2022-07-03T16:20:52.859Z"
   },
   {
    "duration": 18,
    "start_time": "2022-07-03T16:23:42.973Z"
   },
   {
    "duration": 13,
    "start_time": "2022-07-03T16:24:52.683Z"
   },
   {
    "duration": 14,
    "start_time": "2022-07-03T16:25:16.040Z"
   },
   {
    "duration": 4,
    "start_time": "2022-07-03T16:29:56.656Z"
   },
   {
    "duration": 4,
    "start_time": "2022-07-03T16:31:19.674Z"
   },
   {
    "duration": 1358,
    "start_time": "2022-07-03T16:31:38.225Z"
   },
   {
    "duration": 155,
    "start_time": "2022-07-03T16:31:39.585Z"
   },
   {
    "duration": 135,
    "start_time": "2022-07-03T16:31:39.741Z"
   },
   {
    "duration": 129,
    "start_time": "2022-07-03T16:31:39.878Z"
   },
   {
    "duration": 4,
    "start_time": "2022-07-03T16:31:40.008Z"
   },
   {
    "duration": 23,
    "start_time": "2022-07-03T16:31:40.014Z"
   },
   {
    "duration": 16,
    "start_time": "2022-07-03T16:31:40.039Z"
   },
   {
    "duration": 72,
    "start_time": "2022-07-03T16:31:40.056Z"
   },
   {
    "duration": 105,
    "start_time": "2022-07-03T16:31:40.130Z"
   },
   {
    "duration": 6,
    "start_time": "2022-07-03T16:31:42.759Z"
   },
   {
    "duration": 106,
    "start_time": "2022-07-03T16:37:42.591Z"
   },
   {
    "duration": 1240,
    "start_time": "2022-07-03T16:37:53.949Z"
   },
   {
    "duration": 150,
    "start_time": "2022-07-03T16:37:55.191Z"
   },
   {
    "duration": 127,
    "start_time": "2022-07-03T16:37:55.343Z"
   },
   {
    "duration": 126,
    "start_time": "2022-07-03T16:37:55.472Z"
   },
   {
    "duration": 4,
    "start_time": "2022-07-03T16:37:55.599Z"
   },
   {
    "duration": 21,
    "start_time": "2022-07-03T16:37:55.604Z"
   },
   {
    "duration": 15,
    "start_time": "2022-07-03T16:37:55.627Z"
   },
   {
    "duration": 4,
    "start_time": "2022-07-03T16:37:55.644Z"
   },
   {
    "duration": 5,
    "start_time": "2022-07-03T16:38:00.332Z"
   },
   {
    "duration": 6,
    "start_time": "2022-07-03T16:38:02.168Z"
   },
   {
    "duration": 5,
    "start_time": "2022-07-03T16:39:38.811Z"
   },
   {
    "duration": 7,
    "start_time": "2022-07-03T16:39:40.591Z"
   },
   {
    "duration": 12,
    "start_time": "2022-07-03T16:39:42.982Z"
   },
   {
    "duration": 18,
    "start_time": "2022-07-03T16:39:43.537Z"
   },
   {
    "duration": 4,
    "start_time": "2022-07-03T16:39:48.311Z"
   },
   {
    "duration": 5,
    "start_time": "2022-07-03T16:39:50.960Z"
   },
   {
    "duration": 5,
    "start_time": "2022-07-03T16:40:37.716Z"
   },
   {
    "duration": 5,
    "start_time": "2022-07-03T16:40:40.610Z"
   },
   {
    "duration": 4,
    "start_time": "2022-07-03T17:22:28.047Z"
   },
   {
    "duration": 159,
    "start_time": "2022-07-03T17:22:28.053Z"
   },
   {
    "duration": 140,
    "start_time": "2022-07-03T17:22:28.214Z"
   },
   {
    "duration": 144,
    "start_time": "2022-07-03T17:22:28.355Z"
   },
   {
    "duration": 5,
    "start_time": "2022-07-03T17:22:28.502Z"
   },
   {
    "duration": 22,
    "start_time": "2022-07-03T17:22:28.509Z"
   },
   {
    "duration": 96,
    "start_time": "2022-07-03T17:22:28.532Z"
   },
   {
    "duration": 96,
    "start_time": "2022-07-03T17:22:28.630Z"
   },
   {
    "duration": 11,
    "start_time": "2022-07-03T17:22:28.728Z"
   },
   {
    "duration": 4,
    "start_time": "2022-07-03T17:22:28.741Z"
   },
   {
    "duration": 6,
    "start_time": "2022-07-03T17:22:28.749Z"
   },
   {
    "duration": 25,
    "start_time": "2022-07-03T17:22:28.757Z"
   },
   {
    "duration": 55,
    "start_time": "2022-07-03T17:22:28.784Z"
   },
   {
    "duration": 6,
    "start_time": "2022-07-03T17:22:28.924Z"
   },
   {
    "duration": 11,
    "start_time": "2022-07-03T17:22:28.933Z"
   },
   {
    "duration": 7,
    "start_time": "2022-07-03T17:22:28.946Z"
   },
   {
    "duration": 7,
    "start_time": "2022-07-03T17:22:28.954Z"
   },
   {
    "duration": 19,
    "start_time": "2022-07-03T17:22:28.962Z"
   },
   {
    "duration": 45,
    "start_time": "2022-07-03T17:22:28.983Z"
   },
   {
    "duration": 4,
    "start_time": "2022-07-03T17:22:29.030Z"
   },
   {
    "duration": 5,
    "start_time": "2022-07-03T17:22:48.582Z"
   },
   {
    "duration": 4,
    "start_time": "2022-07-03T17:23:44.362Z"
   },
   {
    "duration": 2,
    "start_time": "2022-07-03T18:30:15.372Z"
   },
   {
    "duration": 4,
    "start_time": "2022-07-03T18:30:17.988Z"
   },
   {
    "duration": 3,
    "start_time": "2022-07-03T18:36:01.137Z"
   },
   {
    "duration": 3,
    "start_time": "2022-07-03T18:36:03.769Z"
   },
   {
    "duration": 1603,
    "start_time": "2022-07-04T16:50:29.538Z"
   },
   {
    "duration": 561,
    "start_time": "2022-07-04T16:50:31.144Z"
   },
   {
    "duration": 276,
    "start_time": "2022-07-04T16:50:31.707Z"
   },
   {
    "duration": 248,
    "start_time": "2022-07-04T16:50:31.986Z"
   },
   {
    "duration": 4,
    "start_time": "2022-07-04T16:50:32.236Z"
   },
   {
    "duration": 27,
    "start_time": "2022-07-04T16:50:32.242Z"
   },
   {
    "duration": 29,
    "start_time": "2022-07-04T16:50:32.275Z"
   },
   {
    "duration": 11,
    "start_time": "2022-07-04T16:50:32.361Z"
   },
   {
    "duration": 117,
    "start_time": "2022-07-04T16:50:32.374Z"
   },
   {
    "duration": 25,
    "start_time": "2022-07-04T16:50:32.494Z"
   },
   {
    "duration": 11,
    "start_time": "2022-07-04T16:50:32.522Z"
   },
   {
    "duration": 21,
    "start_time": "2022-07-04T16:50:32.535Z"
   },
   {
    "duration": 34,
    "start_time": "2022-07-04T16:50:32.557Z"
   },
   {
    "duration": 175,
    "start_time": "2022-07-04T16:50:32.595Z"
   },
   {
    "duration": 37,
    "start_time": "2022-07-04T16:50:32.772Z"
   },
   {
    "duration": 12,
    "start_time": "2022-07-04T16:50:32.811Z"
   },
   {
    "duration": 8,
    "start_time": "2022-07-04T16:50:32.825Z"
   },
   {
    "duration": 19,
    "start_time": "2022-07-04T16:50:32.835Z"
   },
   {
    "duration": 50,
    "start_time": "2022-07-04T16:50:32.856Z"
   },
   {
    "duration": 183,
    "start_time": "2022-07-04T16:50:32.909Z"
   },
   {
    "duration": 7,
    "start_time": "2022-07-04T16:50:33.094Z"
   },
   {
    "duration": 6,
    "start_time": "2022-07-04T16:50:33.102Z"
   },
   {
    "duration": 5,
    "start_time": "2022-07-04T16:50:33.109Z"
   },
   {
    "duration": 8,
    "start_time": "2022-07-04T16:50:33.116Z"
   },
   {
    "duration": 52,
    "start_time": "2022-07-04T16:50:40.285Z"
   },
   {
    "duration": 70,
    "start_time": "2022-07-04T16:56:21.642Z"
   },
   {
    "duration": 3,
    "start_time": "2022-07-04T16:58:18.791Z"
   },
   {
    "duration": 4,
    "start_time": "2022-07-04T16:58:52.523Z"
   },
   {
    "duration": 3,
    "start_time": "2022-07-04T16:59:17.786Z"
   },
   {
    "duration": 3,
    "start_time": "2022-07-04T16:59:29.000Z"
   },
   {
    "duration": 6,
    "start_time": "2022-07-04T16:59:55.189Z"
   },
   {
    "duration": 3,
    "start_time": "2022-07-04T17:02:06.837Z"
   },
   {
    "duration": 123,
    "start_time": "2022-07-04T17:02:19.524Z"
   },
   {
    "duration": 4,
    "start_time": "2022-07-04T17:03:13.674Z"
   },
   {
    "duration": 10,
    "start_time": "2022-07-04T17:03:15.880Z"
   },
   {
    "duration": 8,
    "start_time": "2022-07-04T17:04:55.840Z"
   },
   {
    "duration": 8,
    "start_time": "2022-07-04T17:05:54.046Z"
   },
   {
    "duration": 16,
    "start_time": "2022-07-04T17:06:52.241Z"
   },
   {
    "duration": 7,
    "start_time": "2022-07-04T17:07:26.401Z"
   },
   {
    "duration": 8,
    "start_time": "2022-07-04T17:07:28.731Z"
   },
   {
    "duration": 8,
    "start_time": "2022-07-04T17:07:52.668Z"
   },
   {
    "duration": 15,
    "start_time": "2022-07-04T17:07:54.543Z"
   },
   {
    "duration": 4,
    "start_time": "2022-07-04T17:11:14.792Z"
   },
   {
    "duration": 13,
    "start_time": "2022-07-04T17:11:16.496Z"
   },
   {
    "duration": 4,
    "start_time": "2022-07-04T17:12:15.072Z"
   },
   {
    "duration": 22,
    "start_time": "2022-07-04T17:12:17.796Z"
   },
   {
    "duration": 4,
    "start_time": "2022-07-04T17:14:02.131Z"
   },
   {
    "duration": 10,
    "start_time": "2022-07-04T17:14:04.898Z"
   },
   {
    "duration": 4,
    "start_time": "2022-07-04T17:15:03.117Z"
   },
   {
    "duration": 13,
    "start_time": "2022-07-04T17:15:05.409Z"
   },
   {
    "duration": 4,
    "start_time": "2022-07-04T17:15:28.701Z"
   },
   {
    "duration": 16,
    "start_time": "2022-07-04T17:15:30.278Z"
   },
   {
    "duration": 19,
    "start_time": "2022-07-04T17:16:19.159Z"
   },
   {
    "duration": 9,
    "start_time": "2022-07-04T17:16:49.630Z"
   },
   {
    "duration": 1730,
    "start_time": "2022-07-05T16:10:26.405Z"
   },
   {
    "duration": 782,
    "start_time": "2022-07-05T16:10:28.137Z"
   },
   {
    "duration": 1385,
    "start_time": "2022-07-05T16:10:28.921Z"
   },
   {
    "duration": 813,
    "start_time": "2022-07-05T16:10:30.308Z"
   },
   {
    "duration": 6,
    "start_time": "2022-07-05T16:10:31.122Z"
   },
   {
    "duration": 23,
    "start_time": "2022-07-05T16:10:31.130Z"
   },
   {
    "duration": 56,
    "start_time": "2022-07-05T16:10:31.156Z"
   },
   {
    "duration": 55,
    "start_time": "2022-07-05T16:10:31.214Z"
   },
   {
    "duration": 85,
    "start_time": "2022-07-05T16:10:31.271Z"
   },
   {
    "duration": 45,
    "start_time": "2022-07-05T16:10:31.363Z"
   },
   {
    "duration": 10,
    "start_time": "2022-07-05T16:10:31.409Z"
   },
   {
    "duration": 16,
    "start_time": "2022-07-05T16:10:31.420Z"
   },
   {
    "duration": 27,
    "start_time": "2022-07-05T16:10:31.437Z"
   },
   {
    "duration": 8,
    "start_time": "2022-07-05T16:10:31.466Z"
   },
   {
    "duration": 129,
    "start_time": "2022-07-05T16:10:31.476Z"
   },
   {
    "duration": 28,
    "start_time": "2022-07-05T16:10:31.611Z"
   },
   {
    "duration": 36,
    "start_time": "2022-07-05T16:10:31.641Z"
   },
   {
    "duration": 39,
    "start_time": "2022-07-05T16:10:31.678Z"
   },
   {
    "duration": 13,
    "start_time": "2022-07-05T16:10:31.719Z"
   },
   {
    "duration": 62,
    "start_time": "2022-07-05T16:10:31.734Z"
   },
   {
    "duration": 112,
    "start_time": "2022-07-05T16:10:31.798Z"
   },
   {
    "duration": 6,
    "start_time": "2022-07-05T16:10:31.911Z"
   },
   {
    "duration": 5,
    "start_time": "2022-07-05T16:10:31.919Z"
   },
   {
    "duration": 9,
    "start_time": "2022-07-05T16:10:31.925Z"
   },
   {
    "duration": 5,
    "start_time": "2022-07-05T16:10:45.016Z"
   },
   {
    "duration": 12,
    "start_time": "2022-07-05T16:11:16.395Z"
   },
   {
    "duration": 17,
    "start_time": "2022-07-05T16:11:21.778Z"
   },
   {
    "duration": 11,
    "start_time": "2022-07-05T16:11:31.307Z"
   },
   {
    "duration": 4,
    "start_time": "2022-07-05T16:11:53.193Z"
   },
   {
    "duration": 8,
    "start_time": "2022-07-05T16:12:04.782Z"
   },
   {
    "duration": 132,
    "start_time": "2022-07-05T16:12:27.941Z"
   },
   {
    "duration": 11,
    "start_time": "2022-07-05T16:14:08.735Z"
   },
   {
    "duration": 10,
    "start_time": "2022-07-05T16:17:23.618Z"
   },
   {
    "duration": 0,
    "start_time": "2022-07-05T16:17:23.630Z"
   },
   {
    "duration": 1,
    "start_time": "2022-07-05T16:17:23.631Z"
   },
   {
    "duration": 182,
    "start_time": "2022-07-05T16:17:23.634Z"
   },
   {
    "duration": 3,
    "start_time": "2022-07-05T16:17:23.818Z"
   },
   {
    "duration": 13,
    "start_time": "2022-07-05T16:17:23.822Z"
   },
   {
    "duration": 56,
    "start_time": "2022-07-05T16:17:23.837Z"
   },
   {
    "duration": 66,
    "start_time": "2022-07-05T16:17:23.895Z"
   },
   {
    "duration": 7,
    "start_time": "2022-07-05T16:17:23.963Z"
   },
   {
    "duration": 84,
    "start_time": "2022-07-05T16:17:23.977Z"
   },
   {
    "duration": 39,
    "start_time": "2022-07-05T16:17:24.063Z"
   },
   {
    "duration": 15,
    "start_time": "2022-07-05T16:17:24.104Z"
   },
   {
    "duration": 14,
    "start_time": "2022-07-05T16:17:24.122Z"
   },
   {
    "duration": 116,
    "start_time": "2022-07-05T16:17:24.153Z"
   },
   {
    "duration": 36,
    "start_time": "2022-07-05T16:17:24.271Z"
   },
   {
    "duration": 8,
    "start_time": "2022-07-05T16:17:24.308Z"
   },
   {
    "duration": 6,
    "start_time": "2022-07-05T16:17:24.317Z"
   },
   {
    "duration": 13,
    "start_time": "2022-07-05T16:17:24.324Z"
   },
   {
    "duration": 24,
    "start_time": "2022-07-05T16:17:24.338Z"
   },
   {
    "duration": 4,
    "start_time": "2022-07-05T16:17:24.364Z"
   },
   {
    "duration": 134,
    "start_time": "2022-07-05T16:17:24.370Z"
   },
   {
    "duration": 5,
    "start_time": "2022-07-05T16:17:24.506Z"
   },
   {
    "duration": 7,
    "start_time": "2022-07-05T16:17:24.513Z"
   },
   {
    "duration": 5,
    "start_time": "2022-07-05T16:17:24.521Z"
   },
   {
    "duration": 35,
    "start_time": "2022-07-05T16:17:24.528Z"
   },
   {
    "duration": 40,
    "start_time": "2022-07-05T16:17:24.566Z"
   },
   {
    "duration": 11,
    "start_time": "2022-07-05T16:17:24.610Z"
   },
   {
    "duration": 13,
    "start_time": "2022-07-05T16:17:24.623Z"
   },
   {
    "duration": 5,
    "start_time": "2022-07-05T16:17:27.849Z"
   },
   {
    "duration": 11,
    "start_time": "2022-07-05T16:17:36.916Z"
   },
   {
    "duration": 19,
    "start_time": "2022-07-05T16:18:34.491Z"
   },
   {
    "duration": 17,
    "start_time": "2022-07-05T16:19:17.995Z"
   },
   {
    "duration": 34,
    "start_time": "2022-07-05T16:25:16.751Z"
   },
   {
    "duration": 34,
    "start_time": "2022-07-05T16:28:06.145Z"
   },
   {
    "duration": 20,
    "start_time": "2022-07-05T16:34:44.823Z"
   },
   {
    "duration": 3,
    "start_time": "2022-07-05T16:36:37.636Z"
   },
   {
    "duration": 42,
    "start_time": "2022-07-05T16:36:40.351Z"
   },
   {
    "duration": 475,
    "start_time": "2022-07-05T17:05:56.851Z"
   },
   {
    "duration": 0,
    "start_time": "2022-07-05T17:05:57.329Z"
   },
   {
    "duration": 0,
    "start_time": "2022-07-05T17:05:57.330Z"
   },
   {
    "duration": 0,
    "start_time": "2022-07-05T17:05:57.332Z"
   },
   {
    "duration": 0,
    "start_time": "2022-07-05T17:05:57.333Z"
   },
   {
    "duration": 0,
    "start_time": "2022-07-05T17:05:57.334Z"
   },
   {
    "duration": 0,
    "start_time": "2022-07-05T17:05:57.335Z"
   },
   {
    "duration": 0,
    "start_time": "2022-07-05T17:05:57.336Z"
   },
   {
    "duration": 0,
    "start_time": "2022-07-05T17:05:57.337Z"
   },
   {
    "duration": 0,
    "start_time": "2022-07-05T17:05:57.338Z"
   },
   {
    "duration": 0,
    "start_time": "2022-07-05T17:05:57.339Z"
   },
   {
    "duration": 0,
    "start_time": "2022-07-05T17:05:57.363Z"
   },
   {
    "duration": 0,
    "start_time": "2022-07-05T17:05:57.364Z"
   },
   {
    "duration": 0,
    "start_time": "2022-07-05T17:05:57.371Z"
   },
   {
    "duration": 0,
    "start_time": "2022-07-05T17:05:57.376Z"
   },
   {
    "duration": 0,
    "start_time": "2022-07-05T17:05:57.376Z"
   },
   {
    "duration": 0,
    "start_time": "2022-07-05T17:05:57.377Z"
   },
   {
    "duration": 0,
    "start_time": "2022-07-05T17:05:57.378Z"
   },
   {
    "duration": 0,
    "start_time": "2022-07-05T17:05:57.382Z"
   },
   {
    "duration": 0,
    "start_time": "2022-07-05T17:05:57.386Z"
   },
   {
    "duration": 0,
    "start_time": "2022-07-05T17:05:57.390Z"
   },
   {
    "duration": 0,
    "start_time": "2022-07-05T17:05:57.392Z"
   },
   {
    "duration": 0,
    "start_time": "2022-07-05T17:05:57.397Z"
   },
   {
    "duration": 0,
    "start_time": "2022-07-05T17:05:57.400Z"
   },
   {
    "duration": 0,
    "start_time": "2022-07-05T17:05:57.403Z"
   },
   {
    "duration": 0,
    "start_time": "2022-07-05T17:05:57.406Z"
   },
   {
    "duration": 0,
    "start_time": "2022-07-05T17:05:57.407Z"
   },
   {
    "duration": 0,
    "start_time": "2022-07-05T17:05:57.408Z"
   },
   {
    "duration": 0,
    "start_time": "2022-07-05T17:05:57.410Z"
   },
   {
    "duration": 10,
    "start_time": "2022-07-05T17:06:01.707Z"
   },
   {
    "duration": 8,
    "start_time": "2022-07-05T17:07:44.032Z"
   },
   {
    "duration": 0,
    "start_time": "2022-07-05T17:07:44.042Z"
   },
   {
    "duration": 0,
    "start_time": "2022-07-05T17:07:44.043Z"
   },
   {
    "duration": 0,
    "start_time": "2022-07-05T17:07:44.044Z"
   },
   {
    "duration": 57,
    "start_time": "2022-07-05T17:07:44.047Z"
   },
   {
    "duration": 0,
    "start_time": "2022-07-05T17:07:44.106Z"
   },
   {
    "duration": 0,
    "start_time": "2022-07-05T17:07:44.107Z"
   },
   {
    "duration": 0,
    "start_time": "2022-07-05T17:07:44.108Z"
   },
   {
    "duration": 0,
    "start_time": "2022-07-05T17:07:44.109Z"
   },
   {
    "duration": 0,
    "start_time": "2022-07-05T17:07:44.110Z"
   },
   {
    "duration": 0,
    "start_time": "2022-07-05T17:07:44.111Z"
   },
   {
    "duration": 0,
    "start_time": "2022-07-05T17:07:44.112Z"
   },
   {
    "duration": 0,
    "start_time": "2022-07-05T17:07:44.112Z"
   },
   {
    "duration": 0,
    "start_time": "2022-07-05T17:07:44.114Z"
   },
   {
    "duration": 0,
    "start_time": "2022-07-05T17:07:44.115Z"
   },
   {
    "duration": 0,
    "start_time": "2022-07-05T17:07:44.116Z"
   },
   {
    "duration": 0,
    "start_time": "2022-07-05T17:07:44.117Z"
   },
   {
    "duration": 0,
    "start_time": "2022-07-05T17:07:44.118Z"
   },
   {
    "duration": 0,
    "start_time": "2022-07-05T17:07:44.119Z"
   },
   {
    "duration": 0,
    "start_time": "2022-07-05T17:07:44.120Z"
   },
   {
    "duration": 0,
    "start_time": "2022-07-05T17:07:44.122Z"
   },
   {
    "duration": 0,
    "start_time": "2022-07-05T17:07:44.123Z"
   },
   {
    "duration": 0,
    "start_time": "2022-07-05T17:07:44.124Z"
   },
   {
    "duration": 0,
    "start_time": "2022-07-05T17:07:44.124Z"
   },
   {
    "duration": 0,
    "start_time": "2022-07-05T17:07:44.125Z"
   },
   {
    "duration": 0,
    "start_time": "2022-07-05T17:07:44.126Z"
   },
   {
    "duration": 0,
    "start_time": "2022-07-05T17:07:44.127Z"
   },
   {
    "duration": 0,
    "start_time": "2022-07-05T17:07:44.128Z"
   },
   {
    "duration": 11,
    "start_time": "2022-07-05T17:07:56.339Z"
   },
   {
    "duration": 1222,
    "start_time": "2022-07-05T17:09:45.201Z"
   },
   {
    "duration": 5,
    "start_time": "2022-07-05T17:09:58.006Z"
   },
   {
    "duration": 207,
    "start_time": "2022-07-05T17:09:58.013Z"
   },
   {
    "duration": 182,
    "start_time": "2022-07-05T17:09:58.222Z"
   },
   {
    "duration": 196,
    "start_time": "2022-07-05T17:09:58.406Z"
   },
   {
    "duration": 5,
    "start_time": "2022-07-05T17:09:58.609Z"
   },
   {
    "duration": 18,
    "start_time": "2022-07-05T17:09:58.617Z"
   },
   {
    "duration": 71,
    "start_time": "2022-07-05T17:09:58.637Z"
   },
   {
    "duration": 63,
    "start_time": "2022-07-05T17:09:58.714Z"
   },
   {
    "duration": 98,
    "start_time": "2022-07-05T17:09:58.779Z"
   },
   {
    "duration": 38,
    "start_time": "2022-07-05T17:09:58.879Z"
   },
   {
    "duration": 13,
    "start_time": "2022-07-05T17:09:58.919Z"
   },
   {
    "duration": 37,
    "start_time": "2022-07-05T17:09:58.934Z"
   },
   {
    "duration": 76,
    "start_time": "2022-07-05T17:09:58.985Z"
   },
   {
    "duration": 140,
    "start_time": "2022-07-05T17:09:59.065Z"
   },
   {
    "duration": 14,
    "start_time": "2022-07-05T17:09:59.209Z"
   },
   {
    "duration": 5,
    "start_time": "2022-07-05T17:09:59.227Z"
   },
   {
    "duration": 10,
    "start_time": "2022-07-05T17:09:59.233Z"
   },
   {
    "duration": 32,
    "start_time": "2022-07-05T17:09:59.245Z"
   },
   {
    "duration": 37,
    "start_time": "2022-07-05T17:09:59.286Z"
   },
   {
    "duration": 36,
    "start_time": "2022-07-05T17:09:59.325Z"
   },
   {
    "duration": 149,
    "start_time": "2022-07-05T17:09:59.363Z"
   },
   {
    "duration": 5,
    "start_time": "2022-07-05T17:09:59.514Z"
   },
   {
    "duration": 6,
    "start_time": "2022-07-05T17:09:59.521Z"
   },
   {
    "duration": 8,
    "start_time": "2022-07-05T17:09:59.528Z"
   },
   {
    "duration": 8,
    "start_time": "2022-07-05T17:09:59.538Z"
   },
   {
    "duration": 19,
    "start_time": "2022-07-05T17:09:59.548Z"
   },
   {
    "duration": 57,
    "start_time": "2022-07-05T17:09:59.568Z"
   },
   {
    "duration": 10,
    "start_time": "2022-07-05T17:09:59.627Z"
   },
   {
    "duration": 82,
    "start_time": "2022-07-05T17:10:08.003Z"
   },
   {
    "duration": 36,
    "start_time": "2022-07-05T17:12:55.678Z"
   },
   {
    "duration": 24,
    "start_time": "2022-07-05T17:14:45.340Z"
   },
   {
    "duration": 1343,
    "start_time": "2022-07-05T17:19:11.044Z"
   },
   {
    "duration": 1421,
    "start_time": "2022-07-05T17:20:33.642Z"
   },
   {
    "duration": 23,
    "start_time": "2022-07-05T17:21:34.700Z"
   },
   {
    "duration": 24,
    "start_time": "2022-07-05T17:22:18.900Z"
   },
   {
    "duration": 16,
    "start_time": "2022-07-05T17:24:02.103Z"
   },
   {
    "duration": 1405,
    "start_time": "2022-07-05T18:08:25.711Z"
   },
   {
    "duration": 179,
    "start_time": "2022-07-05T18:08:27.118Z"
   },
   {
    "duration": 134,
    "start_time": "2022-07-05T18:08:27.299Z"
   },
   {
    "duration": 162,
    "start_time": "2022-07-05T18:08:27.435Z"
   },
   {
    "duration": 6,
    "start_time": "2022-07-05T18:08:27.599Z"
   },
   {
    "duration": 14,
    "start_time": "2022-07-05T18:08:27.606Z"
   },
   {
    "duration": 44,
    "start_time": "2022-07-05T18:08:27.622Z"
   },
   {
    "duration": 5,
    "start_time": "2022-07-05T18:08:27.667Z"
   },
   {
    "duration": 129,
    "start_time": "2022-07-05T18:08:27.673Z"
   },
   {
    "duration": 4,
    "start_time": "2022-07-05T18:08:27.804Z"
   },
   {
    "duration": 9,
    "start_time": "2022-07-05T18:08:27.810Z"
   },
   {
    "duration": 14,
    "start_time": "2022-07-05T18:08:27.821Z"
   },
   {
    "duration": 42,
    "start_time": "2022-07-05T18:08:27.837Z"
   },
   {
    "duration": 77,
    "start_time": "2022-07-05T18:08:27.886Z"
   },
   {
    "duration": 41,
    "start_time": "2022-07-05T18:08:27.964Z"
   },
   {
    "duration": 5,
    "start_time": "2022-07-05T18:08:28.007Z"
   },
   {
    "duration": 8,
    "start_time": "2022-07-05T18:08:28.014Z"
   },
   {
    "duration": 13,
    "start_time": "2022-07-05T18:08:28.024Z"
   },
   {
    "duration": 46,
    "start_time": "2022-07-05T18:08:28.038Z"
   },
   {
    "duration": 85,
    "start_time": "2022-07-05T18:08:28.088Z"
   },
   {
    "duration": 6,
    "start_time": "2022-07-05T18:08:28.175Z"
   },
   {
    "duration": 115,
    "start_time": "2022-07-05T18:08:28.183Z"
   },
   {
    "duration": 4,
    "start_time": "2022-07-05T18:08:28.300Z"
   },
   {
    "duration": 7,
    "start_time": "2022-07-05T18:08:28.305Z"
   },
   {
    "duration": 5,
    "start_time": "2022-07-05T18:08:28.313Z"
   },
   {
    "duration": 14,
    "start_time": "2022-07-05T18:08:28.319Z"
   },
   {
    "duration": 11,
    "start_time": "2022-07-05T18:08:28.335Z"
   },
   {
    "duration": 20,
    "start_time": "2022-07-05T18:08:28.349Z"
   },
   {
    "duration": 3,
    "start_time": "2022-07-05T18:08:34.196Z"
   },
   {
    "duration": 122,
    "start_time": "2022-07-05T18:08:36.720Z"
   },
   {
    "duration": 5,
    "start_time": "2022-07-05T18:09:31.958Z"
   },
   {
    "duration": 5,
    "start_time": "2022-07-05T18:10:32.837Z"
   },
   {
    "duration": 13,
    "start_time": "2022-07-05T18:11:16.365Z"
   },
   {
    "duration": 12,
    "start_time": "2022-07-05T18:13:04.763Z"
   },
   {
    "duration": 14,
    "start_time": "2022-07-05T18:14:02.507Z"
   },
   {
    "duration": 22,
    "start_time": "2022-07-05T18:14:24.585Z"
   },
   {
    "duration": 22,
    "start_time": "2022-07-05T18:14:52.082Z"
   },
   {
    "duration": 23,
    "start_time": "2022-07-05T18:15:28.770Z"
   },
   {
    "duration": 20,
    "start_time": "2022-07-05T18:17:19.422Z"
   },
   {
    "duration": 25,
    "start_time": "2022-07-05T18:18:02.679Z"
   },
   {
    "duration": 1580,
    "start_time": "2022-07-05T18:20:29.018Z"
   },
   {
    "duration": 230,
    "start_time": "2022-07-05T18:20:30.600Z"
   },
   {
    "duration": 156,
    "start_time": "2022-07-05T18:20:30.832Z"
   },
   {
    "duration": 152,
    "start_time": "2022-07-05T18:20:30.994Z"
   },
   {
    "duration": 7,
    "start_time": "2022-07-05T18:20:31.148Z"
   },
   {
    "duration": 60,
    "start_time": "2022-07-05T18:20:31.157Z"
   },
   {
    "duration": 22,
    "start_time": "2022-07-05T18:20:31.219Z"
   },
   {
    "duration": 114,
    "start_time": "2022-07-05T18:20:31.255Z"
   },
   {
    "duration": 63,
    "start_time": "2022-07-05T18:20:31.371Z"
   },
   {
    "duration": 14,
    "start_time": "2022-07-05T18:20:31.437Z"
   },
   {
    "duration": 49,
    "start_time": "2022-07-05T18:20:31.454Z"
   },
   {
    "duration": 19,
    "start_time": "2022-07-05T18:20:31.505Z"
   },
   {
    "duration": 17,
    "start_time": "2022-07-05T18:20:31.526Z"
   },
   {
    "duration": 16,
    "start_time": "2022-07-05T18:20:31.553Z"
   },
   {
    "duration": 134,
    "start_time": "2022-07-05T18:20:31.571Z"
   },
   {
    "duration": 35,
    "start_time": "2022-07-05T18:20:31.707Z"
   },
   {
    "duration": 46,
    "start_time": "2022-07-05T18:20:31.743Z"
   },
   {
    "duration": 33,
    "start_time": "2022-07-05T18:20:31.791Z"
   },
   {
    "duration": 38,
    "start_time": "2022-07-05T18:20:31.826Z"
   },
   {
    "duration": 101,
    "start_time": "2022-07-05T18:20:31.869Z"
   },
   {
    "duration": 40,
    "start_time": "2022-07-05T18:20:31.973Z"
   },
   {
    "duration": 16,
    "start_time": "2022-07-05T18:20:32.015Z"
   },
   {
    "duration": 17,
    "start_time": "2022-07-05T18:20:32.032Z"
   },
   {
    "duration": 71,
    "start_time": "2022-07-05T18:20:32.051Z"
   },
   {
    "duration": 59,
    "start_time": "2022-07-05T18:20:32.124Z"
   },
   {
    "duration": 30,
    "start_time": "2022-07-05T18:20:32.186Z"
   },
   {
    "duration": 25,
    "start_time": "2022-07-05T18:20:32.218Z"
   },
   {
    "duration": 58,
    "start_time": "2022-07-05T18:20:32.247Z"
   },
   {
    "duration": 9,
    "start_time": "2022-07-05T18:20:36.192Z"
   },
   {
    "duration": 5,
    "start_time": "2022-07-05T18:20:38.798Z"
   },
   {
    "duration": 1488,
    "start_time": "2022-07-05T18:20:41.981Z"
   },
   {
    "duration": 144,
    "start_time": "2022-07-05T18:29:00.341Z"
   },
   {
    "duration": 22,
    "start_time": "2022-07-05T18:29:24.551Z"
   },
   {
    "duration": 15,
    "start_time": "2022-07-05T18:29:40.725Z"
   },
   {
    "duration": 16,
    "start_time": "2022-07-05T18:30:22.017Z"
   },
   {
    "duration": 1409,
    "start_time": "2022-07-05T18:31:08.794Z"
   },
   {
    "duration": 189,
    "start_time": "2022-07-05T18:31:10.205Z"
   },
   {
    "duration": 145,
    "start_time": "2022-07-05T18:31:10.396Z"
   },
   {
    "duration": 181,
    "start_time": "2022-07-05T18:31:10.544Z"
   },
   {
    "duration": 4,
    "start_time": "2022-07-05T18:31:10.727Z"
   },
   {
    "duration": 30,
    "start_time": "2022-07-05T18:31:10.733Z"
   },
   {
    "duration": 45,
    "start_time": "2022-07-05T18:31:10.765Z"
   },
   {
    "duration": 144,
    "start_time": "2022-07-05T18:31:10.812Z"
   },
   {
    "duration": 46,
    "start_time": "2022-07-05T18:31:10.957Z"
   },
   {
    "duration": 4,
    "start_time": "2022-07-05T18:31:11.006Z"
   },
   {
    "duration": 6,
    "start_time": "2022-07-05T18:31:11.011Z"
   },
   {
    "duration": 14,
    "start_time": "2022-07-05T18:31:11.018Z"
   },
   {
    "duration": 21,
    "start_time": "2022-07-05T18:31:11.034Z"
   },
   {
    "duration": 8,
    "start_time": "2022-07-05T18:31:11.057Z"
   },
   {
    "duration": 141,
    "start_time": "2022-07-05T18:31:11.069Z"
   },
   {
    "duration": 7,
    "start_time": "2022-07-05T18:31:11.211Z"
   },
   {
    "duration": 19,
    "start_time": "2022-07-05T18:31:11.220Z"
   },
   {
    "duration": 66,
    "start_time": "2022-07-05T18:31:11.241Z"
   },
   {
    "duration": 30,
    "start_time": "2022-07-05T18:31:11.309Z"
   },
   {
    "duration": 19,
    "start_time": "2022-07-05T18:31:11.341Z"
   },
   {
    "duration": 131,
    "start_time": "2022-07-05T18:31:11.368Z"
   },
   {
    "duration": 15,
    "start_time": "2022-07-05T18:31:11.500Z"
   },
   {
    "duration": 12,
    "start_time": "2022-07-05T18:31:11.517Z"
   },
   {
    "duration": 14,
    "start_time": "2022-07-05T18:31:11.530Z"
   },
   {
    "duration": 44,
    "start_time": "2022-07-05T18:31:11.545Z"
   },
   {
    "duration": 18,
    "start_time": "2022-07-05T18:31:11.591Z"
   },
   {
    "duration": 9,
    "start_time": "2022-07-05T18:31:11.611Z"
   },
   {
    "duration": 7,
    "start_time": "2022-07-05T18:31:11.623Z"
   },
   {
    "duration": 6,
    "start_time": "2022-07-05T18:31:15.077Z"
   },
   {
    "duration": 3,
    "start_time": "2022-07-05T18:31:17.710Z"
   },
   {
    "duration": 141,
    "start_time": "2022-07-05T18:31:20.830Z"
   },
   {
    "duration": 16,
    "start_time": "2022-07-05T18:31:55.500Z"
   },
   {
    "duration": 4,
    "start_time": "2022-07-05T18:33:33.999Z"
   },
   {
    "duration": 178,
    "start_time": "2022-07-05T18:33:34.005Z"
   },
   {
    "duration": 160,
    "start_time": "2022-07-05T18:33:34.184Z"
   },
   {
    "duration": 171,
    "start_time": "2022-07-05T18:33:34.352Z"
   },
   {
    "duration": 6,
    "start_time": "2022-07-05T18:33:34.525Z"
   },
   {
    "duration": 13,
    "start_time": "2022-07-05T18:33:34.532Z"
   },
   {
    "duration": 48,
    "start_time": "2022-07-05T18:33:34.547Z"
   },
   {
    "duration": 167,
    "start_time": "2022-07-05T18:33:34.597Z"
   },
   {
    "duration": 30,
    "start_time": "2022-07-05T18:33:34.765Z"
   },
   {
    "duration": 6,
    "start_time": "2022-07-05T18:33:34.797Z"
   },
   {
    "duration": 7,
    "start_time": "2022-07-05T18:33:34.805Z"
   },
   {
    "duration": 15,
    "start_time": "2022-07-05T18:33:34.813Z"
   },
   {
    "duration": 29,
    "start_time": "2022-07-05T18:33:34.830Z"
   },
   {
    "duration": 108,
    "start_time": "2022-07-05T18:33:34.861Z"
   },
   {
    "duration": 36,
    "start_time": "2022-07-05T18:33:34.970Z"
   },
   {
    "duration": 12,
    "start_time": "2022-07-05T18:33:35.008Z"
   },
   {
    "duration": 15,
    "start_time": "2022-07-05T18:33:35.021Z"
   },
   {
    "duration": 37,
    "start_time": "2022-07-05T18:33:35.037Z"
   },
   {
    "duration": 37,
    "start_time": "2022-07-05T18:33:35.076Z"
   },
   {
    "duration": 5,
    "start_time": "2022-07-05T18:33:35.115Z"
   },
   {
    "duration": 146,
    "start_time": "2022-07-05T18:33:35.151Z"
   },
   {
    "duration": 5,
    "start_time": "2022-07-05T18:33:35.298Z"
   },
   {
    "duration": 3,
    "start_time": "2022-07-05T18:33:35.305Z"
   },
   {
    "duration": 6,
    "start_time": "2022-07-05T18:33:35.309Z"
   },
   {
    "duration": 5,
    "start_time": "2022-07-05T18:33:35.316Z"
   },
   {
    "duration": 10,
    "start_time": "2022-07-05T18:33:35.322Z"
   },
   {
    "duration": 7,
    "start_time": "2022-07-05T18:33:35.334Z"
   },
   {
    "duration": 7,
    "start_time": "2022-07-05T18:33:35.343Z"
   },
   {
    "duration": 2,
    "start_time": "2022-07-05T18:33:35.354Z"
   },
   {
    "duration": 3,
    "start_time": "2022-07-05T18:33:38.818Z"
   },
   {
    "duration": 2,
    "start_time": "2022-07-05T18:33:41.526Z"
   },
   {
    "duration": 1569,
    "start_time": "2022-07-05T18:33:42.527Z"
   },
   {
    "duration": 113,
    "start_time": "2022-07-05T18:33:57.691Z"
   },
   {
    "duration": 1683,
    "start_time": "2022-07-05T18:34:03.388Z"
   },
   {
    "duration": 1677,
    "start_time": "2022-07-05T18:36:24.193Z"
   },
   {
    "duration": 1608,
    "start_time": "2022-07-05T18:36:41.367Z"
   },
   {
    "duration": 1558,
    "start_time": "2022-07-05T18:37:00.796Z"
   },
   {
    "duration": 1612,
    "start_time": "2022-07-05T18:37:16.676Z"
   },
   {
    "duration": 1711,
    "start_time": "2022-07-05T18:37:44.920Z"
   },
   {
    "duration": 1996,
    "start_time": "2022-07-05T18:39:34.240Z"
   },
   {
    "duration": 1731,
    "start_time": "2022-07-05T18:40:11.289Z"
   },
   {
    "duration": 1802,
    "start_time": "2022-07-05T18:40:34.643Z"
   },
   {
    "duration": 1693,
    "start_time": "2022-07-05T18:41:00.013Z"
   },
   {
    "duration": 1801,
    "start_time": "2022-07-05T18:41:57.082Z"
   },
   {
    "duration": 1809,
    "start_time": "2022-07-05T18:42:46.912Z"
   },
   {
    "duration": 14,
    "start_time": "2022-07-05T18:43:27.903Z"
   },
   {
    "duration": 1767,
    "start_time": "2022-07-05T18:43:29.790Z"
   },
   {
    "duration": 43,
    "start_time": "2022-07-05T18:44:37.286Z"
   },
   {
    "duration": 27,
    "start_time": "2022-07-05T18:45:20.607Z"
   },
   {
    "duration": 6,
    "start_time": "2022-07-05T18:45:28.986Z"
   },
   {
    "duration": 1747,
    "start_time": "2022-07-05T18:45:31.584Z"
   },
   {
    "duration": 1736,
    "start_time": "2022-07-05T18:45:34.111Z"
   },
   {
    "duration": 1982,
    "start_time": "2022-07-05T18:46:55.083Z"
   },
   {
    "duration": 14,
    "start_time": "2022-07-05T18:48:41.508Z"
   },
   {
    "duration": 12,
    "start_time": "2022-07-05T18:49:07.802Z"
   },
   {
    "duration": 11,
    "start_time": "2022-07-05T18:50:56.507Z"
   },
   {
    "duration": 19,
    "start_time": "2022-07-05T18:51:06.783Z"
   },
   {
    "duration": 1872,
    "start_time": "2022-07-05T18:53:59.139Z"
   },
   {
    "duration": 2221,
    "start_time": "2022-07-05T18:55:22.148Z"
   },
   {
    "duration": 31,
    "start_time": "2022-07-05T18:55:33.053Z"
   },
   {
    "duration": 1724,
    "start_time": "2022-07-05T18:56:39.188Z"
   },
   {
    "duration": 1759,
    "start_time": "2022-07-05T18:57:13.734Z"
   },
   {
    "duration": 8,
    "start_time": "2022-07-05T18:57:26.697Z"
   },
   {
    "duration": 16,
    "start_time": "2022-07-05T18:57:32.966Z"
   },
   {
    "duration": 9,
    "start_time": "2022-07-05T18:57:40.305Z"
   },
   {
    "duration": 91,
    "start_time": "2022-07-05T18:59:50.293Z"
   },
   {
    "duration": 11,
    "start_time": "2022-07-05T19:05:51.848Z"
   },
   {
    "duration": 8,
    "start_time": "2022-07-05T19:06:03.490Z"
   },
   {
    "duration": 10,
    "start_time": "2022-07-05T19:06:15.590Z"
   },
   {
    "duration": 1472,
    "start_time": "2022-07-07T17:44:24.997Z"
   },
   {
    "duration": 381,
    "start_time": "2022-07-07T17:44:26.471Z"
   },
   {
    "duration": 205,
    "start_time": "2022-07-07T17:44:26.855Z"
   },
   {
    "duration": 202,
    "start_time": "2022-07-07T17:44:27.062Z"
   },
   {
    "duration": 6,
    "start_time": "2022-07-07T17:44:27.265Z"
   },
   {
    "duration": 17,
    "start_time": "2022-07-07T17:44:27.273Z"
   },
   {
    "duration": 156,
    "start_time": "2022-07-07T17:44:27.292Z"
   },
   {
    "duration": 7,
    "start_time": "2022-07-07T17:44:27.450Z"
   },
   {
    "duration": 11,
    "start_time": "2022-07-07T17:44:27.546Z"
   },
   {
    "duration": 6,
    "start_time": "2022-07-07T17:44:27.559Z"
   },
   {
    "duration": 9,
    "start_time": "2022-07-07T17:44:27.567Z"
   },
   {
    "duration": 16,
    "start_time": "2022-07-07T17:44:27.578Z"
   },
   {
    "duration": 54,
    "start_time": "2022-07-07T17:44:27.596Z"
   },
   {
    "duration": 95,
    "start_time": "2022-07-07T17:44:27.652Z"
   },
   {
    "duration": 6,
    "start_time": "2022-07-07T17:44:27.748Z"
   },
   {
    "duration": 11,
    "start_time": "2022-07-07T17:44:27.756Z"
   },
   {
    "duration": 8,
    "start_time": "2022-07-07T17:44:27.769Z"
   },
   {
    "duration": 16,
    "start_time": "2022-07-07T17:44:27.778Z"
   },
   {
    "duration": 57,
    "start_time": "2022-07-07T17:44:27.796Z"
   },
   {
    "duration": 92,
    "start_time": "2022-07-07T17:44:27.856Z"
   },
   {
    "duration": 7,
    "start_time": "2022-07-07T17:44:27.950Z"
   },
   {
    "duration": 5,
    "start_time": "2022-07-07T17:44:27.959Z"
   },
   {
    "duration": 6,
    "start_time": "2022-07-07T17:44:27.965Z"
   },
   {
    "duration": 9,
    "start_time": "2022-07-07T17:44:27.973Z"
   },
   {
    "duration": 5,
    "start_time": "2022-07-07T17:44:27.983Z"
   },
   {
    "duration": 4,
    "start_time": "2022-07-07T17:44:41.451Z"
   },
   {
    "duration": 3,
    "start_time": "2022-07-07T17:44:50.931Z"
   },
   {
    "duration": 4,
    "start_time": "2022-07-07T17:44:56.086Z"
   },
   {
    "duration": 8,
    "start_time": "2022-07-07T17:45:03.650Z"
   },
   {
    "duration": 9,
    "start_time": "2022-07-07T17:46:10.106Z"
   },
   {
    "duration": 10,
    "start_time": "2022-07-07T17:46:20.291Z"
   },
   {
    "duration": 9,
    "start_time": "2022-07-07T17:47:01.011Z"
   },
   {
    "duration": 4,
    "start_time": "2022-07-07T17:53:47.015Z"
   },
   {
    "duration": 113,
    "start_time": "2022-07-07T17:53:52.518Z"
   },
   {
    "duration": 4,
    "start_time": "2022-07-07T17:55:15.341Z"
   },
   {
    "duration": 1567,
    "start_time": "2022-07-07T17:55:18.385Z"
   },
   {
    "duration": 1519,
    "start_time": "2022-07-07T17:55:41.417Z"
   },
   {
    "duration": 1560,
    "start_time": "2022-07-07T17:55:46.904Z"
   },
   {
    "duration": 18,
    "start_time": "2022-07-07T17:57:30.482Z"
   },
   {
    "duration": 20,
    "start_time": "2022-07-07T17:59:30.322Z"
   },
   {
    "duration": 1478,
    "start_time": "2022-07-07T18:00:38.337Z"
   },
   {
    "duration": 166,
    "start_time": "2022-07-07T18:00:39.817Z"
   },
   {
    "duration": 157,
    "start_time": "2022-07-07T18:00:39.984Z"
   },
   {
    "duration": 162,
    "start_time": "2022-07-07T18:00:40.147Z"
   },
   {
    "duration": 5,
    "start_time": "2022-07-07T18:00:40.311Z"
   },
   {
    "duration": 28,
    "start_time": "2022-07-07T18:00:40.318Z"
   },
   {
    "duration": 112,
    "start_time": "2022-07-07T18:00:40.348Z"
   },
   {
    "duration": 86,
    "start_time": "2022-07-07T18:00:40.462Z"
   },
   {
    "duration": 35,
    "start_time": "2022-07-07T18:00:40.551Z"
   },
   {
    "duration": 21,
    "start_time": "2022-07-07T18:00:40.590Z"
   },
   {
    "duration": 25,
    "start_time": "2022-07-07T18:00:40.613Z"
   },
   {
    "duration": 24,
    "start_time": "2022-07-07T18:00:40.641Z"
   },
   {
    "duration": 106,
    "start_time": "2022-07-07T18:00:40.669Z"
   },
   {
    "duration": 72,
    "start_time": "2022-07-07T18:00:40.777Z"
   },
   {
    "duration": 13,
    "start_time": "2022-07-07T18:00:40.851Z"
   },
   {
    "duration": 7,
    "start_time": "2022-07-07T18:00:40.865Z"
   },
   {
    "duration": 10,
    "start_time": "2022-07-07T18:00:40.873Z"
   },
   {
    "duration": 19,
    "start_time": "2022-07-07T18:00:40.884Z"
   },
   {
    "duration": 53,
    "start_time": "2022-07-07T18:00:40.905Z"
   },
   {
    "duration": 87,
    "start_time": "2022-07-07T18:00:40.960Z"
   },
   {
    "duration": 107,
    "start_time": "2022-07-07T18:00:41.050Z"
   },
   {
    "duration": 4,
    "start_time": "2022-07-07T18:00:41.159Z"
   },
   {
    "duration": 4,
    "start_time": "2022-07-07T18:00:41.166Z"
   },
   {
    "duration": 7,
    "start_time": "2022-07-07T18:00:41.172Z"
   },
   {
    "duration": 6,
    "start_time": "2022-07-07T18:00:41.181Z"
   },
   {
    "duration": 9,
    "start_time": "2022-07-07T18:00:41.189Z"
   },
   {
    "duration": 8,
    "start_time": "2022-07-07T18:00:41.200Z"
   },
   {
    "duration": 15,
    "start_time": "2022-07-07T18:00:41.211Z"
   },
   {
    "duration": 8,
    "start_time": "2022-07-07T18:00:41.247Z"
   },
   {
    "duration": 10,
    "start_time": "2022-07-07T18:00:41.257Z"
   },
   {
    "duration": 4,
    "start_time": "2022-07-07T18:00:41.269Z"
   },
   {
    "duration": 1617,
    "start_time": "2022-07-07T18:00:41.275Z"
   },
   {
    "duration": 1591,
    "start_time": "2022-07-07T18:00:42.895Z"
   },
   {
    "duration": 1593,
    "start_time": "2022-07-07T18:00:44.488Z"
   },
   {
    "duration": 114,
    "start_time": "2022-07-07T18:00:51.000Z"
   },
   {
    "duration": 14,
    "start_time": "2022-07-07T18:01:02.619Z"
   },
   {
    "duration": 14,
    "start_time": "2022-07-07T18:10:43.033Z"
   },
   {
    "duration": 52,
    "start_time": "2022-07-07T18:12:27.519Z"
   },
   {
    "duration": 7,
    "start_time": "2022-07-07T18:15:40.485Z"
   },
   {
    "duration": 8,
    "start_time": "2022-07-07T18:15:50.521Z"
   },
   {
    "duration": 7,
    "start_time": "2022-07-07T18:17:04.119Z"
   },
   {
    "duration": 9,
    "start_time": "2022-07-07T18:17:58.841Z"
   },
   {
    "duration": 1713,
    "start_time": "2022-07-08T15:10:08.019Z"
   },
   {
    "duration": 536,
    "start_time": "2022-07-08T15:10:09.734Z"
   },
   {
    "duration": 636,
    "start_time": "2022-07-08T15:10:10.272Z"
   },
   {
    "duration": 599,
    "start_time": "2022-07-08T15:10:10.910Z"
   },
   {
    "duration": 4,
    "start_time": "2022-07-08T15:10:11.511Z"
   },
   {
    "duration": 19,
    "start_time": "2022-07-08T15:10:11.517Z"
   },
   {
    "duration": 163,
    "start_time": "2022-07-08T15:10:11.538Z"
   },
   {
    "duration": 6,
    "start_time": "2022-07-08T15:10:11.703Z"
   },
   {
    "duration": 98,
    "start_time": "2022-07-08T15:10:11.711Z"
   },
   {
    "duration": 8,
    "start_time": "2022-07-08T15:10:11.812Z"
   },
   {
    "duration": 10,
    "start_time": "2022-07-08T15:10:11.822Z"
   },
   {
    "duration": 15,
    "start_time": "2022-07-08T15:10:11.834Z"
   },
   {
    "duration": 55,
    "start_time": "2022-07-08T15:10:11.851Z"
   },
   {
    "duration": 98,
    "start_time": "2022-07-08T15:10:11.908Z"
   },
   {
    "duration": 11,
    "start_time": "2022-07-08T15:10:12.007Z"
   },
   {
    "duration": 7,
    "start_time": "2022-07-08T15:10:12.020Z"
   },
   {
    "duration": 6,
    "start_time": "2022-07-08T15:10:12.029Z"
   },
   {
    "duration": 20,
    "start_time": "2022-07-08T15:10:12.039Z"
   },
   {
    "duration": 53,
    "start_time": "2022-07-08T15:10:12.062Z"
   },
   {
    "duration": 6,
    "start_time": "2022-07-08T15:10:12.197Z"
   },
   {
    "duration": 111,
    "start_time": "2022-07-08T15:10:12.206Z"
   },
   {
    "duration": 6,
    "start_time": "2022-07-08T15:10:12.318Z"
   },
   {
    "duration": 3,
    "start_time": "2022-07-08T15:10:12.326Z"
   },
   {
    "duration": 13,
    "start_time": "2022-07-08T15:10:12.331Z"
   },
   {
    "duration": 5,
    "start_time": "2022-07-08T15:10:12.345Z"
   },
   {
    "duration": 6,
    "start_time": "2022-07-08T15:10:12.353Z"
   },
   {
    "duration": 7,
    "start_time": "2022-07-08T15:10:12.360Z"
   },
   {
    "duration": 31,
    "start_time": "2022-07-08T15:10:12.370Z"
   },
   {
    "duration": 10,
    "start_time": "2022-07-08T15:10:12.402Z"
   },
   {
    "duration": 9,
    "start_time": "2022-07-08T15:10:12.413Z"
   },
   {
    "duration": 4,
    "start_time": "2022-07-08T15:10:12.423Z"
   },
   {
    "duration": 1731,
    "start_time": "2022-07-08T15:10:12.428Z"
   },
   {
    "duration": 1665,
    "start_time": "2022-07-08T15:10:14.161Z"
   },
   {
    "duration": 1729,
    "start_time": "2022-07-08T15:10:15.828Z"
   },
   {
    "duration": 11,
    "start_time": "2022-07-08T15:11:16.001Z"
   }
  ],
  "kernelspec": {
   "display_name": "Python 3 (ipykernel)",
   "language": "python",
   "name": "python3"
  },
  "language_info": {
   "codemirror_mode": {
    "name": "ipython",
    "version": 3
   },
   "file_extension": ".py",
   "mimetype": "text/x-python",
   "name": "python",
   "nbconvert_exporter": "python",
   "pygments_lexer": "ipython3",
   "version": "3.7.8"
  },
  "toc": {
   "base_numbering": 1,
   "nav_menu": {},
   "number_sections": true,
   "sideBar": true,
   "skip_h1_title": true,
   "title_cell": "Table of Contents",
   "title_sidebar": "Contents",
   "toc_cell": false,
   "toc_position": {
    "height": "calc(100% - 180px)",
    "left": "10px",
    "top": "150px",
    "width": "240px"
   },
   "toc_section_display": true,
   "toc_window_display": true
  }
 },
 "nbformat": 4,
 "nbformat_minor": 2
}
