{
 "cells": [
  {
   "cell_type": "markdown",
   "metadata": {},
   "source": [
    "# Построение различных моделей машинного обучения для прогнозирования ухода клиентов из банка, повышение качества моделей"
   ]
  },
  {
   "cell_type": "markdown",
   "metadata": {},
   "source": [
    "## 1 Подготовка данных"
   ]
  },
  {
   "cell_type": "code",
   "execution_count": 56,
   "metadata": {},
   "outputs": [],
   "source": [
    "import pandas as pd\n",
    "import numpy as np\n",
    "import matplotlib.pyplot as plt\n",
    "from sklearn.preprocessing import OrdinalEncoder\n",
    "from sklearn.preprocessing import StandardScaler\n",
    "from sklearn.model_selection import train_test_split\n",
    "from sklearn.tree import DecisionTreeClassifier\n",
    "from sklearn.ensemble import RandomForestClassifier\n",
    "from sklearn.linear_model import LogisticRegression\n",
    "from sklearn.metrics import accuracy_score\n",
    "from sklearn.metrics import confusion_matrix\n",
    "from sklearn.metrics import recall_score\n",
    "from sklearn.metrics import precision_score\n",
    "from sklearn.metrics import f1_score\n",
    "from sklearn.metrics import roc_auc_score\n",
    "from sklearn.metrics import roc_curve\n",
    "from sklearn.utils import shuffle\n",
    "\n",
    "pd.set_option('display.max_columns', None)"
   ]
  },
  {
   "cell_type": "code",
   "execution_count": 57,
   "metadata": {
    "scrolled": false
   },
   "outputs": [
    {
     "data": {
      "text/html": [
       "<div>\n",
       "<style scoped>\n",
       "    .dataframe tbody tr th:only-of-type {\n",
       "        vertical-align: middle;\n",
       "    }\n",
       "\n",
       "    .dataframe tbody tr th {\n",
       "        vertical-align: top;\n",
       "    }\n",
       "\n",
       "    .dataframe thead th {\n",
       "        text-align: right;\n",
       "    }\n",
       "</style>\n",
       "<table border=\"1\" class=\"dataframe\">\n",
       "  <thead>\n",
       "    <tr style=\"text-align: right;\">\n",
       "      <th></th>\n",
       "      <th>RowNumber</th>\n",
       "      <th>CustomerId</th>\n",
       "      <th>Surname</th>\n",
       "      <th>CreditScore</th>\n",
       "      <th>Geography</th>\n",
       "      <th>Gender</th>\n",
       "      <th>Age</th>\n",
       "      <th>Tenure</th>\n",
       "      <th>Balance</th>\n",
       "      <th>NumOfProducts</th>\n",
       "      <th>HasCrCard</th>\n",
       "      <th>IsActiveMember</th>\n",
       "      <th>EstimatedSalary</th>\n",
       "      <th>Exited</th>\n",
       "    </tr>\n",
       "  </thead>\n",
       "  <tbody>\n",
       "    <tr>\n",
       "      <th>0</th>\n",
       "      <td>1</td>\n",
       "      <td>15634602</td>\n",
       "      <td>Hargrave</td>\n",
       "      <td>619</td>\n",
       "      <td>France</td>\n",
       "      <td>Female</td>\n",
       "      <td>42</td>\n",
       "      <td>2.0</td>\n",
       "      <td>0.00</td>\n",
       "      <td>1</td>\n",
       "      <td>1</td>\n",
       "      <td>1</td>\n",
       "      <td>101348.88</td>\n",
       "      <td>1</td>\n",
       "    </tr>\n",
       "    <tr>\n",
       "      <th>1</th>\n",
       "      <td>2</td>\n",
       "      <td>15647311</td>\n",
       "      <td>Hill</td>\n",
       "      <td>608</td>\n",
       "      <td>Spain</td>\n",
       "      <td>Female</td>\n",
       "      <td>41</td>\n",
       "      <td>1.0</td>\n",
       "      <td>83807.86</td>\n",
       "      <td>1</td>\n",
       "      <td>0</td>\n",
       "      <td>1</td>\n",
       "      <td>112542.58</td>\n",
       "      <td>0</td>\n",
       "    </tr>\n",
       "    <tr>\n",
       "      <th>2</th>\n",
       "      <td>3</td>\n",
       "      <td>15619304</td>\n",
       "      <td>Onio</td>\n",
       "      <td>502</td>\n",
       "      <td>France</td>\n",
       "      <td>Female</td>\n",
       "      <td>42</td>\n",
       "      <td>8.0</td>\n",
       "      <td>159660.80</td>\n",
       "      <td>3</td>\n",
       "      <td>1</td>\n",
       "      <td>0</td>\n",
       "      <td>113931.57</td>\n",
       "      <td>1</td>\n",
       "    </tr>\n",
       "    <tr>\n",
       "      <th>3</th>\n",
       "      <td>4</td>\n",
       "      <td>15701354</td>\n",
       "      <td>Boni</td>\n",
       "      <td>699</td>\n",
       "      <td>France</td>\n",
       "      <td>Female</td>\n",
       "      <td>39</td>\n",
       "      <td>1.0</td>\n",
       "      <td>0.00</td>\n",
       "      <td>2</td>\n",
       "      <td>0</td>\n",
       "      <td>0</td>\n",
       "      <td>93826.63</td>\n",
       "      <td>0</td>\n",
       "    </tr>\n",
       "    <tr>\n",
       "      <th>4</th>\n",
       "      <td>5</td>\n",
       "      <td>15737888</td>\n",
       "      <td>Mitchell</td>\n",
       "      <td>850</td>\n",
       "      <td>Spain</td>\n",
       "      <td>Female</td>\n",
       "      <td>43</td>\n",
       "      <td>2.0</td>\n",
       "      <td>125510.82</td>\n",
       "      <td>1</td>\n",
       "      <td>1</td>\n",
       "      <td>1</td>\n",
       "      <td>79084.10</td>\n",
       "      <td>0</td>\n",
       "    </tr>\n",
       "    <tr>\n",
       "      <th>...</th>\n",
       "      <td>...</td>\n",
       "      <td>...</td>\n",
       "      <td>...</td>\n",
       "      <td>...</td>\n",
       "      <td>...</td>\n",
       "      <td>...</td>\n",
       "      <td>...</td>\n",
       "      <td>...</td>\n",
       "      <td>...</td>\n",
       "      <td>...</td>\n",
       "      <td>...</td>\n",
       "      <td>...</td>\n",
       "      <td>...</td>\n",
       "      <td>...</td>\n",
       "    </tr>\n",
       "    <tr>\n",
       "      <th>9995</th>\n",
       "      <td>9996</td>\n",
       "      <td>15606229</td>\n",
       "      <td>Obijiaku</td>\n",
       "      <td>771</td>\n",
       "      <td>France</td>\n",
       "      <td>Male</td>\n",
       "      <td>39</td>\n",
       "      <td>5.0</td>\n",
       "      <td>0.00</td>\n",
       "      <td>2</td>\n",
       "      <td>1</td>\n",
       "      <td>0</td>\n",
       "      <td>96270.64</td>\n",
       "      <td>0</td>\n",
       "    </tr>\n",
       "    <tr>\n",
       "      <th>9996</th>\n",
       "      <td>9997</td>\n",
       "      <td>15569892</td>\n",
       "      <td>Johnstone</td>\n",
       "      <td>516</td>\n",
       "      <td>France</td>\n",
       "      <td>Male</td>\n",
       "      <td>35</td>\n",
       "      <td>10.0</td>\n",
       "      <td>57369.61</td>\n",
       "      <td>1</td>\n",
       "      <td>1</td>\n",
       "      <td>1</td>\n",
       "      <td>101699.77</td>\n",
       "      <td>0</td>\n",
       "    </tr>\n",
       "    <tr>\n",
       "      <th>9997</th>\n",
       "      <td>9998</td>\n",
       "      <td>15584532</td>\n",
       "      <td>Liu</td>\n",
       "      <td>709</td>\n",
       "      <td>France</td>\n",
       "      <td>Female</td>\n",
       "      <td>36</td>\n",
       "      <td>7.0</td>\n",
       "      <td>0.00</td>\n",
       "      <td>1</td>\n",
       "      <td>0</td>\n",
       "      <td>1</td>\n",
       "      <td>42085.58</td>\n",
       "      <td>1</td>\n",
       "    </tr>\n",
       "    <tr>\n",
       "      <th>9998</th>\n",
       "      <td>9999</td>\n",
       "      <td>15682355</td>\n",
       "      <td>Sabbatini</td>\n",
       "      <td>772</td>\n",
       "      <td>Germany</td>\n",
       "      <td>Male</td>\n",
       "      <td>42</td>\n",
       "      <td>3.0</td>\n",
       "      <td>75075.31</td>\n",
       "      <td>2</td>\n",
       "      <td>1</td>\n",
       "      <td>0</td>\n",
       "      <td>92888.52</td>\n",
       "      <td>1</td>\n",
       "    </tr>\n",
       "    <tr>\n",
       "      <th>9999</th>\n",
       "      <td>10000</td>\n",
       "      <td>15628319</td>\n",
       "      <td>Walker</td>\n",
       "      <td>792</td>\n",
       "      <td>France</td>\n",
       "      <td>Female</td>\n",
       "      <td>28</td>\n",
       "      <td>NaN</td>\n",
       "      <td>130142.79</td>\n",
       "      <td>1</td>\n",
       "      <td>1</td>\n",
       "      <td>0</td>\n",
       "      <td>38190.78</td>\n",
       "      <td>0</td>\n",
       "    </tr>\n",
       "  </tbody>\n",
       "</table>\n",
       "<p>10000 rows × 14 columns</p>\n",
       "</div>"
      ],
      "text/plain": [
       "      RowNumber  CustomerId    Surname  CreditScore Geography  Gender  Age  \\\n",
       "0             1    15634602   Hargrave          619    France  Female   42   \n",
       "1             2    15647311       Hill          608     Spain  Female   41   \n",
       "2             3    15619304       Onio          502    France  Female   42   \n",
       "3             4    15701354       Boni          699    France  Female   39   \n",
       "4             5    15737888   Mitchell          850     Spain  Female   43   \n",
       "...         ...         ...        ...          ...       ...     ...  ...   \n",
       "9995       9996    15606229   Obijiaku          771    France    Male   39   \n",
       "9996       9997    15569892  Johnstone          516    France    Male   35   \n",
       "9997       9998    15584532        Liu          709    France  Female   36   \n",
       "9998       9999    15682355  Sabbatini          772   Germany    Male   42   \n",
       "9999      10000    15628319     Walker          792    France  Female   28   \n",
       "\n",
       "      Tenure    Balance  NumOfProducts  HasCrCard  IsActiveMember  \\\n",
       "0        2.0       0.00              1          1               1   \n",
       "1        1.0   83807.86              1          0               1   \n",
       "2        8.0  159660.80              3          1               0   \n",
       "3        1.0       0.00              2          0               0   \n",
       "4        2.0  125510.82              1          1               1   \n",
       "...      ...        ...            ...        ...             ...   \n",
       "9995     5.0       0.00              2          1               0   \n",
       "9996    10.0   57369.61              1          1               1   \n",
       "9997     7.0       0.00              1          0               1   \n",
       "9998     3.0   75075.31              2          1               0   \n",
       "9999     NaN  130142.79              1          1               0   \n",
       "\n",
       "      EstimatedSalary  Exited  \n",
       "0           101348.88       1  \n",
       "1           112542.58       0  \n",
       "2           113931.57       1  \n",
       "3            93826.63       0  \n",
       "4            79084.10       0  \n",
       "...               ...     ...  \n",
       "9995         96270.64       0  \n",
       "9996        101699.77       0  \n",
       "9997         42085.58       1  \n",
       "9998         92888.52       1  \n",
       "9999         38190.78       0  \n",
       "\n",
       "[10000 rows x 14 columns]"
      ]
     },
     "metadata": {},
     "output_type": "display_data"
    }
   ],
   "source": [
    "df = pd.read_csv('/datasets/Churn.csv')\n",
    "display(df)"
   ]
  },
  {
   "cell_type": "markdown",
   "metadata": {},
   "source": [
    "<font size=\"4\"><b>Описание данных в таблице</b></font>\n",
    "\n",
    "<b>Признаки:</b>\n",
    "\n",
    "•\tRowNumber — индекс строки в данных,\n",
    "\n",
    "•\tCustomerId — уникальный идентификатор клиента,\n",
    "\n",
    "•\tSurname — фамилия,\n",
    "\n",
    "•\tCreditScore — кредитный рейтинг,\n",
    "\n",
    "•\tGeography — страна проживания,\n",
    "\n",
    "•\tGender — пол,\n",
    "\n",
    "•\tAge — возраст,\n",
    "\n",
    "•\tTenure — сколько лет человек является клиентом банка,\n",
    "\n",
    "•\tBalance — баланс на счёте,\n",
    "\n",
    "•\tNumOfProducts — количество продуктов банка, используемых клиентом,\n",
    "\n",
    "•\tHasCrCard — наличие кредитной карты,\n",
    "\n",
    "•\tIsActiveMember — активность клиента,\n",
    "\n",
    "•\tEstimatedSalary — предполагаемая зарплата.\n",
    "\n",
    "<b>Целевой признак:</b>\n",
    "\n",
    "•\tExited — факт ухода клиента"
   ]
  },
  {
   "cell_type": "code",
   "execution_count": 58,
   "metadata": {},
   "outputs": [
    {
     "name": "stdout",
     "output_type": "stream",
     "text": [
      "<class 'pandas.core.frame.DataFrame'>\n",
      "RangeIndex: 10000 entries, 0 to 9999\n",
      "Data columns (total 14 columns):\n",
      " #   Column           Non-Null Count  Dtype  \n",
      "---  ------           --------------  -----  \n",
      " 0   RowNumber        10000 non-null  int64  \n",
      " 1   CustomerId       10000 non-null  int64  \n",
      " 2   Surname          10000 non-null  object \n",
      " 3   CreditScore      10000 non-null  int64  \n",
      " 4   Geography        10000 non-null  object \n",
      " 5   Gender           10000 non-null  object \n",
      " 6   Age              10000 non-null  int64  \n",
      " 7   Tenure           9091 non-null   float64\n",
      " 8   Balance          10000 non-null  float64\n",
      " 9   NumOfProducts    10000 non-null  int64  \n",
      " 10  HasCrCard        10000 non-null  int64  \n",
      " 11  IsActiveMember   10000 non-null  int64  \n",
      " 12  EstimatedSalary  10000 non-null  float64\n",
      " 13  Exited           10000 non-null  int64  \n",
      "dtypes: float64(3), int64(8), object(3)\n",
      "memory usage: 1.1+ MB\n",
      "None\n"
     ]
    }
   ],
   "source": [
    "print(df.info())"
   ]
  },
  {
   "cell_type": "markdown",
   "metadata": {},
   "source": [
    "<b>В столбце 'Tenure' имеются пропуски, возможно это те кто является клиентом меньше года, заменим их на 0:</b>"
   ]
  },
  {
   "cell_type": "code",
   "execution_count": 59,
   "metadata": {},
   "outputs": [
    {
     "name": "stdout",
     "output_type": "stream",
     "text": [
      "<class 'pandas.core.frame.DataFrame'>\n",
      "RangeIndex: 10000 entries, 0 to 9999\n",
      "Data columns (total 14 columns):\n",
      " #   Column           Non-Null Count  Dtype  \n",
      "---  ------           --------------  -----  \n",
      " 0   RowNumber        10000 non-null  int64  \n",
      " 1   CustomerId       10000 non-null  int64  \n",
      " 2   Surname          10000 non-null  object \n",
      " 3   CreditScore      10000 non-null  int64  \n",
      " 4   Geography        10000 non-null  object \n",
      " 5   Gender           10000 non-null  object \n",
      " 6   Age              10000 non-null  int64  \n",
      " 7   Tenure           10000 non-null  float64\n",
      " 8   Balance          10000 non-null  float64\n",
      " 9   NumOfProducts    10000 non-null  int64  \n",
      " 10  HasCrCard        10000 non-null  int64  \n",
      " 11  IsActiveMember   10000 non-null  int64  \n",
      " 12  EstimatedSalary  10000 non-null  float64\n",
      " 13  Exited           10000 non-null  int64  \n",
      "dtypes: float64(3), int64(8), object(3)\n",
      "memory usage: 1.1+ MB\n",
      "None\n"
     ]
    }
   ],
   "source": [
    "df['Tenure'] = df['Tenure'].fillna(0)\n",
    "print(df.info())"
   ]
  },
  {
   "cell_type": "markdown",
   "metadata": {},
   "source": [
    "<b>Вывод</b>\n",
    "\n",
    "После изучения и подготовки данных можно сказать:\n",
    "\n",
    "- таблица включает 14 столбцов и 10 000 строк (объектов) данных;\n",
    "\n",
    "- пропусков в столбце 'Tenure' заменены на 0;\n",
    "\n",
    "- данные приведены к нужным типам;\n",
    "\n",
    "- таблица будет включать 2 набора данных: признаки - столбцы 'RowNumber', 'CustomerId', 'Surname', 'CreditScore', 'Geography', 'Gender', 'Age', 'Tenure', 'Balance', 'NumOfProducts', 'HasCrCard', 'IsActiveMember', 'EstimatedSalary', а также целевой признак столбец 'Exited' - факт ухода клиента — 1 или клиент остается — 0;\n",
    "\n",
    "- перед нами будет стоять задача классификации, т.к. целевой признак уже разбит на 2 категории - уход клиента — 1 и не уход клиента — 0."
   ]
  },
  {
   "cell_type": "markdown",
   "metadata": {},
   "source": [
    "## 2 Исследование задачи"
   ]
  },
  {
   "cell_type": "markdown",
   "metadata": {},
   "source": [
    "### 2.1 Подготовим данные для проведения исследования"
   ]
  },
  {
   "cell_type": "code",
   "execution_count": 60,
   "metadata": {},
   "outputs": [
    {
     "data": {
      "text/html": [
       "<div>\n",
       "<style scoped>\n",
       "    .dataframe tbody tr th:only-of-type {\n",
       "        vertical-align: middle;\n",
       "    }\n",
       "\n",
       "    .dataframe tbody tr th {\n",
       "        vertical-align: top;\n",
       "    }\n",
       "\n",
       "    .dataframe thead th {\n",
       "        text-align: right;\n",
       "    }\n",
       "</style>\n",
       "<table border=\"1\" class=\"dataframe\">\n",
       "  <thead>\n",
       "    <tr style=\"text-align: right;\">\n",
       "      <th></th>\n",
       "      <th>CreditScore</th>\n",
       "      <th>Geography</th>\n",
       "      <th>Gender</th>\n",
       "      <th>Age</th>\n",
       "      <th>Tenure</th>\n",
       "      <th>Balance</th>\n",
       "      <th>NumOfProducts</th>\n",
       "      <th>HasCrCard</th>\n",
       "      <th>IsActiveMember</th>\n",
       "      <th>EstimatedSalary</th>\n",
       "      <th>Exited</th>\n",
       "    </tr>\n",
       "  </thead>\n",
       "  <tbody>\n",
       "    <tr>\n",
       "      <th>0</th>\n",
       "      <td>619</td>\n",
       "      <td>France</td>\n",
       "      <td>Female</td>\n",
       "      <td>42</td>\n",
       "      <td>2.0</td>\n",
       "      <td>0.00</td>\n",
       "      <td>1</td>\n",
       "      <td>1</td>\n",
       "      <td>1</td>\n",
       "      <td>101348.88</td>\n",
       "      <td>1</td>\n",
       "    </tr>\n",
       "    <tr>\n",
       "      <th>1</th>\n",
       "      <td>608</td>\n",
       "      <td>Spain</td>\n",
       "      <td>Female</td>\n",
       "      <td>41</td>\n",
       "      <td>1.0</td>\n",
       "      <td>83807.86</td>\n",
       "      <td>1</td>\n",
       "      <td>0</td>\n",
       "      <td>1</td>\n",
       "      <td>112542.58</td>\n",
       "      <td>0</td>\n",
       "    </tr>\n",
       "    <tr>\n",
       "      <th>2</th>\n",
       "      <td>502</td>\n",
       "      <td>France</td>\n",
       "      <td>Female</td>\n",
       "      <td>42</td>\n",
       "      <td>8.0</td>\n",
       "      <td>159660.80</td>\n",
       "      <td>3</td>\n",
       "      <td>1</td>\n",
       "      <td>0</td>\n",
       "      <td>113931.57</td>\n",
       "      <td>1</td>\n",
       "    </tr>\n",
       "    <tr>\n",
       "      <th>3</th>\n",
       "      <td>699</td>\n",
       "      <td>France</td>\n",
       "      <td>Female</td>\n",
       "      <td>39</td>\n",
       "      <td>1.0</td>\n",
       "      <td>0.00</td>\n",
       "      <td>2</td>\n",
       "      <td>0</td>\n",
       "      <td>0</td>\n",
       "      <td>93826.63</td>\n",
       "      <td>0</td>\n",
       "    </tr>\n",
       "    <tr>\n",
       "      <th>4</th>\n",
       "      <td>850</td>\n",
       "      <td>Spain</td>\n",
       "      <td>Female</td>\n",
       "      <td>43</td>\n",
       "      <td>2.0</td>\n",
       "      <td>125510.82</td>\n",
       "      <td>1</td>\n",
       "      <td>1</td>\n",
       "      <td>1</td>\n",
       "      <td>79084.10</td>\n",
       "      <td>0</td>\n",
       "    </tr>\n",
       "    <tr>\n",
       "      <th>...</th>\n",
       "      <td>...</td>\n",
       "      <td>...</td>\n",
       "      <td>...</td>\n",
       "      <td>...</td>\n",
       "      <td>...</td>\n",
       "      <td>...</td>\n",
       "      <td>...</td>\n",
       "      <td>...</td>\n",
       "      <td>...</td>\n",
       "      <td>...</td>\n",
       "      <td>...</td>\n",
       "    </tr>\n",
       "    <tr>\n",
       "      <th>9995</th>\n",
       "      <td>771</td>\n",
       "      <td>France</td>\n",
       "      <td>Male</td>\n",
       "      <td>39</td>\n",
       "      <td>5.0</td>\n",
       "      <td>0.00</td>\n",
       "      <td>2</td>\n",
       "      <td>1</td>\n",
       "      <td>0</td>\n",
       "      <td>96270.64</td>\n",
       "      <td>0</td>\n",
       "    </tr>\n",
       "    <tr>\n",
       "      <th>9996</th>\n",
       "      <td>516</td>\n",
       "      <td>France</td>\n",
       "      <td>Male</td>\n",
       "      <td>35</td>\n",
       "      <td>10.0</td>\n",
       "      <td>57369.61</td>\n",
       "      <td>1</td>\n",
       "      <td>1</td>\n",
       "      <td>1</td>\n",
       "      <td>101699.77</td>\n",
       "      <td>0</td>\n",
       "    </tr>\n",
       "    <tr>\n",
       "      <th>9997</th>\n",
       "      <td>709</td>\n",
       "      <td>France</td>\n",
       "      <td>Female</td>\n",
       "      <td>36</td>\n",
       "      <td>7.0</td>\n",
       "      <td>0.00</td>\n",
       "      <td>1</td>\n",
       "      <td>0</td>\n",
       "      <td>1</td>\n",
       "      <td>42085.58</td>\n",
       "      <td>1</td>\n",
       "    </tr>\n",
       "    <tr>\n",
       "      <th>9998</th>\n",
       "      <td>772</td>\n",
       "      <td>Germany</td>\n",
       "      <td>Male</td>\n",
       "      <td>42</td>\n",
       "      <td>3.0</td>\n",
       "      <td>75075.31</td>\n",
       "      <td>2</td>\n",
       "      <td>1</td>\n",
       "      <td>0</td>\n",
       "      <td>92888.52</td>\n",
       "      <td>1</td>\n",
       "    </tr>\n",
       "    <tr>\n",
       "      <th>9999</th>\n",
       "      <td>792</td>\n",
       "      <td>France</td>\n",
       "      <td>Female</td>\n",
       "      <td>28</td>\n",
       "      <td>0.0</td>\n",
       "      <td>130142.79</td>\n",
       "      <td>1</td>\n",
       "      <td>1</td>\n",
       "      <td>0</td>\n",
       "      <td>38190.78</td>\n",
       "      <td>0</td>\n",
       "    </tr>\n",
       "  </tbody>\n",
       "</table>\n",
       "<p>10000 rows × 11 columns</p>\n",
       "</div>"
      ],
      "text/plain": [
       "      CreditScore Geography  Gender  Age  Tenure    Balance  NumOfProducts  \\\n",
       "0             619    France  Female   42     2.0       0.00              1   \n",
       "1             608     Spain  Female   41     1.0   83807.86              1   \n",
       "2             502    France  Female   42     8.0  159660.80              3   \n",
       "3             699    France  Female   39     1.0       0.00              2   \n",
       "4             850     Spain  Female   43     2.0  125510.82              1   \n",
       "...           ...       ...     ...  ...     ...        ...            ...   \n",
       "9995          771    France    Male   39     5.0       0.00              2   \n",
       "9996          516    France    Male   35    10.0   57369.61              1   \n",
       "9997          709    France  Female   36     7.0       0.00              1   \n",
       "9998          772   Germany    Male   42     3.0   75075.31              2   \n",
       "9999          792    France  Female   28     0.0  130142.79              1   \n",
       "\n",
       "      HasCrCard  IsActiveMember  EstimatedSalary  Exited  \n",
       "0             1               1        101348.88       1  \n",
       "1             0               1        112542.58       0  \n",
       "2             1               0        113931.57       1  \n",
       "3             0               0         93826.63       0  \n",
       "4             1               1         79084.10       0  \n",
       "...         ...             ...              ...     ...  \n",
       "9995          1               0         96270.64       0  \n",
       "9996          1               1        101699.77       0  \n",
       "9997          0               1         42085.58       1  \n",
       "9998          1               0         92888.52       1  \n",
       "9999          1               0         38190.78       0  \n",
       "\n",
       "[10000 rows x 11 columns]"
      ]
     },
     "metadata": {},
     "output_type": "display_data"
    }
   ],
   "source": [
    "df = df.drop(['RowNumber', 'CustomerId', 'Surname'], axis=1)\n",
    "display(df)"
   ]
  },
  {
   "cell_type": "markdown",
   "metadata": {},
   "source": [
    "#### Проведем порядковое кодирование столбцов с категориальными признаками"
   ]
  },
  {
   "cell_type": "code",
   "execution_count": 61,
   "metadata": {
    "scrolled": false
   },
   "outputs": [
    {
     "data": {
      "text/html": [
       "<div>\n",
       "<style scoped>\n",
       "    .dataframe tbody tr th:only-of-type {\n",
       "        vertical-align: middle;\n",
       "    }\n",
       "\n",
       "    .dataframe tbody tr th {\n",
       "        vertical-align: top;\n",
       "    }\n",
       "\n",
       "    .dataframe thead th {\n",
       "        text-align: right;\n",
       "    }\n",
       "</style>\n",
       "<table border=\"1\" class=\"dataframe\">\n",
       "  <thead>\n",
       "    <tr style=\"text-align: right;\">\n",
       "      <th></th>\n",
       "      <th>CreditScore</th>\n",
       "      <th>Geography</th>\n",
       "      <th>Gender</th>\n",
       "      <th>Age</th>\n",
       "      <th>Tenure</th>\n",
       "      <th>Balance</th>\n",
       "      <th>NumOfProducts</th>\n",
       "      <th>HasCrCard</th>\n",
       "      <th>IsActiveMember</th>\n",
       "      <th>EstimatedSalary</th>\n",
       "      <th>Exited</th>\n",
       "    </tr>\n",
       "  </thead>\n",
       "  <tbody>\n",
       "    <tr>\n",
       "      <th>0</th>\n",
       "      <td>619</td>\n",
       "      <td>0.0</td>\n",
       "      <td>0.0</td>\n",
       "      <td>42</td>\n",
       "      <td>2.0</td>\n",
       "      <td>0.00</td>\n",
       "      <td>1</td>\n",
       "      <td>1</td>\n",
       "      <td>1</td>\n",
       "      <td>101348.88</td>\n",
       "      <td>1</td>\n",
       "    </tr>\n",
       "    <tr>\n",
       "      <th>1</th>\n",
       "      <td>608</td>\n",
       "      <td>2.0</td>\n",
       "      <td>0.0</td>\n",
       "      <td>41</td>\n",
       "      <td>1.0</td>\n",
       "      <td>83807.86</td>\n",
       "      <td>1</td>\n",
       "      <td>0</td>\n",
       "      <td>1</td>\n",
       "      <td>112542.58</td>\n",
       "      <td>0</td>\n",
       "    </tr>\n",
       "    <tr>\n",
       "      <th>2</th>\n",
       "      <td>502</td>\n",
       "      <td>0.0</td>\n",
       "      <td>0.0</td>\n",
       "      <td>42</td>\n",
       "      <td>8.0</td>\n",
       "      <td>159660.80</td>\n",
       "      <td>3</td>\n",
       "      <td>1</td>\n",
       "      <td>0</td>\n",
       "      <td>113931.57</td>\n",
       "      <td>1</td>\n",
       "    </tr>\n",
       "    <tr>\n",
       "      <th>3</th>\n",
       "      <td>699</td>\n",
       "      <td>0.0</td>\n",
       "      <td>0.0</td>\n",
       "      <td>39</td>\n",
       "      <td>1.0</td>\n",
       "      <td>0.00</td>\n",
       "      <td>2</td>\n",
       "      <td>0</td>\n",
       "      <td>0</td>\n",
       "      <td>93826.63</td>\n",
       "      <td>0</td>\n",
       "    </tr>\n",
       "    <tr>\n",
       "      <th>4</th>\n",
       "      <td>850</td>\n",
       "      <td>2.0</td>\n",
       "      <td>0.0</td>\n",
       "      <td>43</td>\n",
       "      <td>2.0</td>\n",
       "      <td>125510.82</td>\n",
       "      <td>1</td>\n",
       "      <td>1</td>\n",
       "      <td>1</td>\n",
       "      <td>79084.10</td>\n",
       "      <td>0</td>\n",
       "    </tr>\n",
       "    <tr>\n",
       "      <th>...</th>\n",
       "      <td>...</td>\n",
       "      <td>...</td>\n",
       "      <td>...</td>\n",
       "      <td>...</td>\n",
       "      <td>...</td>\n",
       "      <td>...</td>\n",
       "      <td>...</td>\n",
       "      <td>...</td>\n",
       "      <td>...</td>\n",
       "      <td>...</td>\n",
       "      <td>...</td>\n",
       "    </tr>\n",
       "    <tr>\n",
       "      <th>9995</th>\n",
       "      <td>771</td>\n",
       "      <td>0.0</td>\n",
       "      <td>1.0</td>\n",
       "      <td>39</td>\n",
       "      <td>5.0</td>\n",
       "      <td>0.00</td>\n",
       "      <td>2</td>\n",
       "      <td>1</td>\n",
       "      <td>0</td>\n",
       "      <td>96270.64</td>\n",
       "      <td>0</td>\n",
       "    </tr>\n",
       "    <tr>\n",
       "      <th>9996</th>\n",
       "      <td>516</td>\n",
       "      <td>0.0</td>\n",
       "      <td>1.0</td>\n",
       "      <td>35</td>\n",
       "      <td>10.0</td>\n",
       "      <td>57369.61</td>\n",
       "      <td>1</td>\n",
       "      <td>1</td>\n",
       "      <td>1</td>\n",
       "      <td>101699.77</td>\n",
       "      <td>0</td>\n",
       "    </tr>\n",
       "    <tr>\n",
       "      <th>9997</th>\n",
       "      <td>709</td>\n",
       "      <td>0.0</td>\n",
       "      <td>0.0</td>\n",
       "      <td>36</td>\n",
       "      <td>7.0</td>\n",
       "      <td>0.00</td>\n",
       "      <td>1</td>\n",
       "      <td>0</td>\n",
       "      <td>1</td>\n",
       "      <td>42085.58</td>\n",
       "      <td>1</td>\n",
       "    </tr>\n",
       "    <tr>\n",
       "      <th>9998</th>\n",
       "      <td>772</td>\n",
       "      <td>1.0</td>\n",
       "      <td>1.0</td>\n",
       "      <td>42</td>\n",
       "      <td>3.0</td>\n",
       "      <td>75075.31</td>\n",
       "      <td>2</td>\n",
       "      <td>1</td>\n",
       "      <td>0</td>\n",
       "      <td>92888.52</td>\n",
       "      <td>1</td>\n",
       "    </tr>\n",
       "    <tr>\n",
       "      <th>9999</th>\n",
       "      <td>792</td>\n",
       "      <td>0.0</td>\n",
       "      <td>0.0</td>\n",
       "      <td>28</td>\n",
       "      <td>0.0</td>\n",
       "      <td>130142.79</td>\n",
       "      <td>1</td>\n",
       "      <td>1</td>\n",
       "      <td>0</td>\n",
       "      <td>38190.78</td>\n",
       "      <td>0</td>\n",
       "    </tr>\n",
       "  </tbody>\n",
       "</table>\n",
       "<p>10000 rows × 11 columns</p>\n",
       "</div>"
      ],
      "text/plain": [
       "      CreditScore  Geography  Gender  Age  Tenure    Balance  NumOfProducts  \\\n",
       "0             619        0.0     0.0   42     2.0       0.00              1   \n",
       "1             608        2.0     0.0   41     1.0   83807.86              1   \n",
       "2             502        0.0     0.0   42     8.0  159660.80              3   \n",
       "3             699        0.0     0.0   39     1.0       0.00              2   \n",
       "4             850        2.0     0.0   43     2.0  125510.82              1   \n",
       "...           ...        ...     ...  ...     ...        ...            ...   \n",
       "9995          771        0.0     1.0   39     5.0       0.00              2   \n",
       "9996          516        0.0     1.0   35    10.0   57369.61              1   \n",
       "9997          709        0.0     0.0   36     7.0       0.00              1   \n",
       "9998          772        1.0     1.0   42     3.0   75075.31              2   \n",
       "9999          792        0.0     0.0   28     0.0  130142.79              1   \n",
       "\n",
       "      HasCrCard  IsActiveMember  EstimatedSalary  Exited  \n",
       "0             1               1        101348.88       1  \n",
       "1             0               1        112542.58       0  \n",
       "2             1               0        113931.57       1  \n",
       "3             0               0         93826.63       0  \n",
       "4             1               1         79084.10       0  \n",
       "...         ...             ...              ...     ...  \n",
       "9995          1               0         96270.64       0  \n",
       "9996          1               1        101699.77       0  \n",
       "9997          0               1         42085.58       1  \n",
       "9998          1               0         92888.52       1  \n",
       "9999          1               0         38190.78       0  \n",
       "\n",
       "[10000 rows x 11 columns]"
      ]
     },
     "metadata": {},
     "output_type": "display_data"
    }
   ],
   "source": [
    "# Проведем прямое кодирование столбцов 'Geography', 'Gender' с категориальными признаками\n",
    "encoder = OrdinalEncoder()\n",
    "\n",
    "df[['Geography', 'Gender']] = encoder.fit_transform(df[['Geography', 'Gender']])\n",
    "display(df)"
   ]
  },
  {
   "cell_type": "code",
   "execution_count": 62,
   "metadata": {},
   "outputs": [
    {
     "name": "stdout",
     "output_type": "stream",
     "text": [
      "CreditScore          int64\n",
      "Geography          float64\n",
      "Gender             float64\n",
      "Age                  int64\n",
      "Tenure             float64\n",
      "Balance            float64\n",
      "NumOfProducts        int64\n",
      "HasCrCard            int64\n",
      "IsActiveMember       int64\n",
      "EstimatedSalary    float64\n",
      "Exited               int64\n",
      "dtype: object\n"
     ]
    },
    {
     "data": {
      "text/plain": [
       "0.0    5014\n",
       "1.0    2509\n",
       "2.0    2477\n",
       "Name: Geography, dtype: int64"
      ]
     },
     "metadata": {},
     "output_type": "display_data"
    },
    {
     "data": {
      "text/plain": [
       "1.0    5457\n",
       "0.0    4543\n",
       "Name: Gender, dtype: int64"
      ]
     },
     "metadata": {},
     "output_type": "display_data"
    }
   ],
   "source": [
    "print(df.dtypes)\n",
    "display(df['Geography'].value_counts())\n",
    "display(df['Gender'].value_counts())"
   ]
  },
  {
   "cell_type": "markdown",
   "metadata": {},
   "source": [
    "    Прямое кодирование проведено, тип данных столбцов поменялся на float."
   ]
  },
  {
   "cell_type": "markdown",
   "metadata": {},
   "source": [
    "### 2.2 Разобъем данные на 3 выборки: обучающую, валидационную и тестовую и исследуем баланс классов"
   ]
  },
  {
   "cell_type": "code",
   "execution_count": 64,
   "metadata": {},
   "outputs": [
    {
     "name": "stdout",
     "output_type": "stream",
     "text": [
      "0    0.7963\n",
      "1    0.2037\n",
      "Name: Exited, dtype: float64\n"
     ]
    }
   ],
   "source": [
    "# Поделим всю таблицу на 2 группы: признаки df_features и целевые признаки df_target\n",
    "df_features = df.drop(['Exited'], axis=1)\n",
    "df_target = df['Exited']\n",
    "\n",
    "# Баланс классов 'df_target'\n",
    "frequency_df = df_target.value_counts(normalize=2/len(df_target))\n",
    "print(frequency_df)"
   ]
  },
  {
   "cell_type": "markdown",
   "metadata": {},
   "source": [
    "<b>Вывод</b>\n",
    "\n",
    "В классах целевого признака общей таблицы имеется дисбаланс: примерно 80 % отрицательных классов и 20 % положительных классов. "
   ]
  },
  {
   "cell_type": "code",
   "execution_count": 65,
   "metadata": {},
   "outputs": [
    {
     "data": {
      "text/plain": [
       "(6000,)"
      ]
     },
     "metadata": {},
     "output_type": "display_data"
    },
    {
     "data": {
      "text/plain": [
       "(4000,)"
      ]
     },
     "metadata": {},
     "output_type": "display_data"
    }
   ],
   "source": [
    "# Разделим данные на 2 выборки: обучающую и дополнительную (для валидации и теста)\n",
    "features_train, features_valid_test, target_train, target_valid_test = train_test_split(\n",
    "    df_features, df_target, test_size=0.4, random_state=12345)\n",
    "\n",
    "display(target_train.shape)\n",
    "display(target_valid_test.shape)"
   ]
  },
  {
   "cell_type": "code",
   "execution_count": 66,
   "metadata": {},
   "outputs": [
    {
     "name": "stdout",
     "output_type": "stream",
     "text": [
      "0    0.800667\n",
      "1    0.199333\n",
      "Name: Exited, dtype: float64\n"
     ]
    }
   ],
   "source": [
    "# Баланс классов в обучающей выборке\n",
    "frequency_train = target_train.value_counts(normalize=2/len(target_train))\n",
    "print(frequency_train)"
   ]
  },
  {
   "cell_type": "markdown",
   "metadata": {},
   "source": [
    "<b>Вывод</b>\n",
    "\n",
    "В классах целевого признака обучающей выборки имеется дисбаланс: примерно 80 % отрицательных классов и 20 % положительных классов. "
   ]
  },
  {
   "cell_type": "code",
   "execution_count": 67,
   "metadata": {},
   "outputs": [
    {
     "data": {
      "text/plain": [
       "(2000,)"
      ]
     },
     "metadata": {},
     "output_type": "display_data"
    },
    {
     "data": {
      "text/plain": [
       "(2000,)"
      ]
     },
     "metadata": {},
     "output_type": "display_data"
    }
   ],
   "source": [
    "# Получим еще 2 выборки: валидационную и тестовую\n",
    "features_valid, features_test, target_valid, target_test = train_test_split(\n",
    "    features_valid_test, target_valid_test, test_size=0.5, random_state=12345)\n",
    "\n",
    "display(target_valid.shape)\n",
    "display(target_test.shape)"
   ]
  },
  {
   "cell_type": "code",
   "execution_count": 68,
   "metadata": {
    "scrolled": true
   },
   "outputs": [
    {
     "name": "stdout",
     "output_type": "stream",
     "text": [
      "Валидационная выборка:\n",
      "0    0.791\n",
      "1    0.209\n",
      "Name: Exited, dtype: float64 \n",
      "\n",
      "Тестовая выборка:\n",
      "0    0.7885\n",
      "1    0.2115\n",
      "Name: Exited, dtype: float64\n"
     ]
    }
   ],
   "source": [
    "# Баланс классов в валидационной и тестовой выборках\n",
    "frequency_valid = target_valid.value_counts(normalize=2/len(target_valid))\n",
    "print('Валидационная выборка:')\n",
    "print(frequency_valid, '\\n')\n",
    "\n",
    "frequency_test = target_test.value_counts(normalize=2/len(target_test))\n",
    "print('Тестовая выборка:')\n",
    "print(frequency_test)"
   ]
  },
  {
   "cell_type": "markdown",
   "metadata": {},
   "source": [
    "<b>Вывод</b>\n",
    "\n",
    "В классах целевого признака валидационной выборки имеется также дисбаланс: примерно 80 % отрицательных классов и 20 % положительных классов.\n",
    "\n",
    "В классах целевого признака тестовой выборки имеется дисбаланс: примерно 79 % отрицательных классов и 21 % положительных классов."
   ]
  },
  {
   "cell_type": "markdown",
   "metadata": {},
   "source": [
    "#### Проведем масштабирование (стандартизацию) признаков 3-х выборок"
   ]
  },
  {
   "cell_type": "code",
   "execution_count": 69,
   "metadata": {},
   "outputs": [
    {
     "name": "stderr",
     "output_type": "stream",
     "text": [
      "/tmp/ipykernel_31/2506204717.py:6: SettingWithCopyWarning: \n",
      "A value is trying to be set on a copy of a slice from a DataFrame.\n",
      "Try using .loc[row_indexer,col_indexer] = value instead\n",
      "\n",
      "See the caveats in the documentation: https://pandas.pydata.org/pandas-docs/stable/user_guide/indexing.html#returning-a-view-versus-a-copy\n",
      "  features_train[numeric] = scaler.transform(features_train[numeric]) # отмасштабировали нужные столбцы в обучающей выборке\n",
      "/opt/conda/lib/python3.9/site-packages/pandas/core/indexing.py:1738: SettingWithCopyWarning: \n",
      "A value is trying to be set on a copy of a slice from a DataFrame.\n",
      "Try using .loc[row_indexer,col_indexer] = value instead\n",
      "\n",
      "See the caveats in the documentation: https://pandas.pydata.org/pandas-docs/stable/user_guide/indexing.html#returning-a-view-versus-a-copy\n",
      "  self._setitem_single_column(loc, value[:, i].tolist(), pi)\n",
      "/tmp/ipykernel_31/2506204717.py:7: SettingWithCopyWarning: \n",
      "A value is trying to be set on a copy of a slice from a DataFrame.\n",
      "Try using .loc[row_indexer,col_indexer] = value instead\n",
      "\n",
      "See the caveats in the documentation: https://pandas.pydata.org/pandas-docs/stable/user_guide/indexing.html#returning-a-view-versus-a-copy\n",
      "  features_valid[numeric] = scaler.transform(features_valid[numeric]) # отмасштабировали нужные столбцы в валидационной выборке\n",
      "/opt/conda/lib/python3.9/site-packages/pandas/core/indexing.py:1738: SettingWithCopyWarning: \n",
      "A value is trying to be set on a copy of a slice from a DataFrame.\n",
      "Try using .loc[row_indexer,col_indexer] = value instead\n",
      "\n",
      "See the caveats in the documentation: https://pandas.pydata.org/pandas-docs/stable/user_guide/indexing.html#returning-a-view-versus-a-copy\n",
      "  self._setitem_single_column(loc, value[:, i].tolist(), pi)\n",
      "/tmp/ipykernel_31/2506204717.py:8: SettingWithCopyWarning: \n",
      "A value is trying to be set on a copy of a slice from a DataFrame.\n",
      "Try using .loc[row_indexer,col_indexer] = value instead\n",
      "\n",
      "See the caveats in the documentation: https://pandas.pydata.org/pandas-docs/stable/user_guide/indexing.html#returning-a-view-versus-a-copy\n",
      "  features_test[numeric] = scaler.transform(features_test[numeric]) # отмасштабировали нужные столбцы в тестовой выборке\n",
      "/opt/conda/lib/python3.9/site-packages/pandas/core/indexing.py:1738: SettingWithCopyWarning: \n",
      "A value is trying to be set on a copy of a slice from a DataFrame.\n",
      "Try using .loc[row_indexer,col_indexer] = value instead\n",
      "\n",
      "See the caveats in the documentation: https://pandas.pydata.org/pandas-docs/stable/user_guide/indexing.html#returning-a-view-versus-a-copy\n",
      "  self._setitem_single_column(loc, value[:, i].tolist(), pi)\n"
     ]
    }
   ],
   "source": [
    "numeric = ['CreditScore', 'Age', 'Tenure', 'Balance', 'NumOfProducts', 'EstimatedSalary']\n",
    "\n",
    "scaler = StandardScaler()\n",
    "scaler.fit(df[numeric])\n",
    "features_train[numeric] = scaler.transform(features_train[numeric]) # стандартизация в обучающей выборке\n",
    "features_valid[numeric] = scaler.transform(features_valid[numeric]) # стандартизация в валидационной выборке\n",
    "features_test[numeric] = scaler.transform(features_test[numeric]) # стандартизация в тестовой выборке\n"
   ]
  },
  {
   "cell_type": "markdown",
   "metadata": {},
   "source": [
    "### 2.3 Проведем обучение моделей без учета дисбаланса классов и найдем для каждой модели значение метрик F1 и AUC-ROC"
   ]
  },
  {
   "cell_type": "markdown",
   "metadata": {},
   "source": [
    "#### 2.3.1 Обучим модель и проанализируем модель Решающее дерево"
   ]
  },
  {
   "cell_type": "markdown",
   "metadata": {},
   "source": [
    "    Обучим модель и найдем F1 без подбора гиперпараметров"
   ]
  },
  {
   "cell_type": "code",
   "execution_count": 70,
   "metadata": {},
   "outputs": [
    {
     "name": "stdout",
     "output_type": "stream",
     "text": [
      "F1: 0.47016706443914086\n"
     ]
    }
   ],
   "source": [
    "model_dt = DecisionTreeClassifier(random_state=12345)\n",
    "model_dt.fit(features_train, target_train)\n",
    "\n",
    "predictions_train = model_dt.predict(features_train) # предсказание на обучающей выборке\n",
    "predictions_valid = model_dt.predict(features_valid) # предсказание на валидационной выборке\n",
    "\n",
    "print('F1:', f1_score(target_valid, predictions_valid)) # F1 для тестовой выборки по формуле"
   ]
  },
  {
   "cell_type": "markdown",
   "metadata": {},
   "source": [
    "    Проверим качество Решающего дерева с подбором гиперпараметра - максимальной глубины"
   ]
  },
  {
   "cell_type": "code",
   "execution_count": 71,
   "metadata": {},
   "outputs": [
    {
     "name": "stdout",
     "output_type": "stream",
     "text": [
      "\n",
      "\n",
      "F1 наилучшей модели Решающее дерево на валидационной выборке: 0.5528700906344411\n"
     ]
    },
    {
     "data": {
      "text/html": [
       "<div>\n",
       "<style scoped>\n",
       "    .dataframe tbody tr th:only-of-type {\n",
       "        vertical-align: middle;\n",
       "    }\n",
       "\n",
       "    .dataframe tbody tr th {\n",
       "        vertical-align: top;\n",
       "    }\n",
       "\n",
       "    .dataframe thead th {\n",
       "        text-align: right;\n",
       "    }\n",
       "</style>\n",
       "<table border=\"1\" class=\"dataframe\">\n",
       "  <thead>\n",
       "    <tr style=\"text-align: right;\">\n",
       "      <th></th>\n",
       "      <th>max_depth</th>\n",
       "      <th>f1</th>\n",
       "      <th>auc_roc</th>\n",
       "    </tr>\n",
       "  </thead>\n",
       "  <tbody>\n",
       "    <tr>\n",
       "      <th>0</th>\n",
       "      <td>1</td>\n",
       "      <td>0.000000</td>\n",
       "      <td>0.692557</td>\n",
       "    </tr>\n",
       "    <tr>\n",
       "      <th>1</th>\n",
       "      <td>2</td>\n",
       "      <td>0.521739</td>\n",
       "      <td>0.750181</td>\n",
       "    </tr>\n",
       "    <tr>\n",
       "      <th>2</th>\n",
       "      <td>3</td>\n",
       "      <td>0.423488</td>\n",
       "      <td>0.797344</td>\n",
       "    </tr>\n",
       "    <tr>\n",
       "      <th>3</th>\n",
       "      <td>4</td>\n",
       "      <td>0.552870</td>\n",
       "      <td>0.820301</td>\n",
       "    </tr>\n",
       "    <tr>\n",
       "      <th>4</th>\n",
       "      <td>5</td>\n",
       "      <td>0.516963</td>\n",
       "      <td>0.824354</td>\n",
       "    </tr>\n",
       "    <tr>\n",
       "      <th>5</th>\n",
       "      <td>6</td>\n",
       "      <td>0.536050</td>\n",
       "      <td>0.817236</td>\n",
       "    </tr>\n",
       "    <tr>\n",
       "      <th>6</th>\n",
       "      <td>7</td>\n",
       "      <td>0.510638</td>\n",
       "      <td>0.801329</td>\n",
       "    </tr>\n",
       "    <tr>\n",
       "      <th>7</th>\n",
       "      <td>8</td>\n",
       "      <td>0.527439</td>\n",
       "      <td>0.789138</td>\n",
       "    </tr>\n",
       "    <tr>\n",
       "      <th>8</th>\n",
       "      <td>9</td>\n",
       "      <td>0.527407</td>\n",
       "      <td>0.758233</td>\n",
       "    </tr>\n",
       "    <tr>\n",
       "      <th>9</th>\n",
       "      <td>10</td>\n",
       "      <td>0.513475</td>\n",
       "      <td>0.755793</td>\n",
       "    </tr>\n",
       "    <tr>\n",
       "      <th>10</th>\n",
       "      <td>11</td>\n",
       "      <td>0.529015</td>\n",
       "      <td>0.723051</td>\n",
       "    </tr>\n",
       "    <tr>\n",
       "      <th>11</th>\n",
       "      <td>12</td>\n",
       "      <td>0.519582</td>\n",
       "      <td>0.696699</td>\n",
       "    </tr>\n",
       "    <tr>\n",
       "      <th>12</th>\n",
       "      <td>13</td>\n",
       "      <td>0.498695</td>\n",
       "      <td>0.687016</td>\n",
       "    </tr>\n",
       "    <tr>\n",
       "      <th>13</th>\n",
       "      <td>14</td>\n",
       "      <td>0.489899</td>\n",
       "      <td>0.672536</td>\n",
       "    </tr>\n",
       "    <tr>\n",
       "      <th>14</th>\n",
       "      <td>15</td>\n",
       "      <td>0.455000</td>\n",
       "      <td>0.651183</td>\n",
       "    </tr>\n",
       "    <tr>\n",
       "      <th>15</th>\n",
       "      <td>16</td>\n",
       "      <td>0.472859</td>\n",
       "      <td>0.667979</td>\n",
       "    </tr>\n",
       "    <tr>\n",
       "      <th>16</th>\n",
       "      <td>17</td>\n",
       "      <td>0.480769</td>\n",
       "      <td>0.671751</td>\n",
       "    </tr>\n",
       "    <tr>\n",
       "      <th>17</th>\n",
       "      <td>18</td>\n",
       "      <td>0.463357</td>\n",
       "      <td>0.658297</td>\n",
       "    </tr>\n",
       "    <tr>\n",
       "      <th>18</th>\n",
       "      <td>19</td>\n",
       "      <td>0.477218</td>\n",
       "      <td>0.669422</td>\n",
       "    </tr>\n",
       "    <tr>\n",
       "      <th>19</th>\n",
       "      <td>20</td>\n",
       "      <td>0.467378</td>\n",
       "      <td>0.663773</td>\n",
       "    </tr>\n",
       "  </tbody>\n",
       "</table>\n",
       "</div>"
      ],
      "text/plain": [
       "    max_depth        f1   auc_roc\n",
       "0           1  0.000000  0.692557\n",
       "1           2  0.521739  0.750181\n",
       "2           3  0.423488  0.797344\n",
       "3           4  0.552870  0.820301\n",
       "4           5  0.516963  0.824354\n",
       "5           6  0.536050  0.817236\n",
       "6           7  0.510638  0.801329\n",
       "7           8  0.527439  0.789138\n",
       "8           9  0.527407  0.758233\n",
       "9          10  0.513475  0.755793\n",
       "10         11  0.529015  0.723051\n",
       "11         12  0.519582  0.696699\n",
       "12         13  0.498695  0.687016\n",
       "13         14  0.489899  0.672536\n",
       "14         15  0.455000  0.651183\n",
       "15         16  0.472859  0.667979\n",
       "16         17  0.480769  0.671751\n",
       "17         18  0.463357  0.658297\n",
       "18         19  0.477218  0.669422\n",
       "19         20  0.467378  0.663773"
      ]
     },
     "metadata": {},
     "output_type": "display_data"
    }
   ],
   "source": [
    "# Наилучшая глубина для максимального значений F1 и AUC-ROC (max_depth от 1 до 20 )\n",
    "f1_list = []\n",
    "auc_roc_list = []\n",
    "depth_list = []\n",
    "\n",
    "best_model_dt = None\n",
    "best_f1_dt = 0\n",
    "\n",
    "for depth in range(1, 21):\n",
    "    model_dt = DecisionTreeClassifier(random_state=12345, max_depth=depth)\n",
    "    model_dt.fit(features_train, target_train)\n",
    "    predictions_valid = model_dt.predict(features_valid)\n",
    "    f1_valid = f1_score(target_valid, predictions_valid)\n",
    "        \n",
    "    probabilities_one_valid = model_dt.predict_proba(features_valid)[:, 1]\n",
    "    auc_roc_valid = roc_auc_score(target_valid, probabilities_one_valid)\n",
    "    \n",
    "    f1_list.append(f1_valid)\n",
    "    depth_list.append(depth)\n",
    "    auc_roc_list.append(auc_roc_valid )\n",
    "    \n",
    "    if f1_valid > best_f1_dt:\n",
    "        best_model_dt = model_dt # наилучшая модель\n",
    "        best_f1_dt = f1_valid  # наилучшее значение F1 на валидационных данных\n",
    "    \n",
    "    # из списков получаем таблицу для построения графика\n",
    "    list_tuples = list(zip(depth_list, f1_list, auc_roc_list))\n",
    "    tree_f1_auc_depth = pd.DataFrame(list_tuples, columns=['max_depth', 'f1', 'auc_roc'])\n",
    "    \n",
    "print('\\n')\n",
    "print(\"F1 наилучшей модели Решающее дерево на валидационной выборке:\", best_f1_dt)\n",
    "display(tree_f1_auc_depth)"
   ]
  },
  {
   "cell_type": "code",
   "execution_count": 72,
   "metadata": {
    "scrolled": false
   },
   "outputs": [
    {
     "data": {
      "image/png": "[encoded data removed]",
      "text/plain": [
       "<Figure size 432x288 with 1 Axes>"
      ]
     },
     "metadata": {
      "needs_background": "light"
     },
     "output_type": "display_data"
    },
    {
     "data": {
      "image/png": "[encoded data removed]",
      "text/plain": [
       "<Figure size 432x288 with 1 Axes>"
      ]
     },
     "metadata": {
      "needs_background": "light"
     },
     "output_type": "display_data"
    }
   ],
   "source": [
    "# График зависимости значения F1 модели от гиперпараметра (max_depth)\n",
    "tree_f1_auc_depth.plot(x='max_depth', y='f1', style='o-', xlim=(0, 21), grid=True)\n",
    "plt.title('Графика зависимости F1 от максимальной глубины модели')\n",
    "plt.xlabel('Максимальная глубина')\n",
    "plt.ylabel('Значение F1')\n",
    "plt.show()\n",
    "\n",
    "tree_f1_auc_depth.plot(x='max_depth', y='auc_roc', style='o-', xlim=(0, 21), grid=True)\n",
    "plt.title('Графика зависимости AUC-ROC от максимальной глубины модели')\n",
    "plt.xlabel('Максимальная глубина')\n",
    "plt.ylabel('Значение F1')\n",
    "plt.show()"
   ]
  },
  {
   "cell_type": "markdown",
   "metadata": {},
   "source": [
    "<b>Вывод</b>\n",
    "\n",
    "При подборе гиперпараметра (максимальная глубина модели) получен результат: наибольшее значение метрики F1 - 0.5543, получено при максимальной глубине модели - '4'. При такой глубине значение AUC-ROC составляет 0.8204.\n",
    "\n",
    "Общий характер поведения метрик F1 и AUC-ROC схож: до глубины 4-5 значения обоих метрик резко растут, пик на глубине 4-5, затем снижение значений метрик."
   ]
  },
  {
   "cell_type": "markdown",
   "metadata": {},
   "source": [
    "<b>Построим ROC-кривую и найдем AUC-ROC</b>"
   ]
  },
  {
   "cell_type": "code",
   "execution_count": 73,
   "metadata": {},
   "outputs": [
    {
     "data": {
      "image/png": "[encoded data removed]",
      "text/plain": [
       "<Figure size 432x288 with 1 Axes>"
      ]
     },
     "metadata": {
      "needs_background": "light"
     },
     "output_type": "display_data"
    },
    {
     "name": "stdout",
     "output_type": "stream",
     "text": [
      "AUC-ROC: 0.8203012055480615\n"
     ]
    }
   ],
   "source": [
    "model_dt = DecisionTreeClassifier(random_state=12345, max_depth=4)\n",
    "model_dt.fit(features_train, target_train)\n",
    "probabilities_one_valid = model_dt.predict_proba(features_valid)[:, 1]\n",
    "\n",
    "fpr, tpr, thresholds = roc_curve(target_valid, probabilities_one_valid)\n",
    "\n",
    "plt.figure()\n",
    "plt.plot(fpr, tpr, linestyle='--') # ROC-кривая по данным\n",
    "plt.plot([0, 1], [0, 1], linestyle='--') # ROC-кривая случайной модели\n",
    "\n",
    "plt.xlim([0.0, 1.0])\n",
    "plt.ylim([0.0, 1.0])\n",
    "plt.xlabel('False Positive Rate (FPR)')\n",
    "plt.ylabel('True Positive Rate (TPR)')\n",
    "plt.title('ROC-кривая для модели Решающее дерево')\n",
    "plt.show()\n",
    "\n",
    "print('AUC-ROC:', roc_auc_score(target_valid, probabilities_one_valid))"
   ]
  },
  {
   "cell_type": "markdown",
   "metadata": {},
   "source": [
    "<b>Вывод</b>\n",
    "\n",
    "В проведеных исследований посчитаны F1 и AUC-ROC для модели Решающее дерево без дисбаланса классов: 0.5543 и 0.8203 соответственно, что говорит о качестве модели существенно выше качества случайной модели."
   ]
  },
  {
   "cell_type": "markdown",
   "metadata": {},
   "source": [
    "#### 2.3.2 Обучим модель и проанализируем модель Случайный лес"
   ]
  },
  {
   "cell_type": "markdown",
   "metadata": {},
   "source": [
    "    Обучим модель и найдем F1 без подбора гиперпараметров"
   ]
  },
  {
   "cell_type": "code",
   "execution_count": 74,
   "metadata": {},
   "outputs": [
    {
     "name": "stdout",
     "output_type": "stream",
     "text": [
      "F1: 0.5654135338345865\n"
     ]
    }
   ],
   "source": [
    "model_rf = RandomForestClassifier(random_state=12345)\n",
    "model_rf.fit(features_train, target_train)\n",
    "\n",
    "predictions_valid = model_rf.predict(features_valid)\n",
    "\n",
    "print('F1:', f1_score(target_valid, predictions_valid)) # F1 для тестовой выборки по формуле"
   ]
  },
  {
   "cell_type": "markdown",
   "metadata": {},
   "source": [
    "    Проверим качество Случайного леса с перебором гиперпараметра - максимальной глубины и количества деревьев"
   ]
  },
  {
   "cell_type": "code",
   "execution_count": 75,
   "metadata": {
    "scrolled": false
   },
   "outputs": [
    {
     "name": "stdout",
     "output_type": "stream",
     "text": [
      "\n",
      "\n",
      "F1 наилучшей модели Случайный лес на валидационной выборке: 0.5922619047619048\n"
     ]
    },
    {
     "data": {
      "text/html": [
       "<div>\n",
       "<style scoped>\n",
       "    .dataframe tbody tr th:only-of-type {\n",
       "        vertical-align: middle;\n",
       "    }\n",
       "\n",
       "    .dataframe tbody tr th {\n",
       "        vertical-align: top;\n",
       "    }\n",
       "\n",
       "    .dataframe thead th {\n",
       "        text-align: right;\n",
       "    }\n",
       "</style>\n",
       "<table border=\"1\" class=\"dataframe\">\n",
       "  <thead>\n",
       "    <tr style=\"text-align: right;\">\n",
       "      <th></th>\n",
       "      <th>max_depth</th>\n",
       "      <th>estimators</th>\n",
       "      <th>f1</th>\n",
       "      <th>auc_roc</th>\n",
       "    </tr>\n",
       "  </thead>\n",
       "  <tbody>\n",
       "    <tr>\n",
       "      <th>0</th>\n",
       "      <td>1</td>\n",
       "      <td>1</td>\n",
       "      <td>0.000000</td>\n",
       "      <td>0.692557</td>\n",
       "    </tr>\n",
       "    <tr>\n",
       "      <th>1</th>\n",
       "      <td>2</td>\n",
       "      <td>1</td>\n",
       "      <td>0.468391</td>\n",
       "      <td>0.714034</td>\n",
       "    </tr>\n",
       "    <tr>\n",
       "      <th>2</th>\n",
       "      <td>3</td>\n",
       "      <td>1</td>\n",
       "      <td>0.129754</td>\n",
       "      <td>0.721147</td>\n",
       "    </tr>\n",
       "    <tr>\n",
       "      <th>3</th>\n",
       "      <td>4</td>\n",
       "      <td>1</td>\n",
       "      <td>0.199575</td>\n",
       "      <td>0.738785</td>\n",
       "    </tr>\n",
       "    <tr>\n",
       "      <th>4</th>\n",
       "      <td>5</td>\n",
       "      <td>1</td>\n",
       "      <td>0.524096</td>\n",
       "      <td>0.776480</td>\n",
       "    </tr>\n",
       "    <tr>\n",
       "      <th>...</th>\n",
       "      <td>...</td>\n",
       "      <td>...</td>\n",
       "      <td>...</td>\n",
       "      <td>...</td>\n",
       "    </tr>\n",
       "    <tr>\n",
       "      <th>995</th>\n",
       "      <td>16</td>\n",
       "      <td>50</td>\n",
       "      <td>0.563253</td>\n",
       "      <td>0.832735</td>\n",
       "    </tr>\n",
       "    <tr>\n",
       "      <th>996</th>\n",
       "      <td>17</td>\n",
       "      <td>50</td>\n",
       "      <td>0.567568</td>\n",
       "      <td>0.829933</td>\n",
       "    </tr>\n",
       "    <tr>\n",
       "      <th>997</th>\n",
       "      <td>18</td>\n",
       "      <td>50</td>\n",
       "      <td>0.555891</td>\n",
       "      <td>0.833160</td>\n",
       "    </tr>\n",
       "    <tr>\n",
       "      <th>998</th>\n",
       "      <td>19</td>\n",
       "      <td>50</td>\n",
       "      <td>0.570571</td>\n",
       "      <td>0.835364</td>\n",
       "    </tr>\n",
       "    <tr>\n",
       "      <th>999</th>\n",
       "      <td>20</td>\n",
       "      <td>50</td>\n",
       "      <td>0.551302</td>\n",
       "      <td>0.836895</td>\n",
       "    </tr>\n",
       "  </tbody>\n",
       "</table>\n",
       "<p>1000 rows × 4 columns</p>\n",
       "</div>"
      ],
      "text/plain": [
       "     max_depth  estimators        f1   auc_roc\n",
       "0            1           1  0.000000  0.692557\n",
       "1            2           1  0.468391  0.714034\n",
       "2            3           1  0.129754  0.721147\n",
       "3            4           1  0.199575  0.738785\n",
       "4            5           1  0.524096  0.776480\n",
       "..         ...         ...       ...       ...\n",
       "995         16          50  0.563253  0.832735\n",
       "996         17          50  0.567568  0.829933\n",
       "997         18          50  0.555891  0.833160\n",
       "998         19          50  0.570571  0.835364\n",
       "999         20          50  0.551302  0.836895\n",
       "\n",
       "[1000 rows x 4 columns]"
      ]
     },
     "metadata": {},
     "output_type": "display_data"
    }
   ],
   "source": [
    "# оптимальные глубина и количество деревьев для значений F1 и AUC-ROC (max_depth от 1 до 20, estimators от 1 до 100)\n",
    "f1_rf_list = []\n",
    "auc_roc_rf_list = []\n",
    "estimators_rf_list = []\n",
    "depth_rf_list = []\n",
    "\n",
    "best_model_rf = None\n",
    "best_f1_rf = 0\n",
    "\n",
    "for est in range(1, 51):\n",
    "    for depth in range(1, 21):\n",
    "        model_rf = RandomForestClassifier(random_state=12345, n_estimators=est, max_depth=depth) \n",
    "        model_rf.fit(features_train, target_train)\n",
    "        predictions_valid_rf = model_rf.predict(features_valid) # предсказание на валидационной выборке\n",
    "        f1_valid_rf = f1_score(target_valid, predictions_valid_rf) # f1 для валидационной выборки\n",
    "        \n",
    "        probabilities_one_valid_rf = model_rf.predict_proba(features_valid)[:, 1]\n",
    "        auc_roc_valid_rf = roc_auc_score(target_valid, probabilities_one_valid_rf)\n",
    "        \n",
    "        f1_rf_list.append(f1_valid_rf)\n",
    "        auc_roc_rf_list.append(auc_roc_valid_rf)\n",
    "        estimators_rf_list.append(est)\n",
    "        depth_rf_list.append(depth)\n",
    "\n",
    "        if f1_valid_rf > best_f1_rf:\n",
    "            best_model_rf = model_rf # наилучшая модель\n",
    "            best_f1_rf = f1_valid_rf # наилучшее значение F1 на валидационных данных\n",
    "\n",
    "        # из списков получаем таблицу для построения графика\n",
    "        list_tuples = list(zip(depth_rf_list, estimators_rf_list, f1_rf_list, auc_roc_rf_list))\n",
    "        forest_f1_auc_est_depth = pd.DataFrame(list_tuples, columns=['max_depth', 'estimators','f1', 'auc_roc'])\n",
    "        \n",
    "print('\\n')\n",
    "print(\"F1 наилучшей модели Случайный лес на валидационной выборке:\", best_f1_rf)\n",
    "display(forest_f1_auc_est_depth)"
   ]
  },
  {
   "cell_type": "code",
   "execution_count": 86,
   "metadata": {
    "scrolled": false
   },
   "outputs": [
    {
     "data": {
      "text/html": [
       "<div>\n",
       "<style scoped>\n",
       "    .dataframe tbody tr th:only-of-type {\n",
       "        vertical-align: middle;\n",
       "    }\n",
       "\n",
       "    .dataframe tbody tr th {\n",
       "        vertical-align: top;\n",
       "    }\n",
       "\n",
       "    .dataframe thead th {\n",
       "        text-align: right;\n",
       "    }\n",
       "</style>\n",
       "<table border=\"1\" class=\"dataframe\">\n",
       "  <thead>\n",
       "    <tr style=\"text-align: right;\">\n",
       "      <th></th>\n",
       "      <th>max_depth</th>\n",
       "      <th>estimators</th>\n",
       "      <th>f1</th>\n",
       "      <th>auc_roc</th>\n",
       "    </tr>\n",
       "  </thead>\n",
       "  <tbody>\n",
       "    <tr>\n",
       "      <th>653</th>\n",
       "      <td>14</td>\n",
       "      <td>33</td>\n",
       "      <td>0.592262</td>\n",
       "      <td>0.833444</td>\n",
       "    </tr>\n",
       "  </tbody>\n",
       "</table>\n",
       "</div>"
      ],
      "text/plain": [
       "     max_depth  estimators        f1   auc_roc\n",
       "653         14          33  0.592262  0.833444"
      ]
     },
     "metadata": {},
     "output_type": "display_data"
    }
   ],
   "source": [
    "# Наилучшие гиперпараметры для максимального значения F1\n",
    "display(forest_f1_auc_est_depth.query('f1 == 0.5922619047619048'))"
   ]
  },
  {
   "cell_type": "markdown",
   "metadata": {},
   "source": [
    "<b>Построим ROC-кривую и найдем AUC-ROC</b>"
   ]
  },
  {
   "cell_type": "code",
   "execution_count": 87,
   "metadata": {},
   "outputs": [
    {
     "data": {
      "image/png": "[encoded data removed]",
      "text/plain": [
       "<Figure size 432x288 with 1 Axes>"
      ]
     },
     "metadata": {
      "needs_background": "light"
     },
     "output_type": "display_data"
    },
    {
     "name": "stdout",
     "output_type": "stream",
     "text": [
      "AUC-ROC: 0.8140020203364404\n"
     ]
    }
   ],
   "source": [
    "model_rf = RandomForestClassifier(random_state=12345, n_estimators=14, max_depth=33) \n",
    "model_rf.fit(features_train, target_train)\n",
    "probabilities_one_valid = model_rf.predict_proba(features_valid)[:, 1]\n",
    "\n",
    "fpr, tpr, thresholds = roc_curve(target_valid, probabilities_one_valid)\n",
    "\n",
    "plt.figure()\n",
    "plt.plot(fpr, tpr, linestyle='--') # ROC-кривая по даным\n",
    "plt.plot([0, 1], [0, 1], linestyle='--') # ROC-кривая случайной модели\n",
    "\n",
    "plt.xlim([0.0, 1.0])\n",
    "plt.ylim([0.0, 1.0])\n",
    "plt.xlabel('False Positive Rate (FPR)')\n",
    "plt.ylabel('True Positive Rate (TPR)')\n",
    "plt.title('ROC-кривая для модели Случайный лес')\n",
    "plt.show()\n",
    "\n",
    "print('AUC-ROC:', roc_auc_score(target_valid, probabilities_one_valid))"
   ]
  },
  {
   "cell_type": "markdown",
   "metadata": {},
   "source": [
    "<b>Новый вывод</b>\n",
    "\n",
    "В проведеных исследований посчитаны F1 и AUC-ROC для модели Случайный лес: 0.5922 и 0.8140 соответственно, что говорит о достаточно неплохом качестве модели. Проведен перебор гиперпараметров: глубина от 1 до 30, количество деревьев от 1 до 150.  Оптимальное значение F1 получено при глубина - 14, количество деревьев - 33."
   ]
  },
  {
   "cell_type": "markdown",
   "metadata": {},
   "source": [
    "#### 2.3.3. Обучим модель и проанализируем модель Логистическая регрессия"
   ]
  },
  {
   "cell_type": "markdown",
   "metadata": {},
   "source": [
    "    Обучим модель и найдем F1"
   ]
  },
  {
   "cell_type": "code",
   "execution_count": 88,
   "metadata": {},
   "outputs": [
    {
     "name": "stdout",
     "output_type": "stream",
     "text": [
      "F1: 0.27889908256880735\n"
     ]
    }
   ],
   "source": [
    "model_lr = LogisticRegression(random_state=12345, solver='liblinear')\n",
    "model_lr.fit(features_train, target_train)\n",
    "\n",
    "predictions_train = model_lr.predict(features_train) # предсказание на обучающей выборке\n",
    "predictions_valid = model_lr.predict(features_valid) # предсказание на валидационной выборке\n",
    "\n",
    "print('F1:', f1_score(target_valid, predictions_valid)) # F1 для тестовой выборки по формуле"
   ]
  },
  {
   "cell_type": "markdown",
   "metadata": {},
   "source": [
    "    Построим ROC-кривую и найдем AUC-ROC"
   ]
  },
  {
   "cell_type": "code",
   "execution_count": 89,
   "metadata": {
    "scrolled": true
   },
   "outputs": [
    {
     "data": {
      "image/png": "[encoded data removed]",
      "text/plain": [
       "<Figure size 432x288 with 1 Axes>"
      ]
     },
     "metadata": {
      "needs_background": "light"
     },
     "output_type": "display_data"
    },
    {
     "name": "stdout",
     "output_type": "stream",
     "text": [
      "AUC-ROC: 0.7499833654933794\n"
     ]
    }
   ],
   "source": [
    "probabilities_one_valid = model_lr.predict_proba(features_valid)[:, 1]\n",
    "\n",
    "fpr, tpr, thresholds = roc_curve(target_valid, probabilities_one_valid)\n",
    "\n",
    "plt.figure()\n",
    "plt.plot(fpr, tpr, linestyle='--') # ROC-кривая по данным\n",
    "plt.plot([0, 1], [0, 1], linestyle='--') # ROC-кривая случайной модели\n",
    "\n",
    "plt.xlim([0.0, 1.0])\n",
    "plt.ylim([0.0, 1.0])\n",
    "plt.xlabel('False Positive Rate (FPR)')\n",
    "plt.ylabel('True Positive Rate (TPR)')\n",
    "plt.title('ROC-кривая для модели Логистическая регрессия')\n",
    "plt.show()\n",
    "\n",
    "print('AUC-ROC:', roc_auc_score(target_valid, probabilities_one_valid))"
   ]
  },
  {
   "cell_type": "markdown",
   "metadata": {},
   "source": [
    "<b>Вывод</b>\n",
    "\n",
    "В проведеных исследований посчитаны F1 и AUC-ROC для модели Логистическая регрессия: 0.2788 и 0.7499 соответственно, что говорит о не неплохом качестве модели."
   ]
  },
  {
   "cell_type": "markdown",
   "metadata": {},
   "source": [
    "Для модели Логистическая регрессия после удаления лишних столбцов и масштабирования по раздельности выборок обе метрики существенно возросли."
   ]
  },
  {
   "cell_type": "markdown",
   "metadata": {},
   "source": [
    "<b>Вывод по пункту 2</b>\n",
    "\n",
    "В результате построения и исследования 3-х моделей без учета дисбаланса классов можно сделать вывод: наилучшим образом показала себя модель Случайный лес, хуже всего показала себя модель Логистическая регрессия."
   ]
  },
  {
   "cell_type": "markdown",
   "metadata": {},
   "source": [
    "## 3 Борьба с дисбалансом"
   ]
  },
  {
   "cell_type": "markdown",
   "metadata": {},
   "source": [
    "Для улучшения качества модели учтем дисбаланс классов в выборках"
   ]
  },
  {
   "cell_type": "markdown",
   "metadata": {},
   "source": [
    "### 3.1 Сбалансируем классы с помощью операции 'upsampling'"
   ]
  },
  {
   "cell_type": "markdown",
   "metadata": {},
   "source": [
    "    Проверим соотношение (баланс) классов в обучающей выборке до балансировки"
   ]
  },
  {
   "cell_type": "code",
   "execution_count": 90,
   "metadata": {},
   "outputs": [
    {
     "name": "stdout",
     "output_type": "stream",
     "text": [
      "Относительное соотношение классов в обучающей выборке:\n",
      "0    0.800667\n",
      "1    0.199333\n",
      "Name: Exited, dtype: float64 \n",
      "\n",
      "Абсолютное соотношение классов в обучающей выборке:\n",
      "0    4804\n",
      "1    1196\n",
      "Name: Exited, dtype: int64\n"
     ]
    }
   ],
   "source": [
    "# Баланс классов в обучающей выборке\n",
    "frequency_train = target_train.value_counts(normalize=2/len(target_train))\n",
    "print('Относительное соотношение классов в обучающей выборке:')\n",
    "print(frequency_train, '\\n')\n",
    "\n",
    "balance_train = target_train.value_counts()\n",
    "print('Абсолютное соотношение классов в обучающей выборке:')\n",
    "print(balance_train)"
   ]
  },
  {
   "cell_type": "markdown",
   "metadata": {},
   "source": [
    "<b>Сбалансируем классы в обучающей выборке</b>"
   ]
  },
  {
   "cell_type": "code",
   "execution_count": 91,
   "metadata": {},
   "outputs": [
    {
     "name": "stdout",
     "output_type": "stream",
     "text": [
      "Обучающая выборка до балансировки:\n",
      "(6000, 10)\n",
      "(6000,) \n",
      "\n",
      "Обучающая выборка после балансировки:\n",
      "(9588, 10)\n",
      "(9588,)\n"
     ]
    }
   ],
   "source": [
    "# Функция:\n",
    "# 1. Делит выборку на отрицательные и положительные объекты\n",
    "# 2. Копирует несколько раз положительные объекты\n",
    "# 3. С учётом полученных данных создает новую обучающую выборку\n",
    "# 4. Перемешивает данные в выборке\n",
    "def upsample(features, target, repeat):\n",
    "    features_zeros = features[target == 0]\n",
    "    features_ones = features[target == 1]\n",
    "    target_zeros = target[target == 0]\n",
    "    target_ones = target[target == 1]\n",
    "    features_upsampled = pd.concat([features_zeros] + [features_ones] * repeat)\n",
    "    target_upsampled = pd.concat([target_zeros] + [target_ones] * repeat)\n",
    "    \n",
    "    features_upsampled, target_upsampled = shuffle(features_upsampled, target_upsampled, random_state=12345)\n",
    "    \n",
    "    return features_upsampled, target_upsampled \n",
    "\n",
    "# Функция 'upsample' на обучающей выборке\n",
    "features_upsampled, target_upsampled = upsample(features_train, target_train, 4)\n",
    "\n",
    "print('Обучающая выборка до балансировки:')\n",
    "print(features_train.shape)\n",
    "print(target_train.shape, '\\n')\n",
    "print('Обучающая выборка после балансировки:')\n",
    "print(features_upsampled.shape)\n",
    "print(target_upsampled.shape)\n"
   ]
  },
  {
   "cell_type": "markdown",
   "metadata": {},
   "source": [
    "    Проверим соотношение (баланс) классов в обучающей выборке после балансировки"
   ]
  },
  {
   "cell_type": "code",
   "execution_count": 92,
   "metadata": {},
   "outputs": [
    {
     "name": "stdout",
     "output_type": "stream",
     "text": [
      "Относительное соотношение классов в обучающей выборке:\n",
      "0    0.501043\n",
      "1    0.498957\n",
      "Name: Exited, dtype: float64 \n",
      "\n",
      "Абсолютное соотношение классов в обучающей выборке:\n",
      "0    4804\n",
      "1    4784\n",
      "Name: Exited, dtype: int64\n"
     ]
    }
   ],
   "source": [
    "# Баланс классов в обучающей выборке\n",
    "frequency_train_upsampled = target_upsampled.value_counts(normalize=2/len(target_upsampled))\n",
    "print('Относительное соотношение классов в обучающей выборке:')\n",
    "print(frequency_train_upsampled, '\\n')\n",
    "\n",
    "balance_train_upsampled = target_upsampled.value_counts()\n",
    "print('Абсолютное соотношение классов в обучающей выборке:')\n",
    "print(balance_train_upsampled)"
   ]
  },
  {
   "cell_type": "markdown",
   "metadata": {},
   "source": [
    "<b>Вывод</b>\n",
    "\n",
    "Балансировка классов в обучающей выборке проведена, в результате соотношение положительных и отрицательных классов практически равны друг другу."
   ]
  },
  {
   "cell_type": "markdown",
   "metadata": {},
   "source": [
    "### 3.2 Проведем обучение моделей с учетом баланса классов и найдем для каждой модели значение метрик F1 и AUC-ROC"
   ]
  },
  {
   "cell_type": "markdown",
   "metadata": {},
   "source": [
    "#### 3.2.1 Обучим модель - Решающее дерево"
   ]
  },
  {
   "cell_type": "markdown",
   "metadata": {},
   "source": [
    "    Обучим модель и найдем F1"
   ]
  },
  {
   "cell_type": "code",
   "execution_count": 93,
   "metadata": {},
   "outputs": [
    {
     "name": "stdout",
     "output_type": "stream",
     "text": [
      "F1: 0.5277777777777778\n"
     ]
    }
   ],
   "source": [
    "model_dt_b = DecisionTreeClassifier(random_state=12345, max_depth=4) # модель с глубиной 4\n",
    "model_dt_b.fit(features_upsampled, target_upsampled)\n",
    "\n",
    "predictions_valid_b = model_dt_b.predict(features_valid)\n",
    "\n",
    "print('F1:', f1_score(target_valid, predictions_valid_b)) # F1 для тестовой выборки"
   ]
  },
  {
   "cell_type": "markdown",
   "metadata": {},
   "source": [
    "    Построим ROC-кривую и найдем AUC-ROC"
   ]
  },
  {
   "cell_type": "code",
   "execution_count": 94,
   "metadata": {
    "scrolled": false
   },
   "outputs": [
    {
     "data": {
      "image/png": "[encoded data removed]",
      "text/plain": [
       "<Figure size 432x288 with 1 Axes>"
      ]
     },
     "metadata": {
      "needs_background": "light"
     },
     "output_type": "display_data"
    },
    {
     "name": "stdout",
     "output_type": "stream",
     "text": [
      "AUC-ROC: 0.8190853743368881\n"
     ]
    }
   ],
   "source": [
    "model_dt_b = DecisionTreeClassifier(random_state=12345, max_depth=4) # модель с глубиной 4\n",
    "model_dt_b.fit(features_upsampled, target_upsampled)\n",
    "\n",
    "probabilities_one_valid_b = model_dt_b.predict_proba(features_valid)[:, 1]\n",
    "\n",
    "fpr, tpr, thresholds = roc_curve(target_valid, probabilities_one_valid_b)\n",
    "\n",
    "plt.figure()\n",
    "plt.plot(fpr, tpr, linestyle='--') # ROC-кривая на данных\n",
    "plt.plot([0, 1], [0, 1], linestyle='--') # ROC-кривая случайной модели\n",
    "\n",
    "plt.xlim([0.0, 1.0])\n",
    "plt.ylim([0.0, 1.0])\n",
    "plt.xlabel('False Positive Rate (FPR)')\n",
    "plt.ylabel('True Positive Rate (TPR)')\n",
    "plt.title('ROC-кривая для модели Решающее дерево')\n",
    "plt.show()\n",
    "\n",
    "print('AUC-ROC:', roc_auc_score(target_valid, probabilities_one_valid_b))"
   ]
  },
  {
   "cell_type": "markdown",
   "metadata": {},
   "source": [
    "<b>Вывод</b>\n",
    "\n",
    "В проведеных исследований посчитаны F1 и AUC-ROC для модели Решающее дерево после балансировки обучающей выборки: 0.5277 и 0.8190 соответственно. На удивление обе значение обеих метрик снизилось."
   ]
  },
  {
   "cell_type": "markdown",
   "metadata": {},
   "source": [
    "#### 3.2.2 Обучим модель - Случайный лес"
   ]
  },
  {
   "cell_type": "markdown",
   "metadata": {},
   "source": [
    "    Обучим модель и найдем F1 на найденных в п. 2.3.2 гиперпараметрах"
   ]
  },
  {
   "cell_type": "code",
   "execution_count": 95,
   "metadata": {},
   "outputs": [
    {
     "name": "stdout",
     "output_type": "stream",
     "text": [
      "F1: 0.6127450980392157\n"
     ]
    }
   ],
   "source": [
    "model_rf_b = RandomForestClassifier(random_state=12345, n_estimators=33, max_depth=14)\n",
    "model_rf_b.fit(features_upsampled, target_upsampled)\n",
    "\n",
    "predictions_valid_b = model_rf_b.predict(features_valid)\n",
    "\n",
    "print('F1:', f1_score(target_valid, predictions_valid_b)) # F1 для тестовой выборки по формуле"
   ]
  },
  {
   "cell_type": "markdown",
   "metadata": {},
   "source": [
    "<b>Вывод</b>\n",
    "\n",
    "В проведеных исследований посчитаны F1 для модели Случайный лес после балансировки на выбранных ранее гиперпараметрах. F1 показало значение 0.6127, что уже удовлетворяет условиям выполнения."
   ]
  },
  {
   "cell_type": "markdown",
   "metadata": {},
   "source": [
    "Дальнейшее изменение гиперпараметров в модели Случайный лес не требуется, т.к значение метрики F1 достаточно для выполнения условия (F1 не менее 0.59)."
   ]
  },
  {
   "cell_type": "markdown",
   "metadata": {},
   "source": [
    "<b>Проверим качество Случайного леса при выбранных гиперпараметрах - максимальной глубины и количества деревьев</b>"
   ]
  },
  {
   "cell_type": "markdown",
   "metadata": {},
   "source": [
    "    Построим ROC-кривую и найдем AUC-ROC"
   ]
  },
  {
   "cell_type": "code",
   "execution_count": 97,
   "metadata": {
    "scrolled": true
   },
   "outputs": [
    {
     "data": {
      "image/png": "[encoded data removed]",
      "text/plain": [
       "<Figure size 432x288 with 1 Axes>"
      ]
     },
     "metadata": {
      "needs_background": "light"
     },
     "output_type": "display_data"
    },
    {
     "name": "stdout",
     "output_type": "stream",
     "text": [
      "AUC-ROC: 0.8460294944924662\n"
     ]
    }
   ],
   "source": [
    "model_rf_b = RandomForestClassifier(random_state=12345, n_estimators=33, max_depth=14)\n",
    "model_rf_b.fit(features_upsampled, target_upsampled)\n",
    "\n",
    "probabilities_one_valid_b = model_rf_b.predict_proba(features_valid)[:, 1]\n",
    "\n",
    "fpr, tpr, thresholds = roc_curve(target_valid, probabilities_one_valid_b)\n",
    "\n",
    "plt.figure()\n",
    "plt.plot(fpr, tpr, linestyle='--') # ROC-кривая на данных\n",
    "plt.plot([0, 1], [0, 1], linestyle='--') # ROC-кривая случайной модели\n",
    "\n",
    "plt.xlim([0.0, 1.0])\n",
    "plt.ylim([0.0, 1.0])\n",
    "plt.xlabel('False Positive Rate (FPR)')\n",
    "plt.ylabel('True Positive Rate (TPR)')\n",
    "plt.title('ROC-кривая для модели Случайный лес')\n",
    "plt.show()\n",
    "\n",
    "print('AUC-ROC:', roc_auc_score(target_valid, probabilities_one_valid_b))"
   ]
  },
  {
   "cell_type": "markdown",
   "metadata": {},
   "source": [
    "<b>Вывод</b>\n",
    "\n",
    "В проведеных исследованиях посчитаны F1 и AUC-ROC для модели Случайный лес после балансировки обучающей выборки и с подбором новых гиперпараметров: 0.6127 и 0.8460 соответственно, что говорит о хорошем качестве модели.   Оптимальное значение F1 получено при глубина - 14, количество деревьев - 33. Дополнительный подбор гиперпараметров не потребовался, т.к. нужный результат (F1 не меньше 0.59) получен уже на них."
   ]
  },
  {
   "cell_type": "markdown",
   "metadata": {},
   "source": [
    "#### 3.2.3 Обучим модель - Логистическая регрессия"
   ]
  },
  {
   "cell_type": "markdown",
   "metadata": {},
   "source": [
    "    Обучим модель и найдем F1"
   ]
  },
  {
   "cell_type": "code",
   "execution_count": 98,
   "metadata": {},
   "outputs": [
    {
     "name": "stdout",
     "output_type": "stream",
     "text": [
      "F1: 0.27889908256880735\n"
     ]
    }
   ],
   "source": [
    "model_lr_b = LogisticRegression(random_state=12345, solver='liblinear')\n",
    "model_lr_b.fit(features_upsampled, target_upsampled)\n",
    "\n",
    "predictions_valid_b = model_lr.predict(features_valid)\n",
    "\n",
    "print('F1:', f1_score(target_valid, predictions_valid_b)) # F1 для тестовой выборки по формуле"
   ]
  },
  {
   "cell_type": "markdown",
   "metadata": {},
   "source": [
    "    Построим ROC-кривую и найдем AUC-ROC"
   ]
  },
  {
   "cell_type": "code",
   "execution_count": 99,
   "metadata": {
    "scrolled": true
   },
   "outputs": [
    {
     "data": {
      "image/png": "[encoded data removed]",
      "text/plain": [
       "<Figure size 432x288 with 1 Axes>"
      ]
     },
     "metadata": {
      "needs_background": "light"
     },
     "output_type": "display_data"
    },
    {
     "name": "stdout",
     "output_type": "stream",
     "text": [
      "AUC-ROC: 0.7561441818544752\n"
     ]
    }
   ],
   "source": [
    "probabilities_one_valid_b = model_lr_b.predict_proba(features_valid)[:, 1]\n",
    "\n",
    "fpr, tpr, thresholds = roc_curve(target_valid, probabilities_one_valid_b)\n",
    "\n",
    "plt.figure()\n",
    "plt.plot(fpr, tpr, linestyle='--') # ROC-кривая на данных\n",
    "plt.plot([0, 1], [0, 1], linestyle='--') # ROC-кривая случайной модели\n",
    "\n",
    "plt.xlim([0.0, 1.0])\n",
    "plt.ylim([0.0, 1.0])\n",
    "plt.xlabel('False Positive Rate (FPR)')\n",
    "plt.ylabel('True Positive Rate (TPR)')\n",
    "plt.title('ROC-кривая для модели Логистическая регрессия')\n",
    "plt.show()\n",
    "\n",
    "print('AUC-ROC:', roc_auc_score(target_valid, probabilities_one_valid_b))"
   ]
  },
  {
   "cell_type": "markdown",
   "metadata": {},
   "source": [
    "<b>Вывод</b>\n",
    "\n",
    "В проведеных исследований посчитаны F1 и AUC-ROC для модели Логистическая регрессия: 0.2788 и 0.7561 соответственно, что говорит о качестве модели лучшем, чем у случайной модели."
   ]
  },
  {
   "cell_type": "markdown",
   "metadata": {},
   "source": [
    "<b>Вывод по пункту 3</b>\n",
    "\n",
    "Наилучшей моделью, на которой удалось достигнуть наивысших значений метрик F1 (0.6127) и AUC-ROC (0.8460), оказалась модель Случайный лес при обучении на сбалансированной выборке и с подобранными гиперпараметрами.\n",
    "\n",
    "По этой причине для тестирования модели на тестовой выборке будет использована данная модель.\n",
    "\n",
    "Наихудший результат показала модель Логистическая регрессия, но качество которой оказалось лучше случайной модели."
   ]
  },
  {
   "cell_type": "markdown",
   "metadata": {},
   "source": [
    "## 4 Тестирование модели"
   ]
  },
  {
   "cell_type": "markdown",
   "metadata": {},
   "source": [
    "<b> В соответствии с результатами пункта 3 для тестирования модели на тестовой выборке будет использована модель Случайный лес, обученная на сбалансированной обучающей выборке и с подобранными гиперпараметрами.</b>"
   ]
  },
  {
   "cell_type": "markdown",
   "metadata": {},
   "source": [
    "    Обучим модель и найдем F1 на найденных в п. 2.3.2 гиперпараметрах"
   ]
  },
  {
   "cell_type": "markdown",
   "metadata": {},
   "source": [
    "<b>Перед тестированием объединим две выборки обучающую и валидационную</b>"
   ]
  },
  {
   "cell_type": "code",
   "execution_count": 100,
   "metadata": {},
   "outputs": [],
   "source": [
    "features_consolid = pd.concat([features_upsampled] + [features_valid])\n",
    "target_consolid = pd.concat([target_upsampled] + [target_valid])"
   ]
  },
  {
   "cell_type": "code",
   "execution_count": 101,
   "metadata": {},
   "outputs": [
    {
     "name": "stdout",
     "output_type": "stream",
     "text": [
      "F1: 0.6071428571428572\n"
     ]
    }
   ],
   "source": [
    "model_rf_test = RandomForestClassifier(random_state=12345, n_estimators=33, max_depth=14)\n",
    "model_rf_test.fit(features_consolid, target_consolid)\n",
    "\n",
    "predictions_valid_test = model_rf_test.predict(features_test)\n",
    "\n",
    "print('F1:', f1_score(target_test, predictions_valid_test)) # F1 для тестовой выборки по формуле"
   ]
  },
  {
   "cell_type": "markdown",
   "metadata": {},
   "source": [
    "<b>Вывод</b>\n",
    "\n",
    "В проведеных исследованиях на тестовой выборке посчитано значение F1 для модели Случайный лес после балансировки обучающей выборки: 0.6071. Оптимальное значение F1 получено при глубина - 14, количество деревьев - 33."
   ]
  },
  {
   "cell_type": "markdown",
   "metadata": {},
   "source": [
    "<b>Проверим качество Случайного леса при выбранных гиперпараметрах - максимальной глубины и количества деревьев</b>"
   ]
  },
  {
   "cell_type": "markdown",
   "metadata": {},
   "source": [
    "    Построим ROC-кривую и найдем AUC-ROC"
   ]
  },
  {
   "cell_type": "code",
   "execution_count": 102,
   "metadata": {},
   "outputs": [
    {
     "data": {
      "image/png": "[encoded data removed]",
      "text/plain": [
       "<Figure size 432x288 with 1 Axes>"
      ]
     },
     "metadata": {
      "needs_background": "light"
     },
     "output_type": "display_data"
    },
    {
     "name": "stdout",
     "output_type": "stream",
     "text": [
      "AUC-ROC: 0.8405904319030507\n"
     ]
    }
   ],
   "source": [
    "model_rf_test = RandomForestClassifier(random_state=12345, n_estimators=33, max_depth=14)\n",
    "model_rf_test.fit(features_upsampled, target_upsampled)\n",
    "\n",
    "probabilities_one_valid_test = model_rf_test.predict_proba(features_test)[:, 1]\n",
    "\n",
    "fpr, tpr, thresholds = roc_curve(target_test, probabilities_one_valid_test)\n",
    "\n",
    "plt.figure()\n",
    "plt.plot(fpr, tpr, linestyle='--') # ROC-кривая\n",
    "plt.plot([0, 1], [0, 1], linestyle='--') # ROC-кривая случайной модели\n",
    "\n",
    "plt.xlim([0.0, 1.0])\n",
    "plt.ylim([0.0, 1.0])\n",
    "plt.xlabel('False Positive Rate (FPR)')\n",
    "plt.ylabel('True Positive Rate (TPR)')\n",
    "plt.title('ROC-кривая для модели Случайный лес')\n",
    "plt.show()\n",
    "\n",
    "print('AUC-ROC:', roc_auc_score(target_test, probabilities_one_valid_test))"
   ]
  },
  {
   "cell_type": "markdown",
   "metadata": {},
   "source": [
    "<b>Вывод</b>\n",
    "\n",
    "В проведеных исследованиях на тестовой выборке посчитаны F1 и AUC-ROC для модели Случайный лес после балансировки обучающей выборки и с новым подбором гиперпараметров: 0.6071 и 0.8405 соответственно. Оптимальное значение F1 получено при глубина - 12, количество деревьев - 33."
   ]
  },
  {
   "cell_type": "markdown",
   "metadata": {},
   "source": [
    "<font size=\"4\"><b>Общий вывод</b></font>\n",
    "\n",
    "В ходе проведенной работы:\n",
    "\n",
    "1. Проведена изучены и подготовлены для исследования представленные данные;\n",
    "\n",
    "2. В рамках подготовки данных для обучения моделей проведены порядковое кодирование столбцов с категориальными признаками и масштабирование (стандартизация) признаков;\n",
    "\n",
    "3. Данные разбиты на 3 выборки: обучающую, валидационную и тестовую в соотношении 60%, 20% и 20% соответственно.\n",
    "\n",
    "4. Проведено обучение моделей Решающее дерево, Случайный лес и Логистическая регрессия на обучающей выборке без учета дисбаланса с подбором гиперпараметров. Посчитаны значения метрик F1 и AUC-ROC, а также отображены на графике кривые ошибок (ROC-крива) для каждой модели. В результате наилучший результат показала модель Случайный лес: F1 и AUC-ROC - 0.5922 и 0.8140 соответственно. <b>При обучении модели Случайный лес с новым подбором гиперпараметров достигнут нужный результат F1 = 0,59.</b>\n",
    "\n",
    "5. Проведена балансировка положительных и отрицательных классов обучающей выборки. Реультат после балансироки: относительное соотношение классов - нулей - 0.501043, единиц - 0.498957; абсолютное соотношение классов - нулей - 4804, единиц - 4784. Т.е. практически поровну.\n",
    "\n",
    "6. Проведено обучение моделей Решающее дерево, Случайный лес и Логистическая регрессия на обучающей выборке после балансировки с новым подбором гиперпараметров. Посчитаны значения метрик F1 и AUC-ROC, а также отображены на графике кривые ошибок (ROC-крива) для каждой модели. В результате наилучший результат вновь показала модель Случайный лес: F1 и AUC-ROC - 0.6127 и 0.8460 соответственно. <b>При обучении модели Случайный лес с новым подбором гиперпараметров достигнут нужный результат F1 = 0,59.</b>\n",
    "\n",
    "7. Выбрана модель Случайный лес для проведения тестирования, как модель показавшая наилучшее качество в предыдущих исследованиях. <b>В результате чего поучено значение метрики F1 = 0.6071, что также позволило достигнуть результата, поставленного в условии (F1 = 0,59). Вместе с тем, значение метрики AUC-ROC = 0.8405 оказалось наивысшим во всем проведенном исследовании и наиболее близком к 1, что говорит о неплохом качестве модели.</b> Данная модель, обученная на сбалансированной обучающей выборке и с новым подбором гиперпараметров наилучшим образом подойдет для прогнозирования ухода клиентов из банка."
   ]
  }
 ],
 "metadata": {
  "ExecuteTimeLog": [
   {
    "duration": 1448,
    "start_time": "2022-06-25T07:54:01.052Z"
   },
   {
    "duration": 102,
    "start_time": "2022-06-25T07:57:16.758Z"
   },
   {
    "duration": 4,
    "start_time": "2022-06-25T08:14:43.307Z"
   },
   {
    "duration": 54,
    "start_time": "2022-06-25T08:14:45.719Z"
   },
   {
    "duration": 13,
    "start_time": "2022-06-25T08:15:13.595Z"
   },
   {
    "duration": 14,
    "start_time": "2022-06-25T10:29:01.839Z"
   },
   {
    "duration": 65,
    "start_time": "2022-06-25T10:39:28.149Z"
   },
   {
    "duration": 15,
    "start_time": "2022-06-25T10:40:07.177Z"
   },
   {
    "duration": 12,
    "start_time": "2022-06-25T10:40:33.540Z"
   },
   {
    "duration": 103,
    "start_time": "2022-06-25T11:30:33.133Z"
   },
   {
    "duration": 5,
    "start_time": "2022-06-25T11:31:35.251Z"
   },
   {
    "duration": 89,
    "start_time": "2022-06-25T11:31:35.257Z"
   },
   {
    "duration": 11,
    "start_time": "2022-06-25T11:31:35.348Z"
   },
   {
    "duration": 13,
    "start_time": "2022-06-25T11:31:35.360Z"
   },
   {
    "duration": 10,
    "start_time": "2022-06-25T11:32:26.357Z"
   },
   {
    "duration": 35,
    "start_time": "2022-06-25T11:32:46.632Z"
   },
   {
    "duration": 35,
    "start_time": "2022-06-25T11:32:50.752Z"
   },
   {
    "duration": 53,
    "start_time": "2022-06-25T11:32:59.135Z"
   },
   {
    "duration": 63,
    "start_time": "2022-06-25T11:34:39.395Z"
   },
   {
    "duration": 56,
    "start_time": "2022-06-25T11:35:22.294Z"
   },
   {
    "duration": 1321,
    "start_time": "2022-06-25T11:50:48.981Z"
   },
   {
    "duration": 61,
    "start_time": "2022-06-25T11:50:50.304Z"
   },
   {
    "duration": 14,
    "start_time": "2022-06-25T11:50:50.367Z"
   },
   {
    "duration": 14,
    "start_time": "2022-06-25T11:50:50.383Z"
   },
   {
    "duration": 105,
    "start_time": "2022-06-25T11:50:53.716Z"
   },
   {
    "duration": 44,
    "start_time": "2022-06-25T11:51:41.641Z"
   },
   {
    "duration": 6,
    "start_time": "2022-06-25T11:54:42.210Z"
   },
   {
    "duration": 7,
    "start_time": "2022-06-25T11:55:05.510Z"
   },
   {
    "duration": 10,
    "start_time": "2022-06-25T11:56:13.275Z"
   },
   {
    "duration": 11,
    "start_time": "2022-06-25T11:56:26.000Z"
   },
   {
    "duration": 11,
    "start_time": "2022-06-25T11:56:34.254Z"
   },
   {
    "duration": 48,
    "start_time": "2022-06-25T11:56:47.179Z"
   },
   {
    "duration": 69,
    "start_time": "2022-06-25T11:56:53.483Z"
   },
   {
    "duration": 9,
    "start_time": "2022-06-25T11:57:43.829Z"
   },
   {
    "duration": 12,
    "start_time": "2022-06-25T12:08:37.507Z"
   },
   {
    "duration": 10,
    "start_time": "2022-06-25T12:15:31.819Z"
   },
   {
    "duration": 1394,
    "start_time": "2022-06-25T12:15:49.006Z"
   },
   {
    "duration": 62,
    "start_time": "2022-06-25T12:15:50.402Z"
   },
   {
    "duration": 13,
    "start_time": "2022-06-25T12:15:50.466Z"
   },
   {
    "duration": 17,
    "start_time": "2022-06-25T12:15:50.481Z"
   },
   {
    "duration": 51,
    "start_time": "2022-06-25T12:15:50.500Z"
   },
   {
    "duration": 10,
    "start_time": "2022-06-25T12:15:50.553Z"
   },
   {
    "duration": 35,
    "start_time": "2022-06-25T12:15:55.345Z"
   },
   {
    "duration": 107,
    "start_time": "2022-06-25T12:40:05.960Z"
   },
   {
    "duration": 6,
    "start_time": "2022-06-25T12:40:16.584Z"
   },
   {
    "duration": 9,
    "start_time": "2022-06-25T12:46:44.510Z"
   },
   {
    "duration": 6,
    "start_time": "2022-06-25T12:49:05.957Z"
   },
   {
    "duration": 8,
    "start_time": "2022-06-25T12:51:30.423Z"
   },
   {
    "duration": 6,
    "start_time": "2022-06-25T12:54:44.718Z"
   },
   {
    "duration": 7,
    "start_time": "2022-06-25T12:55:08.092Z"
   },
   {
    "duration": 50,
    "start_time": "2022-06-25T12:55:35.223Z"
   },
   {
    "duration": 8,
    "start_time": "2022-06-25T12:55:45.290Z"
   },
   {
    "duration": 1295,
    "start_time": "2022-06-25T13:26:03.881Z"
   },
   {
    "duration": 59,
    "start_time": "2022-06-25T13:26:05.178Z"
   },
   {
    "duration": 12,
    "start_time": "2022-06-25T13:26:05.239Z"
   },
   {
    "duration": 15,
    "start_time": "2022-06-25T13:26:05.253Z"
   },
   {
    "duration": 57,
    "start_time": "2022-06-25T13:26:05.270Z"
   },
   {
    "duration": 10,
    "start_time": "2022-06-25T13:26:05.329Z"
   },
   {
    "duration": 34,
    "start_time": "2022-06-25T13:26:05.340Z"
   },
   {
    "duration": 7,
    "start_time": "2022-06-25T13:26:05.376Z"
   },
   {
    "duration": 38,
    "start_time": "2022-06-25T13:26:05.385Z"
   },
   {
    "duration": 6,
    "start_time": "2022-06-25T13:26:05.425Z"
   },
   {
    "duration": 18,
    "start_time": "2022-06-25T13:26:05.433Z"
   },
   {
    "duration": 8,
    "start_time": "2022-06-25T13:26:05.453Z"
   },
   {
    "duration": 61,
    "start_time": "2022-06-25T13:26:10.609Z"
   },
   {
    "duration": 128,
    "start_time": "2022-06-25T13:32:03.289Z"
   },
   {
    "duration": 121,
    "start_time": "2022-06-25T13:34:43.599Z"
   },
   {
    "duration": 990,
    "start_time": "2022-06-25T13:44:16.189Z"
   },
   {
    "duration": 1310,
    "start_time": "2022-06-25T13:44:28.361Z"
   },
   {
    "duration": 65,
    "start_time": "2022-06-25T13:44:29.673Z"
   },
   {
    "duration": 14,
    "start_time": "2022-06-25T13:44:29.739Z"
   },
   {
    "duration": 16,
    "start_time": "2022-06-25T13:44:29.755Z"
   },
   {
    "duration": 54,
    "start_time": "2022-06-25T13:44:29.773Z"
   },
   {
    "duration": 8,
    "start_time": "2022-06-25T13:44:29.829Z"
   },
   {
    "duration": 48,
    "start_time": "2022-06-25T13:44:29.839Z"
   },
   {
    "duration": 9,
    "start_time": "2022-06-25T13:44:29.889Z"
   },
   {
    "duration": 25,
    "start_time": "2022-06-25T13:44:29.900Z"
   },
   {
    "duration": 5,
    "start_time": "2022-06-25T13:44:29.927Z"
   },
   {
    "duration": 13,
    "start_time": "2022-06-25T13:44:29.933Z"
   },
   {
    "duration": 9,
    "start_time": "2022-06-25T13:44:29.949Z"
   },
   {
    "duration": 87,
    "start_time": "2022-06-25T13:44:29.960Z"
   },
   {
    "duration": 144,
    "start_time": "2022-06-25T13:44:30.048Z"
   },
   {
    "duration": 1011,
    "start_time": "2022-06-25T13:44:37.462Z"
   },
   {
    "duration": 171,
    "start_time": "2022-06-25T13:48:04.623Z"
   },
   {
    "duration": 107,
    "start_time": "2022-06-25T13:51:03.487Z"
   },
   {
    "duration": 87,
    "start_time": "2022-06-25T13:55:04.538Z"
   },
   {
    "duration": 285,
    "start_time": "2022-06-25T13:56:50.050Z"
   },
   {
    "duration": 118,
    "start_time": "2022-06-25T15:27:00.216Z"
   },
   {
    "duration": 1478,
    "start_time": "2022-06-25T15:27:32.172Z"
   },
   {
    "duration": 60,
    "start_time": "2022-06-25T15:27:33.652Z"
   },
   {
    "duration": 15,
    "start_time": "2022-06-25T15:27:33.714Z"
   },
   {
    "duration": 14,
    "start_time": "2022-06-25T15:27:33.732Z"
   },
   {
    "duration": 42,
    "start_time": "2022-06-25T15:27:33.748Z"
   },
   {
    "duration": 9,
    "start_time": "2022-06-25T15:27:33.792Z"
   },
   {
    "duration": 36,
    "start_time": "2022-06-25T15:27:33.824Z"
   },
   {
    "duration": 7,
    "start_time": "2022-06-25T15:27:33.862Z"
   },
   {
    "duration": 7,
    "start_time": "2022-06-25T15:27:33.871Z"
   },
   {
    "duration": 5,
    "start_time": "2022-06-25T15:27:33.880Z"
   },
   {
    "duration": 44,
    "start_time": "2022-06-25T15:27:33.887Z"
   },
   {
    "duration": 15,
    "start_time": "2022-06-25T15:27:33.934Z"
   },
   {
    "duration": 80,
    "start_time": "2022-06-25T15:27:33.951Z"
   },
   {
    "duration": 189,
    "start_time": "2022-06-25T15:27:34.034Z"
   },
   {
    "duration": 1032,
    "start_time": "2022-06-25T15:27:34.225Z"
   },
   {
    "duration": 174,
    "start_time": "2022-06-25T15:27:35.258Z"
   },
   {
    "duration": 20,
    "start_time": "2022-06-25T15:27:35.434Z"
   },
   {
    "duration": 373,
    "start_time": "2022-06-25T15:27:35.456Z"
   },
   {
    "duration": 27,
    "start_time": "2022-06-25T15:27:39.868Z"
   },
   {
    "duration": 7,
    "start_time": "2022-06-25T15:30:38.893Z"
   },
   {
    "duration": 49,
    "start_time": "2022-06-25T15:30:45.388Z"
   },
   {
    "duration": 8,
    "start_time": "2022-06-25T15:31:20.418Z"
   },
   {
    "duration": 9,
    "start_time": "2022-06-25T15:32:35.707Z"
   },
   {
    "duration": 8,
    "start_time": "2022-06-25T15:33:12.826Z"
   },
   {
    "duration": 7,
    "start_time": "2022-06-25T15:33:39.819Z"
   },
   {
    "duration": 7,
    "start_time": "2022-06-25T15:34:22.012Z"
   },
   {
    "duration": 7,
    "start_time": "2022-06-25T15:34:34.190Z"
   },
   {
    "duration": 7,
    "start_time": "2022-06-25T15:34:57.428Z"
   },
   {
    "duration": 11,
    "start_time": "2022-06-25T15:35:39.036Z"
   },
   {
    "duration": 17,
    "start_time": "2022-06-25T15:37:15.503Z"
   },
   {
    "duration": 9,
    "start_time": "2022-06-25T15:42:31.946Z"
   },
   {
    "duration": 9,
    "start_time": "2022-06-25T15:43:00.043Z"
   },
   {
    "duration": 74,
    "start_time": "2022-06-25T15:52:25.913Z"
   },
   {
    "duration": 118,
    "start_time": "2022-06-25T15:54:34.163Z"
   },
   {
    "duration": 1500,
    "start_time": "2022-06-25T15:55:00.110Z"
   },
   {
    "duration": 73,
    "start_time": "2022-06-25T15:55:01.613Z"
   },
   {
    "duration": 19,
    "start_time": "2022-06-25T15:55:01.688Z"
   },
   {
    "duration": 35,
    "start_time": "2022-06-25T15:55:01.710Z"
   },
   {
    "duration": 77,
    "start_time": "2022-06-25T15:55:01.748Z"
   },
   {
    "duration": 17,
    "start_time": "2022-06-25T15:55:01.831Z"
   },
   {
    "duration": 39,
    "start_time": "2022-06-25T15:55:01.849Z"
   },
   {
    "duration": 10,
    "start_time": "2022-06-25T15:55:01.890Z"
   },
   {
    "duration": 16,
    "start_time": "2022-06-25T15:55:01.923Z"
   },
   {
    "duration": 15,
    "start_time": "2022-06-25T15:55:01.946Z"
   },
   {
    "duration": 32,
    "start_time": "2022-06-25T15:55:01.963Z"
   },
   {
    "duration": 21,
    "start_time": "2022-06-25T15:55:01.997Z"
   },
   {
    "duration": 98,
    "start_time": "2022-06-25T15:55:02.020Z"
   },
   {
    "duration": 141,
    "start_time": "2022-06-25T15:55:02.120Z"
   },
   {
    "duration": 1139,
    "start_time": "2022-06-25T15:55:02.263Z"
   },
   {
    "duration": 193,
    "start_time": "2022-06-25T15:55:03.404Z"
   },
   {
    "duration": 134,
    "start_time": "2022-06-25T15:55:03.599Z"
   },
   {
    "duration": 324,
    "start_time": "2022-06-25T15:55:03.734Z"
   },
   {
    "duration": 8,
    "start_time": "2022-06-25T15:55:04.060Z"
   },
   {
    "duration": 20,
    "start_time": "2022-06-25T15:55:04.069Z"
   },
   {
    "duration": 24,
    "start_time": "2022-06-25T15:55:04.091Z"
   },
   {
    "duration": 82,
    "start_time": "2022-06-25T15:55:04.126Z"
   },
   {
    "duration": 137,
    "start_time": "2022-06-25T15:55:07.046Z"
   },
   {
    "duration": 25,
    "start_time": "2022-06-25T15:55:22.203Z"
   },
   {
    "duration": 18,
    "start_time": "2022-06-25T16:04:22.564Z"
   },
   {
    "duration": 23,
    "start_time": "2022-06-25T16:05:56.848Z"
   },
   {
    "duration": 19,
    "start_time": "2022-06-25T16:06:39.500Z"
   },
   {
    "duration": 179,
    "start_time": "2022-06-25T16:30:48.916Z"
   },
   {
    "duration": 1559,
    "start_time": "2022-06-25T16:39:10.016Z"
   },
   {
    "duration": 196,
    "start_time": "2022-06-25T16:41:00.501Z"
   },
   {
    "duration": 61,
    "start_time": "2022-06-25T16:48:24.810Z"
   },
   {
    "duration": 345,
    "start_time": "2022-06-25T16:49:27.561Z"
   },
   {
    "duration": 38,
    "start_time": "2022-06-25T17:31:06.520Z"
   },
   {
    "duration": 955,
    "start_time": "2022-06-25T17:31:30.942Z"
   },
   {
    "duration": 825,
    "start_time": "2022-06-25T17:33:33.678Z"
   },
   {
    "duration": 860,
    "start_time": "2022-06-25T17:37:27.153Z"
   },
   {
    "duration": 886,
    "start_time": "2022-06-25T17:37:52.005Z"
   },
   {
    "duration": 847,
    "start_time": "2022-06-25T17:39:21.041Z"
   },
   {
    "duration": 365,
    "start_time": "2022-06-25T17:42:09.262Z"
   },
   {
    "duration": 344,
    "start_time": "2022-06-25T17:45:52.219Z"
   },
   {
    "duration": 158,
    "start_time": "2022-06-25T17:53:31.715Z"
   },
   {
    "duration": 153,
    "start_time": "2022-06-25T17:55:10.499Z"
   },
   {
    "duration": 1363,
    "start_time": "2022-06-25T17:59:54.841Z"
   },
   {
    "duration": 72,
    "start_time": "2022-06-25T17:59:56.206Z"
   },
   {
    "duration": 15,
    "start_time": "2022-06-25T17:59:56.279Z"
   },
   {
    "duration": 13,
    "start_time": "2022-06-25T17:59:56.295Z"
   },
   {
    "duration": 56,
    "start_time": "2022-06-25T17:59:56.310Z"
   },
   {
    "duration": 10,
    "start_time": "2022-06-25T17:59:56.367Z"
   },
   {
    "duration": 53,
    "start_time": "2022-06-25T17:59:56.379Z"
   },
   {
    "duration": 14,
    "start_time": "2022-06-25T17:59:56.434Z"
   },
   {
    "duration": 11,
    "start_time": "2022-06-25T17:59:56.449Z"
   },
   {
    "duration": 6,
    "start_time": "2022-06-25T17:59:56.462Z"
   },
   {
    "duration": 13,
    "start_time": "2022-06-25T17:59:56.469Z"
   },
   {
    "duration": 40,
    "start_time": "2022-06-25T17:59:56.484Z"
   },
   {
    "duration": 62,
    "start_time": "2022-06-25T17:59:56.527Z"
   },
   {
    "duration": 893,
    "start_time": "2022-06-25T17:59:56.592Z"
   },
   {
    "duration": 372,
    "start_time": "2022-06-25T17:59:57.486Z"
   },
   {
    "duration": 165,
    "start_time": "2022-06-25T17:59:57.860Z"
   },
   {
    "duration": 1080,
    "start_time": "2022-06-25T17:59:58.030Z"
   },
   {
    "duration": 196,
    "start_time": "2022-06-25T17:59:59.111Z"
   },
   {
    "duration": 128,
    "start_time": "2022-06-25T17:59:59.309Z"
   },
   {
    "duration": 404,
    "start_time": "2022-06-25T17:59:59.443Z"
   },
   {
    "duration": 22,
    "start_time": "2022-06-25T17:59:59.848Z"
   },
   {
    "duration": 99,
    "start_time": "2022-06-25T17:59:59.872Z"
   },
   {
    "duration": 7,
    "start_time": "2022-06-25T17:59:59.973Z"
   },
   {
    "duration": 33,
    "start_time": "2022-06-25T18:00:04.757Z"
   },
   {
    "duration": 136,
    "start_time": "2022-06-25T18:00:17.277Z"
   },
   {
    "duration": 943,
    "start_time": "2022-06-25T18:05:57.805Z"
   },
   {
    "duration": 153492,
    "start_time": "2022-06-25T18:32:49.547Z"
   },
   {
    "duration": 11,
    "start_time": "2022-06-25T18:38:11.825Z"
   },
   {
    "duration": 194952,
    "start_time": "2022-06-25T18:39:33.710Z"
   },
   {
    "duration": 10,
    "start_time": "2022-06-25T18:53:20.213Z"
   },
   {
    "duration": 1369,
    "start_time": "2022-06-25T18:54:11.594Z"
   },
   {
    "duration": 56,
    "start_time": "2022-06-25T18:54:12.965Z"
   },
   {
    "duration": 12,
    "start_time": "2022-06-25T18:54:13.023Z"
   },
   {
    "duration": 11,
    "start_time": "2022-06-25T18:54:13.037Z"
   },
   {
    "duration": 38,
    "start_time": "2022-06-25T18:54:13.049Z"
   },
   {
    "duration": 34,
    "start_time": "2022-06-25T18:54:13.089Z"
   },
   {
    "duration": 34,
    "start_time": "2022-06-25T18:54:13.125Z"
   },
   {
    "duration": 8,
    "start_time": "2022-06-25T18:54:13.161Z"
   },
   {
    "duration": 8,
    "start_time": "2022-06-25T18:54:13.170Z"
   },
   {
    "duration": 5,
    "start_time": "2022-06-25T18:54:13.180Z"
   },
   {
    "duration": 39,
    "start_time": "2022-06-25T18:54:13.186Z"
   },
   {
    "duration": 8,
    "start_time": "2022-06-25T18:54:13.227Z"
   },
   {
    "duration": 65,
    "start_time": "2022-06-25T18:54:13.236Z"
   },
   {
    "duration": 794,
    "start_time": "2022-06-25T18:54:13.303Z"
   },
   {
    "duration": 328,
    "start_time": "2022-06-25T18:54:14.099Z"
   },
   {
    "duration": 139,
    "start_time": "2022-06-25T18:54:14.428Z"
   },
   {
    "duration": 871,
    "start_time": "2022-06-25T18:54:14.569Z"
   },
   {
    "duration": 1179304,
    "start_time": "2022-06-25T18:54:22.829Z"
   },
   {
    "duration": 1371,
    "start_time": "2022-06-25T19:14:46.809Z"
   },
   {
    "duration": 60,
    "start_time": "2022-06-25T19:14:48.182Z"
   },
   {
    "duration": 12,
    "start_time": "2022-06-25T19:14:48.243Z"
   },
   {
    "duration": 11,
    "start_time": "2022-06-25T19:14:48.258Z"
   },
   {
    "duration": 63,
    "start_time": "2022-06-25T19:14:48.270Z"
   },
   {
    "duration": 9,
    "start_time": "2022-06-25T19:14:48.335Z"
   },
   {
    "duration": 34,
    "start_time": "2022-06-25T19:14:48.346Z"
   },
   {
    "duration": 7,
    "start_time": "2022-06-25T19:14:48.382Z"
   },
   {
    "duration": 34,
    "start_time": "2022-06-25T19:14:48.391Z"
   },
   {
    "duration": 5,
    "start_time": "2022-06-25T19:14:48.427Z"
   },
   {
    "duration": 9,
    "start_time": "2022-06-25T19:14:48.434Z"
   },
   {
    "duration": 6,
    "start_time": "2022-06-25T19:14:48.445Z"
   },
   {
    "duration": 80,
    "start_time": "2022-06-25T19:14:48.453Z"
   },
   {
    "duration": 806,
    "start_time": "2022-06-25T19:14:48.535Z"
   },
   {
    "duration": 318,
    "start_time": "2022-06-25T19:14:49.343Z"
   },
   {
    "duration": 133,
    "start_time": "2022-06-25T19:14:49.663Z"
   },
   {
    "duration": 886,
    "start_time": "2022-06-25T19:14:49.797Z"
   },
   {
    "duration": 536241,
    "start_time": "2022-06-25T19:14:53.137Z"
   },
   {
    "duration": 131538,
    "start_time": "2022-06-25T19:30:47.772Z"
   },
   {
    "duration": 385507,
    "start_time": "2022-06-25T19:40:08.875Z"
   },
   {
    "duration": 9,
    "start_time": "2022-06-25T19:47:56.675Z"
   },
   {
    "duration": 890885,
    "start_time": "2022-06-25T19:48:44.214Z"
   },
   {
    "duration": 184251,
    "start_time": "2022-06-25T20:11:05.486Z"
   },
   {
    "duration": 10,
    "start_time": "2022-06-25T20:15:30.300Z"
   },
   {
    "duration": 354,
    "start_time": "2022-06-25T20:17:10.015Z"
   },
   {
    "duration": 1445,
    "start_time": "2022-06-26T05:50:51.948Z"
   },
   {
    "duration": 117,
    "start_time": "2022-06-26T05:50:53.395Z"
   },
   {
    "duration": 13,
    "start_time": "2022-06-26T05:50:53.514Z"
   },
   {
    "duration": 26,
    "start_time": "2022-06-26T05:50:53.529Z"
   },
   {
    "duration": 48,
    "start_time": "2022-06-26T05:50:53.556Z"
   },
   {
    "duration": 12,
    "start_time": "2022-06-26T05:50:53.606Z"
   },
   {
    "duration": 50,
    "start_time": "2022-06-26T05:50:53.627Z"
   },
   {
    "duration": 8,
    "start_time": "2022-06-26T05:50:53.678Z"
   },
   {
    "duration": 27,
    "start_time": "2022-06-26T05:50:53.688Z"
   },
   {
    "duration": 19,
    "start_time": "2022-06-26T05:50:53.718Z"
   },
   {
    "duration": 20,
    "start_time": "2022-06-26T05:50:53.739Z"
   },
   {
    "duration": 27,
    "start_time": "2022-06-26T05:50:53.761Z"
   },
   {
    "duration": 77,
    "start_time": "2022-06-26T05:50:53.790Z"
   },
   {
    "duration": 801,
    "start_time": "2022-06-26T05:50:53.869Z"
   },
   {
    "duration": 350,
    "start_time": "2022-06-26T05:50:54.672Z"
   },
   {
    "duration": 142,
    "start_time": "2022-06-26T05:50:55.028Z"
   },
   {
    "duration": 898,
    "start_time": "2022-06-26T05:50:55.171Z"
   },
   {
    "duration": 188591,
    "start_time": "2022-06-26T05:50:56.071Z"
   },
   {
    "duration": 9,
    "start_time": "2022-06-26T05:54:04.663Z"
   },
   {
    "duration": 394,
    "start_time": "2022-06-26T05:54:04.674Z"
   },
   {
    "duration": 120,
    "start_time": "2022-06-26T05:57:24.382Z"
   },
   {
    "duration": 8,
    "start_time": "2022-06-26T05:57:48.391Z"
   },
   {
    "duration": 10,
    "start_time": "2022-06-26T05:58:09.067Z"
   },
   {
    "duration": 391,
    "start_time": "2022-06-26T05:58:41.238Z"
   },
   {
    "duration": 28,
    "start_time": "2022-06-26T05:59:04.459Z"
   },
   {
    "duration": 272,
    "start_time": "2022-06-26T05:59:08.667Z"
   },
   {
    "duration": 9,
    "start_time": "2022-06-26T05:59:23.685Z"
   },
   {
    "duration": 7,
    "start_time": "2022-06-26T05:59:54.027Z"
   },
   {
    "duration": 15,
    "start_time": "2022-06-26T06:00:04.421Z"
   },
   {
    "duration": 9,
    "start_time": "2022-06-26T06:00:34.760Z"
   },
   {
    "duration": 48,
    "start_time": "2022-06-26T06:00:56.222Z"
   },
   {
    "duration": 146,
    "start_time": "2022-06-26T06:01:40.497Z"
   },
   {
    "duration": 148,
    "start_time": "2022-06-26T06:02:31.159Z"
   },
   {
    "duration": 325,
    "start_time": "2022-06-26T06:03:48.537Z"
   },
   {
    "duration": 448,
    "start_time": "2022-06-26T06:05:08.801Z"
   },
   {
    "duration": 260541,
    "start_time": "2022-06-26T06:10:49.154Z"
   },
   {
    "duration": 8,
    "start_time": "2022-06-26T06:25:48.148Z"
   },
   {
    "duration": 9,
    "start_time": "2022-06-26T06:26:01.598Z"
   },
   {
    "duration": 450,
    "start_time": "2022-06-26T06:27:17.321Z"
   },
   {
    "duration": 37,
    "start_time": "2022-06-26T06:36:30.206Z"
   },
   {
    "duration": 267,
    "start_time": "2022-06-26T06:36:38.962Z"
   },
   {
    "duration": 365,
    "start_time": "2022-06-26T06:49:47.493Z"
   },
   {
    "duration": 11054,
    "start_time": "2022-06-26T07:00:07.441Z"
   },
   {
    "duration": 420336,
    "start_time": "2022-06-26T07:00:33.595Z"
   },
   {
    "duration": 1211774,
    "start_time": "2022-06-26T07:09:20.521Z"
   },
   {
    "duration": 50010,
    "start_time": "2022-06-26T07:33:26.600Z"
   },
   {
    "duration": 340,
    "start_time": "2022-06-26T07:45:47.772Z"
   },
   {
    "duration": 50425,
    "start_time": "2022-06-26T07:47:14.331Z"
   },
   {
    "duration": 9,
    "start_time": "2022-06-26T07:52:37.514Z"
   },
   {
    "duration": 9,
    "start_time": "2022-06-26T07:52:50.266Z"
   },
   {
    "duration": 366,
    "start_time": "2022-06-26T07:58:25.744Z"
   },
   {
    "duration": 1850,
    "start_time": "2022-06-26T14:55:41.355Z"
   },
   {
    "duration": 135,
    "start_time": "2022-06-26T14:55:43.208Z"
   },
   {
    "duration": 19,
    "start_time": "2022-06-26T14:55:43.345Z"
   },
   {
    "duration": 21,
    "start_time": "2022-06-26T14:55:43.366Z"
   },
   {
    "duration": 25,
    "start_time": "2022-06-26T14:55:46.735Z"
   },
   {
    "duration": 32,
    "start_time": "2022-06-26T15:01:00.015Z"
   },
   {
    "duration": 12,
    "start_time": "2022-06-26T15:01:09.058Z"
   },
   {
    "duration": 8,
    "start_time": "2022-06-26T15:06:42.067Z"
   },
   {
    "duration": 101,
    "start_time": "2022-06-26T15:06:42.077Z"
   },
   {
    "duration": 23,
    "start_time": "2022-06-26T15:06:42.183Z"
   },
   {
    "duration": 38,
    "start_time": "2022-06-26T15:06:42.207Z"
   },
   {
    "duration": 24,
    "start_time": "2022-06-26T15:06:42.248Z"
   },
   {
    "duration": 90,
    "start_time": "2022-06-26T15:06:42.274Z"
   },
   {
    "duration": 69,
    "start_time": "2022-06-26T15:06:42.366Z"
   },
   {
    "duration": 10,
    "start_time": "2022-06-26T15:06:42.437Z"
   },
   {
    "duration": 18,
    "start_time": "2022-06-26T15:06:42.449Z"
   },
   {
    "duration": 48,
    "start_time": "2022-06-26T15:06:42.469Z"
   },
   {
    "duration": 17,
    "start_time": "2022-06-26T15:06:42.519Z"
   },
   {
    "duration": 11,
    "start_time": "2022-06-26T15:06:42.538Z"
   },
   {
    "duration": 10,
    "start_time": "2022-06-26T15:06:42.551Z"
   },
   {
    "duration": 66,
    "start_time": "2022-06-26T15:10:13.138Z"
   },
   {
    "duration": 34,
    "start_time": "2022-06-26T15:10:27.032Z"
   },
   {
    "duration": 53,
    "start_time": "2022-06-26T15:10:50.753Z"
   },
   {
    "duration": 40,
    "start_time": "2022-06-26T15:11:03.100Z"
   },
   {
    "duration": 51,
    "start_time": "2022-06-26T15:11:16.011Z"
   },
   {
    "duration": 35,
    "start_time": "2022-06-26T15:11:56.897Z"
   },
   {
    "duration": 22,
    "start_time": "2022-06-26T15:16:31.250Z"
   },
   {
    "duration": 347,
    "start_time": "2022-06-26T15:16:41.333Z"
   },
   {
    "duration": 467,
    "start_time": "2022-06-26T15:16:51.428Z"
   },
   {
    "duration": 187,
    "start_time": "2022-06-26T15:21:55.949Z"
   },
   {
    "duration": 581,
    "start_time": "2022-06-26T15:22:55.347Z"
   },
   {
    "duration": 125780,
    "start_time": "2022-06-26T15:24:05.840Z"
   },
   {
    "duration": 13,
    "start_time": "2022-06-26T15:26:49.004Z"
   },
   {
    "duration": 32,
    "start_time": "2022-06-26T15:29:50.606Z"
   },
   {
    "duration": 333,
    "start_time": "2022-06-26T15:30:05.416Z"
   },
   {
    "duration": 9,
    "start_time": "2022-06-26T15:35:14.118Z"
   },
   {
    "duration": 16,
    "start_time": "2022-06-26T15:35:20.730Z"
   },
   {
    "duration": 8,
    "start_time": "2022-06-26T15:35:32.522Z"
   },
   {
    "duration": 16,
    "start_time": "2022-06-26T15:36:12.615Z"
   },
   {
    "duration": 161,
    "start_time": "2022-06-26T15:36:22.166Z"
   },
   {
    "duration": 12,
    "start_time": "2022-06-26T15:42:21.813Z"
   },
   {
    "duration": 124,
    "start_time": "2022-06-26T15:47:05.121Z"
   },
   {
    "duration": 224,
    "start_time": "2022-06-26T15:55:23.852Z"
   },
   {
    "duration": 97,
    "start_time": "2022-06-26T15:56:21.209Z"
   },
   {
    "duration": 4,
    "start_time": "2022-06-26T15:56:26.535Z"
   },
   {
    "duration": 2,
    "start_time": "2022-06-26T15:56:37.241Z"
   },
   {
    "duration": 229,
    "start_time": "2022-06-26T15:56:41.643Z"
   },
   {
    "duration": 41,
    "start_time": "2022-06-26T15:58:05.050Z"
   },
   {
    "duration": 300,
    "start_time": "2022-06-26T15:58:09.017Z"
   },
   {
    "duration": 5,
    "start_time": "2022-06-26T16:13:42.358Z"
   },
   {
    "duration": 108,
    "start_time": "2022-06-26T16:14:35.802Z"
   },
   {
    "duration": 2,
    "start_time": "2022-06-26T16:19:08.041Z"
   },
   {
    "duration": 224,
    "start_time": "2022-06-26T16:21:42.328Z"
   },
   {
    "duration": 4,
    "start_time": "2022-06-26T16:25:32.507Z"
   },
   {
    "duration": 4,
    "start_time": "2022-06-26T16:25:46.007Z"
   },
   {
    "duration": 58,
    "start_time": "2022-06-26T16:25:46.014Z"
   },
   {
    "duration": 14,
    "start_time": "2022-06-26T16:25:46.075Z"
   },
   {
    "duration": 31,
    "start_time": "2022-06-26T16:25:46.091Z"
   },
   {
    "duration": 19,
    "start_time": "2022-06-26T16:25:46.124Z"
   },
   {
    "duration": 39,
    "start_time": "2022-06-26T16:25:46.145Z"
   },
   {
    "duration": 12,
    "start_time": "2022-06-26T16:25:46.560Z"
   },
   {
    "duration": 13,
    "start_time": "2022-06-26T16:25:46.599Z"
   },
   {
    "duration": 12,
    "start_time": "2022-06-26T16:25:46.614Z"
   },
   {
    "duration": 8,
    "start_time": "2022-06-26T16:25:46.629Z"
   },
   {
    "duration": 6,
    "start_time": "2022-06-26T16:25:46.639Z"
   },
   {
    "duration": 15,
    "start_time": "2022-06-26T16:25:46.647Z"
   },
   {
    "duration": 58,
    "start_time": "2022-06-26T16:25:46.664Z"
   },
   {
    "duration": 34,
    "start_time": "2022-06-26T16:25:46.724Z"
   },
   {
    "duration": 43,
    "start_time": "2022-06-26T16:25:46.759Z"
   },
   {
    "duration": 550,
    "start_time": "2022-06-26T16:25:46.805Z"
   },
   {
    "duration": 374,
    "start_time": "2022-06-26T16:25:47.357Z"
   },
   {
    "duration": 165,
    "start_time": "2022-06-26T16:25:47.733Z"
   },
   {
    "duration": 742,
    "start_time": "2022-06-26T16:25:47.900Z"
   },
   {
    "duration": 164942,
    "start_time": "2022-06-26T16:25:48.645Z"
   },
   {
    "duration": 17,
    "start_time": "2022-06-26T16:28:33.592Z"
   },
   {
    "duration": 371,
    "start_time": "2022-06-26T16:28:33.611Z"
   },
   {
    "duration": 29,
    "start_time": "2022-06-26T16:28:33.989Z"
   },
   {
    "duration": 353,
    "start_time": "2022-06-26T16:28:34.091Z"
   },
   {
    "duration": 8,
    "start_time": "2022-06-26T16:28:34.446Z"
   },
   {
    "duration": 42,
    "start_time": "2022-06-26T16:28:34.476Z"
   },
   {
    "duration": 11,
    "start_time": "2022-06-26T16:28:34.521Z"
   },
   {
    "duration": 26,
    "start_time": "2022-06-26T16:28:34.534Z"
   },
   {
    "duration": 261,
    "start_time": "2022-06-26T16:28:34.562Z"
   },
   {
    "duration": 201,
    "start_time": "2022-06-26T16:28:34.825Z"
   },
   {
    "duration": 9,
    "start_time": "2022-06-26T16:37:38.832Z"
   },
   {
    "duration": 238,
    "start_time": "2022-06-26T16:38:10.919Z"
   },
   {
    "duration": 34,
    "start_time": "2022-06-26T16:40:24.390Z"
   },
   {
    "duration": 245,
    "start_time": "2022-06-26T16:40:52.817Z"
   },
   {
    "duration": 6,
    "start_time": "2022-06-26T16:43:55.150Z"
   },
   {
    "duration": 15,
    "start_time": "2022-06-26T16:43:58.550Z"
   },
   {
    "duration": 6,
    "start_time": "2022-06-26T16:44:04.752Z"
   },
   {
    "duration": 27,
    "start_time": "2022-06-26T16:44:11.549Z"
   },
   {
    "duration": 162,
    "start_time": "2022-06-26T16:44:18.551Z"
   },
   {
    "duration": 368,
    "start_time": "2022-06-26T16:46:04.534Z"
   },
   {
    "duration": 82069,
    "start_time": "2022-06-26T16:46:42.454Z"
   },
   {
    "duration": 309,
    "start_time": "2022-06-26T16:48:14.716Z"
   },
   {
    "duration": 23,
    "start_time": "2022-06-26T16:49:11.306Z"
   },
   {
    "duration": 266,
    "start_time": "2022-06-26T16:49:15.461Z"
   },
   {
    "duration": 5,
    "start_time": "2022-06-26T16:51:44.305Z"
   },
   {
    "duration": 410,
    "start_time": "2022-06-26T16:51:55.302Z"
   },
   {
    "duration": 489,
    "start_time": "2022-06-26T16:54:49.044Z"
   },
   {
    "duration": 4,
    "start_time": "2022-06-26T16:57:03.833Z"
   }
  ],
  "kernelspec": {
   "display_name": "Python 3 (ipykernel)",
   "language": "python",
   "name": "python3"
  },
  "language_info": {
   "codemirror_mode": {
    "name": "ipython",
    "version": 3
   },
   "file_extension": ".py",
   "mimetype": "text/x-python",
   "name": "python",
   "nbconvert_exporter": "python",
   "pygments_lexer": "ipython3",
   "version": "3.7.8"
  },
  "toc": {
   "base_numbering": 1,
   "nav_menu": {},
   "number_sections": true,
   "sideBar": true,
   "skip_h1_title": true,
   "title_cell": "Содержание",
   "title_sidebar": "Contents",
   "toc_cell": true,
   "toc_position": {
    "height": "calc(100% - 180px)",
    "left": "10px",
    "top": "150px",
    "width": "281px"
   },
   "toc_section_display": true,
   "toc_window_display": true
  }
 },
 "nbformat": 4,
 "nbformat_minor": 2
}
