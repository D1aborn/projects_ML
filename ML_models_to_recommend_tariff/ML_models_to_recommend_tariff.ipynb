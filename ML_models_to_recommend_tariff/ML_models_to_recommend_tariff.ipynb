{
 "cells": [
  {
   "cell_type": "markdown",
   "metadata": {},
   "source": [
    "# Построение моделей машинного обучения для рекомендации тарифа сотовой связи"
   ]
  },
  {
   "cell_type": "markdown",
   "metadata": {},
   "source": [
    "## 1 Обзор данных"
   ]
  },
  {
   "cell_type": "code",
   "execution_count": 1,
   "metadata": {},
   "outputs": [],
   "source": [
    "import pandas as pd\n",
    "import numpy as np\n",
    "import matplotlib.pyplot as plt\n",
    "from sklearn.model_selection import train_test_split\n",
    "from sklearn.tree import DecisionTreeClassifier\n",
    "from sklearn.ensemble import RandomForestClassifier\n",
    "from sklearn.linear_model import LogisticRegression\n",
    "from sklearn.metrics import accuracy_score\n",
    "\n",
    "pd.set_option('display.max_columns', None) # позволяет видеть все столбцы"
   ]
  },
  {
   "cell_type": "code",
   "execution_count": 2,
   "metadata": {},
   "outputs": [
    {
     "data": {
      "text/plain": [
       "'Общие данные по тарифам'"
      ]
     },
     "metadata": {},
     "output_type": "display_data"
    },
    {
     "data": {
      "text/html": [
       "<div>\n",
       "<style scoped>\n",
       "    .dataframe tbody tr th:only-of-type {\n",
       "        vertical-align: middle;\n",
       "    }\n",
       "\n",
       "    .dataframe tbody tr th {\n",
       "        vertical-align: top;\n",
       "    }\n",
       "\n",
       "    .dataframe thead th {\n",
       "        text-align: right;\n",
       "    }\n",
       "</style>\n",
       "<table border=\"1\" class=\"dataframe\">\n",
       "  <thead>\n",
       "    <tr style=\"text-align: right;\">\n",
       "      <th></th>\n",
       "      <th>calls</th>\n",
       "      <th>minutes</th>\n",
       "      <th>messages</th>\n",
       "      <th>mb_used</th>\n",
       "      <th>is_ultra</th>\n",
       "    </tr>\n",
       "  </thead>\n",
       "  <tbody>\n",
       "    <tr>\n",
       "      <th>0</th>\n",
       "      <td>40.0</td>\n",
       "      <td>311.90</td>\n",
       "      <td>83.0</td>\n",
       "      <td>19915.42</td>\n",
       "      <td>0</td>\n",
       "    </tr>\n",
       "    <tr>\n",
       "      <th>1</th>\n",
       "      <td>85.0</td>\n",
       "      <td>516.75</td>\n",
       "      <td>56.0</td>\n",
       "      <td>22696.96</td>\n",
       "      <td>0</td>\n",
       "    </tr>\n",
       "    <tr>\n",
       "      <th>2</th>\n",
       "      <td>77.0</td>\n",
       "      <td>467.66</td>\n",
       "      <td>86.0</td>\n",
       "      <td>21060.45</td>\n",
       "      <td>0</td>\n",
       "    </tr>\n",
       "    <tr>\n",
       "      <th>3</th>\n",
       "      <td>106.0</td>\n",
       "      <td>745.53</td>\n",
       "      <td>81.0</td>\n",
       "      <td>8437.39</td>\n",
       "      <td>1</td>\n",
       "    </tr>\n",
       "    <tr>\n",
       "      <th>4</th>\n",
       "      <td>66.0</td>\n",
       "      <td>418.74</td>\n",
       "      <td>1.0</td>\n",
       "      <td>14502.75</td>\n",
       "      <td>0</td>\n",
       "    </tr>\n",
       "    <tr>\n",
       "      <th>...</th>\n",
       "      <td>...</td>\n",
       "      <td>...</td>\n",
       "      <td>...</td>\n",
       "      <td>...</td>\n",
       "      <td>...</td>\n",
       "    </tr>\n",
       "    <tr>\n",
       "      <th>3209</th>\n",
       "      <td>122.0</td>\n",
       "      <td>910.98</td>\n",
       "      <td>20.0</td>\n",
       "      <td>35124.90</td>\n",
       "      <td>1</td>\n",
       "    </tr>\n",
       "    <tr>\n",
       "      <th>3210</th>\n",
       "      <td>25.0</td>\n",
       "      <td>190.36</td>\n",
       "      <td>0.0</td>\n",
       "      <td>3275.61</td>\n",
       "      <td>0</td>\n",
       "    </tr>\n",
       "    <tr>\n",
       "      <th>3211</th>\n",
       "      <td>97.0</td>\n",
       "      <td>634.44</td>\n",
       "      <td>70.0</td>\n",
       "      <td>13974.06</td>\n",
       "      <td>0</td>\n",
       "    </tr>\n",
       "    <tr>\n",
       "      <th>3212</th>\n",
       "      <td>64.0</td>\n",
       "      <td>462.32</td>\n",
       "      <td>90.0</td>\n",
       "      <td>31239.78</td>\n",
       "      <td>0</td>\n",
       "    </tr>\n",
       "    <tr>\n",
       "      <th>3213</th>\n",
       "      <td>80.0</td>\n",
       "      <td>566.09</td>\n",
       "      <td>6.0</td>\n",
       "      <td>29480.52</td>\n",
       "      <td>1</td>\n",
       "    </tr>\n",
       "  </tbody>\n",
       "</table>\n",
       "<p>3214 rows × 5 columns</p>\n",
       "</div>"
      ],
      "text/plain": [
       "      calls  minutes  messages   mb_used  is_ultra\n",
       "0      40.0   311.90      83.0  19915.42         0\n",
       "1      85.0   516.75      56.0  22696.96         0\n",
       "2      77.0   467.66      86.0  21060.45         0\n",
       "3     106.0   745.53      81.0   8437.39         1\n",
       "4      66.0   418.74       1.0  14502.75         0\n",
       "...     ...      ...       ...       ...       ...\n",
       "3209  122.0   910.98      20.0  35124.90         1\n",
       "3210   25.0   190.36       0.0   3275.61         0\n",
       "3211   97.0   634.44      70.0  13974.06         0\n",
       "3212   64.0   462.32      90.0  31239.78         0\n",
       "3213   80.0   566.09       6.0  29480.52         1\n",
       "\n",
       "[3214 rows x 5 columns]"
      ]
     },
     "metadata": {},
     "output_type": "display_data"
    }
   ],
   "source": [
    "tariffs = pd.read_csv('/datasets/users_behavior.csv')\n",
    "display('Общие данные по тарифам', tariffs)"
   ]
  },
  {
   "cell_type": "markdown",
   "metadata": {},
   "source": [
    "<font size=\"4\"><b>Описание данных в таблице:</b></font>\n",
    "\n",
    "•\tсalls — количество звонков,\n",
    "\n",
    "•\tminutes — суммарная длительность звонков в минутах,\n",
    "\n",
    "•\tmessages — количество sms-сообщений,\n",
    "\n",
    "•\tmb_used — израсходованный интернет-трафик в Мб,\n",
    "\n",
    "•\tis_ultra — каким тарифом пользовался в течение месяца («Ультра» — 1, «Смарт» — 0).\n",
    "\n",
    "Каждый объект в наборе данных — это информация о поведении одного пользователя за месяц. "
   ]
  },
  {
   "cell_type": "code",
   "execution_count": 3,
   "metadata": {},
   "outputs": [
    {
     "name": "stdout",
     "output_type": "stream",
     "text": [
      "<class 'pandas.core.frame.DataFrame'>\n",
      "RangeIndex: 3214 entries, 0 to 3213\n",
      "Data columns (total 5 columns):\n",
      " #   Column    Non-Null Count  Dtype  \n",
      "---  ------    --------------  -----  \n",
      " 0   calls     3214 non-null   float64\n",
      " 1   minutes   3214 non-null   float64\n",
      " 2   messages  3214 non-null   float64\n",
      " 3   mb_used   3214 non-null   float64\n",
      " 4   is_ultra  3214 non-null   int64  \n",
      "dtypes: float64(4), int64(1)\n",
      "memory usage: 125.7 KB\n"
     ]
    }
   ],
   "source": [
    "tariffs.info()"
   ]
  },
  {
   "cell_type": "markdown",
   "metadata": {},
   "source": [
    "<b>Вывод</b>\n",
    "\n",
    "Изучив данные можно сказать:\n",
    "\n",
    "- таблица включает 5 столбцов и 3213 строк (объектов) данных;\n",
    "\n",
    "- пропусков нет;\n",
    "\n",
    "- данные приведены к нужным типам;\n",
    "\n",
    "- таблица будет включать 2 набора данных: признаки - столбцы 'calls', 'minutes', 'messages' и 'mb_used', а также целевой признак столбец 'is_ultra' - пользование тарифом «Ультра» — 1 или «Смарт» — 0;\n",
    "\n",
    "- перед нами будет стоять задача классификации, целевой признак уже разбит на 2 категории - «Ультра» — 1 и «Смарт» — 0."
   ]
  },
  {
   "cell_type": "markdown",
   "metadata": {},
   "source": [
    "## 2 Разбиение данных на выборки"
   ]
  },
  {
   "cell_type": "markdown",
   "metadata": {},
   "source": [
    "<b>Разобъем таблицу на тренировочную, валидационную и тестовую выборки</b>"
   ]
  },
  {
   "cell_type": "code",
   "execution_count": 4,
   "metadata": {},
   "outputs": [
    {
     "data": {
      "text/plain": [
       "(1928,)"
      ]
     },
     "metadata": {},
     "output_type": "display_data"
    },
    {
     "data": {
      "text/plain": [
       "(1286,)"
      ]
     },
     "metadata": {},
     "output_type": "display_data"
    }
   ],
   "source": [
    "# Разобъем таблицу на 2 группы: признаки tariffs_features и целевые признаки tariffs_features\n",
    "tariffs_features = tariffs.drop(['is_ultra'], axis=1)\n",
    "tariffs_target = tariffs['is_ultra']\n",
    "\n",
    "# Разобъем на 2 выборки: обучающую и дополнительную (для валидации и теста)\n",
    "features_train, features_valid_test, target_train, target_valid_test = train_test_split(\n",
    "    tariffs_features, tariffs_target,\n",
    "    test_size=0.4, random_state=12345, stratify=tariffs_target)\n",
    "\n",
    "display(target_train.shape)\n",
    "display(target_valid_test.shape)"
   ]
  },
  {
   "cell_type": "code",
   "execution_count": 5,
   "metadata": {},
   "outputs": [
    {
     "name": "stdout",
     "output_type": "stream",
     "text": [
      "0    0.693624\n",
      "1    0.306376\n",
      "Name: is_ultra, dtype: float64\n"
     ]
    }
   ],
   "source": [
    "frequency_valid_test = target_valid_test.value_counts(normalize=2/len(target_valid_test))\n",
    "print(frequency_valid_test)"
   ]
  },
  {
   "cell_type": "markdown",
   "metadata": {},
   "source": [
    "<b>Относительное соотношение меток 1 и 0 составляет примерно 1/3  единиц и 2/3 - нулей.</b>"
   ]
  },
  {
   "cell_type": "code",
   "execution_count": 6,
   "metadata": {},
   "outputs": [
    {
     "data": {
      "text/plain": [
       "(643,)"
      ]
     },
     "metadata": {},
     "output_type": "display_data"
    },
    {
     "data": {
      "text/plain": [
       "(643,)"
      ]
     },
     "metadata": {},
     "output_type": "display_data"
    }
   ],
   "source": [
    "# Теперь разобъем и признаки и целевые признаки дополнительной выборки на 2 выборки: валидационную и тестовую\n",
    "features_valid, features_test, target_valid, target_test = train_test_split(\n",
    "    features_valid_test, target_valid_test,\n",
    "    test_size=0.5, random_state=12345, stratify=target_valid_test)\n",
    "\n",
    "display(target_valid.shape)\n",
    "display(target_test.shape)"
   ]
  },
  {
   "cell_type": "code",
   "execution_count": 7,
   "metadata": {},
   "outputs": [
    {
     "name": "stdout",
     "output_type": "stream",
     "text": [
      "0    0.693624\n",
      "1    0.306376\n",
      "Name: is_ultra, dtype: float64\n"
     ]
    }
   ],
   "source": [
    "frequency_test = target_test.value_counts(normalize=2/len(target_test))\n",
    "print(frequency_test)"
   ]
  },
  {
   "cell_type": "markdown",
   "metadata": {},
   "source": [
    "<b>Относительное соотношение меток 1 и 0 в тестовой выборке составляет примерно 1/3  единиц и 2/3 - нулей.</b>"
   ]
  },
  {
   "cell_type": "markdown",
   "metadata": {},
   "source": [
    "## 3 Исследуйте модели"
   ]
  },
  {
   "cell_type": "markdown",
   "metadata": {},
   "source": [
    "### 3.1 Обучим модель Решающее дерево и проверим ее качество"
   ]
  },
  {
   "cell_type": "code",
   "execution_count": 10,
   "metadata": {},
   "outputs": [
    {
     "name": "stdout",
     "output_type": "stream",
     "text": [
      "Accuracy:\n",
      "Обучающая выборка: 1.0\n",
      "Валидационная выборка: 0.7013996889580093\n"
     ]
    }
   ],
   "source": [
    "model = DecisionTreeClassifier(random_state=12345) # модель без указания гиперпараметра - глубины\n",
    "model.fit(features_train, target_train)\n",
    "\n",
    "# расчёт предсказания модели на обучающей выборке\n",
    "train_predictions = model.predict(features_train)\n",
    "\n",
    "# расчёт предсказания модели на валидационной выборке\n",
    "valid_predictions = model.predict(features_valid)\n",
    "\n",
    "print(\"Accuracy:\")\n",
    "# находим accuracy для обучающей выборки по формуле\n",
    "print(\"Обучающая выборка:\", accuracy_score(target_train, train_predictions))\n",
    "# находим accuracy для тестовой выборки по формуле\n",
    "print(\"Валидационная выборка:\", accuracy_score(target_valid, valid_predictions))"
   ]
  },
  {
   "cell_type": "markdown",
   "metadata": {},
   "source": [
    "Проверим качество Решающего дерева при изменении гиперпараметра - максимальной глубины"
   ]
  },
  {
   "cell_type": "code",
   "execution_count": 11,
   "metadata": {},
   "outputs": [
    {
     "name": "stdout",
     "output_type": "stream",
     "text": [
      "Accuracy:\n",
      "Максимальная глубина дерева = 1  Обучающая выборка: 0.7546680497925311  Валидационная выборка: 0.7402799377916018\n",
      "Максимальная глубина дерева = 2  Обучающая выборка: 0.7759336099585062  Валидационная выборка: 0.7729393468118196\n",
      "Максимальная глубина дерева = 3  Обучающая выборка: 0.7909751037344398  Валидационная выборка: 0.7776049766718507\n",
      "Максимальная глубина дерева = 4  Обучающая выборка: 0.7971991701244814  Валидационная выборка: 0.7542768273716952\n",
      "Максимальная глубина дерева = 5  Обучающая выборка: 0.8137966804979253  Валидационная выборка: 0.7853810264385692\n",
      "Максимальная глубина дерева = 6  Обучающая выборка: 0.8283195020746889  Валидационная выборка: 0.7744945567651633\n",
      "Максимальная глубина дерева = 7  Обучающая выборка: 0.8412863070539419  Валидационная выборка: 0.7869362363919129\n",
      "Максимальная глубина дерева = 8  Обучающая выборка: 0.8558091286307054  Валидационная выборка: 0.80248833592535\n",
      "Максимальная глубина дерева = 9  Обучающая выборка: 0.8718879668049793  Валидационная выборка: 0.7822706065318819\n",
      "Максимальная глубина дерева = 10  Обучающая выборка: 0.8874481327800829  Валидационная выборка: 0.7729393468118196\n",
      "\n",
      "\n",
      "Accuracy наилучшей модели Решающее дерево на валидационной выборке: 0.80248833592535\n"
     ]
    },
    {
     "data": {
      "text/html": [
       "<div>\n",
       "<style scoped>\n",
       "    .dataframe tbody tr th:only-of-type {\n",
       "        vertical-align: middle;\n",
       "    }\n",
       "\n",
       "    .dataframe tbody tr th {\n",
       "        vertical-align: top;\n",
       "    }\n",
       "\n",
       "    .dataframe thead th {\n",
       "        text-align: right;\n",
       "    }\n",
       "</style>\n",
       "<table border=\"1\" class=\"dataframe\">\n",
       "  <thead>\n",
       "    <tr style=\"text-align: right;\">\n",
       "      <th></th>\n",
       "      <th>max_depth</th>\n",
       "      <th>accuracy</th>\n",
       "    </tr>\n",
       "  </thead>\n",
       "  <tbody>\n",
       "    <tr>\n",
       "      <th>0</th>\n",
       "      <td>1</td>\n",
       "      <td>0.740280</td>\n",
       "    </tr>\n",
       "    <tr>\n",
       "      <th>1</th>\n",
       "      <td>2</td>\n",
       "      <td>0.772939</td>\n",
       "    </tr>\n",
       "    <tr>\n",
       "      <th>2</th>\n",
       "      <td>3</td>\n",
       "      <td>0.777605</td>\n",
       "    </tr>\n",
       "    <tr>\n",
       "      <th>3</th>\n",
       "      <td>4</td>\n",
       "      <td>0.754277</td>\n",
       "    </tr>\n",
       "    <tr>\n",
       "      <th>4</th>\n",
       "      <td>5</td>\n",
       "      <td>0.785381</td>\n",
       "    </tr>\n",
       "    <tr>\n",
       "      <th>5</th>\n",
       "      <td>6</td>\n",
       "      <td>0.774495</td>\n",
       "    </tr>\n",
       "    <tr>\n",
       "      <th>6</th>\n",
       "      <td>7</td>\n",
       "      <td>0.786936</td>\n",
       "    </tr>\n",
       "    <tr>\n",
       "      <th>7</th>\n",
       "      <td>8</td>\n",
       "      <td>0.802488</td>\n",
       "    </tr>\n",
       "    <tr>\n",
       "      <th>8</th>\n",
       "      <td>9</td>\n",
       "      <td>0.782271</td>\n",
       "    </tr>\n",
       "    <tr>\n",
       "      <th>9</th>\n",
       "      <td>10</td>\n",
       "      <td>0.772939</td>\n",
       "    </tr>\n",
       "  </tbody>\n",
       "</table>\n",
       "</div>"
      ],
      "text/plain": [
       "   max_depth  accuracy\n",
       "0          1  0.740280\n",
       "1          2  0.772939\n",
       "2          3  0.777605\n",
       "3          4  0.754277\n",
       "4          5  0.785381\n",
       "5          6  0.774495\n",
       "6          7  0.786936\n",
       "7          8  0.802488\n",
       "8          9  0.782271\n",
       "9         10  0.772939"
      ]
     },
     "metadata": {},
     "output_type": "display_data"
    }
   ],
   "source": [
    "# Проверим какая глубина наиболее оптимальна для максимального Accuracy (max_depth от 1 до 10 )\n",
    "accuracy_list = [] # список для построения графика\n",
    "depth_list = [] # список для построения графика\n",
    "\n",
    "best_model_tree = None\n",
    "best_accuracy_tree = 0\n",
    "print(\"Accuracy:\")\n",
    "for depth in range(1, 11):\n",
    "    model_tree = DecisionTreeClassifier(random_state=12345, max_depth=depth)\n",
    "    model_tree.fit(features_train, target_train)\n",
    "    valid_predictions = model_tree.predict(features_valid) # предсказание модели на валидационной выборке\n",
    "    train_predictions = model_tree.predict(features_train) # предсказание модели на обучающей выборке\n",
    "    accuracy = accuracy_score(target_valid, valid_predictions) # accuracy для валидационной выборки по формуле\n",
    "    accuracy_tr = accuracy_score(target_train, train_predictions) # accuracy для обучающей выборки по формуле\n",
    "    accuracy_list.append(accuracy)\n",
    "    depth_list.append(depth)\n",
    "    print('Максимальная глубина дерева =', depth, ' Обучающая выборка:', accuracy_tr, ' Валидационная выборка:', accuracy)\n",
    "    if accuracy > best_accuracy_tree:\n",
    "        best_model_tree = model_tree # наилучшая модель\n",
    "        best_accuracy_tree = accuracy # наилучшее значение accuracy на валидационных данных\n",
    "    \n",
    "    # из списков получаем таблицу для построения графика\n",
    "    list_tuples = list(zip(depth_list, accuracy_list))\n",
    "    tree_accuracy_depth = pd.DataFrame(list_tuples, columns=['max_depth', 'accuracy'])\n",
    "print('\\n')\n",
    "print(\"Accuracy наилучшей модели Решающее дерево на валидационной выборке:\", best_accuracy_tree)\n",
    "display(tree_accuracy_depth)"
   ]
  },
  {
   "cell_type": "code",
   "execution_count": 12,
   "metadata": {},
   "outputs": [
    {
     "data": {
      "image/png": "[encoded data removed]",
      "text/plain": [
       "<Figure size 432x288 with 1 Axes>"
      ]
     },
     "metadata": {
      "needs_background": "light"
     },
     "output_type": "display_data"
    }
   ],
   "source": [
    "# График зависимости точности модели (accuracy) от гиперпараметра (max_depth)\n",
    "tree_accuracy_depth.plot(x='max_depth', y='accuracy', style='o-', xlim=(0, 11), grid=True)\n",
    "plt.title('Графика зависимости точности модели от гиперпараметра')\n",
    "plt.xlabel('Максимальная глубина')\n",
    "plt.ylabel('Точность модели')\n",
    "plt.show()"
   ]
  },
  {
   "cell_type": "markdown",
   "metadata": {},
   "source": [
    "<b>Вывод</b>\n",
    "\n",
    "В результате проверки модели Решающее дерево - наилучшее качество для данной модели достигается при гиперпараметре - максимальной глубине равной '8'. Accuracy в данном случае будет равно '0.8024'."
   ]
  },
  {
   "cell_type": "markdown",
   "metadata": {},
   "source": [
    "### 3.2 Обучим модель Случайный лес и проверим ее качество"
   ]
  },
  {
   "cell_type": "markdown",
   "metadata": {},
   "source": [
    "Для модели Случайный лес проверим гиперпараметры - 'n_estimators' - количество деревьев и максимальную глубину - 'max_depth'."
   ]
  },
  {
   "cell_type": "code",
   "execution_count": 13,
   "metadata": {
    "scrolled": false
   },
   "outputs": [
    {
     "name": "stdout",
     "output_type": "stream",
     "text": [
      "Количество деревьев = 1  Тренировочная выборка: 0.7359958506224067  Валидационная выборка: 0.7480559875583204\n",
      "Количество деревьев = 1  Тренировочная выборка: 0.7733402489626556  Валидационная выборка: 0.776049766718507\n",
      "Количество деревьев = 1  Тренировочная выборка: 0.7733402489626556  Валидационная выборка: 0.776049766718507\n",
      "Количество деревьев = 1  Тренировочная выборка: 0.7780082987551867  Валидационная выборка: 0.7480559875583204\n",
      "Количество деревьев = 1  Тренировочная выборка: 0.7966804979253111  Валидационная выборка: 0.7713841368584758\n",
      "Количество деревьев = 1  Тренировочная выборка: 0.8143153526970954  Валидационная выборка: 0.7791601866251944\n",
      "Количество деревьев = 1  Тренировочная выборка: 0.8158713692946058  Валидационная выборка: 0.7433903576982893\n",
      "Количество деревьев = 1  Тренировочная выборка: 0.8293568464730291  Валидационная выборка: 0.776049766718507\n",
      "Количество деревьев = 1  Тренировочная выборка: 0.8485477178423236  Валидационная выборка: 0.7573872472783826\n",
      "Количество деревьев = 1  Тренировочная выборка: 0.841804979253112  Валидационная выборка: 0.76049766718507\n",
      "Количество деревьев = 2  Тренировочная выборка: 0.7313278008298755  Валидационная выборка: 0.7153965785381027\n",
      "Количество деревьев = 2  Тренировочная выборка: 0.7785269709543569  Валидационная выборка: 0.7573872472783826\n",
      "Количество деревьев = 2  Тренировочная выборка: 0.7946058091286307  Валидационная выборка: 0.7900466562986003\n",
      "Количество деревьев = 2  Тренировочная выборка: 0.8008298755186722  Валидационная выборка: 0.7698289269051322\n",
      "Количество деревьев = 2  Тренировочная выборка: 0.8117219917012448  Валидационная выборка: 0.776049766718507\n",
      "Количество деревьев = 2  Тренировочная выборка: 0.8195020746887967  Валидационная выборка: 0.7729393468118196\n",
      "Количество деревьев = 2  Тренировочная выборка: 0.8360995850622407  Валидационная выборка: 0.7713841368584758\n",
      "Количество деревьев = 2  Тренировочная выборка: 0.8386929460580913  Валидационная выборка: 0.776049766718507\n",
      "Количество деревьев = 2  Тренировочная выборка: 0.8609958506224067  Валидационная выборка: 0.7791601866251944\n",
      "Количество деревьев = 2  Тренировочная выборка: 0.8537344398340249  Валидационная выборка: 0.744945567651633\n",
      "Количество деревьев = 3  Тренировочная выборка: 0.7318464730290456  Валидационная выборка: 0.7122861586314152\n",
      "Количество деревьев = 3  Тренировочная выборка: 0.779045643153527  Валидационная выборка: 0.7589424572317263\n",
      "Количество деревьев = 3  Тренировочная выборка: 0.7940871369294605  Валидационная выборка: 0.7900466562986003\n",
      "Количество деревьев = 3  Тренировочная выборка: 0.7987551867219918  Валидационная выборка: 0.7791601866251944\n",
      "Количество деревьев = 3  Тренировочная выборка: 0.816908713692946  Валидационная выборка: 0.7853810264385692\n",
      "Количество деревьев = 3  Тренировочная выборка: 0.8241701244813278  Валидационная выборка: 0.7947122861586314\n",
      "Количество деревьев = 3  Тренировочная выборка: 0.8381742738589212  Валидационная выборка: 0.7807153965785381\n",
      "Количество деревьев = 3  Тренировочная выборка: 0.8526970954356846  Валидационная выборка: 0.7900466562986003\n",
      "Количество деревьев = 3  Тренировочная выборка: 0.866701244813278  Валидационная выборка: 0.7884914463452566\n",
      "Количество деревьев = 3  Тренировочная выборка: 0.8615145228215768  Валидационная выборка: 0.7791601866251944\n",
      "Количество деревьев = 4  Тренировочная выборка: 0.7328838174273858  Валидационная выборка: 0.7169517884914464\n",
      "Количество деревьев = 4  Тренировочная выборка: 0.7702282157676349  Валидационная выборка: 0.776049766718507\n",
      "Количество деревьев = 4  Тренировочная выборка: 0.796161825726141  Валидационная выборка: 0.7900466562986003\n",
      "Количество деревьев = 4  Тренировочная выборка: 0.7992738589211619  Валидационная выборка: 0.7791601866251944\n",
      "Количество деревьев = 4  Тренировочная выборка: 0.8153526970954357  Валидационная выборка: 0.7900466562986003\n",
      "Количество деревьев = 4  Тренировочная выборка: 0.8314315352697096  Валидационная выборка: 0.7884914463452566\n",
      "Количество деревьев = 4  Тренировочная выборка: 0.8433609958506224  Валидационная выборка: 0.7916018662519441\n",
      "Количество деревьев = 4  Тренировочная выборка: 0.8552904564315352  Валидационная выборка: 0.7978227060653188\n",
      "Количество деревьев = 4  Тренировочная выборка: 0.870850622406639  Валидационная выборка: 0.7900466562986003\n",
      "Количество деревьев = 4  Тренировочная выборка: 0.8677385892116183  Валидационная выборка: 0.7713841368584758\n",
      "Количество деревьев = 5  Тренировочная выборка: 0.7645228215767634  Валидационная выборка: 0.7651632970451011\n",
      "Количество деревьев = 5  Тренировочная выборка: 0.7697095435684648  Валидационная выборка: 0.7698289269051322\n",
      "Количество деревьев = 5  Тренировочная выборка: 0.7971991701244814  Валидационная выборка: 0.7916018662519441\n",
      "Количество деревьев = 5  Тренировочная выборка: 0.7863070539419087  Валидационная выборка: 0.7729393468118196\n",
      "Количество деревьев = 5  Тренировочная выборка: 0.8195020746887967  Валидационная выборка: 0.7822706065318819\n",
      "Количество деревьев = 5  Тренировочная выборка: 0.8360995850622407  Валидационная выборка: 0.7962674961119751\n",
      "Количество деревьев = 5  Тренировочная выборка: 0.8443983402489627  Валидационная выборка: 0.7807153965785381\n",
      "Количество деревьев = 5  Тренировочная выборка: 0.8573651452282157  Валидационная выборка: 0.7962674961119751\n",
      "Количество деревьев = 5  Тренировочная выборка: 0.8734439834024896  Валидационная выборка: 0.7931570762052877\n",
      "Количество деревьев = 5  Тренировочная выборка: 0.8775933609958506  Валидационная выборка: 0.7838258164852255\n",
      "Количество деревьев = 6  Тренировочная выборка: 0.741701244813278  Валидационная выборка: 0.7511664074650077\n",
      "Количество деревьев = 6  Тренировочная выборка: 0.758298755186722  Валидационная выборка: 0.7744945567651633\n",
      "Количество деревьев = 6  Тренировочная выборка: 0.7992738589211619  Валидационная выборка: 0.7947122861586314\n",
      "Количество деревьев = 6  Тренировочная выборка: 0.8034232365145229  Валидационная выборка: 0.7776049766718507\n",
      "Количество деревьев = 6  Тренировочная выборка: 0.8205394190871369  Валидационная выборка: 0.7853810264385692\n",
      "Количество деревьев = 6  Тренировочная выборка: 0.8319502074688797  Валидационная выборка: 0.807153965785381\n",
      "Количество деревьев = 6  Тренировочная выборка: 0.8428423236514523  Валидационная выборка: 0.7931570762052877\n",
      "Количество деревьев = 6  Тренировочная выборка: 0.8589211618257261  Валидационная выборка: 0.7884914463452566\n",
      "Количество деревьев = 6  Тренировочная выборка: 0.8744813278008299  Валидационная выборка: 0.7978227060653188\n",
      "Количество деревьев = 6  Тренировочная выборка: 0.8739626556016598  Валидационная выборка: 0.7869362363919129\n",
      "Количество деревьев = 7  Тренировочная выборка: 0.7655601659751037  Валидационная выборка: 0.7667185069984448\n",
      "Количество деревьев = 7  Тренировочная выборка: 0.7681535269709544  Валидационная выборка: 0.7791601866251944\n",
      "Количество деревьев = 7  Тренировочная выборка: 0.7982365145228216  Валидационная выборка: 0.7962674961119751\n",
      "Количество деревьев = 7  Тренировочная выборка: 0.8029045643153527  Валидационная выборка: 0.7791601866251944\n",
      "Количество деревьев = 7  Тренировочная выборка: 0.8195020746887967  Валидационная выборка: 0.7838258164852255\n",
      "Количество деревьев = 7  Тренировочная выборка: 0.8319502074688797  Валидационная выборка: 0.8009331259720062\n",
      "Количество деревьев = 7  Тренировочная выборка: 0.8438796680497925  Валидационная выборка: 0.7931570762052877\n",
      "Количество деревьев = 7  Тренировочная выборка: 0.8604771784232366  Валидационная выборка: 0.7978227060653188\n",
      "Количество деревьев = 7  Тренировочная выборка: 0.8760373443983402  Валидационная выборка: 0.7993779160186625\n",
      "Количество деревьев = 7  Тренировочная выборка: 0.8781120331950207  Валидационная выборка: 0.7916018662519441\n",
      "Количество деревьев = 8  Тренировочная выборка: 0.7614107883817427  Валидационная выборка: 0.7620528771384136\n",
      "Количество деревьев = 8  Тренировочная выборка: 0.7728215767634855  Валидационная выборка: 0.7791601866251944\n",
      "Количество деревьев = 8  Тренировочная выборка: 0.796161825726141  Валидационная выборка: 0.7931570762052877\n",
      "Количество деревьев = 8  Тренировочная выборка: 0.8003112033195021  Валидационная выборка: 0.7807153965785381\n",
      "Количество деревьев = 8  Тренировочная выборка: 0.821058091286307  Валидационная выборка: 0.7947122861586314\n",
      "Количество деревьев = 8  Тренировочная выборка: 0.8314315352697096  Валидационная выборка: 0.8009331259720062\n",
      "Количество деревьев = 8  Тренировочная выборка: 0.8449170124481328  Валидационная выборка: 0.7931570762052877\n",
      "Количество деревьев = 8  Тренировочная выборка: 0.8599585062240664  Валидационная выборка: 0.7947122861586314\n",
      "Количество деревьев = 8  Тренировочная выборка: 0.875  Валидационная выборка: 0.7993779160186625\n",
      "Количество деревьев = 8  Тренировочная выборка: 0.8765560165975104  Валидационная выборка: 0.80248833592535\n",
      "Количество деревьев = 9  Тренировочная выборка: 0.7401452282157677  Валидационная выборка: 0.7511664074650077\n",
      "Количество деревьев = 9  Тренировочная выборка: 0.7717842323651453  Валидационная выборка: 0.7776049766718507\n",
      "Количество деревьев = 9  Тренировочная выборка: 0.7987551867219918  Валидационная выборка: 0.7947122861586314\n",
      "Количество деревьев = 9  Тренировочная выборка: 0.8029045643153527  Валидационная выборка: 0.7822706065318819\n",
      "Количество деревьев = 9  Тренировочная выборка: 0.8215767634854771  Валидационная выборка: 0.7884914463452566\n",
      "Количество деревьев = 9  Тренировочная выборка: 0.8360995850622407  Валидационная выборка: 0.8009331259720062\n",
      "Количество деревьев = 9  Тренировочная выборка: 0.8475103734439834  Валидационная выборка: 0.7931570762052877\n",
      "Количество деревьев = 9  Тренировочная выборка: 0.8578838174273858  Валидационная выборка: 0.7916018662519441\n",
      "Количество деревьев = 9  Тренировочная выборка: 0.8760373443983402  Валидационная выборка: 0.7993779160186625\n",
      "Количество деревьев = 9  Тренировочная выборка: 0.8770746887966805  Валидационная выборка: 0.7947122861586314\n",
      "Количество деревьев = 10  Тренировочная выборка: 0.7484439834024896  Валидационная выборка: 0.7573872472783826\n",
      "Количество деревьев = 10  Тренировочная выборка: 0.770746887966805  Валидационная выборка: 0.776049766718507\n",
      "Количество деревьев = 10  Тренировочная выборка: 0.7977178423236515  Валидационная выборка: 0.7947122861586314\n",
      "Количество деревьев = 10  Тренировочная выборка: 0.8060165975103735  Валидационная выборка: 0.7916018662519441\n",
      "Количество деревьев = 10  Тренировочная выборка: 0.821058091286307  Валидационная выборка: 0.7884914463452566\n",
      "Количество деревьев = 10  Тренировочная выборка: 0.8402489626556017  Валидационная выборка: 0.8040435458786936\n",
      "Количество деревьев = 10  Тренировочная выборка: 0.8506224066390041  Валидационная выборка: 0.7931570762052877\n",
      "Количество деревьев = 10  Тренировочная выборка: 0.8646265560165975  Валидационная выборка: 0.7978227060653188\n",
      "Количество деревьев = 10  Тренировочная выборка: 0.8781120331950207  Валидационная выборка: 0.8040435458786936\n",
      "Количество деревьев = 10  Тренировочная выборка: 0.8807053941908713  Валидационная выборка: 0.7993779160186625\n",
      "\n",
      "\n",
      "Accuracy наилучшей модели Случайный лес на валидационной выборке: 0.807153965785381\n"
     ]
    },
    {
     "data": {
      "text/html": [
       "<div>\n",
       "<style scoped>\n",
       "    .dataframe tbody tr th:only-of-type {\n",
       "        vertical-align: middle;\n",
       "    }\n",
       "\n",
       "    .dataframe tbody tr th {\n",
       "        vertical-align: top;\n",
       "    }\n",
       "\n",
       "    .dataframe thead th {\n",
       "        text-align: right;\n",
       "    }\n",
       "</style>\n",
       "<table border=\"1\" class=\"dataframe\">\n",
       "  <thead>\n",
       "    <tr style=\"text-align: right;\">\n",
       "      <th></th>\n",
       "      <th>estimators</th>\n",
       "      <th>max_depth</th>\n",
       "      <th>accuracy</th>\n",
       "    </tr>\n",
       "  </thead>\n",
       "  <tbody>\n",
       "    <tr>\n",
       "      <th>0</th>\n",
       "      <td>1</td>\n",
       "      <td>1</td>\n",
       "      <td>0.748056</td>\n",
       "    </tr>\n",
       "    <tr>\n",
       "      <th>1</th>\n",
       "      <td>1</td>\n",
       "      <td>2</td>\n",
       "      <td>0.776050</td>\n",
       "    </tr>\n",
       "    <tr>\n",
       "      <th>2</th>\n",
       "      <td>1</td>\n",
       "      <td>3</td>\n",
       "      <td>0.776050</td>\n",
       "    </tr>\n",
       "    <tr>\n",
       "      <th>3</th>\n",
       "      <td>1</td>\n",
       "      <td>4</td>\n",
       "      <td>0.748056</td>\n",
       "    </tr>\n",
       "    <tr>\n",
       "      <th>4</th>\n",
       "      <td>1</td>\n",
       "      <td>5</td>\n",
       "      <td>0.771384</td>\n",
       "    </tr>\n",
       "    <tr>\n",
       "      <th>...</th>\n",
       "      <td>...</td>\n",
       "      <td>...</td>\n",
       "      <td>...</td>\n",
       "    </tr>\n",
       "    <tr>\n",
       "      <th>95</th>\n",
       "      <td>10</td>\n",
       "      <td>6</td>\n",
       "      <td>0.804044</td>\n",
       "    </tr>\n",
       "    <tr>\n",
       "      <th>96</th>\n",
       "      <td>10</td>\n",
       "      <td>7</td>\n",
       "      <td>0.793157</td>\n",
       "    </tr>\n",
       "    <tr>\n",
       "      <th>97</th>\n",
       "      <td>10</td>\n",
       "      <td>8</td>\n",
       "      <td>0.797823</td>\n",
       "    </tr>\n",
       "    <tr>\n",
       "      <th>98</th>\n",
       "      <td>10</td>\n",
       "      <td>9</td>\n",
       "      <td>0.804044</td>\n",
       "    </tr>\n",
       "    <tr>\n",
       "      <th>99</th>\n",
       "      <td>10</td>\n",
       "      <td>10</td>\n",
       "      <td>0.799378</td>\n",
       "    </tr>\n",
       "  </tbody>\n",
       "</table>\n",
       "<p>100 rows × 3 columns</p>\n",
       "</div>"
      ],
      "text/plain": [
       "    estimators  max_depth  accuracy\n",
       "0            1          1  0.748056\n",
       "1            1          2  0.776050\n",
       "2            1          3  0.776050\n",
       "3            1          4  0.748056\n",
       "4            1          5  0.771384\n",
       "..         ...        ...       ...\n",
       "95          10          6  0.804044\n",
       "96          10          7  0.793157\n",
       "97          10          8  0.797823\n",
       "98          10          9  0.804044\n",
       "99          10         10  0.799378\n",
       "\n",
       "[100 rows x 3 columns]"
      ]
     },
     "metadata": {},
     "output_type": "display_data"
    },
    {
     "data": {
      "text/html": [
       "<div>\n",
       "<style scoped>\n",
       "    .dataframe tbody tr th:only-of-type {\n",
       "        vertical-align: middle;\n",
       "    }\n",
       "\n",
       "    .dataframe tbody tr th {\n",
       "        vertical-align: top;\n",
       "    }\n",
       "\n",
       "    .dataframe thead th {\n",
       "        text-align: right;\n",
       "    }\n",
       "</style>\n",
       "<table border=\"1\" class=\"dataframe\">\n",
       "  <thead>\n",
       "    <tr style=\"text-align: right;\">\n",
       "      <th></th>\n",
       "      <th>estimators</th>\n",
       "      <th>max_depth</th>\n",
       "      <th>accuracy</th>\n",
       "    </tr>\n",
       "  </thead>\n",
       "  <tbody>\n",
       "    <tr>\n",
       "      <th>55</th>\n",
       "      <td>6</td>\n",
       "      <td>6</td>\n",
       "      <td>0.807154</td>\n",
       "    </tr>\n",
       "  </tbody>\n",
       "</table>\n",
       "</div>"
      ],
      "text/plain": [
       "    estimators  max_depth  accuracy\n",
       "55           6          6  0.807154"
      ]
     },
     "metadata": {},
     "output_type": "display_data"
    }
   ],
   "source": [
    "# Проверим модель случайный лес с двумя гиперпараметрами\n",
    "accuracy_forest_list = [] # список для построения графика\n",
    "estimators_forest_list = [] # список для построения графика\n",
    "depth_forest_list = [] # список для построения графика\n",
    "\n",
    "best_model = None\n",
    "best_accuracy = 0\n",
    "for est in range(1, 11):\n",
    "    for depth in range(1, 11):\n",
    "        model_randomforest = RandomForestClassifier(random_state=12345, n_estimators=est, max_depth=depth)\n",
    "        model_randomforest.fit(features_train, target_train)\n",
    "        accuracy_train = model_randomforest.score(features_train, target_train) # качество модели на тренировочной выборке\n",
    "        accuracy_valid = model_randomforest.score(features_valid, target_valid) # качество модели на валидационной выборке\n",
    "        accuracy_forest_list.append(accuracy_valid)\n",
    "        estimators_forest_list.append(est)\n",
    "        depth_forest_list.append(depth)\n",
    "        print('Количество деревьев =', est, ' Тренировочная выборка:', accuracy_train, ' Валидационная выборка:', accuracy_valid)\n",
    "        if accuracy_valid > best_accuracy:\n",
    "            best_model = model_randomforest # наилучшая модель\n",
    "            best_accuracy = accuracy_valid # наилучшее значение accuracy на валидационных данных\n",
    "\n",
    "        # из списков получаем таблицу для построения графика\n",
    "        list_tuples = list(zip(estimators_forest_list, depth_forest_list, accuracy_forest_list))\n",
    "        forest_accuracy_est_depth = pd.DataFrame(list_tuples, columns=['estimators', 'max_depth', 'accuracy'])\n",
    "        \n",
    "print('\\n')\n",
    "print(\"Accuracy наилучшей модели Случайный лес на валидационной выборке:\", best_accuracy)\n",
    "display(forest_accuracy_est_depth)\n",
    "display(forest_accuracy_est_depth.query('accuracy == 0.807153965785381'))"
   ]
  },
  {
   "cell_type": "markdown",
   "metadata": {},
   "source": [
    "<b>Проверка модели с одним гиперпараметром для сравнения.</b>"
   ]
  },
  {
   "cell_type": "code",
   "execution_count": 15,
   "metadata": {},
   "outputs": [
    {
     "name": "stdout",
     "output_type": "stream",
     "text": [
      "Количество деревьев = 1 : 0.6998444790046656\n",
      "Количество деревьев = 2 : 0.7433903576982893\n",
      "Количество деревьев = 3 : 0.7418351477449455\n",
      "Количество деревьев = 4 : 0.7558320373250389\n",
      "Количество деревьев = 5 : 0.7527216174183515\n",
      "Количество деревьев = 6 : 0.7729393468118196\n",
      "Количество деревьев = 7 : 0.7698289269051322\n",
      "Количество деревьев = 8 : 0.776049766718507\n",
      "Количество деревьев = 9 : 0.7698289269051322\n",
      "Количество деревьев = 10 : 0.7869362363919129\n",
      "\n",
      "\n",
      "Accuracy наилучшей модели на валидационной выборке: 0.7869362363919129\n"
     ]
    }
   ],
   "source": [
    "best_model = None\n",
    "best_accuracy = 0\n",
    "for est in range(1, 11):\n",
    "    model_randomforest = RandomForestClassifier(random_state=12345, n_estimators=est)\n",
    "    model_randomforest.fit(features_train, target_train)\n",
    "    valid_predictions = model_randomforest.predict(features_valid) # предсказание модели на валидационной выборке\n",
    "    accuracy = accuracy_score(target_valid, valid_predictions) # accuracy для обучающей выборки по формуле\n",
    "    print('Количество деревьев =', est, ':', accuracy)\n",
    "    if accuracy > best_accuracy:\n",
    "        best_model = model_randomforest # наилучшая модель\n",
    "        best_accuracy = accuracy # наилучшее значение accuracy на валидационных данных\n",
    "\n",
    "print('\\n')\n",
    "print(\"Accuracy наилучшей модели на валидационной выборке:\", best_accuracy)"
   ]
  },
  {
   "cell_type": "markdown",
   "metadata": {},
   "source": [
    "<b>Вывод</b>\n",
    "\n",
    "В результате проверки модели Случайный лес - наилучшее качество для данной модели достигается при гиперпараметрах - количество деревьев равном - '6' и максимальная глубина - '6'. Accuracy в данном случае будет равно '0.8071'."
   ]
  },
  {
   "cell_type": "markdown",
   "metadata": {},
   "source": [
    "### 3.3 Обучим модель Логистическая регрессия и проверим ее качество"
   ]
  },
  {
   "cell_type": "markdown",
   "metadata": {},
   "source": [
    "Для модели Логическая регрессия используем гиперпараметры: solver='lbfgs' - алгоритм построения модели и max_iter - максимальное количество итераций обучения."
   ]
  },
  {
   "cell_type": "code",
   "execution_count": 16,
   "metadata": {},
   "outputs": [
    {
     "name": "stdout",
     "output_type": "stream",
     "text": [
      "Количество итераций = 100 Валидационная выборка: 0.7387247278382582\n",
      "Количество итераций = 200 Валидационная выборка: 0.7387247278382582\n",
      "Количество итераций = 300 Валидационная выборка: 0.7387247278382582\n",
      "Количество итераций = 400 Валидационная выборка: 0.7387247278382582\n",
      "Количество итераций = 500 Валидационная выборка: 0.7387247278382582\n",
      "Количество итераций = 600 Валидационная выборка: 0.7387247278382582\n",
      "Количество итераций = 700 Валидационная выборка: 0.7387247278382582\n",
      "Количество итераций = 800 Валидационная выборка: 0.7387247278382582\n",
      "Количество итераций = 900 Валидационная выборка: 0.7387247278382582\n",
      "Количество итераций = 1000 Валидационная выборка: 0.7387247278382582\n",
      "\n",
      "\n",
      "Accuracy наилучшей модели Логистической регрессии на валидационной выборке: 0.7387247278382582\n"
     ]
    }
   ],
   "source": [
    "best_model_lregression = None\n",
    "best_accuracy_lregression = 0\n",
    "for iter in range(100, 1100, 100):\n",
    "    model_lregression = LogisticRegression(random_state=12345, solver='lbfgs', max_iter=iter)\n",
    "    model_lregression.fit(features_train, target_train)\n",
    "    valid_predictions_lregression = model_lregression.predict(features_valid) # предсказание модели на валидационной выборке\n",
    "    accuracy_lregression = accuracy_score(target_valid, valid_predictions_lregression) # accuracy для валидационной выборки по формуле\n",
    "    print('Количество итераций =', iter, 'Валидационная выборка:', accuracy_lregression)\n",
    "    if accuracy_lregression > best_accuracy_lregression:\n",
    "        best_model_lregression = model_lregression # наилучшая модель\n",
    "        best_accuracy_lregression = accuracy_lregression # наилучшее значение accuracy на валидационных данных\n",
    "\n",
    "print('\\n')\n",
    "print(\"Accuracy наилучшей модели Логистической регрессии на валидационной выборке:\", best_accuracy_lregression)"
   ]
  },
  {
   "cell_type": "markdown",
   "metadata": {},
   "source": [
    "<b>Вывод</b>\n",
    "\n",
    "В результате проверки модели Логистическая регрессия - качество данной модели равно '0.7387'.\n",
    "\n",
    "Количество итераций судя по результатам не оказало воздействия на качество модели."
   ]
  },
  {
   "cell_type": "markdown",
   "metadata": {},
   "source": [
    "<b>Вывод по пункту 3</b>\n",
    "\n",
    "<b>В результате проверки качества моделей Решающее дерево, Случайный лес и Логистическая регрессия наибольшее значение качества (Accuracy) показала модель Решающее дерево с максимальной глубиной равной '8' и значением accuracy равным '0.8024'.</b>"
   ]
  },
  {
   "cell_type": "markdown",
   "metadata": {},
   "source": [
    "## 4 Проверка модель на тестовой выборке"
   ]
  },
  {
   "cell_type": "markdown",
   "metadata": {},
   "source": [
    "### Проверим модель Случайный лес на тестовой выборке "
   ]
  },
  {
   "cell_type": "code",
   "execution_count": 17,
   "metadata": {},
   "outputs": [
    {
     "name": "stdout",
     "output_type": "stream",
     "text": [
      "Тренировочная выборка: 0.8319502074688797 | Тестовая выборка: 0.8102643856920684\n"
     ]
    }
   ],
   "source": [
    "# Для проверки используем модель Случайный лес с максимальной глубиной - '6' и количеством деревьев - '6'\n",
    "model_randomforest_t = RandomForestClassifier(random_state=12345, n_estimators=6, max_depth=6)\n",
    "model_randomforest_t.fit(features_train, target_train)\n",
    "accuracy_train = model_randomforest_t.score(features_train, target_train) # качество модели на обучающей выборке\n",
    "accuracy_test = model_randomforest_t.score(features_test, target_test) # качество модели на тестовой выборке\n",
    "print('Тренировочная выборка:', accuracy_train, '| Тестовая выборка:', accuracy_test)"
   ]
  },
  {
   "cell_type": "markdown",
   "metadata": {},
   "source": [
    "<b>Общий вывод</b>\n",
    "\n",
    "В ходе проведенной работы проведены:\n",
    "\n",
    "- обзор и подготовка данных для обучения моделей;\n",
    "\n",
    "- обучение трех моделей для задачи классификации: DecisionTreeClassifier, RandomForestClassifier, LogisticRegression и анализ качества данных моделей в зависимости от гиперпараметров;\n",
    "\n",
    "- проверка наилучшей модели на тестовой выборке.\n",
    "\n",
    "В целях проверки модели на тестовой выборке выбрана модель Случайный лес с наилучшими гиперпараметрами: максимальной глубиной равной '6' и количеством деревьев - '6'. В результате проверки модели RandomForestClassifier на тестовой выборке качество модели составило '0.8102', что превысило значение '0.75', заданное по условию. Цель достигнута."
   ]
  }
 ],
 "metadata": {
  "ExecuteTimeLog": [
   {
    "duration": 63,
    "start_time": "2022-06-04T12:44:15.327Z"
   },
   {
    "duration": 1441,
    "start_time": "2022-06-04T12:44:17.295Z"
   },
   {
    "duration": 188,
    "start_time": "2022-06-04T12:44:21.514Z"
   },
   {
    "duration": 45,
    "start_time": "2022-06-04T12:44:33.223Z"
   },
   {
    "duration": 124,
    "start_time": "2022-06-04T12:45:03.815Z"
   },
   {
    "duration": 43,
    "start_time": "2022-06-04T12:49:35.801Z"
   },
   {
    "duration": 11,
    "start_time": "2022-06-04T12:49:41.298Z"
   },
   {
    "duration": 4,
    "start_time": "2022-06-05T07:39:44.549Z"
   },
   {
    "duration": 1029,
    "start_time": "2022-06-05T07:48:01.548Z"
   },
   {
    "duration": 146,
    "start_time": "2022-06-05T07:48:03.907Z"
   },
   {
    "duration": 12,
    "start_time": "2022-06-05T07:48:07.791Z"
   },
   {
    "duration": 6,
    "start_time": "2022-06-05T07:48:10.414Z"
   },
   {
    "duration": 12,
    "start_time": "2022-06-05T07:48:12.727Z"
   },
   {
    "duration": 21,
    "start_time": "2022-06-05T07:48:14.691Z"
   },
   {
    "duration": 44,
    "start_time": "2022-06-05T08:03:01.693Z"
   },
   {
    "duration": 74,
    "start_time": "2022-06-05T08:04:11.182Z"
   },
   {
    "duration": 81,
    "start_time": "2022-06-05T08:04:31.158Z"
   },
   {
    "duration": 77,
    "start_time": "2022-06-05T08:23:32.914Z"
   },
   {
    "duration": 73,
    "start_time": "2022-06-05T08:23:45.104Z"
   },
   {
    "duration": 75,
    "start_time": "2022-06-05T08:23:47.707Z"
   },
   {
    "duration": 75,
    "start_time": "2022-06-05T08:24:24.213Z"
   },
   {
    "duration": 73,
    "start_time": "2022-06-05T08:25:31.695Z"
   },
   {
    "duration": 18,
    "start_time": "2022-06-05T08:25:41.841Z"
   },
   {
    "duration": 69,
    "start_time": "2022-06-05T08:26:13.038Z"
   },
   {
    "duration": 88,
    "start_time": "2022-06-05T08:27:04.222Z"
   },
   {
    "duration": 69,
    "start_time": "2022-06-05T08:32:23.616Z"
   },
   {
    "duration": 83,
    "start_time": "2022-06-05T08:32:35.959Z"
   },
   {
    "duration": 349,
    "start_time": "2022-06-05T08:41:26.045Z"
   },
   {
    "duration": 380,
    "start_time": "2022-06-05T08:42:57.549Z"
   },
   {
    "duration": 272,
    "start_time": "2022-06-05T08:43:17.893Z"
   },
   {
    "duration": 281,
    "start_time": "2022-06-05T08:44:48.988Z"
   },
   {
    "duration": 272,
    "start_time": "2022-06-05T08:45:21.691Z"
   },
   {
    "duration": 284,
    "start_time": "2022-06-05T08:45:27.896Z"
   },
   {
    "duration": 419,
    "start_time": "2022-06-05T09:04:44.051Z"
   },
   {
    "duration": 267,
    "start_time": "2022-06-05T09:07:04.414Z"
   },
   {
    "duration": 4,
    "start_time": "2022-06-05T09:07:43.839Z"
   },
   {
    "duration": 46,
    "start_time": "2022-06-05T09:07:43.844Z"
   },
   {
    "duration": 10,
    "start_time": "2022-06-05T09:07:43.892Z"
   },
   {
    "duration": 8,
    "start_time": "2022-06-05T09:07:43.904Z"
   },
   {
    "duration": 7,
    "start_time": "2022-06-05T09:07:43.914Z"
   },
   {
    "duration": 50,
    "start_time": "2022-06-05T09:07:43.922Z"
   },
   {
    "duration": 80,
    "start_time": "2022-06-05T09:07:43.974Z"
   },
   {
    "duration": 3,
    "start_time": "2022-06-05T09:07:44.055Z"
   },
   {
    "duration": 292,
    "start_time": "2022-06-05T09:07:44.059Z"
   },
   {
    "duration": 4,
    "start_time": "2022-06-05T09:08:00.309Z"
   },
   {
    "duration": 73,
    "start_time": "2022-06-05T09:08:00.315Z"
   },
   {
    "duration": 22,
    "start_time": "2022-06-05T09:08:00.390Z"
   },
   {
    "duration": 11,
    "start_time": "2022-06-05T09:08:00.415Z"
   },
   {
    "duration": 36,
    "start_time": "2022-06-05T09:08:00.431Z"
   },
   {
    "duration": 48,
    "start_time": "2022-06-05T09:08:00.470Z"
   },
   {
    "duration": 87,
    "start_time": "2022-06-05T09:08:21.697Z"
   },
   {
    "duration": 265,
    "start_time": "2022-06-05T09:08:40.733Z"
   },
   {
    "duration": 290,
    "start_time": "2022-06-05T09:09:14.889Z"
   },
   {
    "duration": 299,
    "start_time": "2022-06-05T09:09:52.465Z"
   },
   {
    "duration": 234,
    "start_time": "2022-06-05T09:31:18.689Z"
   },
   {
    "duration": 257,
    "start_time": "2022-06-05T09:31:28.846Z"
   },
   {
    "duration": 239,
    "start_time": "2022-06-05T09:33:29.522Z"
   },
   {
    "duration": 229,
    "start_time": "2022-06-05T09:33:50.999Z"
   },
   {
    "duration": 4,
    "start_time": "2022-06-05T09:35:05.481Z"
   },
   {
    "duration": 64,
    "start_time": "2022-06-05T09:35:05.488Z"
   },
   {
    "duration": 10,
    "start_time": "2022-06-05T09:35:05.554Z"
   },
   {
    "duration": 28,
    "start_time": "2022-06-05T09:35:05.566Z"
   },
   {
    "duration": 31,
    "start_time": "2022-06-05T09:35:05.597Z"
   },
   {
    "duration": 51,
    "start_time": "2022-06-05T09:35:05.630Z"
   },
   {
    "duration": 99,
    "start_time": "2022-06-05T09:35:05.683Z"
   },
   {
    "duration": 248,
    "start_time": "2022-06-05T09:35:13.124Z"
   },
   {
    "duration": 6,
    "start_time": "2022-06-05T09:36:44.735Z"
   },
   {
    "duration": 42,
    "start_time": "2022-06-05T09:36:44.744Z"
   },
   {
    "duration": 10,
    "start_time": "2022-06-05T09:36:44.787Z"
   },
   {
    "duration": 13,
    "start_time": "2022-06-05T09:36:44.800Z"
   },
   {
    "duration": 34,
    "start_time": "2022-06-05T09:36:44.815Z"
   },
   {
    "duration": 257,
    "start_time": "2022-06-05T09:36:47.308Z"
   },
   {
    "duration": 283,
    "start_time": "2022-06-05T09:37:15.775Z"
   },
   {
    "duration": 6,
    "start_time": "2022-06-05T09:37:37.701Z"
   },
   {
    "duration": 61,
    "start_time": "2022-06-05T09:37:37.709Z"
   },
   {
    "duration": 11,
    "start_time": "2022-06-05T09:37:37.771Z"
   },
   {
    "duration": 9,
    "start_time": "2022-06-05T09:37:37.784Z"
   },
   {
    "duration": 14,
    "start_time": "2022-06-05T09:37:37.795Z"
   },
   {
    "duration": 272,
    "start_time": "2022-06-05T09:37:39.850Z"
   },
   {
    "duration": 35,
    "start_time": "2022-06-05T09:39:18.017Z"
   },
   {
    "duration": 3,
    "start_time": "2022-06-05T09:39:29.603Z"
   },
   {
    "duration": 63,
    "start_time": "2022-06-05T09:39:29.608Z"
   },
   {
    "duration": 12,
    "start_time": "2022-06-05T09:39:29.673Z"
   },
   {
    "duration": 6,
    "start_time": "2022-06-05T09:39:29.686Z"
   },
   {
    "duration": 13,
    "start_time": "2022-06-05T09:39:29.694Z"
   },
   {
    "duration": 28,
    "start_time": "2022-06-05T09:39:31.788Z"
   },
   {
    "duration": 25,
    "start_time": "2022-06-05T10:21:43.855Z"
   },
   {
    "duration": 18,
    "start_time": "2022-06-05T10:24:14.354Z"
   },
   {
    "duration": 17,
    "start_time": "2022-06-05T10:24:41.344Z"
   },
   {
    "duration": 17,
    "start_time": "2022-06-05T10:25:02.480Z"
   },
   {
    "duration": 19,
    "start_time": "2022-06-05T10:25:27.055Z"
   },
   {
    "duration": 8,
    "start_time": "2022-06-05T10:25:38.481Z"
   },
   {
    "duration": 8,
    "start_time": "2022-06-05T10:25:52.048Z"
   },
   {
    "duration": 26,
    "start_time": "2022-06-05T10:26:09.681Z"
   },
   {
    "duration": 27,
    "start_time": "2022-06-05T10:26:30.988Z"
   },
   {
    "duration": 314,
    "start_time": "2022-06-05T10:28:35.943Z"
   },
   {
    "duration": 321,
    "start_time": "2022-06-05T10:32:32.259Z"
   },
   {
    "duration": 324,
    "start_time": "2022-06-05T10:33:09.227Z"
   },
   {
    "duration": 81,
    "start_time": "2022-06-05T10:41:55.383Z"
   },
   {
    "duration": 85,
    "start_time": "2022-06-05T10:42:54.782Z"
   },
   {
    "duration": 80,
    "start_time": "2022-06-05T10:45:54.402Z"
   },
   {
    "duration": 317,
    "start_time": "2022-06-05T10:46:10.977Z"
   },
   {
    "duration": 258,
    "start_time": "2022-06-05T10:46:41.412Z"
   },
   {
    "duration": 3,
    "start_time": "2022-06-05T10:47:14.292Z"
   },
   {
    "duration": 42,
    "start_time": "2022-06-05T10:47:14.297Z"
   },
   {
    "duration": 9,
    "start_time": "2022-06-05T10:47:14.341Z"
   },
   {
    "duration": 10,
    "start_time": "2022-06-05T10:47:14.352Z"
   },
   {
    "duration": 11,
    "start_time": "2022-06-05T10:47:14.364Z"
   },
   {
    "duration": 24,
    "start_time": "2022-06-05T10:47:14.377Z"
   },
   {
    "duration": 88,
    "start_time": "2022-06-05T10:47:14.403Z"
   },
   {
    "duration": 263,
    "start_time": "2022-06-05T10:47:16.780Z"
   },
   {
    "duration": 207,
    "start_time": "2022-06-05T11:31:48.994Z"
   },
   {
    "duration": 263,
    "start_time": "2022-06-05T11:39:22.753Z"
   },
   {
    "duration": 208,
    "start_time": "2022-06-05T11:39:32.005Z"
   },
   {
    "duration": 25,
    "start_time": "2022-06-05T11:49:13.344Z"
   },
   {
    "duration": 4,
    "start_time": "2022-06-05T11:49:20.513Z"
   },
   {
    "duration": 47,
    "start_time": "2022-06-05T11:49:20.518Z"
   },
   {
    "duration": 10,
    "start_time": "2022-06-05T11:49:20.566Z"
   },
   {
    "duration": 6,
    "start_time": "2022-06-05T11:49:20.577Z"
   },
   {
    "duration": 6,
    "start_time": "2022-06-05T11:49:20.584Z"
   },
   {
    "duration": 20,
    "start_time": "2022-06-05T11:49:20.592Z"
   },
   {
    "duration": 69,
    "start_time": "2022-06-05T11:49:20.614Z"
   },
   {
    "duration": 314,
    "start_time": "2022-06-05T11:49:20.685Z"
   },
   {
    "duration": 263,
    "start_time": "2022-06-05T11:49:21.000Z"
   },
   {
    "duration": 25,
    "start_time": "2022-06-05T11:49:24.410Z"
   },
   {
    "duration": 17,
    "start_time": "2022-06-05T12:15:06.939Z"
   },
   {
    "duration": 83,
    "start_time": "2022-06-05T12:15:53.259Z"
   },
   {
    "duration": 23,
    "start_time": "2022-06-05T13:23:59.543Z"
   },
   {
    "duration": 4,
    "start_time": "2022-06-05T13:32:24.084Z"
   },
   {
    "duration": 57,
    "start_time": "2022-06-05T13:32:24.090Z"
   },
   {
    "duration": 11,
    "start_time": "2022-06-05T13:32:24.149Z"
   },
   {
    "duration": 7,
    "start_time": "2022-06-05T13:32:24.162Z"
   },
   {
    "duration": 10,
    "start_time": "2022-06-05T13:32:24.171Z"
   },
   {
    "duration": 32,
    "start_time": "2022-06-05T13:32:24.183Z"
   },
   {
    "duration": 79,
    "start_time": "2022-06-05T13:32:24.217Z"
   },
   {
    "duration": 317,
    "start_time": "2022-06-05T13:32:24.298Z"
   },
   {
    "duration": 255,
    "start_time": "2022-06-05T13:32:24.623Z"
   },
   {
    "duration": 225,
    "start_time": "2022-06-05T13:32:24.880Z"
   },
   {
    "duration": 91,
    "start_time": "2022-06-05T13:32:25.106Z"
   },
   {
    "duration": 25,
    "start_time": "2022-06-05T13:32:25.199Z"
   },
   {
    "duration": 4,
    "start_time": "2022-06-05T13:32:25.225Z"
   },
   {
    "duration": 83,
    "start_time": "2022-06-05T13:32:27.488Z"
   },
   {
    "duration": 293,
    "start_time": "2022-06-05T13:45:34.548Z"
   },
   {
    "duration": 40,
    "start_time": "2022-06-05T14:00:18.490Z"
   },
   {
    "duration": 222,
    "start_time": "2022-06-05T14:01:08.142Z"
   },
   {
    "duration": 215,
    "start_time": "2022-06-05T14:01:29.766Z"
   },
   {
    "duration": 977,
    "start_time": "2022-06-05T16:29:21.570Z"
   },
   {
    "duration": 78,
    "start_time": "2022-06-05T16:29:22.549Z"
   },
   {
    "duration": 10,
    "start_time": "2022-06-05T16:29:22.629Z"
   },
   {
    "duration": 5,
    "start_time": "2022-06-05T16:29:22.641Z"
   },
   {
    "duration": 7,
    "start_time": "2022-06-05T16:29:22.648Z"
   },
   {
    "duration": 19,
    "start_time": "2022-06-05T16:29:22.656Z"
   },
   {
    "duration": 91,
    "start_time": "2022-06-05T16:29:22.676Z"
   },
   {
    "duration": 319,
    "start_time": "2022-06-05T16:29:22.768Z"
   },
   {
    "duration": 272,
    "start_time": "2022-06-05T16:29:23.089Z"
   },
   {
    "duration": 210,
    "start_time": "2022-06-05T16:29:23.363Z"
   },
   {
    "duration": 104,
    "start_time": "2022-06-05T16:29:23.575Z"
   },
   {
    "duration": 13,
    "start_time": "2022-06-05T16:29:23.681Z"
   },
   {
    "duration": 3,
    "start_time": "2022-06-05T16:29:23.709Z"
   },
   {
    "duration": 103,
    "start_time": "2022-06-05T16:29:23.714Z"
   },
   {
    "duration": 318,
    "start_time": "2022-06-05T16:29:23.818Z"
   },
   {
    "duration": 229,
    "start_time": "2022-06-05T16:29:24.138Z"
   },
   {
    "duration": 1185,
    "start_time": "2022-06-06T18:03:57.878Z"
   },
   {
    "duration": 109,
    "start_time": "2022-06-06T18:03:59.066Z"
   },
   {
    "duration": 12,
    "start_time": "2022-06-06T18:03:59.177Z"
   },
   {
    "duration": 19,
    "start_time": "2022-06-06T18:04:01.895Z"
   },
   {
    "duration": 15,
    "start_time": "2022-06-06T18:05:12.718Z"
   },
   {
    "duration": 8,
    "start_time": "2022-06-06T18:06:00.836Z"
   },
   {
    "duration": 125,
    "start_time": "2022-06-06T19:34:21.680Z"
   },
   {
    "duration": 9,
    "start_time": "2022-06-06T19:34:56.047Z"
   },
   {
    "duration": 16,
    "start_time": "2022-06-06T19:42:33.892Z"
   },
   {
    "duration": 8,
    "start_time": "2022-06-06T19:43:01.947Z"
   },
   {
    "duration": 6,
    "start_time": "2022-06-06T19:43:10.520Z"
   },
   {
    "duration": 11,
    "start_time": "2022-06-06T19:45:05.717Z"
   },
   {
    "duration": 11,
    "start_time": "2022-06-06T19:45:31.877Z"
   },
   {
    "duration": 12,
    "start_time": "2022-06-06T19:46:33.641Z"
   },
   {
    "duration": 11,
    "start_time": "2022-06-06T19:47:59.441Z"
   },
   {
    "duration": 13,
    "start_time": "2022-06-06T19:48:08.325Z"
   },
   {
    "duration": 40,
    "start_time": "2022-06-06T19:48:23.559Z"
   },
   {
    "duration": 9,
    "start_time": "2022-06-06T19:49:13.828Z"
   },
   {
    "duration": 27,
    "start_time": "2022-06-06T19:55:22.647Z"
   },
   {
    "duration": 10,
    "start_time": "2022-06-06T19:56:45.945Z"
   },
   {
    "duration": 9,
    "start_time": "2022-06-06T19:59:11.875Z"
   },
   {
    "duration": 11,
    "start_time": "2022-06-06T19:59:41.645Z"
   },
   {
    "duration": 7,
    "start_time": "2022-06-06T20:01:25.387Z"
   },
   {
    "duration": 3,
    "start_time": "2022-06-06T20:03:38.460Z"
   },
   {
    "duration": 22,
    "start_time": "2022-06-06T20:07:38.039Z"
   },
   {
    "duration": 87,
    "start_time": "2022-06-06T20:07:43.981Z"
   },
   {
    "duration": 83,
    "start_time": "2022-06-06T20:08:36.159Z"
   },
   {
    "duration": 347,
    "start_time": "2022-06-06T20:08:46.822Z"
   },
   {
    "duration": 301,
    "start_time": "2022-06-06T20:08:52.174Z"
   },
   {
    "duration": 388,
    "start_time": "2022-06-06T20:12:03.033Z"
   },
   {
    "duration": 106,
    "start_time": "2022-06-06T20:14:41.470Z"
   },
   {
    "duration": 15,
    "start_time": "2022-06-06T20:16:56.204Z"
   },
   {
    "duration": 4,
    "start_time": "2022-06-06T20:17:00.875Z"
   },
   {
    "duration": 115,
    "start_time": "2022-06-06T20:17:35.595Z"
   },
   {
    "duration": 395,
    "start_time": "2022-06-06T20:17:48.441Z"
   },
   {
    "duration": 421,
    "start_time": "2022-06-06T20:18:10.217Z"
   },
   {
    "duration": 956,
    "start_time": "2022-06-07T18:10:43.642Z"
   },
   {
    "duration": 158,
    "start_time": "2022-06-07T18:10:44.600Z"
   },
   {
    "duration": 10,
    "start_time": "2022-06-07T18:10:44.760Z"
   },
   {
    "duration": 11,
    "start_time": "2022-06-07T18:10:44.772Z"
   },
   {
    "duration": 10,
    "start_time": "2022-06-07T18:10:44.784Z"
   },
   {
    "duration": 6,
    "start_time": "2022-06-07T18:10:44.795Z"
   },
   {
    "duration": 7,
    "start_time": "2022-06-07T18:10:44.802Z"
   },
   {
    "duration": 21,
    "start_time": "2022-06-07T18:10:44.826Z"
   },
   {
    "duration": 93,
    "start_time": "2022-06-07T18:10:44.849Z"
   },
   {
    "duration": 127,
    "start_time": "2022-06-07T18:10:48.018Z"
   },
   {
    "duration": 20,
    "start_time": "2022-06-07T18:11:31.197Z"
   },
   {
    "duration": 31,
    "start_time": "2022-06-07T18:11:49.506Z"
   },
   {
    "duration": 83,
    "start_time": "2022-06-07T18:16:34.741Z"
   },
   {
    "duration": 85,
    "start_time": "2022-06-07T18:22:30.778Z"
   },
   {
    "duration": 703,
    "start_time": "2022-06-07T18:24:54.441Z"
   },
   {
    "duration": 182,
    "start_time": "2022-06-07T18:25:21.484Z"
   },
   {
    "duration": 149,
    "start_time": "2022-06-07T18:25:33.574Z"
   },
   {
    "duration": 198,
    "start_time": "2022-06-07T18:27:03.701Z"
   },
   {
    "duration": 3,
    "start_time": "2022-06-07T18:33:55.371Z"
   },
   {
    "duration": 59,
    "start_time": "2022-06-07T18:33:55.377Z"
   },
   {
    "duration": 14,
    "start_time": "2022-06-07T18:33:55.437Z"
   },
   {
    "duration": 14,
    "start_time": "2022-06-07T18:33:55.456Z"
   },
   {
    "duration": 10,
    "start_time": "2022-06-07T18:33:55.472Z"
   },
   {
    "duration": 3,
    "start_time": "2022-06-07T18:33:55.483Z"
   },
   {
    "duration": 13,
    "start_time": "2022-06-07T18:33:55.488Z"
   },
   {
    "duration": 59,
    "start_time": "2022-06-07T18:33:55.502Z"
   },
   {
    "duration": 101,
    "start_time": "2022-06-07T18:33:55.564Z"
   },
   {
    "duration": 163,
    "start_time": "2022-06-07T18:33:58.942Z"
   },
   {
    "duration": 154,
    "start_time": "2022-06-07T18:34:13.239Z"
   },
   {
    "duration": 166,
    "start_time": "2022-06-07T18:35:05.237Z"
   },
   {
    "duration": 4,
    "start_time": "2022-06-07T18:38:51.747Z"
   },
   {
    "duration": 52,
    "start_time": "2022-06-07T18:38:51.753Z"
   },
   {
    "duration": 12,
    "start_time": "2022-06-07T18:38:51.807Z"
   },
   {
    "duration": 18,
    "start_time": "2022-06-07T18:38:51.820Z"
   },
   {
    "duration": 11,
    "start_time": "2022-06-07T18:38:51.842Z"
   },
   {
    "duration": 3,
    "start_time": "2022-06-07T18:38:51.854Z"
   },
   {
    "duration": 10,
    "start_time": "2022-06-07T18:38:51.859Z"
   },
   {
    "duration": 21,
    "start_time": "2022-06-07T18:38:51.871Z"
   },
   {
    "duration": 96,
    "start_time": "2022-06-07T18:38:51.893Z"
   },
   {
    "duration": 178,
    "start_time": "2022-06-07T18:38:51.990Z"
   },
   {
    "duration": 319,
    "start_time": "2022-06-07T18:38:52.169Z"
   },
   {
    "duration": 310,
    "start_time": "2022-06-07T18:38:52.489Z"
   },
   {
    "duration": 333,
    "start_time": "2022-06-07T18:39:00.887Z"
   },
   {
    "duration": 131,
    "start_time": "2022-06-07T18:42:46.663Z"
   },
   {
    "duration": 100,
    "start_time": "2022-06-07T18:56:18.704Z"
   },
   {
    "duration": 1360,
    "start_time": "2022-06-08T18:00:55.710Z"
   },
   {
    "duration": 92,
    "start_time": "2022-06-08T18:00:57.072Z"
   },
   {
    "duration": 15,
    "start_time": "2022-06-08T18:00:57.165Z"
   },
   {
    "duration": 23,
    "start_time": "2022-06-08T18:00:57.182Z"
   },
   {
    "duration": 10,
    "start_time": "2022-06-08T18:00:57.208Z"
   },
   {
    "duration": 12,
    "start_time": "2022-06-08T18:00:57.220Z"
   },
   {
    "duration": 4,
    "start_time": "2022-06-08T18:00:57.233Z"
   },
   {
    "duration": 19,
    "start_time": "2022-06-08T18:00:57.238Z"
   },
   {
    "duration": 100,
    "start_time": "2022-06-08T18:00:57.258Z"
   },
   {
    "duration": 168,
    "start_time": "2022-06-08T18:00:57.360Z"
   },
   {
    "duration": 304,
    "start_time": "2022-06-08T18:00:57.530Z"
   },
   {
    "duration": 269,
    "start_time": "2022-06-08T18:00:57.835Z"
   },
   {
    "duration": 330,
    "start_time": "2022-06-08T18:00:58.105Z"
   },
   {
    "duration": 14,
    "start_time": "2022-06-08T18:08:16.513Z"
   },
   {
    "duration": 15,
    "start_time": "2022-06-08T18:11:10.439Z"
   },
   {
    "duration": 5304,
    "start_time": "2022-06-08T20:02:21.681Z"
   },
   {
    "duration": 265,
    "start_time": "2022-06-08T20:02:26.992Z"
   },
   {
    "duration": 21,
    "start_time": "2022-06-08T20:02:27.259Z"
   },
   {
    "duration": 94,
    "start_time": "2022-06-08T20:02:27.282Z"
   },
   {
    "duration": 215,
    "start_time": "2022-06-08T20:02:27.379Z"
   },
   {
    "duration": 221,
    "start_time": "2022-06-08T20:02:27.600Z"
   },
   {
    "duration": 206,
    "start_time": "2022-06-08T20:02:27.823Z"
   },
   {
    "duration": 234,
    "start_time": "2022-06-08T20:02:28.031Z"
   },
   {
    "duration": 371,
    "start_time": "2022-06-08T20:02:28.267Z"
   },
   {
    "duration": 323,
    "start_time": "2022-06-08T20:02:28.642Z"
   },
   {
    "duration": 3144,
    "start_time": "2022-06-08T20:02:28.974Z"
   },
   {
    "duration": 445,
    "start_time": "2022-06-08T20:02:32.126Z"
   },
   {
    "duration": 325,
    "start_time": "2022-06-08T20:02:32.577Z"
   },
   {
    "duration": 416,
    "start_time": "2022-06-08T20:02:32.910Z"
   },
   {
    "duration": 95,
    "start_time": "2022-06-08T20:02:58.313Z"
   },
   {
    "duration": 2151,
    "start_time": "2022-06-08T20:11:02.102Z"
   },
   {
    "duration": 2466,
    "start_time": "2022-06-08T20:14:05.614Z"
   },
   {
    "duration": 3,
    "start_time": "2022-06-08T20:18:03.764Z"
   },
   {
    "duration": 43,
    "start_time": "2022-06-08T20:18:03.769Z"
   },
   {
    "duration": 9,
    "start_time": "2022-06-08T20:18:03.814Z"
   },
   {
    "duration": 11,
    "start_time": "2022-06-08T20:18:03.824Z"
   },
   {
    "duration": 26,
    "start_time": "2022-06-08T20:18:03.837Z"
   },
   {
    "duration": 3,
    "start_time": "2022-06-08T20:18:03.864Z"
   },
   {
    "duration": 15,
    "start_time": "2022-06-08T20:18:03.868Z"
   },
   {
    "duration": 29,
    "start_time": "2022-06-08T20:18:03.884Z"
   },
   {
    "duration": 123,
    "start_time": "2022-06-08T20:18:03.916Z"
   },
   {
    "duration": 147,
    "start_time": "2022-06-08T20:18:04.045Z"
   },
   {
    "duration": 2357,
    "start_time": "2022-06-08T20:18:04.194Z"
   },
   {
    "duration": 313,
    "start_time": "2022-06-08T20:18:06.552Z"
   },
   {
    "duration": 273,
    "start_time": "2022-06-08T20:18:06.866Z"
   },
   {
    "duration": 332,
    "start_time": "2022-06-08T20:18:07.141Z"
   },
   {
    "duration": 40,
    "start_time": "2022-06-08T20:18:10.147Z"
   },
   {
    "duration": 15,
    "start_time": "2022-06-08T20:18:51.198Z"
   },
   {
    "duration": 29,
    "start_time": "2022-06-08T20:19:58.466Z"
   },
   {
    "duration": 31,
    "start_time": "2022-06-08T20:22:36.999Z"
   },
   {
    "duration": 1541,
    "start_time": "2022-06-16T08:29:52.293Z"
   },
   {
    "duration": 121,
    "start_time": "2022-06-16T08:29:53.836Z"
   },
   {
    "duration": 12,
    "start_time": "2022-06-16T08:29:53.958Z"
   },
   {
    "duration": 10,
    "start_time": "2022-06-16T08:29:53.972Z"
   },
   {
    "duration": 8,
    "start_time": "2022-06-16T08:29:53.984Z"
   },
   {
    "duration": 11,
    "start_time": "2022-06-16T08:29:53.993Z"
   },
   {
    "duration": 7,
    "start_time": "2022-06-16T08:29:54.006Z"
   },
   {
    "duration": 25,
    "start_time": "2022-06-16T08:29:54.015Z"
   },
   {
    "duration": 95,
    "start_time": "2022-06-16T08:33:22.974Z"
   },
   {
    "duration": 186,
    "start_time": "2022-06-16T08:33:42.255Z"
   },
   {
    "duration": 2325,
    "start_time": "2022-06-16T08:36:29.955Z"
   },
   {
    "duration": 300,
    "start_time": "2022-06-16T08:36:59.037Z"
   },
   {
    "duration": 254,
    "start_time": "2022-06-16T08:37:02.557Z"
   },
   {
    "duration": 378,
    "start_time": "2022-06-16T08:38:08.921Z"
   },
   {
    "duration": 27,
    "start_time": "2022-06-16T08:41:32.265Z"
   },
   {
    "duration": 15,
    "start_time": "2022-06-16T08:41:38.072Z"
   },
   {
    "duration": 1605,
    "start_time": "2022-06-20T18:42:46.484Z"
   },
   {
    "duration": 191,
    "start_time": "2022-06-20T18:42:48.092Z"
   },
   {
    "duration": 15,
    "start_time": "2022-06-20T18:42:48.285Z"
   },
   {
    "duration": 22,
    "start_time": "2022-06-20T18:42:48.303Z"
   },
   {
    "duration": 25,
    "start_time": "2022-06-20T18:42:48.327Z"
   },
   {
    "duration": 7,
    "start_time": "2022-06-20T18:42:48.354Z"
   },
   {
    "duration": 7,
    "start_time": "2022-06-20T18:42:48.365Z"
   },
   {
    "duration": 22,
    "start_time": "2022-06-20T18:42:48.374Z"
   },
   {
    "duration": 111,
    "start_time": "2022-06-20T18:42:48.398Z"
   },
   {
    "duration": 195,
    "start_time": "2022-06-20T18:42:48.511Z"
   },
   {
    "duration": 2582,
    "start_time": "2022-06-20T18:42:48.708Z"
   },
   {
    "duration": 368,
    "start_time": "2022-06-20T18:42:51.293Z"
   },
   {
    "duration": 331,
    "start_time": "2022-06-20T18:42:51.663Z"
   },
   {
    "duration": 389,
    "start_time": "2022-06-20T18:42:51.997Z"
   },
   {
    "duration": 41,
    "start_time": "2022-06-20T18:42:52.388Z"
   },
   {
    "duration": 16,
    "start_time": "2022-06-20T18:42:52.431Z"
   },
   {
    "duration": 5,
    "start_time": "2022-06-20T18:54:25.089Z"
   },
   {
    "duration": 6,
    "start_time": "2022-06-20T19:04:43.685Z"
   },
   {
    "duration": 1430,
    "start_time": "2022-06-20T19:04:57.144Z"
   },
   {
    "duration": 51,
    "start_time": "2022-06-20T19:04:58.576Z"
   },
   {
    "duration": 14,
    "start_time": "2022-06-20T19:04:58.629Z"
   },
   {
    "duration": 19,
    "start_time": "2022-06-20T19:04:58.645Z"
   },
   {
    "duration": 8,
    "start_time": "2022-06-20T19:05:02.243Z"
   },
   {
    "duration": 7,
    "start_time": "2022-06-20T19:05:27.331Z"
   },
   {
    "duration": 25,
    "start_time": "2022-06-20T19:08:11.435Z"
   },
   {
    "duration": 6,
    "start_time": "2022-06-20T19:09:01.161Z"
   },
   {
    "duration": 127,
    "start_time": "2022-06-20T19:37:01.358Z"
   },
   {
    "duration": 25,
    "start_time": "2022-06-20T19:39:21.798Z"
   },
   {
    "duration": 1622,
    "start_time": "2022-06-21T07:00:03.876Z"
   },
   {
    "duration": 52,
    "start_time": "2022-06-21T07:00:05.500Z"
   },
   {
    "duration": 11,
    "start_time": "2022-06-21T07:00:05.554Z"
   },
   {
    "duration": 22,
    "start_time": "2022-06-21T07:00:05.567Z"
   },
   {
    "duration": 21,
    "start_time": "2022-06-21T07:00:05.591Z"
   },
   {
    "duration": 41,
    "start_time": "2022-06-21T07:00:05.614Z"
   },
   {
    "duration": 38,
    "start_time": "2022-06-21T07:00:05.657Z"
   },
   {
    "duration": 10,
    "start_time": "2022-06-21T07:00:05.697Z"
   },
   {
    "duration": 11,
    "start_time": "2022-06-21T07:00:05.709Z"
   },
   {
    "duration": 45,
    "start_time": "2022-06-21T07:00:05.724Z"
   },
   {
    "duration": 127,
    "start_time": "2022-06-21T07:00:05.771Z"
   },
   {
    "duration": 244,
    "start_time": "2022-06-21T07:00:05.900Z"
   },
   {
    "duration": 2751,
    "start_time": "2022-06-21T07:00:06.146Z"
   },
   {
    "duration": 401,
    "start_time": "2022-06-21T07:00:08.899Z"
   },
   {
    "duration": 337,
    "start_time": "2022-06-21T07:00:09.302Z"
   },
   {
    "duration": 400,
    "start_time": "2022-06-21T07:00:09.642Z"
   },
   {
    "duration": 37,
    "start_time": "2022-06-21T07:00:10.045Z"
   },
   {
    "duration": 16,
    "start_time": "2022-06-21T07:00:10.084Z"
   },
   {
    "duration": 37,
    "start_time": "2022-06-21T07:00:10.124Z"
   },
   {
    "duration": 35,
    "start_time": "2022-06-21T07:00:10.163Z"
   },
   {
    "duration": 43,
    "start_time": "2022-06-21T07:00:10.200Z"
   },
   {
    "duration": 119,
    "start_time": "2022-06-21T07:00:10.246Z"
   },
   {
    "duration": 401,
    "start_time": "2022-06-21T07:00:10.367Z"
   },
   {
    "duration": 421,
    "start_time": "2022-06-21T07:00:10.771Z"
   }
  ],
  "kernelspec": {
   "display_name": "Python 3 (ipykernel)",
   "language": "python",
   "name": "python3"
  },
  "language_info": {
   "codemirror_mode": {
    "name": "ipython",
    "version": 3
   },
   "file_extension": ".py",
   "mimetype": "text/x-python",
   "name": "python",
   "nbconvert_exporter": "python",
   "pygments_lexer": "ipython3",
   "version": "3.7.8"
  },
  "toc": {
   "base_numbering": 1,
   "nav_menu": {},
   "number_sections": true,
   "sideBar": true,
   "skip_h1_title": true,
   "title_cell": "Table of Contents",
   "title_sidebar": "Contents",
   "toc_cell": false,
   "toc_position": {
    "height": "calc(100% - 180px)",
    "left": "10px",
    "top": "150px",
    "width": "412px"
   },
   "toc_section_display": true,
   "toc_window_display": true
  }
 },
 "nbformat": 4,
 "nbformat_minor": 2
}
